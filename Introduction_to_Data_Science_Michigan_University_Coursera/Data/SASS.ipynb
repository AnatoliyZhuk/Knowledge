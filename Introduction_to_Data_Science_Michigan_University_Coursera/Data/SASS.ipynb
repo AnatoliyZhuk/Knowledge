{
  "nbformat": 4,
  "nbformat_minor": 0,
  "metadata": {
    "colab": {
      "name": "Introduction_to_Data_Science_Michigan_University.ipynb",
      "provenance": [],
      "authorship_tag": "ABX9TyN+80/eodJl7LF1+LvP7RRD",
      "include_colab_link": true
    },
    "kernelspec": {
      "name": "python3",
      "display_name": "Python 3"
    }
  },
  "cells": [
    {
      "cell_type": "markdown",
      "metadata": {
        "id": "view-in-github",
        "colab_type": "text"
      },
      "source": [
        "<a href=\"https://colab.research.google.com/github/AnatoliyZhuk/Knowledge/blob/main/Introduction_to_Data_Science_Michigan_University_Coursera/Data/SASS.ipynb\" target=\"_parent\"><img src=\"https://colab.research.google.com/assets/colab-badge.svg\" alt=\"Open In Colab\"/></a>"
      ]
    },
    {
      "cell_type": "markdown",
      "metadata": {
        "id": "sg7bqC5oLW_V"
      },
      "source": [
        "+ Python - высокоуровневый язык программирования (оптимизирован для чтения людьми) <br/>\n",
        "+ Python - интерпретируемый язык (нескомпилирован в машинный код, используется в интерактивном режиме - выполняется строка за строкой) <br/>\n",
        "+ Python - динамически типизированный язык (при объявлении переменной, можно назначить ее целым числом, а на следующей строке назначить ее строкой)<br/>"
      ]
    },
    {
      "cell_type": "markdown",
      "metadata": {
        "id": "EqNQT7n2TWBg"
      },
      "source": [
        "<h1>Неделя №1<h1>\n",
        "\n"
      ]
    },
    {
      "cell_type": "markdown",
      "metadata": {
        "id": "LhjtuTqtGcSG"
      },
      "source": [
        "<h2>Python Functions<h2>"
      ]
    },
    {
      "cell_type": "markdown",
      "metadata": {
        "id": "K0QO3YppCqBu"
      },
      "source": [
        "Здесь представлена самая обычная функция, которая позволяет сложить два числа."
      ]
    },
    {
      "cell_type": "code",
      "metadata": {
        "colab": {
          "base_uri": "https://localhost:8080/"
        },
        "id": "9KejtHF2O0mh",
        "outputId": "f9895bf2-ca87-4d32-d28a-dbe199722ab7"
      },
      "source": [
        "def add_numbers(x, y):\n",
        "  return x + y\n",
        "\n",
        "add_numbers(1, 2)"
      ],
      "execution_count": 1,
      "outputs": [
        {
          "output_type": "execute_result",
          "data": {
            "text/plain": [
              "3"
            ]
          },
          "metadata": {
            "tags": []
          },
          "execution_count": 1
        }
      ]
    },
    {
      "cell_type": "markdown",
      "metadata": {
        "id": "Ls9-AFDsC1mv"
      },
      "source": [
        "Немного усложним функцию и передадим параметр $z$"
      ]
    },
    {
      "cell_type": "code",
      "metadata": {
        "colab": {
          "base_uri": "https://localhost:8080/"
        },
        "id": "kGavP-DNPOw2",
        "outputId": "448b1de9-7f36-4be5-bf29-fdae1d05c787"
      },
      "source": [
        "def add_numbers(x, y, z):\n",
        "  return x + y + z\n",
        "\n",
        "add_numbers(1, 2, 3)"
      ],
      "execution_count": 2,
      "outputs": [
        {
          "output_type": "execute_result",
          "data": {
            "text/plain": [
              "6"
            ]
          },
          "metadata": {
            "tags": []
          },
          "execution_count": 2
        }
      ]
    },
    {
      "cell_type": "markdown",
      "metadata": {
        "id": "IFL5a-p-QZ51"
      },
      "source": [
        "В данном примере $z$ необязательный параметр"
      ]
    },
    {
      "cell_type": "code",
      "metadata": {
        "colab": {
          "base_uri": "https://localhost:8080/"
        },
        "id": "YHQUWJsTA7LM",
        "outputId": "d2c09465-f2a9-4fba-8c47-12ddfa52632e"
      },
      "source": [
        "def add_numbers(x, y, z = None):\n",
        "  if z == None:\n",
        "    return x + y\n",
        "  if z != None:\n",
        "    return x + y + z\n",
        "\n",
        "add_numbers(3, 4, 2)  "
      ],
      "execution_count": 4,
      "outputs": [
        {
          "output_type": "execute_result",
          "data": {
            "text/plain": [
              "9"
            ]
          },
          "metadata": {
            "tags": []
          },
          "execution_count": 4
        }
      ]
    },
    {
      "cell_type": "markdown",
      "metadata": {
        "id": "0qlY9-0WFl1f"
      },
      "source": [
        "В данной функции переменная **Flag** является ограничителем. Если **Flag** принимает значение **True**, то продолжаются дальнейшие действия, связанные с вычислением. Если **Flag** принимает значение **False**, то ничего не возвращается после использования функции."
      ]
    },
    {
      "cell_type": "code",
      "metadata": {
        "colab": {
          "base_uri": "https://localhost:8080/"
        },
        "id": "_2pYGD7FDI7X",
        "outputId": "00ddf026-5f2e-41cc-f191-8dabfab64d76"
      },
      "source": [
        "def add_numbers(x, y, z = None, Flag = False):\n",
        "  if Flag:\n",
        "    print('Flag is True')\n",
        "    if z == None:\n",
        "      return x + y\n",
        "    else:\n",
        "      return x + y + z\n",
        "\n",
        "print(add_numbers(1, 2, 3, Flag=True))\n",
        "print(add_numbers(1, 2, Flag=False))"
      ],
      "execution_count": 5,
      "outputs": [
        {
          "output_type": "stream",
          "text": [
            "Flag is True\n",
            "6\n",
            "None\n"
          ],
          "name": "stdout"
        }
      ]
    },
    {
      "cell_type": "markdown",
      "metadata": {
        "id": "LXbZLVgmGuXC"
      },
      "source": [
        "В этой функции в зависимости от ввода переменной **kind**, можно влиять на ход выполнения функции. "
      ]
    },
    {
      "cell_type": "code",
      "metadata": {
        "colab": {
          "base_uri": "https://localhost:8080/"
        },
        "id": "DHYdu178FDTT",
        "outputId": "456c976d-973c-4412-9d49-596070e77d76"
      },
      "source": [
        "def do_math(a, b, kind=input()):\n",
        "  if (kind=='add'):\n",
        "    return a+b\n",
        "  else:\n",
        "    return a-b\n",
        "\n",
        "print(do_math(1, 2))"
      ],
      "execution_count": null,
      "outputs": [
        {
          "output_type": "stream",
          "text": [
            "nnn\n",
            "-1\n"
          ],
          "name": "stdout"
        }
      ]
    },
    {
      "cell_type": "markdown",
      "metadata": {
        "id": "rfn-M4F1HXs6"
      },
      "source": [
        "<h2>Python Types and Sequences<h2>"
      ]
    },
    {
      "cell_type": "code",
      "metadata": {
        "colab": {
          "base_uri": "https://localhost:8080/"
        },
        "id": "sL-7q916KE5B",
        "outputId": "43c6ea39-1d03-4a71-a370-a0758e7d7ac1"
      },
      "source": [
        "print(type('This is a string'))\n",
        "print(type(None))\n",
        "print(type(1.0))\n",
        "print(type(1))\n",
        "print(type(sum_numbers))"
      ],
      "execution_count": null,
      "outputs": [
        {
          "output_type": "stream",
          "text": [
            "<class 'str'>\n",
            "<class 'NoneType'>\n",
            "<class 'float'>\n",
            "<class 'int'>\n",
            "<class 'function'>\n"
          ],
          "name": "stdout"
        }
      ]
    },
    {
      "cell_type": "markdown",
      "metadata": {
        "id": "V240YTYCKrZJ"
      },
      "source": [
        "Типы последовательностей, о которых мы будем говорить: \n",
        "+ Tuples (кортежи)\n",
        "+ Lists (списки)\n",
        "+ Dictionaries (словари)\n",
        "\n",
        "Кортеж - последовательность переменных, которая является неизменной, он не может быть изменен после создания. Записываются кортежи с помощью круглых скобок **( )**. Допускается смещивание типов данных внутри кортежа. <br/>\n",
        "Списки - похожи на кортежи, однако являются изменяемыми. Вы можете изменить их длину и значения элементов. Списки объявляются с помощью квадратных скобок **[ ]**. Для изменения списка можно использовать функцию **.append()**\n",
        "Списки и кортежи являются итерируемыми типами (для них можно писать циклы)"
      ]
    },
    {
      "cell_type": "code",
      "metadata": {
        "colab": {
          "base_uri": "https://localhost:8080/"
        },
        "id": "OWuyhTPDL3pT",
        "outputId": "8eb4bdfe-ea4a-4751-bb63-57b876457462"
      },
      "source": [
        "z = (1, 'did', 4, 'done')\n",
        "print(type(z))\n",
        "\n",
        "w = [1, 'did', 4, 'done']\n",
        "print(type(w))\n",
        "\n",
        "x = [1, 'did', 4, 'done']\n",
        "x.append(3.3)\n",
        "print(x)\n",
        "\n",
        "for item in z:\n",
        "  print(item, end=' ')"
      ],
      "execution_count": null,
      "outputs": [
        {
          "output_type": "stream",
          "text": [
            "<class 'tuple'>\n",
            "<class 'list'>\n",
            "[1, 'did', 4, 'done', 3.3]\n",
            "1 did 4 done "
          ],
          "name": "stdout"
        }
      ]
    },
    {
      "cell_type": "code",
      "metadata": {
        "colab": {
          "base_uri": "https://localhost:8080/"
        },
        "id": "GeGftx5AXPi9",
        "outputId": "e9facaff-405c-4637-a742-fd55a3ccfce5"
      },
      "source": [
        "i = 0 \n",
        "while i != len(x):\n",
        "  print(x[i], end=' ')\n",
        "  i += 1"
      ],
      "execution_count": null,
      "outputs": [
        {
          "output_type": "stream",
          "text": [
            "1 did 4 done 3.3 "
          ],
          "name": "stdout"
        }
      ]
    },
    {
      "cell_type": "markdown",
      "metadata": {
        "id": "58umGrgsXnCy"
      },
      "source": [
        "Мы можем проводить операции со списками:"
      ]
    },
    {
      "cell_type": "code",
      "metadata": {
        "colab": {
          "base_uri": "https://localhost:8080/"
        },
        "id": "LRTZDgkVXvxw",
        "outputId": "12ac8793-c528-4f0f-aa05-b145b30063fe"
      },
      "source": [
        "print([1, 2] + [3, 4])\n",
        "print([1, 2] * 3)\n",
        "print(1 in [1, 2, 4])"
      ],
      "execution_count": null,
      "outputs": [
        {
          "output_type": "stream",
          "text": [
            "[1, 2, 3, 4]\n",
            "[1, 2, 1, 2, 1, 2]\n",
            "True\n"
          ],
          "name": "stdout"
        }
      ]
    },
    {
      "cell_type": "code",
      "metadata": {
        "colab": {
          "base_uri": "https://localhost:8080/"
        },
        "id": "i4X1I1MHYFS5",
        "outputId": "604e25a8-1878-4f28-cf9e-6ba22b857c4a"
      },
      "source": [
        "x = 'This is a Spring'\n",
        "print(x[0])\n",
        "print(x[0:2])\n",
        "print(x[-1])\n",
        "print(x[0:-2])\n",
        "print(x[:3])\n",
        "print(x[3:])"
      ],
      "execution_count": 19,
      "outputs": [
        {
          "output_type": "stream",
          "text": [
            "T\n",
            "Th\n",
            "g\n",
            "This is a Spri\n",
            "Thi\n",
            "s is a Spring\n"
          ],
          "name": "stdout"
        }
      ]
    },
    {
      "cell_type": "markdown",
      "metadata": {
        "id": "Iu-dh93ffMrD"
      },
      "source": [
        "Базовые инструменты для текстового анализа <br/>"
      ]
    },
    {
      "cell_type": "code",
      "metadata": {
        "colab": {
          "base_uri": "https://localhost:8080/"
        },
        "id": "DA7PKrnYfSHd",
        "outputId": "e7731027-37df-471f-ee24-39cb9c4e7178"
      },
      "source": [
        "first_name = 'Cristopher'\n",
        "last_name = 'Brooks'\n",
        "print(first_name + ' ' + last_name)\n",
        "print((first_name + ' ') * 3)"
      ],
      "execution_count": 25,
      "outputs": [
        {
          "output_type": "stream",
          "text": [
            "Cristopher Brooks\n",
            "Cristopher Cristopher Cristopher \n"
          ],
          "name": "stdout"
        }
      ]
    },
    {
      "cell_type": "code",
      "metadata": {
        "colab": {
          "base_uri": "https://localhost:8080/"
        },
        "id": "tQaY75lgf_lA",
        "outputId": "8771c707-f82b-4a13-b1d6-1246dc0e80a1"
      },
      "source": [
        "first_name = 'Conor Cristopher Arthur Hansen'.split(' ')[0]\n",
        "last_name = 'Brooks Zhuk McGregor Li'.split(' ')[-2]\n",
        "print(first_name + ' ' + last_name)"
      ],
      "execution_count": 30,
      "outputs": [
        {
          "output_type": "stream",
          "text": [
            "Conor McGregor\n"
          ],
          "name": "stdout"
        }
      ]
    },
    {
      "cell_type": "markdown",
      "metadata": {
        "id": "xQ71Z5FIg3Xx"
      },
      "source": [
        "Словарь - содержит набор элементов, его отличие в том, что элементы помечены лейблами, которые не имеют порядка (для каждого элемента есть ключ. Используются **{ }** для обозначения словаря <br/>"
      ]
    },
    {
      "cell_type": "code",
      "metadata": {
        "colab": {
          "base_uri": "https://localhost:8080/",
          "height": 35
        },
        "id": "jU6Tx788hwEV",
        "outputId": "daa19c11-7734-43f6-cb7a-2315d6e87878"
      },
      "source": [
        "x = {'Conor McGregor' : 'ConorMc@mail.ru', 'Cristopher Brooks' : 'Cris95@mail.ru'}\n",
        "x['Conor McGregor']"
      ],
      "execution_count": 31,
      "outputs": [
        {
          "output_type": "execute_result",
          "data": {
            "application/vnd.google.colaboratory.intrinsic+json": {
              "type": "string"
            },
            "text/plain": [
              "'ConorMc@mail.ru'"
            ]
          },
          "metadata": {
            "tags": []
          },
          "execution_count": 31
        }
      ]
    },
    {
      "cell_type": "markdown",
      "metadata": {
        "id": "atpWtIDWhhzC"
      },
      "source": [
        "Например, мы можем связать e-mail адреса с именами людей:"
      ]
    },
    {
      "cell_type": "markdown",
      "metadata": {
        "id": "Y5dAn3O1u-43"
      },
      "source": [
        "<h2> Python More on Strings <h2>"
      ]
    },
    {
      "cell_type": "code",
      "metadata": {
        "colab": {
          "base_uri": "https://localhost:8080/"
        },
        "id": "7LYcBJh7vnrF",
        "outputId": "76228a7c-0518-4afb-e8ef-c8fcf37cd059"
      },
      "source": [
        "print('Anatoliy' + str(95))"
      ],
      "execution_count": 32,
      "outputs": [
        {
          "output_type": "stream",
          "text": [
            "Anatoliy95\n"
          ],
          "name": "stdout"
        }
      ]
    },
    {
      "cell_type": "markdown",
      "metadata": {
        "id": "48VuLPCDrdTN"
      },
      "source": [
        "<h2>Python Dates and Times<h2>"
      ]
    },
    {
      "cell_type": "markdown",
      "metadata": {
        "id": "cQQvGf7yrhN1"
      },
      "source": [
        "Дата и время могут храниться разными способами.<br/>\n",
        "Один из наиболее устаревших методов хранения даты и времени основан на смещении от эпохи (взятое за основу время 1 января 1970 года)<br/>\n",
        "Нередко можно видеть системы хранящие дату транзакции в секундах или милисекундах с этой даты. Если вы видите большие значения там, где предполагается увидеть дату и время их нужно преобразовать."
      ]
    },
    {
      "cell_type": "code",
      "metadata": {
        "id": "rdNVIw71syxg"
      },
      "source": [
        "import datetime as dt\n",
        "import time as tm"
      ],
      "execution_count": null,
      "outputs": []
    },
    {
      "cell_type": "code",
      "metadata": {
        "colab": {
          "base_uri": "https://localhost:8080/"
        },
        "id": "K6MJ9J9WtCnG",
        "outputId": "3a939125-fa28-415a-e03d-602ff3c86dfd"
      },
      "source": [
        "# возвращает число секунд прошедших с начала эпохи (1 января 1970 года время: 00.00 Часовой пояс на 3 часа меньше, чем в МСК)\n",
        "amount_sec = tm.time() \n",
        "amount_sec"
      ],
      "execution_count": null,
      "outputs": [
        {
          "output_type": "execute_result",
          "data": {
            "text/plain": [
              "1608229518.3645637"
            ]
          },
          "metadata": {
            "tags": []
          },
          "execution_count": 101
        }
      ]
    },
    {
      "cell_type": "code",
      "metadata": {
        "colab": {
          "base_uri": "https://localhost:8080/"
        },
        "id": "RIGqyDmwtxxa",
        "outputId": "3c900ef7-e036-4807-a130-58c5050ae961"
      },
      "source": [
        "# Возвращает дату, которая находится на расстоянии определенного количества секунд\n",
        "# В скобках указано количество секунд, прошедшее с начала эпохи\n",
        "data_future = dt.datetime.fromtimestamp(amount_sec)\n",
        "print(data_future)\n",
        "print(data_future.year, data_future.month, data_future.day, data_future.hour, data_future.minute, data_future.second, data_future.microsecond)"
      ],
      "execution_count": null,
      "outputs": [
        {
          "output_type": "stream",
          "text": [
            "2020-12-17 17:44:24.177991\n",
            "2020 12 17 17 44 24 177991\n"
          ],
          "name": "stdout"
        }
      ]
    },
    {
      "cell_type": "code",
      "metadata": {
        "colab": {
          "base_uri": "https://localhost:8080/",
          "height": 35
        },
        "id": "V33B-ijnuPHa",
        "outputId": "b470bf78-dafd-472d-d845-73cb2571fd69"
      },
      "source": [
        "# Аналог fromtimestamp\n",
        "local_time = tm.ctime(11)\n",
        "local_time"
      ],
      "execution_count": null,
      "outputs": [
        {
          "output_type": "execute_result",
          "data": {
            "application/vnd.google.colaboratory.intrinsic+json": {
              "type": "string"
            },
            "text/plain": [
              "'Thu Jan  1 00:00:11 1970'"
            ]
          },
          "metadata": {
            "tags": []
          },
          "execution_count": 102
        }
      ]
    },
    {
      "cell_type": "code",
      "metadata": {
        "colab": {
          "base_uri": "https://localhost:8080/"
        },
        "id": "L3GVaOamvuEJ",
        "outputId": "03cddf41-719f-4f14-a0a8-706aa6fbe257"
      },
      "source": [
        "# Возвращает дату настоящего момента\n",
        "now = dt.datetime.now()\n",
        "now"
      ],
      "execution_count": null,
      "outputs": [
        {
          "output_type": "execute_result",
          "data": {
            "text/plain": [
              "datetime.datetime(2020, 12, 17, 18, 25, 57, 42288)"
            ]
          },
          "metadata": {
            "tags": []
          },
          "execution_count": 103
        }
      ]
    },
    {
      "cell_type": "markdown",
      "metadata": {
        "id": "u2uaht5N93c5"
      },
      "source": [
        ""
      ]
    },
    {
      "cell_type": "code",
      "metadata": {
        "colab": {
          "base_uri": "https://localhost:8080/"
        },
        "id": "0ZG5CpG_9DbM",
        "outputId": "c4139be8-6038-466c-d4de-25822baaa710"
      },
      "source": [
        "# Вычисляем число, которое было определенное количество дней назад\n",
        "delta = dt.timedelta(days=100)\n",
        "today = dt.date.today()\n",
        "print(delta)\n",
        "print(today)\n",
        "print(today - delta)"
      ],
      "execution_count": null,
      "outputs": [
        {
          "output_type": "stream",
          "text": [
            "100 days, 0:00:00\n",
            "2020-12-17\n",
            "2020-09-08\n"
          ],
          "name": "stdout"
        }
      ]
    },
    {
      "cell_type": "markdown",
      "metadata": {
        "id": "imX-8CjS-oRB"
      },
      "source": [
        "<h2>Advanced Python Objects, map()<h2>"
      ]
    },
    {
      "cell_type": "markdown",
      "metadata": {
        "id": "oKc7ZTIshQf2"
      },
      "source": [
        "Вы не объявляете переменные внутри объекта, вы просто начинаете их использовать.\n",
        "Переменные класса могут быть объявлены. Это переменные которые совместно используются во всех экземплярах. Кокретно в этом примере мы подразумеваем, что все люди находятся в **School of Information**."
      ]
    },
    {
      "cell_type": "code",
      "metadata": {
        "id": "Kgf7JHwzg3Z7"
      },
      "source": [
        "class Person:\n",
        "  department = 'School of information'"
      ],
      "execution_count": null,
      "outputs": []
    },
    {
      "cell_type": "markdown",
      "metadata": {
        "id": "Mqt16yOQivCX"
      },
      "source": [
        "Функция **map()** является основой для функционального программирования в Python.<br/>\n",
        "В функиональном программировании явно объявляются все параметры, которые могут измениться путем выполения данной функции"
      ]
    },
    {
      "cell_type": "code",
      "metadata": {
        "colab": {
          "base_uri": "https://localhost:8080/"
        },
        "id": "cXLrLjYPDqpG",
        "outputId": "89e4f1c3-a4d5-4313-c23b-d3bf15fbf6af"
      },
      "source": [
        "do_one = [1, 2, 4, 6]\n",
        "do_two = [3, 1, 5, 3]\n",
        "chop = list(map(lambda x : x + 1, do_one))\n",
        "print(chop)"
      ],
      "execution_count": null,
      "outputs": [
        {
          "output_type": "stream",
          "text": [
            "[2, 3, 5, 7]\n"
          ],
          "name": "stdout"
        }
      ]
    },
    {
      "cell_type": "markdown",
      "metadata": {
        "id": "gBiA2dSgCKsl"
      },
      "source": [
        "<h2> Manipulating Text with Regular Expression <h2>"
      ]
    },
    {
      "cell_type": "code",
      "metadata": {
        "colab": {
          "base_uri": "https://localhost:8080/"
        },
        "id": "wWAOHApEQffo",
        "outputId": "de86d58b-b449-48c1-dfdf-daf0e6275ddc"
      },
      "source": [
        "import re\n",
        "\n",
        "text = 'This is a good day'\n",
        "if re.search('good', text):\n",
        "  print('Wonderful')\n",
        "else:\n",
        "   print('Absence')"
      ],
      "execution_count": 5,
      "outputs": [
        {
          "output_type": "stream",
          "text": [
            "Wonderful\n"
          ],
          "name": "stdout"
        }
      ]
    },
    {
      "cell_type": "code",
      "metadata": {
        "colab": {
          "base_uri": "https://localhost:8080/"
        },
        "id": "_QabKrcURedG",
        "outputId": "ca3b4b11-c5c9-4ca6-e5de-cbbe7dcf39bb"
      },
      "source": [
        "text = 'Amy works diligently. Amy gets good grades. Our student Amy is succesful.'\n",
        "print(re.split('Amy', text))\n",
        "print(re.findall('Amy', text))"
      ],
      "execution_count": 8,
      "outputs": [
        {
          "output_type": "stream",
          "text": [
            "['', ' works diligently. ', ' gets good grades. Our student ', ' is succesful.']\n",
            "['Amy', 'Amy', 'Amy']\n"
          ],
          "name": "stdout"
        }
      ]
    },
    {
      "cell_type": "code",
      "metadata": {
        "colab": {
          "base_uri": "https://localhost:8080/"
        },
        "id": "PSkkRIsTuis3",
        "outputId": "05ed92ed-bae4-40dd-80b5-8c211ef7da60"
      },
      "source": [
        "import requests\n",
        "from bs4 import BeautifulStoneSoup as Soup\n",
        "\n",
        "\n",
        "url = 'https://ru.wikipedia.org/wiki/%D0%9C%D0%B0%D0%BA%D0%B3%D1%80%D0%B5%D0%B3%D0%BE%D1%80,_%D0%9A%D0%BE%D0%BD%D0%BE%D1%80'\n",
        "\n",
        "\n",
        "source = requests.get(url)\n",
        "main_text = source.text\n",
        "soup = Soup(main_text)\n",
        "\n",
        "data = soup.find('div', {'class': 'mw-parser-output'})\n",
        "print(data)"
      ],
      "execution_count": 6,
      "outputs": [
        {
          "output_type": "stream",
          "text": [
            "<div class=\"mw-parser-output\"><div class=\"hatnote dabhide\">В Википедии есть статьи о других людях с такой фамилией, см. <a class=\"mw-disambig\" href=\"/wiki/%D0%9C%D0%B0%D0%BA%D0%B3%D1%80%D0%B5%D0%B3%D0%BE%D1%80\" title=\"Макгрегор\">Макгрегор</a>.</div>\n",
            "<table class=\"infobox\" data-name=\"Боец смешанного стиля\" style=\"\"><tbody><tr><th class=\"infobox-above\" colspan=\"2\" style=\"background:#eaecf0;\"><style data-mw-deduplicate=\"TemplateStyles:r113288029\">.mw-parser-output .ts_Спортсмен_имя{position:relative}.mw-parser-output .ts_Спортсмен_имя .icon{display:flex;align-items:center;position:absolute;top:0;bottom:0;left:0}.mw-parser-output .ts_Спортсмен_имя .icon img{display:block}.mw-parser-output .ts_Спортсмен_имя .label{margin:0 2em}@media(min-width:720px){.mw-parser-output .ts_Спортсмен_имя{margin:.15em}}body.skin-minerva .mw-parser-output .ts_Спортсмен_имя{margin:0}</style><div class=\"ts_Спортсмен_имя\"><div class=\"icon\" style=\"\"><a class=\"image\" href=\"/wiki/%D0%A4%D0%B0%D0%B9%D0%BB:MMA_pictogram.svg\" title=\"Боец смешанного стиля\"><img alt=\"Боец смешанного стиля\" data-file-height=\"300\" data-file-width=\"300\" decoding=\"async\" height=\"20\" src=\"//upload.wikimedia.org/wikipedia/commons/thumb/9/96/MMA_pictogram.svg/20px-MMA_pictogram.svg.png\" srcset=\"//upload.wikimedia.org/wikipedia/commons/thumb/9/96/MMA_pictogram.svg/30px-MMA_pictogram.svg.png 1.5x, //upload.wikimedia.org/wikipedia/commons/thumb/9/96/MMA_pictogram.svg/40px-MMA_pictogram.svg.png 2x\" width=\"20\"/></a></div><div class=\"label\">Конор Макгрегор</div></div></th></tr><tr><td class=\"infobox-image\" colspan=\"2\" style=\"\"> <span class=\"no-wikidata\" data-wikidata-property-id=\"P18\"><a class=\"image\" href=\"/wiki/%D0%A4%D0%B0%D0%B9%D0%BB:Conor_McGregor_2018.jpg\" title=\"Конор Макгрегор в 2018 году\"><img alt=\"Конор Макгрегор в 2018 году\" data-file-height=\"754\" data-file-width=\"656\" decoding=\"async\" height=\"402\" src=\"//upload.wikimedia.org/wikipedia/commons/thumb/4/4d/Conor_McGregor_2018.jpg/350px-Conor_McGregor_2018.jpg\" srcset=\"//upload.wikimedia.org/wikipedia/commons/thumb/4/4d/Conor_McGregor_2018.jpg/525px-Conor_McGregor_2018.jpg 1.5x, //upload.wikimedia.org/wikipedia/commons/4/4d/Conor_McGregor_2018.jpg 2x\" width=\"350\"/></a><br/><span class=\"media-caption\" data-wikidata-qualifier-id=\"P2096\" style=\"display:block\">Конор Макгрегор в 2018 году</span></span> </td></tr>\n",
            "<tr>\n",
            "<th class=\"infobox-header\" colspan=\"2\" style=\"background:#eaecf0;\">Общая информация</th>\n",
            "</tr>\n",
            "<tr>\n",
            "<th class=\"plainlist\" scope=\"row\">Полное имя</th>\n",
            "<td class=\"plainlist\">\n",
            "Конор Энтони Макгрегор</td>\n",
            "</tr>\n",
            "<tr>\n",
            "<th class=\"plainlist\" scope=\"row\">Прозвище</th>\n",
            "<td class=\"plainlist\">\n",
            "<span class=\"no-wikidata\" data-wikidata-property-id=\"P1449\">The Notorious (<a href=\"/wiki/%D0%A0%D1%83%D1%81%D1%81%D0%BA%D0%B8%D0%B9_%D1%8F%D0%B7%D1%8B%D0%BA\" title=\"Русский язык\">рус.</a> <span lang=\"ru\" style=\"font-style:italic;\">Печально известный</span>)</span></td>\n",
            "</tr>\n",
            "<tr>\n",
            "<th class=\"plainlist\" scope=\"row\">Гражданство</th>\n",
            "<td class=\"plainlist\">\n",
            "<span class=\"no-wikidata\" data-wikidata-property-id=\"P27\"><span class=\"no-wikidata\" data-wikidata-property-id=\"P1532\"><span class=\"nowrap\"><span class=\"nowrap\" data-sort-value=\"Ирландия\"><span class=\"flagicon\"><a href=\"/wiki/%D0%98%D1%80%D0%BB%D0%B0%D0%BD%D0%B4%D0%B8%D1%8F\" title=\"Ирландия\"><img alt=\"\" class=\"thumbborder\" data-file-height=\"600\" data-file-width=\"1200\" decoding=\"async\" height=\"11\" src=\"//upload.wikimedia.org/wikipedia/commons/thumb/4/45/Flag_of_Ireland.svg/22px-Flag_of_Ireland.svg.png\" srcset=\"//upload.wikimedia.org/wikipedia/commons/thumb/4/45/Flag_of_Ireland.svg/33px-Flag_of_Ireland.svg.png 1.5x, //upload.wikimedia.org/wikipedia/commons/thumb/4/45/Flag_of_Ireland.svg/44px-Flag_of_Ireland.svg.png 2x\" width=\"22\"/></a></span> <a href=\"/wiki/%D0%98%D1%80%D0%BB%D0%B0%D0%BD%D0%B4%D0%B8%D1%8F\" title=\"Ирландия\"><span class=\"wrap\">Ирландия</span></a></span></span></span></span></td>\n",
            "</tr>\n",
            "<tr>\n",
            "<th class=\"plainlist\" scope=\"row\">Дата рождения</th>\n",
            "<td class=\"plainlist\">\n",
            "<span class=\"no-wikidata\" data-wikidata-property-id=\"P569\"><a href=\"/wiki/14_%D0%B8%D1%8E%D0%BB%D1%8F\" title=\"14 июля\">14 июля</a> <a href=\"/wiki/1988_%D0%B3%D0%BE%D0%B4\" title=\"1988 год\">1988</a></span><span style=\"display:none\">(<span class=\"bday\">1988-07-14</span>)</span> <span class=\"nowrap\">(32 года)</span></td>\n",
            "</tr>\n",
            "<tr>\n",
            "<th class=\"plainlist\" scope=\"row\">Место рождения</th>\n",
            "<td class=\"plainlist\">\n",
            "<span class=\"no-wikidata\" data-wikidata-property-id=\"P19\"><a href=\"/wiki/%D0%94%D1%83%D0%B1%D0%BB%D0%B8%D0%BD\" title=\"Дублин\">Дублин</a>, <a href=\"/wiki/%D0%98%D1%80%D0%BB%D0%B0%D0%BD%D0%B4%D0%B8%D1%8F\" title=\"Ирландия\">Ирландия</a></span></td>\n",
            "</tr>\n",
            "<tr>\n",
            "<th class=\"plainlist\" scope=\"row\">Проживание</th>\n",
            "<td class=\"plainlist\">\n",
            "<span class=\"no-wikidata\" data-wikidata-property-id=\"P551\"><a href=\"/wiki/%D0%94%D1%83%D0%B1%D0%BB%D0%B8%D0%BD\" title=\"Дублин\">Дублин</a>, <a href=\"/wiki/%D0%98%D1%80%D0%BB%D0%B0%D0%BD%D0%B4%D0%B8%D1%8F\" title=\"Ирландия\">Ирландия</a></span></td>\n",
            "</tr>\n",
            "<tr>\n",
            "<th class=\"plainlist\" scope=\"row\">Рост</th>\n",
            "<td class=\"plainlist\">\n",
            "<span class=\"no-wikidata\" data-wikidata-property-id=\"P2048\">175 см<sup class=\"reference\" id=\"cite_ref-1\"><a href=\"#cite_note-1\">[1]</a></sup></span></td>\n",
            "</tr>\n",
            "<tr>\n",
            "<th class=\"plainlist\" scope=\"row\">Весовая категория</th>\n",
            "<td class=\"plainlist\">\n",
            "<a href=\"/wiki/%D0%A1%D0%BC%D0%B5%D1%88%D0%B0%D0%BD%D0%BD%D1%8B%D0%B5_%D0%B1%D0%BE%D0%B5%D0%B2%D1%8B%D0%B5_%D0%B8%D1%81%D0%BA%D1%83%D1%81%D1%81%D1%82%D0%B2%D0%B0#Весовые_категории\" title=\"Смешанные боевые искусства\">Полулёгкий вес</a><br/><a href=\"/wiki/%D0%A1%D0%BC%D0%B5%D1%88%D0%B0%D0%BD%D0%BD%D1%8B%D0%B5_%D0%B1%D0%BE%D0%B5%D0%B2%D1%8B%D0%B5_%D0%B8%D1%81%D0%BA%D1%83%D1%81%D1%81%D1%82%D0%B2%D0%B0#Весовые_категории\" title=\"Смешанные боевые искусства\">Лёгкий вес</a><br/><a href=\"/wiki/%D0%A1%D0%BC%D0%B5%D1%88%D0%B0%D0%BD%D0%BD%D1%8B%D0%B5_%D0%B1%D0%BE%D0%B5%D0%B2%D1%8B%D0%B5_%D0%B8%D1%81%D0%BA%D1%83%D1%81%D1%81%D1%82%D0%B2%D0%B0#Весовые_категории\" title=\"Смешанные боевые искусства\">Полусредний вес</a></td>\n",
            "</tr>\n",
            "<tr>\n",
            "<th class=\"plainlist\" scope=\"row\">Размах рук</th>\n",
            "<td class=\"plainlist\">\n",
            "188 см</td>\n",
            "</tr>\n",
            "<tr>\n",
            "<th class=\"plainlist\" scope=\"row\">Карьера</th>\n",
            "<td class=\"plainlist\">\n",
            "<span class=\"no-wikidata\" data-wikidata-property-id=\"P2031\">2008–н.в</span></td>\n",
            "</tr>\n",
            "<tr>\n",
            "<th class=\"plainlist\" scope=\"row\">Команда</th>\n",
            "<td class=\"plainlist\">\n",
            "<span class=\"wikidata-claim\" data-wikidata-claim-id=\"Q5162259$0bf5c7e0-4153-ab9a-5de2-1976c0fb65b5\" data-wikidata-property-id=\"P54\"><span class=\"wikidata-snak wikidata-main-snak\"><a href=\"/wiki/Straight_Blast_Gym_-_Ireland\" title=\"Straight Blast Gym - Ireland\">Straight Blast Gym - Ireland</a></span></span></td>\n",
            "</tr>\n",
            "<tr>\n",
            "<th class=\"plainlist\" scope=\"row\">Тренер</th>\n",
            "<td class=\"plainlist\">\n",
            "<span class=\"no-wikidata\" data-wikidata-property-id=\"P286\">Джон Кавана</span></td>\n",
            "</tr>\n",
            "<tr>\n",
            "<th class=\"plainlist\" scope=\"row\">Стиль</th>\n",
            "<td class=\"plainlist\">\n",
            "<span class=\"no-wikidata\" data-wikidata-property-id=\"P106\"><a href=\"/wiki/%D0%91%D0%BE%D0%BA%D1%81\" title=\"Бокс\">бокс</a>, <a href=\"/wiki/%D0%91%D1%80%D0%B0%D0%B7%D0%B8%D0%BB%D1%8C%D1%81%D0%BA%D0%BE%D0%B5_%D0%B4%D0%B6%D0%B8%D1%83-%D0%B4%D0%B6%D0%B8%D1%82%D1%81%D1%83\" title=\"Бразильское джиу-джитсу\">бразильское джиу-джитсу</a></span></td>\n",
            "</tr>\n",
            "<tr>\n",
            "<th class=\"plainlist\" scope=\"row\">Степень мастерства</th>\n",
            "<td class=\"plainlist\">\n",
            "<span style=\"background-color:brown; color:white; border:1px solid #000000; text-align:center;\">    </span> <a href=\"/wiki/%D0%91%D1%80%D0%B0%D0%B7%D0%B8%D0%BB%D1%8C%D1%81%D0%BA%D0%BE%D0%B5_%D0%B4%D0%B6%D0%B8%D1%83-%D0%B4%D0%B6%D0%B8%D1%82%D1%81%D1%83#Стандарты_и_традиции\" title=\"Бразильское джиу-джитсу\">Коричневый пояс</a> по <a href=\"/wiki/%D0%91%D1%80%D0%B0%D0%B7%D0%B8%D0%BB%D1%8C%D1%81%D0%BA%D0%BE%D0%B5_%D0%B4%D0%B6%D0%B8%D1%83-%D0%B4%D0%B6%D0%B8%D1%82%D1%81%D1%83\" title=\"Бразильское джиу-джитсу\">бразильскому джиу-джитсу</a></td>\n",
            "</tr>\n",
            "<tr>\n",
            "<th class=\"infobox-header\" colspan=\"2\" style=\"background:#eaecf0;\">Статистика в <a href=\"/wiki/%D0%A1%D0%BC%D0%B5%D1%88%D0%B0%D0%BD%D0%BD%D1%8B%D0%B5_%D0%B1%D0%BE%D0%B5%D0%B2%D1%8B%D0%B5_%D0%B8%D1%81%D0%BA%D1%83%D1%81%D1%81%D1%82%D0%B2%D0%B0\" title=\"Смешанные боевые искусства\">смешанных единоборствах</a></th>\n",
            "</tr>\n",
            "<tr>\n",
            "<th class=\"plainlist\" scope=\"row\">Боёв</th>\n",
            "<td class=\"plainlist\">\n",
            "27</td>\n",
            "</tr><tr>\n",
            "<th class=\"plainlist\" scope=\"row\" style=\"padding-bottom:0; border-bottom:0;\">Побед</th>\n",
            "<td class=\"plainlist\" style=\"padding-bottom:0; border-bottom:0;\">\n",
            "22</td>\n",
            "</tr>\n",
            "<tr>\n",
            "<th class=\"plainlist\" scope=\"row\" style=\"font-weight:normal; padding-bottom:0; border-bottom:0; padding-top:0; border-top:0;\"> • нокаутом</th>\n",
            "<td class=\"plainlist\" style=\"padding-bottom:0; border-bottom:0; padding-top:0; border-top:0;\">\n",
            "19</td>\n",
            "</tr>\n",
            "<tr>\n",
            "<th class=\"plainlist\" scope=\"row\" style=\"font-weight:normal; padding-bottom:0; border-bottom:0; padding-top:0; border-top:0;\"> • сдачей</th>\n",
            "<td class=\"plainlist\" style=\"padding-bottom:0; border-bottom:0; padding-top:0; border-top:0;\">\n",
            "1</td>\n",
            "</tr>\n",
            "<tr>\n",
            "<th class=\"plainlist\" scope=\"row\" style=\"font-weight:normal; padding-top:0; border-top:0;\"> • решением</th>\n",
            "<td class=\"plainlist\" style=\"padding-top:0; border-top:0;\">\n",
            "2</td>\n",
            "</tr><tr>\n",
            "<th class=\"plainlist\" scope=\"row\" style=\"padding-bottom:0; border-bottom:0;\">Поражений</th>\n",
            "<td class=\"plainlist\" style=\"padding-bottom:0; border-bottom:0;\">\n",
            "5</td>\n",
            "</tr>\n",
            "<tr>\n",
            "<th class=\"plainlist\" scope=\"row\" style=\"font-weight:normal; padding-bottom:0; border-bottom:0; padding-top:0; border-top:0;\"> • нокаутом</th>\n",
            "<td class=\"plainlist\" style=\"padding-bottom:0; border-bottom:0; padding-top:0; border-top:0;\">\n",
            "1</td>\n",
            "</tr>\n",
            "<tr>\n",
            "<th class=\"plainlist\" scope=\"row\" style=\"font-weight:normal; padding-top:0; border-top:0;\"> • сдачей</th>\n",
            "<td class=\"plainlist\" style=\"padding-top:0; border-top:0;\">\n",
            "4</td>\n",
            "</tr>\n",
            "<tr>\n",
            "<th class=\"infobox-header\" colspan=\"2\" style=\"background:#eaecf0;\">Статистика в <a href=\"/wiki/%D0%91%D0%BE%D0%BA%D1%81\" title=\"Бокс\">боксе</a></th>\n",
            "</tr>\n",
            "<tr>\n",
            "<th class=\"plainlist\" scope=\"row\">Боёв</th>\n",
            "<td class=\"plainlist\">\n",
            "1</td>\n",
            "</tr><tr>\n",
            "<th class=\"plainlist\" scope=\"row\" style=\"padding-bottom:0; border-bottom:0;\">Побед</th>\n",
            "<td class=\"plainlist\" style=\"padding-bottom:0; border-bottom:0;\">\n",
            "0</td>\n",
            "</tr>\n",
            "<tr>\n",
            "<th class=\"plainlist\" scope=\"row\">Поражений</th>\n",
            "<td class=\"plainlist\">\n",
            "1</td>\n",
            "</tr>\n",
            "<tr>\n",
            "<th class=\"infobox-header\" colspan=\"2\" style=\"background:#eaecf0;\">Другая информация</th>\n",
            "</tr>\n",
            "<tr>\n",
            "<th class=\"plainlist\" scope=\"row\">Супруг(а)</th>\n",
            "<td class=\"plainlist\">\n",
            "Ди Девлин</td>\n",
            "</tr>\n",
            "<tr>\n",
            "<th class=\"plainlist\" scope=\"row\">Дети</th>\n",
            "<td class=\"plainlist\">\n",
            "2</td>\n",
            "</tr>\n",
            "<tr>\n",
            "<th class=\"plainlist\" scope=\"row\">Сайт</th>\n",
            "<td class=\"plainlist\">\n",
            "<span class=\"no-wikidata\" data-wikidata-property-id=\"P856\"><a class=\"external text\" href=\"http://conormcgregor.com/\" rel=\"nofollow\">conormcgregor.com</a></span></td>\n",
            "</tr><tr><td class=\"infobox-below\" colspan=\"2\" style=\"background:#eaecf0;;font-weight:bold;\">Статистика боёв на сайте <a class=\"external text\" href=\"http://www.sherdog.com/fighter/29688\" rel=\"nofollow\">Sherdog</a></td></tr><tr><td class=\"infobox-below\" colspan=\"2\" style=\"background:#eaecf0;;font-weight:bold;\">Статистика боёв на сайте <a class=\"external text\" href=\"http://boxrec.com/en/boxer/802658\" rel=\"nofollow\">Boxrec</a></td></tr><tr><td class=\"infobox-below\" colspan=\"2\" style=\"background:#eaecf0;;\"><span class=\"wikidata-claim\" data-wikidata-claim-id=\"Q5162259$d0c94873-4ebd-f5c8-9e13-8e6df608875d\" data-wikidata-property-id=\"P373\"><span class=\"wikidata-snak wikidata-main-snak\"><a href=\"https://commons.wikimedia.org/wiki/Category:Conor_McGregor\" title=\"commons:Category:Conor McGregor\"><img alt=\"Commons-logo.svg\" data-file-height=\"1376\" data-file-width=\"1024\" decoding=\"async\" height=\"20\" src=\"//upload.wikimedia.org/wikipedia/commons/thumb/4/4a/Commons-logo.svg/15px-Commons-logo.svg.png\" srcset=\"//upload.wikimedia.org/wikipedia/commons/thumb/4/4a/Commons-logo.svg/23px-Commons-logo.svg.png 1.5x, //upload.wikimedia.org/wikipedia/commons/thumb/4/4a/Commons-logo.svg/30px-Commons-logo.svg.png 2x\" width=\"15\"/></a> <a class=\"extiw\" href=\"https://commons.wikimedia.org/wiki/Category:Conor_McGregor\" title=\"commons:Category:Conor McGregor\">Медиафайлы на Викискладе</a></span></span></td></tr>\n",
            "</tbody></table>\n",
            "<p><b>Ко́нор Э́нтони Макгре́гор</b> (<a href=\"/wiki/%D0%90%D0%BD%D0%B3%D0%BB%D0%B8%D0%B9%D1%81%D0%BA%D0%B8%D0%B9_%D1%8F%D0%B7%D1%8B%D0%BA\" title=\"Английский язык\">англ.</a> <span lang=\"en\" style=\"font-style:italic;\">Conor Anthony McGregor</span>; род. <a href=\"/wiki/14_%D0%B8%D1%8E%D0%BB%D1%8F\" title=\"14 июля\">14 июля</a> <a class=\"mw-redirect\" href=\"/wiki/1988\" title=\"1988\">1988</a>, <a href=\"/wiki/%D0%94%D1%83%D0%B1%D0%BB%D0%B8%D0%BD\" title=\"Дублин\">Дублин</a>, <a href=\"/wiki/%D0%98%D1%80%D0%BB%D0%B0%D0%BD%D0%B4%D0%B8%D1%8F\" title=\"Ирландия\">Ирландия</a>) — ирландский боец <a href=\"/wiki/%D0%A1%D0%BC%D0%B5%D1%88%D0%B0%D0%BD%D0%BD%D1%8B%D0%B5_%D0%B1%D0%BE%D0%B5%D0%B2%D1%8B%D0%B5_%D0%B8%D1%81%D0%BA%D1%83%D1%81%D1%81%D1%82%D0%B2%D0%B0\" title=\"Смешанные боевые искусства\">смешанных боевых искусств</a>, выступавший также в <a href=\"/wiki/%D0%9F%D1%80%D0%BE%D1%84%D0%B5%D1%81%D1%81%D0%B8%D0%BE%D0%BD%D0%B0%D0%BB%D1%8C%D0%BD%D1%8B%D0%B9_%D0%B1%D0%BE%D0%BA%D1%81\" title=\"Профессиональный бокс\">профессиональном боксе</a>. Выступает под эгидой «<a href=\"/wiki/Ultimate_Fighting_Championship\" title=\"Ultimate Fighting Championship\">UFC</a>» в лёгкой весовой категории. Бывший <a href=\"/wiki/%D0%A1%D0%BF%D0%B8%D1%81%D0%BE%D0%BA_%D1%87%D0%B5%D0%BC%D0%BF%D0%B8%D0%BE%D0%BD%D0%BE%D0%B2_UFC#Чемпионы_в_полулёгком_весе\" title=\"Список чемпионов UFC\">чемпион UFC</a> в лёгком и полулёгком весе.\n",
            "</p><p>По состоянию на февраль 2021 года занимает пятнадцатую строчку официального рейтинга UFC среди лучших бойцов независимо от весовой категории (англ. <i><a href=\"/wiki/Pound_for_pound\" title=\"Pound for pound\">pound-for-pound</a></i>).<sup class=\"reference\" id=\"cite_ref-2\"><a href=\"#cite_note-2\">[2]</a></sup>\n",
            "</p>\n",
            "<div aria-labelledby=\"mw-toc-heading\" class=\"toc\" id=\"toc\" role=\"navigation\"><input class=\"toctogglecheckbox\" id=\"toctogglecheckbox\" role=\"button\" style=\"display:none\" type=\"checkbox\"/><div class=\"toctitle\" dir=\"ltr\" lang=\"ru\"><h2 id=\"mw-toc-heading\">Содержание</h2><span class=\"toctogglespan\"><label class=\"toctogglelabel\" for=\"toctogglecheckbox\"/></span></div>\n",
            "<ul>\n",
            "<li class=\"toclevel-1 tocsection-1\"><a href=\"#Ранние_годы\"><span class=\"tocnumber\">1</span> <span class=\"toctext\">Ранние годы</span></a></li>\n",
            "<li class=\"toclevel-1 tocsection-2\"><a href=\"#Карьера\"><span class=\"tocnumber\">2</span> <span class=\"toctext\">Карьера</span></a>\n",
            "<ul>\n",
            "<li class=\"toclevel-2 tocsection-3\"><a href=\"#Ultimate_Fighting_Championship\"><span class=\"tocnumber\">2.1</span> <span class=\"toctext\">Ultimate Fighting Championship</span></a>\n",
            "<ul>\n",
            "<li class=\"toclevel-3 tocsection-4\"><a href=\"#Временный_чемпион_в_полулёгком_весе\"><span class=\"tocnumber\">2.1.1</span> <span class=\"toctext\">Временный чемпион в полулёгком весе</span></a></li>\n",
            "<li class=\"toclevel-3 tocsection-5\"><a href=\"#The_Ultimate_Fighter_22\"><span class=\"tocnumber\">2.1.2</span> <span class=\"toctext\">The Ultimate Fighter 22</span></a></li>\n",
            "<li class=\"toclevel-3 tocsection-6\"><a href=\"#Чемпион_в_полулёгком_весе\"><span class=\"tocnumber\">2.1.3</span> <span class=\"toctext\">Чемпион в полулёгком весе</span></a></li>\n",
            "</ul>\n",
            "</li>\n",
            "<li class=\"toclevel-2 tocsection-7\"><a href=\"#Чемпион_в_лёгком_весе\"><span class=\"tocnumber\">2.2</span> <span class=\"toctext\">Чемпион в лёгком весе</span></a></li>\n",
            "<li class=\"toclevel-2 tocsection-8\"><a href=\"#Дальнейшая_карьера_в_UFC\"><span class=\"tocnumber\">2.3</span> <span class=\"toctext\">Дальнейшая карьера в UFC</span></a></li>\n",
            "<li class=\"toclevel-2 tocsection-9\"><a href=\"#Профессиональный_бокс\"><span class=\"tocnumber\">2.4</span> <span class=\"toctext\">Профессиональный бокс</span></a>\n",
            "<ul>\n",
            "<li class=\"toclevel-3 tocsection-10\"><a href=\"#Бой_с_Флойдом_Мейвезером\"><span class=\"tocnumber\">2.4.1</span> <span class=\"toctext\">Бой с Флойдом Мейвезером</span></a></li>\n",
            "</ul>\n",
            "</li>\n",
            "<li class=\"toclevel-2 tocsection-11\"><a href=\"#UFC_pay-per-views\"><span class=\"tocnumber\">2.5</span> <span class=\"toctext\">UFC pay-per-views</span></a></li>\n",
            "</ul>\n",
            "</li>\n",
            "<li class=\"toclevel-1 tocsection-12\"><a href=\"#Стиль_ведения_боя\"><span class=\"tocnumber\">3</span> <span class=\"toctext\">Стиль ведения боя</span></a></li>\n",
            "<li class=\"toclevel-1 tocsection-13\"><a href=\"#Титулы_и_достижения\"><span class=\"tocnumber\">4</span> <span class=\"toctext\">Титулы и достижения</span></a></li>\n",
            "<li class=\"toclevel-1 tocsection-14\"><a href=\"#Статистика_в_смешанных_единоборствах\"><span class=\"tocnumber\">5</span> <span class=\"toctext\">Статистика в смешанных единоборствах</span></a></li>\n",
            "<li class=\"toclevel-1 tocsection-15\"><a href=\"#Статистика_в_профессиональном_боксе\"><span class=\"tocnumber\">6</span> <span class=\"toctext\">Статистика в профессиональном боксе</span></a></li>\n",
            "<li class=\"toclevel-1 tocsection-16\"><a href=\"#Производитель_виски\"><span class=\"tocnumber\">7</span> <span class=\"toctext\">Производитель виски</span></a></li>\n",
            "<li class=\"toclevel-1 tocsection-17\"><a href=\"#См._также\"><span class=\"tocnumber\">8</span> <span class=\"toctext\">См. также</span></a></li>\n",
            "<li class=\"toclevel-1 tocsection-18\"><a href=\"#Примечания\"><span class=\"tocnumber\">9</span> <span class=\"toctext\">Примечания</span></a></li>\n",
            "<li class=\"toclevel-1 tocsection-19\"><a href=\"#Ссылки\"><span class=\"tocnumber\">10</span> <span class=\"toctext\">Ссылки</span></a></li>\n",
            "</ul>\n",
            "</div>\n",
            "<h2><span id=\".D0.A0.D0.B0.D0.BD.D0.BD.D0.B8.D0.B5_.D0.B3.D0.BE.D0.B4.D1.8B\"/><span class=\"mw-headline\" id=\"Ранние_годы\">Ранние годы</span></h2>\n",
            "<p>Конор Макгрегор родился в южной части Дублина, в пригороде <a href=\"/wiki/%D0%9A%D1%80%D0%B0%D0%BC%D0%BB%D0%B8%D0%BD\" title=\"Крамлин\">Крамлин</a>, где впервые заинтересовался спортом, в частности <a href=\"/wiki/%D0%A4%D1%83%D1%82%D0%B1%D0%BE%D0%BB\" title=\"Футбол\">футболом</a>. Макгрегор играл за футбольный клуб «Лудерс Селтик» и болел за клуб <a href=\"/wiki/%D0%90%D0%BD%D0%B3%D0%BB%D0%B8%D0%B9%D1%81%D0%BA%D0%B0%D1%8F_%D0%9F%D1%80%D0%B5%D0%BC%D1%8C%D0%B5%D1%80-%D0%BB%D0%B8%D0%B3%D0%B0\" title=\"Английская Премьер-лига\">английской премьер-лиги</a> «<a href=\"/wiki/%D0%9C%D0%B0%D0%BD%D1%87%D0%B5%D1%81%D1%82%D0%B5%D1%80_%D0%AE%D0%BD%D0%B0%D0%B9%D1%82%D0%B5%D0%B4\" title=\"Манчестер Юнайтед\">Манчестер Юнайтед</a>».<sup class=\"reference\" id=\"cite_ref-3\"><a href=\"#cite_note-3\">[3]</a></sup>\n",
            "</p><p>В 2006 году вместе с семьёй переехал в <a href=\"/wiki/%D0%9B%D1%83%D0%BA%D0%B0%D0%BD_(%D0%98%D1%80%D0%BB%D0%B0%D0%BD%D0%B4%D0%B8%D1%8F)\" title=\"Лукан (Ирландия)\">Лукан</a>, там Макгрегор окончил среднюю школу «Colaiste Cois Life». После окончания начал обучаться профессии водопроводчика<sup class=\"reference\" id=\"cite_ref-4\"><a href=\"#cite_note-4\">[4]</a></sup>. Позже в Лукане Макгрегор начал обучаться борьбе с будущим бойцом UFC Томом Иганом. Так Макгрегор заинтересовался смешанными единоборствами<sup class=\"reference\" id=\"cite_ref-5\"><a href=\"#cite_note-5\">[5]</a></sup>. В 2008 году попал в команду SBG.\n",
            "</p>\n",
            "<h2><span id=\".D0.9A.D0.B0.D1.80.D1.8C.D0.B5.D1.80.D0.B0\"/><span class=\"mw-headline\" id=\"Карьера\">Карьера</span></h2>\n",
            "<p>Свою профессиональную карьеру в <a href=\"/wiki/%D0%A1%D0%BC%D0%B5%D1%88%D0%B0%D0%BD%D0%BD%D1%8B%D0%B5_%D0%B1%D0%BE%D0%B5%D0%B2%D1%8B%D0%B5_%D0%B8%D1%81%D0%BA%D1%83%D1%81%D1%81%D1%82%D0%B2%D0%B0\" title=\"Смешанные боевые искусства\">смешанных единоборствах</a> Макгрегор начал с выступлений в лёгком весе. Позже, заработав в карьерной статистике десять побед с двумя поражениями, дебютировал в категории ниже, где за два боя сумел завоевать титул чемпиона в полулёгком весе английской организации «Cage Warriors». Не остановившись на одном титуле, Макгрегор вернулся в прежний дивизион, где забрал титул в лёгком весе у <a href=\"/wiki/%D0%91%D1%83%D1%85%D0%B8%D0%BD%D0%B3%D0%B5%D1%80,_%D0%98%D0%B2%D0%B0%D0%BD\" title=\"Бухингер, Иван\">Ивана Бухингера</a>, став, таким образом, одновременным чемпионом в двух весовых категориях.\n",
            "</p>\n",
            "<h3><span class=\"mw-headline\" id=\"Ultimate_Fighting_Championship\">Ultimate Fighting Championship</span></h3>\n",
            "<p>Впечатлённое выступлениями ирландца руководство «<a href=\"/wiki/Ultimate_Fighting_Championship\" title=\"Ultimate Fighting Championship\">UFC</a>» вскоре заключило с ним контракт<sup class=\"reference\" id=\"cite_ref-6\"><a href=\"#cite_note-6\">[6]</a></sup>. Дебютный бой в новой организации состоялся на <a class=\"new\" href=\"/w/index.php?title=UFC_on_Fuel_TV:_Mousasi_vs._Latifi&amp;action=edit&amp;redlink=1\" title=\"UFC on Fuel TV: Mousasi vs. Latifi (страница отсутствует)\">UFC on Fuel TV: Mousasi vs. Latifi</a>, где соперником Макгрегора стал Маркус Бримейдж. Бой сопровождался активными атаками Бримейджа, который, однако, не сумел ничего противопоставить точным и техничным ударам ирландца. Поразив оппонента серией тяжёлых ударов в челюсть, Макгрегор свалил того на настил и принялся добивать, после чего рефери остановил поединок.\n",
            "</p><p>Следующий бой был намечен на <a class=\"new\" href=\"/w/index.php?title=UFC_Fight_Night:_Shogun_vs._Sonnen&amp;action=edit&amp;redlink=1\" title=\"UFC Fight Night: Shogun vs. Sonnen (страница отсутствует)\">UFC Fight Night 26</a>, где предполагалась встреча против англичанина Энди Огла. Спустя некоторое время Огл вынужден был сняться по причине травмы и его заменил <a href=\"/wiki/%D0%A5%D0%BE%D0%BB%D0%BB%D0%BE%D1%83%D1%8D%D0%B9,_%D0%9C%D0%B0%D0%BA%D1%81\" title=\"Холлоуэй, Макс\">Макс Холлоуэй</a><sup class=\"reference\" id=\"cite_ref-7\"><a href=\"#cite_note-7\">[7]</a></sup>. Макгрегор полностью доминировал в поединке и одержал уверенную победу над Холлоуэем. В середине второго раунда Макгрегор почувствовал хруст в колене, после проведения магнитно-резонансной томографии была диагностирована <a href=\"/wiki/%D0%9A%D0%BE%D0%BB%D0%B5%D0%BD%D0%BD%D1%8B%D0%B9_%D1%81%D1%83%D1%81%D1%82%D0%B0%D0%B2#Травмы_крестообразных_связок\" title=\"Коленный сустав\">травма передней крестообразной связки</a>, из-за чего врачи наложили запрет на выступления в течение следующих десяти месяцев.<sup class=\"reference\" id=\"cite_ref-8\"><a href=\"#cite_note-8\">[8]</a></sup>\n",
            "</p><p>Завершив медицинское восстановление, Макгрегор возглавил главное событие вечера <a class=\"new\" href=\"/w/index.php?title=UFC_Fight_Night:_McGregor_vs._Brandao&amp;action=edit&amp;redlink=1\" title=\"UFC Fight Night: McGregor vs. Brandao (страница отсутствует)\">UFC Fight Night 46</a> в родном <a href=\"/wiki/%D0%94%D1%83%D0%B1%D0%BB%D0%B8%D0%BD\" title=\"Дублин\">Дублине</a>. Изначально его соперником должен был стать Коул Миллер, однако тот заработал на тренировке травму большого пальца, поэтому вынужден был выбыть. Место Коула занял бразилец <a href=\"/wiki/%D0%91%D1%80%D0%B0%D0%BD%D0%B4%D0%B0%D0%BD,_%D0%94%D0%B8%D0%B5%D0%B3%D1%83\" title=\"Брандан, Диегу\">Диегу Брандан</a><sup class=\"reference\" id=\"cite_ref-9\"><a href=\"#cite_note-9\">[9]</a></sup>. Поединок был выигран Макгрегором досрочно — техническим нокаутом в первом раунде.\n",
            "</p><p>В рамках турнира <a class=\"new\" href=\"/w/index.php?title=UFC_178&amp;action=edit&amp;redlink=1\" title=\"UFC 178 (страница отсутствует)\">UFC 178</a> Макгрегор завоевал очередную победу техническим нокаутом. На этот раз под натиском ирландца пал американский боец <a href=\"/wiki/%D0%9F%D1%83%D0%B0%D1%80%D1%8C%D0%B5,_%D0%94%D0%B0%D1%81%D1%82%D0%B8%D0%BD\" title=\"Пуарье, Дастин\">Дастин Пуарье</a>, до этого ни разу не бывавший в нокауте. В течение всего боя Макгрегор простреливал противника ударами с дистанции, пока не отправил того в нокаут на второй минуте первого раунда. Позже президент «UFC» <a href=\"/wiki/%D0%A3%D0%B0%D0%B9%D1%82,_%D0%94%D1%8D%D0%B9%D0%BD%D0%B0\" title=\"Уайт, Дэйна\">Дэйна Уайт</a> заявил, что Макгрегор может стать главным претендентом на <a href=\"/wiki/%D0%A1%D0%BF%D0%B8%D1%81%D0%BE%D0%BA_%D1%87%D0%B5%D0%BC%D0%BF%D0%B8%D0%BE%D0%BD%D0%BE%D0%B2_UFC#Чемпионы_в_полулёгком_весе\" title=\"Список чемпионов UFC\">титул чемпиона</a> в полулёгком весе, если в бою между действующим чемпионом <a href=\"/wiki/%D0%90%D0%BB%D0%B4%D1%83,_%D0%96%D0%BE%D0%B7%D0%B5\" title=\"Алду, Жозе\">Жозе Алду</a> и <a href=\"/wiki/%D0%9C%D0%B5%D0%BD%D0%B4%D0%B5%D1%81,_%D0%A7%D0%B5%D0%B4\" title=\"Мендес, Чед\">Чедом Мендесом</a> на <a href=\"/wiki/UFC_179\" title=\"UFC 179\">UFC 179</a> верх одержит Алду.<sup class=\"reference\" id=\"cite_ref-10\"><a href=\"#cite_note-10\">[10]</a></sup>\n",
            "</p><p>Спустя месяц после победы над Пуарье организация анонсировала турнир <a class=\"new\" href=\"/w/index.php?title=UFC_Fight_Night:_McGregor_vs._Siver&amp;action=edit&amp;redlink=1\" title=\"UFC Fight Night: McGregor vs. Siver (страница отсутствует)\">UFC Fight Night 59</a>, который возглавит поединок Макгрегора с немецким бойцом <a href=\"/wiki/%D0%97%D0%B8%D1%84%D0%B5%D1%80,_%D0%94%D0%B5%D0%BD%D0%BD%D0%B8%D1%81\" title=\"Зифер, Деннис\">Деннисом Зифером</a><sup class=\"reference\" id=\"cite_ref-11\"><a href=\"#cite_note-11\">[11]</a></sup>. По прогнозам букмекерских контор Макгрегор открывался в этом бою абсолютным фаворитом<sup class=\"reference\" id=\"cite_ref-12\"><a href=\"#cite_note-12\">[12]</a></sup>. Ирландец закончил поединок в одностороннем порядке победой над Зифером техническим нокаутом во втором раунде. Сразу после этого он ошеломил зрителей инцидентом с действующим чемпионом Жозе Алду. Как только рефери остановил поединок, Макгрегор разглядел в публике наблюдающего Алду, и, перескочив через сетку восьмиугольника, начал кричать что-то в лицо чемпиона.\n",
            "</p>\n",
            "<h4><span id=\".D0.92.D1.80.D0.B5.D0.BC.D0.B5.D0.BD.D0.BD.D1.8B.D0.B9_.D1.87.D0.B5.D0.BC.D0.BF.D0.B8.D0.BE.D0.BD_.D0.B2_.D0.BF.D0.BE.D0.BB.D1.83.D0.BB.D1.91.D0.B3.D0.BA.D0.BE.D0.BC_.D0.B2.D0.B5.D1.81.D0.B5\"/><span class=\"mw-headline\" id=\"Временный_чемпион_в_полулёгком_весе\">Временный чемпион в полулёгком весе</span></h4>\n",
            "<div class=\"thumb tright\"><div class=\"thumbinner\" style=\"width:252px;\"><a class=\"image\" href=\"/wiki/%D0%A4%D0%B0%D0%B9%D0%BB:Jos%C3%A9_Aldo_vs._Conor_McGregor,_UFC_189_World_Tour_London.jpg\"><img alt=\"\" class=\"thumbimage\" data-file-height=\"3850\" data-file-width=\"5780\" decoding=\"async\" height=\"167\" src=\"//upload.wikimedia.org/wikipedia/commons/thumb/e/e6/Jos%C3%A9_Aldo_vs._Conor_McGregor%2C_UFC_189_World_Tour_London.jpg/250px-Jos%C3%A9_Aldo_vs._Conor_McGregor%2C_UFC_189_World_Tour_London.jpg\" srcset=\"//upload.wikimedia.org/wikipedia/commons/thumb/e/e6/Jos%C3%A9_Aldo_vs._Conor_McGregor%2C_UFC_189_World_Tour_London.jpg/375px-Jos%C3%A9_Aldo_vs._Conor_McGregor%2C_UFC_189_World_Tour_London.jpg 1.5x, //upload.wikimedia.org/wikipedia/commons/thumb/e/e6/Jos%C3%A9_Aldo_vs._Conor_McGregor%2C_UFC_189_World_Tour_London.jpg/500px-Jos%C3%A9_Aldo_vs._Conor_McGregor%2C_UFC_189_World_Tour_London.jpg 2x\" width=\"250\"/></a> <div class=\"thumbcaption\"><div class=\"magnify\"><a class=\"internal\" href=\"/wiki/%D0%A4%D0%B0%D0%B9%D0%BB:Jos%C3%A9_Aldo_vs._Conor_McGregor,_UFC_189_World_Tour_London.jpg\" title=\"Увеличить\"/></div>Жозе Алду (слева) и Конор Макгрегор (справа) позируют во время пресс-конференции в <a href=\"/wiki/%D0%9B%D0%BE%D0%BD%D0%B4%D0%BE%D0%BD\" title=\"Лондон\">Лондоне</a>, март 2015 года.</div></div></div>\n",
            "<p>В конце января 2015 года стала известна дата проведения боя за <a href=\"/wiki/%D0%A1%D0%BF%D0%B8%D1%81%D0%BE%D0%BA_%D1%87%D0%B5%D0%BC%D0%BF%D0%B8%D0%BE%D0%BD%D0%BE%D0%B2_UFC#Чемпионы_в_полулёгком_весе\" title=\"Список чемпионов UFC\">титул чемпиона UFC</a> в полулёгком весе между Макгрегором и Алду. Поединок должен был пройти 11 июля 2015 года и возглавить турнир <a href=\"/wiki/UFC_189\" title=\"UFC 189\">UFC 189</a><sup class=\"reference\" id=\"cite_ref-13\"><a href=\"#cite_note-13\">[13]</a></sup>. А в марте состоялся двенадцатидневный мировой тур по восьми городам мира (начиная с <a href=\"/wiki/%D0%A0%D0%B8%D0%BE-%D0%B4%D0%B5-%D0%96%D0%B0%D0%BD%D0%B5%D0%B9%D1%80%D0%BE\" title=\"Рио-де-Жанейро\">Рио-де-Жанейро</a> и заканчивая <a href=\"/wiki/%D0%94%D1%83%D0%B1%D0%BB%D0%B8%D0%BD\" title=\"Дублин\">Дублином</a>), призванный разрекламировать предстоящий турнир. Мировой тур выдался драматичным и богатым на разного рода выпады Макгрегора в адрес Алду: всё началось с напряжённой битвы взглядов в Рио<sup class=\"reference\" id=\"cite_ref-14\"><a href=\"#cite_note-14\">[14]</a></sup>, а достигло апогея во время пресс-конференции в ирландской столице, когда Макгрегор выхватил со стола бразильца его чемпионский пояс.<sup class=\"reference\" id=\"cite_ref-15\"><a href=\"#cite_note-15\">[15]</a></sup>\n",
            "</p><p>23 июня стало известно, что Алду получил перелом ребра во время тренировки и по этой причине бой может быть отменён<sup class=\"reference\" id=\"cite_ref-16\"><a href=\"#cite_note-16\">[16]</a></sup>. На этот случай руководство подготовило замену Алду в лице двукратного призёра <a href=\"/wiki/%D0%9D%D0%B0%D1%86%D0%B8%D0%BE%D0%BD%D0%B0%D0%BB%D1%8C%D0%BD%D0%B0%D1%8F_%D0%B0%D1%81%D1%81%D0%BE%D1%86%D0%B8%D0%B0%D1%86%D0%B8%D1%8F_%D1%81%D1%82%D1%83%D0%B4%D0%B5%D0%BD%D1%87%D0%B5%D1%81%D0%BA%D0%BE%D0%B3%D0%BE_%D1%81%D0%BF%D0%BE%D1%80%D1%82%D0%B0\" title=\"Национальная ассоциация студенческого спорта\">NCAA</a> по борьбе <a href=\"/wiki/%D0%9C%D0%B5%D0%BD%D0%B4%D0%B5%D1%81,_%D0%A7%D0%B5%D0%B4\" title=\"Мендес, Чед\">Чеда Мендеса</a>, который сразился бы с Макгрегором за титул временного чемпиона в полулёгком весе<sup class=\"reference\" id=\"cite_ref-17\"><a href=\"#cite_note-17\">[17]</a></sup>. 30 июня <a href=\"/wiki/%D0%A3%D0%B0%D0%B9%D1%82,_%D0%94%D1%8D%D0%B9%D0%BD%D0%B0\" title=\"Уайт, Дэйна\">Дэйна Уайт</a> подтвердил сообщение о том, что Алду не сможет провести бой и выбывает с турнира, а заменит его Мендес<sup class=\"reference\" id=\"cite_ref-18\"><a href=\"#cite_note-18\">[18]</a></sup>. Макгрегор продолжил серию побед нокаутом, победив Мендеса и став <a href=\"/wiki/%D0%A1%D0%BF%D0%B8%D1%81%D0%BE%D0%BA_%D1%87%D0%B5%D0%BC%D0%BF%D0%B8%D0%BE%D0%BD%D0%BE%D0%B2_UFC#Чемпионы_в_полулёгком_весе\" title=\"Список чемпионов UFC\">временным чемпионом UFC</a> в полулёгкой весовой категории.\n",
            "</p>\n",
            "<h4><span class=\"mw-headline\" id=\"The_Ultimate_Fighter_22\">The Ultimate Fighter 22</span></h4>\n",
            "<p>После завоевания временного титула Макгрегор принял участие в двадцать втором сезоне реалити-шоу «<a href=\"/wiki/The_Ultimate_Fighter\" title=\"The Ultimate Fighter\">The Ultimate Fighter</a>» (TUF 22) в качестве тренера европейской команды. В телешоу он заявил, что участвует только из-за своего одноклубника и спарринг-партнёра Артёма Лобова, ставшего впоследствии финалистом TUF 22 и действующим бойцом UFC.<span style=\"background: #ffeaea; color: #444444;\"/><sup class=\"noprint\" style=\"white-space: nowrap\">[<i><a href=\"/wiki/%D0%92%D0%B8%D0%BA%D0%B8%D0%BF%D0%B5%D0%B4%D0%B8%D1%8F:%D0%A1%D1%81%D1%8B%D0%BB%D0%BA%D0%B8_%D0%BD%D0%B0_%D0%B8%D1%81%D1%82%D0%BE%D1%87%D0%BD%D0%B8%D0%BA%D0%B8\" title=\"Википедия:Ссылки на источники\"><span style=\"\" title=\"не указан источник на утверждение (10 февраля 2016)\">источник не указан 1915 дней</span></a></i>]</sup>\n",
            "</p>\n",
            "<h4><span id=\".D0.A7.D0.B5.D0.BC.D0.BF.D0.B8.D0.BE.D0.BD_.D0.B2_.D0.BF.D0.BE.D0.BB.D1.83.D0.BB.D1.91.D0.B3.D0.BA.D0.BE.D0.BC_.D0.B2.D0.B5.D1.81.D0.B5\"/><span class=\"mw-headline\" id=\"Чемпион_в_полулёгком_весе\">Чемпион в полулёгком весе</span></h4>\n",
            "<p>В августе 2015 года организация анонсировала новую дату встречи Макгрегора против Алду. Несостоявшийся ранее поединок на этот раз должен был возглавить турнир <a href=\"/wiki/UFC_194\" title=\"UFC 194\">UFC 194</a>. На пресс-конференции «GO BIG», посвящённой ближайшим турнирам, Макгрегор заявил, что если завоюет титул бесспорного чемпиона у Алду, то перейдёт в лёгкую весовую категорию<sup class=\"reference\" id=\"cite_ref-19\"><a href=\"#cite_note-19\">[19]</a></sup>. 12 декабря долгожданный бой всё-таки состоялся, однако, на удивление многих поклонников, он закончился раньше, чем многие предполагали. Всего на тринадцатой секунде первого раунда Макгрегор провёл точный контрудар в челюсть, заставивший Алду упасть на канвас, и прервал его пятилетнее доминирование в качестве чемпиона.\n",
            "</p><p>Завоевав титул неоспоримого чемпиона, Макгрегор возглавил <a href=\"/wiki/UFC_196\" title=\"UFC 196\">UFC 196</a>, где первоначально был заявлен в качестве претендента на <a href=\"/wiki/%D0%A1%D0%BF%D0%B8%D1%81%D0%BE%D0%BA_%D1%87%D0%B5%D0%BC%D0%BF%D0%B8%D0%BE%D0%BD%D0%BE%D0%B2_UFC#Чемпионы_в_лёгком_весе\" title=\"Список чемпионов UFC\">титул чемпиона</a> в лёгком весе против действующего чемпиона <a href=\"/wiki/%D0%94%D1%83%D1%81_%D0%90%D0%BD%D0%B6%D1%83%D1%81,_%D0%A0%D0%B0%D1%84%D0%B0%D1%8D%D0%BB\" title=\"Дус Анжус, Рафаэл\">Рафаэля Дус Анжуса</a>. 23 февраля 2016 года стало известно, что Дус Анжус травмировал ногу во время спарринга и вынужден был сняться с боя. Днём позднее организация нашла замену травмированному чемпиону в лице <a href=\"/wiki/%D0%94%D0%B8%D0%B0%D1%81,_%D0%9D%D0%B5%D0%B9%D1%82\" title=\"Диас, Нейт\">Нейта Диаса</a>, но поединок состоялся уже в полусреднем дивизионе<sup class=\"reference\" id=\"cite_ref-20\"><a href=\"#cite_note-20\">[20]</a></sup>. Ранее тренер Макгрегора заявлял, что его подопечный в состоянии подраться и в полусреднем весе против чемпиона <a href=\"/wiki/%D0%9B%D0%BE%D1%83%D0%BB%D0%B5%D1%80,_%D0%A0%D0%BE%D0%B1%D0%B1%D0%B8\" title=\"Лоулер, Робби\">Робби Лоулера</a>.<sup class=\"reference\" id=\"cite_ref-21\"><a href=\"#cite_note-21\">[21]</a></sup>\n",
            "</p><p>Поединок начался с активных атак Макгрегора как руками, так и ногами. Активность ирландца также заключалась в полном контроле центра октагона и в стремлении сократить дистанцию. Во второй половине первого раунда он рассёк Диасу бровь, однако инициатива начала перетекать в руки соперника. Это стало заметно по промахам Макгрегора и частым попаданиям Диаса <a href=\"/wiki/%D0%94%D0%B6%D0%B5%D0%B1\" title=\"Джеб\">джебами</a>. Раунд закончился в партере, перевод в который инициировал Диас, захватив ногу ирландца. Однако это не помешало оказаться сверху Макгрегору, пытавшемуся на последних секундах наносить удары по защищающемуся противнику. Во втором раунде он снова начал штурмовать Диаса и даже обагрил его лицо кровью, но в середине пятиминутки Макгрегор был потрясён двойкой соперника, хоть и старался затем не подавать виду. Диас начал усиливать давление, он прижал ирландца к стенке и начал его избивать. Макгрегор, освободившись из клинча, в свою очередь ответил хорошей комбинацией, а затем отчаянно бросился в ноги Диаса. Поединок перетёк в партер, где ирландец не сумел оказать сопротивления и попался на удушающий прием, потерпев своё первое поражение в пределах UFC.\n",
            "</p><p>По словам Макгрегора, следующий свой бой он возможно проведёт в полулёгком весе, где будет защищать чемпионский титул.<sup class=\"reference\" id=\"cite_ref-22\"><a href=\"#cite_note-22\">[22]</a></sup>\n",
            "</p>\n",
            "<div class=\"thumb tleft\"><div class=\"thumbinner\" style=\"width:257px;\"><a class=\"image\" href=\"/wiki/%D0%A4%D0%B0%D0%B9%D0%BB:Conor_McGregor_and_Vladimir_Putin.jpg\"><img alt=\"\" class=\"thumbimage\" data-file-height=\"1160\" data-file-width=\"1880\" decoding=\"async\" height=\"157\" src=\"//upload.wikimedia.org/wikipedia/commons/thumb/2/20/Conor_McGregor_and_Vladimir_Putin.jpg/255px-Conor_McGregor_and_Vladimir_Putin.jpg\" srcset=\"//upload.wikimedia.org/wikipedia/commons/thumb/2/20/Conor_McGregor_and_Vladimir_Putin.jpg/383px-Conor_McGregor_and_Vladimir_Putin.jpg 1.5x, //upload.wikimedia.org/wikipedia/commons/thumb/2/20/Conor_McGregor_and_Vladimir_Putin.jpg/510px-Conor_McGregor_and_Vladimir_Putin.jpg 2x\" width=\"255\"/></a> <div class=\"thumbcaption\"><div class=\"magnify\"><a class=\"internal\" href=\"/wiki/%D0%A4%D0%B0%D0%B9%D0%BB:Conor_McGregor_and_Vladimir_Putin.jpg\" title=\"Увеличить\"/></div><center>Конор Макгрегор и <a href=\"/wiki/%D0%9F%D1%83%D1%82%D0%B8%D0%BD,_%D0%92%D0%BB%D0%B0%D0%B4%D0%B8%D0%BC%D0%B8%D1%80_%D0%92%D0%BB%D0%B0%D0%B4%D0%B8%D0%BC%D0%B8%D1%80%D0%BE%D0%B2%D0%B8%D1%87\" title=\"Путин, Владимир Владимирович\">Владимир Путин</a><br/> (в перерыве <a href=\"/wiki/%D0%A4%D0%B8%D0%BD%D0%B0%D0%BB_%D1%87%D0%B5%D0%BC%D0%BF%D0%B8%D0%BE%D0%BD%D0%B0%D1%82%D0%B0_%D0%BC%D0%B8%D1%80%D0%B0_%D0%BF%D0%BE_%D1%84%D1%83%D1%82%D0%B1%D0%BE%D0%BB%D1%83_2018\" title=\"Финал чемпионата мира по футболу 2018\">финального матча</a> <a href=\"/wiki/%D0%A7%D0%B5%D0%BC%D0%BF%D0%B8%D0%BE%D0%BD%D0%B0%D1%82_%D0%BC%D0%B8%D1%80%D0%B0_%D0%BF%D0%BE_%D1%84%D1%83%D1%82%D0%B1%D0%BE%D0%BB%D1%83_2018\" title=\"Чемпионат мира по футболу 2018\">ЧМ по футболу</a> 15 июля 2018 года, <a href=\"/wiki/%D0%9B%D1%83%D0%B6%D0%BD%D0%B8%D0%BA%D0%B8_(%D1%81%D1%82%D0%B0%D0%B4%D0%B8%D0%BE%D0%BD)\" title=\"Лужники (стадион)\">Лужники</a>)</center></div></div></div>\n",
            "<p>19 апреля 2016 года Макгрегор объявил о завершении карьеры, написав об этом в <a href=\"/wiki/%D0%A2%D0%B2%D0%B8%D1%82%D1%82%D0%B5%D1%80\" title=\"Твиттер\">Twitter</a>. «Я решил уйти из спорта молодым. Спасибо всем. Увидимся позже».<sup class=\"reference\" id=\"cite_ref-23\"><a href=\"#cite_note-23\">[23]</a></sup>\n",
            "</p><p>21 апреля 2016 года Макгрегор объявил на своей страничке в <a href=\"/wiki/Facebook\" title=\"Facebook\">Facebook</a><sup class=\"reference\" id=\"cite_ref-24\"><a href=\"#cite_note-24\">[24]</a></sup>, что карьеру завершать не собирается и готов выступить на UFC 200, если ему позволят провести лишь одну пресс-конференцию, а затем вернуться к тренировкам.\n",
            "</p><p>20 августа 2016 года на турнире UFC 202: Diaz vs. Mcgregor 2<sup class=\"reference\" id=\"cite_ref-25\"><a href=\"#cite_note-25\">[25]</a></sup> состоялся реванш с <a href=\"/wiki/%D0%94%D0%B8%D0%B0%D1%81,_%D0%9D%D0%B5%D0%B9%D1%82\" title=\"Диас, Нейт\">Нейтом Диасом</a>, в котором Макгрегор одержал победу решением большинства.\n",
            "</p>\n",
            "<h3><span id=\".D0.A7.D0.B5.D0.BC.D0.BF.D0.B8.D0.BE.D0.BD_.D0.B2_.D0.BB.D1.91.D0.B3.D0.BA.D0.BE.D0.BC_.D0.B2.D0.B5.D1.81.D0.B5\"/><span class=\"mw-headline\" id=\"Чемпион_в_лёгком_весе\">Чемпион в лёгком весе</span></h3>\n",
            "<p>27 сентября, было официально объявлено, что Макгрегор проведет следующий бой против чемпиона в легком весе <a href=\"/wiki/%D0%90%D0%BB%D1%8C%D0%B2%D0%B0%D1%80%D0%B5%D1%81,_%D0%AD%D0%B4%D0%B4%D0%B8\" title=\"Альварес, Эдди\">Эдди Альвареса</a> 12 ноября на <a href=\"/wiki/UFC_205\" title=\"UFC 205\">UFC 205</a><sup class=\"reference\" id=\"cite_ref-:0_26-0\"><a href=\"#cite_note-:0-26\">[26]</a></sup>. Макгрегор победил Альвареса во втором раунде техническим нокаутом и стал первым чемпионом в двух весовых категориях одновременно в истории UFC. Получил шестой бонус «Выступление вечера»<sup class=\"reference\" id=\"cite_ref-27\"><a href=\"#cite_note-27\">[27]</a></sup>.\n",
            "</p><p>26 ноября было объявлено, что из-за бездействия в полулёгком дивизионе, Макгрегор освободил пояс чемпиона, а временный чемпион <a href=\"/wiki/%D0%90%D0%BB%D0%B4%D1%83,_%D0%96%D0%BE%D0%B7%D0%B5\" title=\"Алду, Жозе\">Жозе Алду</a> стал бесспорным чемпионом.<sup class=\"reference\" id=\"cite_ref-28\"><a href=\"#cite_note-28\">[28]</a></sup>\n",
            "</p><p>Завоевав пояс в легком весе на <a href=\"/wiki/UFC_205\" title=\"UFC 205\">UFC 205</a>, МакГрегор объявил, что возьмет перерыв в UFC, чтобы дождаться рождения своего первого ребенка, которое должно произойти в 2017 году<sup class=\"reference\" id=\"cite_ref-29\"><a href=\"#cite_note-29\">[29]</a></sup>.\n",
            "</p>\n",
            "<h3><span id=\".D0.94.D0.B0.D0.BB.D1.8C.D0.BD.D0.B5.D0.B9.D1.88.D0.B0.D1.8F_.D0.BA.D0.B0.D1.80.D1.8C.D0.B5.D1.80.D0.B0_.D0.B2_UFC\"/><span class=\"mw-headline\" id=\"Дальнейшая_карьера_в_UFC\">Дальнейшая карьера в UFC</span></h3>\n",
            "<p>6 октября 2018 года в рамках <a href=\"/wiki/UFC_229\" title=\"UFC 229\">UFC 229</a> потерпел поражение от действующего чемпиона в лёгком весе <a href=\"/wiki/%D0%9D%D1%83%D1%80%D0%BC%D0%B0%D0%B3%D0%BE%D0%BC%D0%B5%D0%B4%D0%BE%D0%B2,_%D0%A5%D0%B0%D0%B1%D0%B8%D0%B1_%D0%90%D0%B1%D0%B4%D1%83%D0%BB%D0%BC%D0%B0%D0%BD%D0%B0%D0%BF%D0%BE%D0%B2%D0%B8%D1%87\" title=\"Нурмагомедов, Хабиб Абдулманапович\">Хабиба Нурмагомедова</a> удушающим приёмом сзади.\n",
            "</p><p>В конце января 2019 года Атлетическая комиссия Невада вынесла вердикт дисквалифицировать Конора Макгрегора на 6 месяцев с выплатой $50 тыс. штрафа за инцидент после боя с <a href=\"/wiki/%D0%9D%D1%83%D1%80%D0%BC%D0%B0%D0%B3%D0%BE%D0%BC%D0%B5%D0%B4%D0%BE%D0%B2,_%D0%A5%D0%B0%D0%B1%D0%B8%D0%B1_%D0%90%D0%B1%D0%B4%D1%83%D0%BB%D0%BC%D0%B0%D0%BD%D0%B0%D0%BF%D0%BE%D0%B2%D0%B8%D1%87\" title=\"Нурмагомедов, Хабиб Абдулманапович\">Хабибом Нурмагомедовым</a> на <a href=\"/wiki/UFC_229\" title=\"UFC 229\">UFC 229</a><sup class=\"reference\" id=\"cite_ref-30\"><a href=\"#cite_note-30\">[30]</a></sup>.\n",
            "</p><p>26 марта 2019 года Конор Макгрегор объявил о завершении карьеры профессионального бойца и о своем желании сосредоточиться на другом бизнесе. Впрочем многие специалисты восприняли данное заявление скептически, так как к этому моменту бой с участием Конора способен собрать кассу только именем, а не статусом профессионального бойца.<sup class=\"reference\" id=\"cite_ref-31\"><a href=\"#cite_note-31\">[31]</a></sup>\n",
            "</p><p>31 марта 2019 года Макгрегор вызвал на поединок голливудского актёра <a href=\"/wiki/%D0%A3%D0%BE%D0%BB%D0%B1%D0%B5%D1%80%D0%B3,_%D0%9C%D0%B0%D1%80%D0%BA\" title=\"Уолберг, Марк\">Марка Уолберга</a><sup class=\"reference\" id=\"cite_ref-32\"><a href=\"#cite_note-32\">[32]</a></sup>.\n",
            "</p><p>В декабре 2019 года <a href=\"/wiki/Ultimate_Fighting_Championship\" title=\"Ultimate Fighting Championship\">UFC</a> официально анонсировал бой Конора Макгрегора с <a href=\"/wiki/%D0%A1%D0%B5%D1%80%D1%80%D0%BE%D0%BD%D0%B5,_%D0%94%D0%BE%D0%BD%D0%B0%D0%BB%D1%8C%D0%B4\" title=\"Серроне, Дональд\">Дональдом Серроне</a> в полусреднем весе в рамках турнира UFC 246, запланированного на 18 января 2020 года<sup class=\"reference\" id=\"cite_ref-33\"><a href=\"#cite_note-33\">[33]</a></sup>. Макгрегор победил «Ковбоя» техническим нокаутом на 41-й секунде 1-го раунда<sup class=\"reference\" id=\"cite_ref-34\"><a href=\"#cite_note-34\">[34]</a></sup>. Этим самым ирландец прервал свой безвыигрышный период, длившийся три с лишним года. На пресс-конференции после боя Конор пожелал провести реванш с <a href=\"/wiki/%D0%9D%D1%83%D1%80%D0%BC%D0%B0%D0%B3%D0%BE%D0%BC%D0%B5%D0%B4%D0%BE%D0%B2,_%D0%A5%D0%B0%D0%B1%D0%B8%D0%B1_%D0%90%D0%B1%D0%B4%D1%83%D0%BB%D0%BC%D0%B0%D0%BD%D0%B0%D0%BF%D0%BE%D0%B2%D0%B8%D1%87\" title=\"Нурмагомедов, Хабиб Абдулманапович\">Хабибом Нурмагомедовым</a> в Москве или у себя в Ирландии<sup class=\"reference\" id=\"cite_ref-35\"><a href=\"#cite_note-35\">[35]</a></sup>.\n",
            "</p><p>6 июня 2020 года Конор Макгрегор в третий раз заявил о завершении профессиональной карьеры. Его не устроил план UFC на его ближайшие бои, так как Дана Уайт отказал Макгрегору в бою против Гэтжи за титул временного чемпиона, а без этого боя Макгрегору было бы очень сложно получить реванш с Нурмагомедовым<sup class=\"reference\" id=\"cite_ref-36\"><a href=\"#cite_note-36\">[36]</a></sup>.\n",
            "</p><p>Несмотря на разговоры о завершении карьеры, Макгрегор подписал контракт на бой с <a href=\"/wiki/%D0%9F%D1%83%D0%B0%D1%80%D1%8C%D0%B5,_%D0%94%D0%B0%D1%81%D1%82%D0%B8%D0%BD\" title=\"Пуарье, Дастин\">Дастином Пуарье</a> на <a href=\"/wiki/UFC_257\" title=\"UFC 257\">UFC 257</a><sup class=\"reference\" id=\"cite_ref-37\"><a href=\"#cite_note-37\">[37]</a></sup>.\n",
            "</p>\n",
            "<h3><span id=\".D0.9F.D1.80.D0.BE.D1.84.D0.B5.D1.81.D1.81.D0.B8.D0.BE.D0.BD.D0.B0.D0.BB.D1.8C.D0.BD.D1.8B.D0.B9_.D0.B1.D0.BE.D0.BA.D1.81\"/><span class=\"mw-headline\" id=\"Профессиональный_бокс\">Профессиональный бокс</span></h3>\n",
            "<p>В мае 2016 года Конор Макгрегор объявил о желании попробовать свои силы в профессиональном боксе<sup class=\"reference\" id=\"cite_ref-38\"><a href=\"#cite_note-38\">[38]</a></sup>. Вскоре после этого пошли разговоры о бое против бывшего лучшего боксера вне зависимости от весовой категории <a href=\"/wiki/%D0%9C%D0%B5%D0%B9%D0%B2%D0%B5%D0%B7%D0%B5%D1%80,_%D0%A4%D0%BB%D0%BE%D0%B9%D0%B4\" title=\"Мейвезер, Флойд\">Флойда Мейвезера</a>. В июле 2017 года стало известно, что бойцы согласовали условия боя<sup class=\"reference\" id=\"cite_ref-39\"><a href=\"#cite_note-39\">[39]</a></sup>.\n",
            "Вскоре состоялся бой, который Макгрегор проиграл.\n",
            "</p>\n",
            "<h4><span id=\".D0.91.D0.BE.D0.B9_.D1.81_.D0.A4.D0.BB.D0.BE.D0.B9.D0.B4.D0.BE.D0.BC_.D0.9C.D0.B5.D0.B9.D0.B2.D0.B5.D0.B7.D0.B5.D1.80.D0.BE.D0.BC\"/><span class=\"mw-headline\" id=\"Бой_с_Флойдом_Мейвезером\">Бой с Флойдом Мейвезером</span></h4>\n",
            "<div class=\"hatnote\">Основная статья: <b><a href=\"/wiki/%D0%A4%D0%BB%D0%BE%D0%B9%D0%B4_%D0%9C%D0%B5%D0%B9%D0%B2%D0%B5%D0%B7%D0%B5%D1%80_%E2%80%94_%D0%9A%D0%BE%D0%BD%D0%BE%D1%80_%D0%9C%D0%B0%D0%BA%D0%B3%D1%80%D0%B5%D0%B3%D0%BE%D1%80\" title=\"Флойд Мейвезер — Конор Макгрегор\">Флойд Мейвезер — Конор Макгрегор</a></b></div><p>Победу одержал Флойд Мейвезер. В десятом раунде после серии ударов Мейвезера рефери остановил бой, что означало победу Мейвезера техническим нокаутом.<sup class=\"reference\" id=\"cite_ref-40\"><a href=\"#cite_note-40\">[40]</a></sup>\n",
            "</p><h3><span class=\"mw-headline\" id=\"UFC_pay-per-views\">UFC <a href=\"/wiki/Pay-per-view\" title=\"Pay-per-view\">pay-per-views</a></span></h3>\n",
            "<table class=\"wikitable\">\n",
            "<tbody><tr>\n",
            "<th>Дата</th>\n",
            "<th>Главное событие</th>\n",
            "<th>Турнир</th>\n",
            "<th>Продажи\n",
            "</th></tr>\n",
            "<tr>\n",
            "<td align=\"center\">11 июля 2015 года\n",
            "</td>\n",
            "<td>Mendes vs. McGregor\n",
            "</td>\n",
            "<td><i><a href=\"/wiki/UFC_189\" title=\"UFC 189\">UFC 189</a></i>\n",
            "</td>\n",
            "<td>825,000<sup class=\"reference\" id=\"cite_ref-:1_41-0\"><a href=\"#cite_note-:1-41\">[41]</a></sup>\n",
            "</td></tr>\n",
            "<tr>\n",
            "<td align=\"center\">12 декабря 2015 года\n",
            "</td>\n",
            "<td>Aldo vs. McGregor\n",
            "</td>\n",
            "<td><i><a href=\"/wiki/UFC_194\" title=\"UFC 194\">UFC 194</a></i>\n",
            "</td>\n",
            "<td>1,200,000<sup class=\"reference\" id=\"cite_ref-:1_41-1\"><a href=\"#cite_note-:1-41\">[41]</a></sup>\n",
            "</td></tr>\n",
            "<tr>\n",
            "<td align=\"center\">5 марта 2016 года\n",
            "</td>\n",
            "<td>McGregor vs. Diaz\n",
            "</td>\n",
            "<td><i><a href=\"/wiki/UFC_196\" title=\"UFC 196\">UFC 196</a></i>\n",
            "</td>\n",
            "<td>1,500,000<sup class=\"reference\" id=\"cite_ref-:2_42-0\"><a href=\"#cite_note-:2-42\">[42]</a></sup>\n",
            "</td></tr>\n",
            "<tr>\n",
            "<td align=\"center\">20 августа 2016 года\n",
            "</td>\n",
            "<td>Diaz vs. McGregor 2\n",
            "</td>\n",
            "<td><i><a href=\"/wiki/UFC_202\" title=\"UFC 202\">UFC 202</a></i>\n",
            "</td>\n",
            "<td>1,650,000<sup class=\"reference\" id=\"cite_ref-:2_42-1\"><a href=\"#cite_note-:2-42\">[42]</a></sup>\n",
            "</td></tr>\n",
            "<tr>\n",
            "<td>12 ноября 2016 года\n",
            "</td>\n",
            "<td>Alvarez vs. McGregor\n",
            "</td>\n",
            "<td><a href=\"/wiki/UFC_205\" title=\"UFC 205\">UFC 205</a>\n",
            "</td>\n",
            "<td>1,300,000<sup class=\"reference\" id=\"cite_ref-:2_42-2\"><a href=\"#cite_note-:2-42\">[42]</a></sup>\n",
            "</td></tr>\n",
            "<tr>\n",
            "<td>6 октября 2018 года\n",
            "</td>\n",
            "<td>Khabib vs. McGregor\n",
            "</td>\n",
            "<td><a href=\"/wiki/UFC_229\" title=\"UFC 229\">UFC 229</a>\n",
            "</td>\n",
            "<td>2,400,000<sup class=\"reference\" id=\"cite_ref-:1_41-2\"><a href=\"#cite_note-:1-41\">[41]</a></sup>\n",
            "</td></tr>\n",
            "<tr>\n",
            "<td>18 января 2020 года\n",
            "</td>\n",
            "<td>McGregor vs. Cowboy\n",
            "</td>\n",
            "<td><a href=\"/wiki/UFC_246:_%D0%9C%D0%B0%D0%BA%D0%93%D1%80%D0%B5%D0%B3%D0%BE%D1%80_vs._%D0%9A%D0%BE%D0%B2%D0%B1%D0%BE%D0%B9\" title=\"UFC 246: МакГрегор vs. Ковбой\">UFC 246</a>\n",
            "</td>\n",
            "<td>1,350,000<sup class=\"reference\" id=\"cite_ref-:1_41-3\"><a href=\"#cite_note-:1-41\">[41]</a></sup>\n",
            "</td></tr>\n",
            "<tr>\n",
            "<td>24 января 2021 года\n",
            "</td>\n",
            "<td>Poirier vs. McGregor 2\n",
            "</td>\n",
            "<td><a href=\"/wiki/UFC_257\" title=\"UFC 257\">UFC 257</a>\n",
            "</td>\n",
            "<td>1.600.000<sup class=\"reference\" id=\"cite_ref-43\"><a href=\"#cite_note-43\">[43]</a></sup>\n",
            "</td></tr>\n",
            "<tr>\n",
            "<th colspan=\"3\">Общий объём продаж\n",
            "</th>\n",
            "<th>11,825,000\n",
            "</th></tr></tbody></table>\n",
            "<h2><span id=\".D0.A1.D1.82.D0.B8.D0.BB.D1.8C_.D0.B2.D0.B5.D0.B4.D0.B5.D0.BD.D0.B8.D1.8F_.D0.B1.D0.BE.D1.8F\"/><span class=\"mw-headline\" id=\"Стиль_ведения_боя\">Стиль ведения боя</span></h2>\n",
            "<table class=\"plainlinks metadata ambox ambox-style\" role=\"presentation\"><tbody><tr><td class=\"mbox-image\"><div style=\"width:52px\"><a class=\"image\" href=\"/wiki/%D0%A4%D0%B0%D0%B9%D0%BB:Broom_icon.svg\"><img alt=\"\" data-file-height=\"400\" data-file-width=\"400\" decoding=\"async\" height=\"40\" src=\"//upload.wikimedia.org/wikipedia/commons/thumb/2/2c/Broom_icon.svg/40px-Broom_icon.svg.png\" srcset=\"//upload.wikimedia.org/wikipedia/commons/thumb/2/2c/Broom_icon.svg/60px-Broom_icon.svg.png 1.5x, //upload.wikimedia.org/wikipedia/commons/thumb/2/2c/Broom_icon.svg/80px-Broom_icon.svg.png 2x\" width=\"40\"/></a></div></td><td class=\"mbox-text\"><div class=\"mbox-text-div\"><b>Стиль этого раздела неэнциклопедичен или нарушает нормы русского языка.</b></div><div class=\"mbox-textsmall-div hide-when-compact\" style=\"font-size:85%\">Следует исправить раздел согласно <a href=\"/wiki/%D0%92%D0%B8%D0%BA%D0%B8%D0%BF%D0%B5%D0%B4%D0%B8%D1%8F:%D0%9F%D1%80%D0%B0%D0%B2%D0%B8%D0%BB%D0%B0_%D0%B8_%D1%83%D0%BA%D0%B0%D0%B7%D0%B0%D0%BD%D0%B8%D1%8F#Язык_и_стиль\" title=\"Википедия:Правила и указания\">стилистическим правилам Википедии</a>.  <i>(8 октября 2018)</i></div></td></tr></tbody></table>\n",
            "<p>Макгрегор — обладатель весьма необычного для мира <a href=\"/wiki/%D0%A1%D0%BC%D0%B5%D1%88%D0%B0%D0%BD%D0%BD%D1%8B%D0%B5_%D0%B1%D0%BE%D0%B5%D0%B2%D1%8B%D0%B5_%D0%B8%D1%81%D0%BA%D1%83%D1%81%D1%81%D1%82%D0%B2%D0%B0\" title=\"Смешанные боевые искусства\">ММА</a> стиля ведения поединка. Известные спортивные аналитики, такие как <a href=\"/wiki/%D0%A0%D0%BE%D0%B3%D0%B0%D0%BD,_%D0%94%D0%B6%D0%BE\" title=\"Роган, Джо\">Джо Роган</a> и <a href=\"/wiki/%D0%9A%D1%80%D1%83%D1%81,_%D0%94%D0%BE%D0%BC%D0%B8%D0%BD%D0%B8%D0%BA\" title=\"Крус, Доминик\">Доминик Крус</a> считают, что Макгрегор обладает своеобразным и весьма эффективным боевым арсеналом<span style=\"background: #ffeaea; color: #444444;\"/><sup class=\"noprint\" style=\"white-space: nowrap\">[<i><a href=\"/wiki/%D0%92%D0%B8%D0%BA%D0%B8%D0%BF%D0%B5%D0%B4%D0%B8%D1%8F:%D0%A1%D1%81%D1%8B%D0%BB%D0%BA%D0%B8_%D0%BD%D0%B0_%D0%B8%D1%81%D1%82%D0%BE%D1%87%D0%BD%D0%B8%D0%BA%D0%B8\" title=\"Википедия:Ссылки на источники\"><span style=\"\" title=\"не указан источник на утверждение (10 февраля 2016)\">источник не указан 1915 дней</span></a></i>]</sup>. Также известен своими уникальными способностями в области <a href=\"/wiki/%D0%91%D0%BE%D0%BA%D1%81\" title=\"Бокс\">бокса</a> и <a href=\"/wiki/%D0%A2%D1%85%D1%8D%D0%BA%D0%B2%D0%BE%D0%BD%D0%B4%D0%BE\" title=\"Тхэквондо\">тхэквондо</a>. Он может выбрасывать мощнейшие удары ногами как в голову, так и в корпус. Обладает нокаутирующим ударом как с левой, так и с правой руки.\n",
            "</p><p>Однако Макгрегор известен не только своими бойцовскими способностями, также он популярен благодаря своим выходкам и поведением вне октагона. Макгрегор никогда не упустит момента для того, чтобы оскорбить, унизить и взбесить своего визави. Перед боем с каким-либо оппонентом он при каждой встрече выливает на него всю «грязь». Его громкие высказывания заставляют обратить на него внимание всех СМИ мира смешанных боевых искусств. Макгрегор умеет «продать» свой бой, привлекая большую аудиторию благодаря грамотной раскрутке поединка.\n",
            "</p>\n",
            "<h2><span id=\".D0.A2.D0.B8.D1.82.D1.83.D0.BB.D1.8B_.D0.B8_.D0.B4.D0.BE.D1.81.D1.82.D0.B8.D0.B6.D0.B5.D0.BD.D0.B8.D1.8F\"/><span class=\"mw-headline\" id=\"Титулы_и_достижения\">Титулы и достижения</span></h2>\n",
            "<ul><li><b><a href=\"/wiki/Ultimate_Fighting_Championship\" title=\"Ultimate Fighting Championship\">Ultimate Fighting Championship</a></b>\n",
            "<ul><li>Временный чемпион UFC в <a href=\"/wiki/%D0%A1%D0%BF%D0%B8%D1%81%D0%BE%D0%BA_%D1%87%D0%B5%D0%BC%D0%BF%D0%B8%D0%BE%D0%BD%D0%BE%D0%B2_UFC#Чемпионы_в_полулёгком_весе\" title=\"Список чемпионов UFC\">полулёгком весе</a> (один раз)</li>\n",
            "<li>Чемпион UFC в <a href=\"/wiki/%D0%A1%D0%BF%D0%B8%D1%81%D0%BE%D0%BA_%D1%87%D0%B5%D0%BC%D0%BF%D0%B8%D0%BE%D0%BD%D0%BE%D0%B2_UFC#Чемпионы_в_полулёгком_весе\" title=\"Список чемпионов UFC\">полулёгком весе</a> (один раз)</li>\n",
            "<li>Чемпион UFC в <a href=\"/wiki/%D0%A1%D0%BF%D0%B8%D1%81%D0%BE%D0%BA_%D1%87%D0%B5%D0%BC%D0%BF%D0%B8%D0%BE%D0%BD%D0%BE%D0%B2_UFC#Чемпионы_в_лёгком_весе\" title=\"Список чемпионов UFC\">лёгком весе</a> (один раз)</li>\n",
            "<li>Обладатель премии «Лучший бой вечера» (два раза) <small>против <a href=\"/wiki/%D0%94%D0%B8%D0%B0%D1%81,_%D0%9D%D0%B5%D0%B9%D1%82\" title=\"Диас, Нейт\">Нейт Диас</a> (2)</small></li>\n",
            "<li>Обладатель премии «Лучший нокаут вечера» (один раз) <small>против <a class=\"new\" href=\"/w/index.php?title=%D0%9C%D0%B0%D1%80%D0%BA%D1%83%D1%81_%D0%91%D1%80%D0%B8%D0%BC%D0%B5%D0%B9%D0%B4%D0%B6&amp;action=edit&amp;redlink=1\" title=\"Маркус Бримейдж (страница отсутствует)\">Маркус Бримейдж</a></small></li>\n",
            "<li>Обладатель премии «Выступление вечера» (семь раз) <small>против <a href=\"/wiki/%D0%91%D1%80%D0%B0%D0%BD%D0%B4%D0%B0%D0%BD,_%D0%94%D0%B8%D0%B5%D0%B3%D1%83\" title=\"Брандан, Диегу\">Диегу Брандан</a>, <a href=\"/wiki/%D0%9F%D1%83%D0%B0%D1%80%D1%8C%D0%B5,_%D0%94%D0%B0%D1%81%D1%82%D0%B8%D0%BD\" title=\"Пуарье, Дастин\">Дастин Пуарье</a>, <a href=\"/wiki/%D0%97%D0%B8%D1%84%D0%B5%D1%80,_%D0%94%D0%B5%D0%BD%D0%BD%D0%B8%D1%81\" title=\"Зифер, Деннис\">Деннис Зифер</a>, <a href=\"/wiki/%D0%9C%D0%B5%D0%BD%D0%B4%D0%B5%D1%81,_%D0%A7%D0%B5%D0%B4\" title=\"Мендес, Чед\">Чед Мендес</a>, <a href=\"/wiki/%D0%90%D0%BB%D0%B4%D1%83,_%D0%96%D0%BE%D0%B7%D0%B5\" title=\"Алду, Жозе\">Жозе Алду</a>, <a href=\"/wiki/%D0%90%D0%BB%D1%8C%D0%B2%D0%B0%D1%80%D0%B5%D1%81,_%D0%AD%D0%B4%D0%B4%D0%B8\" title=\"Альварес, Эдди\">Эдди Альварес</a>, <a href=\"/wiki/%D0%A1%D0%B5%D1%80%D1%80%D0%BE%D0%BD%D0%B5,_%D0%94%D0%BE%D0%BD%D0%B0%D0%BB%D1%8C%D0%B4\" title=\"Серроне, Дональд\">Дональд Серроне</a></small></li></ul></li>\n",
            "<li><b>Cage Warriors Fighting Championship</b>\n",
            "<ul><li>Чемпион CWFC в полулёгком весе (один раз)</li>\n",
            "<li>Чемпион CWFC в лёгком весе (один раз)</li></ul></li></ul>\n",
            "<h2><span id=\".D0.A1.D1.82.D0.B0.D1.82.D0.B8.D1.81.D1.82.D0.B8.D0.BA.D0.B0_.D0.B2_.D1.81.D0.BC.D0.B5.D1.88.D0.B0.D0.BD.D0.BD.D1.8B.D1.85_.D0.B5.D0.B4.D0.B8.D0.BD.D0.BE.D0.B1.D0.BE.D1.80.D1.81.D1.82.D0.B2.D0.B0.D1.85\"/><span class=\"mw-headline\" id=\"Статистика_в_смешанных_единоборствах\">Статистика в смешанных единоборствах</span></h2>\n",
            "<table class=\"wikitable collapsible collapsed\" style=\"font-size:90%\">\n",
            "<tbody><tr>\n",
            "<td colspan=\"2\" style=\"background:#edf1f1;border-style:none none none none;text-align:center;text-style:normal\"><b>Профессиональная карьера бойца (итог)</b>\n",
            "</td>\n",
            "<th style=\"background:#edf1f1;border-style:none none none none;\">\n",
            "</th></tr>\n",
            "<tr>\n",
            "<td style=\"background:#e3e3e3;text-align:center\"><b>Боёв 27</b>\n",
            "</td>\n",
            "<td style=\"background:#e3e3e3;text-align:center\"><b>Побед 22</b>\n",
            "</td>\n",
            "<td style=\"background:#e3e3e3;text-align:center\"><b>Поражений 5</b>\n",
            "</td></tr>\n",
            "<tr>\n",
            "<td style=\"background:#e3e3e3;text-align:left\"><b>Нокаутом</b>\n",
            "</td>\n",
            "<td align=\"center\" class=\"table-yes2\" style=\"background:#bfd; color:black; vertical-align:middle; text-align:center;\">19\n",
            "</td>\n",
            "<td align=\"center\" class=\"table-no2\" style=\"background: #ffdddd; color: black; vertical-align: middle; text-align: center;\">1\n",
            "</td></tr>\n",
            "<tr>\n",
            "<td style=\"background:#e3e3e3;text-align:left\"><b>Сдачей</b>\n",
            "</td>\n",
            "<td align=\"center\" class=\"table-yes2\" style=\"background:#bfd; color:black; vertical-align:middle; text-align:center;\">1\n",
            "</td>\n",
            "<td align=\"center\" class=\"table-no2\" style=\"background: #ffdddd; color: black; vertical-align: middle; text-align: center;\">4\n",
            "</td></tr>\n",
            "<tr>\n",
            "<td style=\"background:#e3e3e3;text-align:left\"><b>Решением</b>\n",
            "</td>\n",
            "<td align=\"center\" class=\"table-yes2\" style=\"background:#bfd; color:black; vertical-align:middle; text-align:center;\">2\n",
            "</td>\n",
            "<td align=\"center\" class=\"table-no2\" style=\"background: #ffdddd; color: black; vertical-align: middle; text-align: center;\">0\n",
            "</td></tr>\n",
            "</tbody></table>\n",
            "<table class=\"wikitable\" style=\"font-size: 85%;\">\n",
            "<tbody><tr>\n",
            "<th>Результат\n",
            "</th>\n",
            "<th>Рекорд\n",
            "</th>\n",
            "<th>Соперник\n",
            "</th>\n",
            "<th>Способ\n",
            "</th>\n",
            "<th>Турнир\n",
            "</th>\n",
            "<th>Дата\n",
            "</th>\n",
            "<th>Раунд\n",
            "</th>\n",
            "<th>Время\n",
            "</th>\n",
            "<th>Место\n",
            "</th>\n",
            "<th>Примечание\n",
            "</th></tr>\n",
            "<tr>\n",
            "<td class=\"table-no2\" style=\"background: #ffdddd; color: black; vertical-align: middle; text-align: center;\">Поражение\n",
            "</td>\n",
            "<td align=\"center\">22-5\n",
            "</td>\n",
            "<td><span class=\"flagicon\"><a class=\"image\" href=\"/wiki/%D0%A4%D0%B0%D0%B9%D0%BB:Flag_of_the_United_States.svg\" title=\"Соединённые Штаты Америки\"><img alt=\"Соединённые Штаты Америки\" class=\"thumbborder\" data-file-height=\"650\" data-file-width=\"1235\" decoding=\"async\" height=\"12\" src=\"//upload.wikimedia.org/wikipedia/commons/thumb/a/a4/Flag_of_the_United_States.svg/22px-Flag_of_the_United_States.svg.png\" srcset=\"//upload.wikimedia.org/wikipedia/commons/thumb/a/a4/Flag_of_the_United_States.svg/33px-Flag_of_the_United_States.svg.png 1.5x, //upload.wikimedia.org/wikipedia/commons/thumb/a/a4/Flag_of_the_United_States.svg/44px-Flag_of_the_United_States.svg.png 2x\" width=\"22\"/></a></span> <a href=\"/wiki/%D0%9F%D1%83%D0%B0%D1%80%D1%8C%D0%B5,_%D0%94%D0%B0%D1%81%D1%82%D0%B8%D0%BD\" title=\"Пуарье, Дастин\">Дастин Пуарье</a>\n",
            "</td>\n",
            "<td>Технический нокаут (удары)\n",
            "</td>\n",
            "<td><a href=\"/wiki/UFC_257\" title=\"UFC 257\">UFC 257: Poirier vs McGregor 2</a>\n",
            "</td>\n",
            "<td><span data-sort-value=\"000000002021-01-23-0000\" style=\"white-space:nowrap\">23 января 2021</span>\n",
            "</td>\n",
            "<td align=\"center\">2\n",
            "</td>\n",
            "<td align=\"center\">2:32\n",
            "</td>\n",
            "<td><span class=\"flagicon\"><a class=\"image\" href=\"/wiki/%D0%A4%D0%B0%D0%B9%D0%BB:Flag_of_the_United_Arab_Emirates.svg\" title=\"Объединённые Арабские Эмираты\"><img alt=\"Объединённые Арабские Эмираты\" class=\"thumbborder\" data-file-height=\"600\" data-file-width=\"1200\" decoding=\"async\" height=\"11\" src=\"//upload.wikimedia.org/wikipedia/commons/thumb/c/cb/Flag_of_the_United_Arab_Emirates.svg/22px-Flag_of_the_United_Arab_Emirates.svg.png\" srcset=\"//upload.wikimedia.org/wikipedia/commons/thumb/c/cb/Flag_of_the_United_Arab_Emirates.svg/33px-Flag_of_the_United_Arab_Emirates.svg.png 1.5x, //upload.wikimedia.org/wikipedia/commons/thumb/c/cb/Flag_of_the_United_Arab_Emirates.svg/44px-Flag_of_the_United_Arab_Emirates.svg.png 2x\" width=\"22\"/></a></span> <a href=\"/wiki/%D0%90%D0%B1%D1%83-%D0%94%D0%B0%D0%B1%D0%B8\" title=\"Абу-Даби\">Абу-Даби</a>, <a class=\"mw-redirect\" href=\"/wiki/%D0%9E%D0%90%D0%AD\" title=\"ОАЭ\">ОАЭ</a>\n",
            "</td>\n",
            "<td><small>Бой в легком весе. Выступление вечера</small>\n",
            "</td></tr>\n",
            "<tr>\n",
            "<td class=\"table-yes2\" style=\"background:#bfd; color:black; vertical-align:middle; text-align:center;\">Победа\n",
            "</td>\n",
            "<td align=\"center\">22-4\n",
            "</td>\n",
            "<td><span class=\"flagicon\"><a class=\"image\" href=\"/wiki/%D0%A4%D0%B0%D0%B9%D0%BB:Flag_of_the_United_States.svg\" title=\"Соединённые Штаты Америки\"><img alt=\"Соединённые Штаты Америки\" class=\"thumbborder\" data-file-height=\"650\" data-file-width=\"1235\" decoding=\"async\" height=\"12\" src=\"//upload.wikimedia.org/wikipedia/commons/thumb/a/a4/Flag_of_the_United_States.svg/22px-Flag_of_the_United_States.svg.png\" srcset=\"//upload.wikimedia.org/wikipedia/commons/thumb/a/a4/Flag_of_the_United_States.svg/33px-Flag_of_the_United_States.svg.png 1.5x, //upload.wikimedia.org/wikipedia/commons/thumb/a/a4/Flag_of_the_United_States.svg/44px-Flag_of_the_United_States.svg.png 2x\" width=\"22\"/></a></span> <a href=\"/wiki/%D0%A1%D0%B5%D1%80%D1%80%D0%BE%D0%BD%D0%B5,_%D0%94%D0%BE%D0%BD%D0%B0%D0%BB%D1%8C%D0%B4\" title=\"Серроне, Дональд\">Дональд Серроне</a>\n",
            "</td>\n",
            "<td>Технический нокаут (удары)\n",
            "</td>\n",
            "<td><a class=\"mw-redirect\" href=\"/wiki/UFC_246\" title=\"UFC 246\">UFC 246: McGregor vs. Cowboy</a>\n",
            "</td>\n",
            "<td><span data-sort-value=\"000000002020-01-18-0000\" style=\"white-space:nowrap\">18 января 2020</span>\n",
            "</td>\n",
            "<td align=\"center\">1\n",
            "</td>\n",
            "<td align=\"center\">0:40\n",
            "</td>\n",
            "<td><a class=\"image\" href=\"/wiki/%D0%A4%D0%B0%D0%B9%D0%BB:Flag_of_the_United_States.svg\" title=\"Флаг США\"><img alt=\"Флаг США\" class=\"thumbborder\" data-file-height=\"650\" data-file-width=\"1235\" decoding=\"async\" height=\"12\" src=\"//upload.wikimedia.org/wikipedia/commons/thumb/a/a4/Flag_of_the_United_States.svg/22px-Flag_of_the_United_States.svg.png\" srcset=\"//upload.wikimedia.org/wikipedia/commons/thumb/a/a4/Flag_of_the_United_States.svg/33px-Flag_of_the_United_States.svg.png 1.5x, //upload.wikimedia.org/wikipedia/commons/thumb/a/a4/Flag_of_the_United_States.svg/44px-Flag_of_the_United_States.svg.png 2x\" width=\"22\"/></a> <a href=\"/wiki/%D0%9B%D0%B0%D1%81-%D0%92%D0%B5%D0%B3%D0%B0%D1%81\" title=\"Лас-Вегас\">Лас-Вегас</a>, <a href=\"/wiki/%D0%9D%D0%B5%D0%B2%D0%B0%D0%B4%D0%B0\" title=\"Невада\">Невада</a>, <a class=\"mw-redirect\" href=\"/wiki/%D0%A1%D0%A8%D0%90\" title=\"США\">США</a>\n",
            "</td>\n",
            "<td><small>Бой в полусреднем весе. Выступление вечера.</small>\n",
            "</td></tr>\n",
            "<tr>\n",
            "<td class=\"table-no2\" style=\"background: #ffdddd; color: black; vertical-align: middle; text-align: center;\">Поражение\n",
            "</td>\n",
            "<td align=\"center\">21-4\n",
            "</td>\n",
            "<td><span class=\"flagicon\"><a class=\"image\" href=\"/wiki/%D0%A4%D0%B0%D0%B9%D0%BB:Flag_of_Russia.svg\" title=\"Россия\"><img alt=\"Россия\" class=\"thumbborder\" data-file-height=\"600\" data-file-width=\"900\" decoding=\"async\" height=\"15\" src=\"//upload.wikimedia.org/wikipedia/commons/thumb/f/f3/Flag_of_Russia.svg/22px-Flag_of_Russia.svg.png\" srcset=\"//upload.wikimedia.org/wikipedia/commons/thumb/f/f3/Flag_of_Russia.svg/33px-Flag_of_Russia.svg.png 1.5x, //upload.wikimedia.org/wikipedia/commons/thumb/f/f3/Flag_of_Russia.svg/44px-Flag_of_Russia.svg.png 2x\" width=\"22\"/></a></span> <a href=\"/wiki/%D0%9D%D1%83%D1%80%D0%BC%D0%B0%D0%B3%D0%BE%D0%BC%D0%B5%D0%B4%D0%BE%D0%B2,_%D0%A5%D0%B0%D0%B1%D0%B8%D0%B1_%D0%90%D0%B1%D0%B4%D1%83%D0%BB%D0%BC%D0%B0%D0%BD%D0%B0%D0%BF%D0%BE%D0%B2%D0%B8%D1%87\" title=\"Нурмагомедов, Хабиб Абдулманапович\">Хабиб Нурмагомедов</a>\n",
            "</td>\n",
            "<td>Болевой приём (залом шеи)\n",
            "</td>\n",
            "<td><a href=\"/wiki/UFC_229\" title=\"UFC 229\">UFC 229: Khabib vs. McGregor</a>\n",
            "</td>\n",
            "<td><span data-sort-value=\"000000002018-10-06-0000\" style=\"white-space:nowrap\">6 октября 2018</span>\n",
            "</td>\n",
            "<td align=\"center\">4\n",
            "</td>\n",
            "<td align=\"center\">3:03\n",
            "</td>\n",
            "<td><a class=\"image\" href=\"/wiki/%D0%A4%D0%B0%D0%B9%D0%BB:Flag_of_the_United_States.svg\" title=\"Флаг США\"><img alt=\"Флаг США\" class=\"thumbborder\" data-file-height=\"650\" data-file-width=\"1235\" decoding=\"async\" height=\"12\" src=\"//upload.wikimedia.org/wikipedia/commons/thumb/a/a4/Flag_of_the_United_States.svg/22px-Flag_of_the_United_States.svg.png\" srcset=\"//upload.wikimedia.org/wikipedia/commons/thumb/a/a4/Flag_of_the_United_States.svg/33px-Flag_of_the_United_States.svg.png 1.5x, //upload.wikimedia.org/wikipedia/commons/thumb/a/a4/Flag_of_the_United_States.svg/44px-Flag_of_the_United_States.svg.png 2x\" width=\"22\"/></a> <a href=\"/wiki/%D0%9B%D0%B0%D1%81-%D0%92%D0%B5%D0%B3%D0%B0%D1%81\" title=\"Лас-Вегас\">Лас-Вегас</a>, <a href=\"/wiki/%D0%9D%D0%B5%D0%B2%D0%B0%D0%B4%D0%B0\" title=\"Невада\">Невада</a>, <a class=\"mw-redirect\" href=\"/wiki/%D0%A1%D0%A8%D0%90\" title=\"США\">США</a>\n",
            "</td>\n",
            "<td><small>Бой за <a href=\"/wiki/%D0%A1%D0%BF%D0%B8%D1%81%D0%BE%D0%BA_%D1%87%D0%B5%D0%BC%D0%BF%D0%B8%D0%BE%D0%BD%D0%BE%D0%B2_UFC#Чемпионы_в_лёгком_весе\" title=\"Список чемпионов UFC\">титул чемпиона UFC</a> в лёгком весе.</small>\n",
            "</td></tr>\n",
            "<tr>\n",
            "<td class=\"table-yes2\" style=\"background:#bfd; color:black; vertical-align:middle; text-align:center;\">Победа\n",
            "</td>\n",
            "<td align=\"center\">21-3\n",
            "</td>\n",
            "<td><span class=\"flagicon\"><a class=\"image\" href=\"/wiki/%D0%A4%D0%B0%D0%B9%D0%BB:Flag_of_the_United_States.svg\" title=\"Соединённые Штаты Америки\"><img alt=\"Соединённые Штаты Америки\" class=\"thumbborder\" data-file-height=\"650\" data-file-width=\"1235\" decoding=\"async\" height=\"12\" src=\"//upload.wikimedia.org/wikipedia/commons/thumb/a/a4/Flag_of_the_United_States.svg/22px-Flag_of_the_United_States.svg.png\" srcset=\"//upload.wikimedia.org/wikipedia/commons/thumb/a/a4/Flag_of_the_United_States.svg/33px-Flag_of_the_United_States.svg.png 1.5x, //upload.wikimedia.org/wikipedia/commons/thumb/a/a4/Flag_of_the_United_States.svg/44px-Flag_of_the_United_States.svg.png 2x\" width=\"22\"/></a></span> <a href=\"/wiki/%D0%90%D0%BB%D1%8C%D0%B2%D0%B0%D1%80%D0%B5%D1%81,_%D0%AD%D0%B4%D0%B4%D0%B8\" title=\"Альварес, Эдди\">Эдди Альварес</a>\n",
            "</td>\n",
            "<td>Технический нокаут (удары)\n",
            "</td>\n",
            "<td><a href=\"/wiki/UFC_205\" title=\"UFC 205\">UFC 205: Alvarez vs. McGregor</a>\n",
            "</td>\n",
            "<td><span data-sort-value=\"000000002016-11-12-0000\" style=\"white-space:nowrap\">12 ноября 2016</span>\n",
            "</td>\n",
            "<td align=\"center\">2\n",
            "</td>\n",
            "<td align=\"center\">3:04\n",
            "</td>\n",
            "<td><a class=\"image\" href=\"/wiki/%D0%A4%D0%B0%D0%B9%D0%BB:Flag_of_the_United_States.svg\" title=\"Флаг США\"><img alt=\"Флаг США\" class=\"thumbborder\" data-file-height=\"650\" data-file-width=\"1235\" decoding=\"async\" height=\"12\" src=\"//upload.wikimedia.org/wikipedia/commons/thumb/a/a4/Flag_of_the_United_States.svg/22px-Flag_of_the_United_States.svg.png\" srcset=\"//upload.wikimedia.org/wikipedia/commons/thumb/a/a4/Flag_of_the_United_States.svg/33px-Flag_of_the_United_States.svg.png 1.5x, //upload.wikimedia.org/wikipedia/commons/thumb/a/a4/Flag_of_the_United_States.svg/44px-Flag_of_the_United_States.svg.png 2x\" width=\"22\"/></a> <a href=\"/wiki/%D0%9D%D1%8C%D1%8E-%D0%99%D0%BE%D1%80%D0%BA\" title=\"Нью-Йорк\">Нью-Йорк</a>, <a href=\"/wiki/%D0%9D%D1%8C%D1%8E-%D0%99%D0%BE%D1%80%D0%BA_(%D1%88%D1%82%D0%B0%D1%82)\" title=\"Нью-Йорк (штат)\">Нью-Йорк</a> <a class=\"mw-redirect\" href=\"/wiki/%D0%A1%D0%A8%D0%90\" title=\"США\">США</a>\n",
            "</td>\n",
            "<td><small>Завоевал <a href=\"/wiki/%D0%A1%D0%BF%D0%B8%D1%81%D0%BE%D0%BA_%D1%87%D0%B5%D0%BC%D0%BF%D0%B8%D0%BE%D0%BD%D0%BE%D0%B2_UFC#Чемпионы_в_лёгком_весе\" title=\"Список чемпионов UFC\">титул чемпиона UFC</a> в лёгком весе.<br/>Выступление вечера.</small>\n",
            "</td></tr>\n",
            "<tr>\n",
            "<td class=\"table-yes2\" style=\"background:#bfd; color:black; vertical-align:middle; text-align:center;\">Победа\n",
            "</td>\n",
            "<td align=\"center\">20-3\n",
            "</td>\n",
            "<td><span class=\"flagicon\"><a class=\"image\" href=\"/wiki/%D0%A4%D0%B0%D0%B9%D0%BB:Flag_of_the_United_States.svg\" title=\"Соединённые Штаты Америки\"><img alt=\"Соединённые Штаты Америки\" class=\"thumbborder\" data-file-height=\"650\" data-file-width=\"1235\" decoding=\"async\" height=\"12\" src=\"//upload.wikimedia.org/wikipedia/commons/thumb/a/a4/Flag_of_the_United_States.svg/22px-Flag_of_the_United_States.svg.png\" srcset=\"//upload.wikimedia.org/wikipedia/commons/thumb/a/a4/Flag_of_the_United_States.svg/33px-Flag_of_the_United_States.svg.png 1.5x, //upload.wikimedia.org/wikipedia/commons/thumb/a/a4/Flag_of_the_United_States.svg/44px-Flag_of_the_United_States.svg.png 2x\" width=\"22\"/></a></span> <a href=\"/wiki/%D0%94%D0%B8%D0%B0%D1%81,_%D0%9D%D0%B5%D0%B9%D1%82\" title=\"Диас, Нейт\">Нейт Диас</a>\n",
            "</td>\n",
            "<td>Решение большинства\n",
            "</td>\n",
            "<td><a href=\"/wiki/UFC_202\" title=\"UFC 202\">UFC 202: Diaz vs. McGregor 2</a>\n",
            "</td>\n",
            "<td><span data-sort-value=\"000000002016-08-20-0000\" style=\"white-space:nowrap\">20 августа 2016</span>\n",
            "</td>\n",
            "<td align=\"center\">5\n",
            "</td>\n",
            "<td align=\"center\">5:00\n",
            "</td>\n",
            "<td><a class=\"image\" href=\"/wiki/%D0%A4%D0%B0%D0%B9%D0%BB:Flag_of_the_United_States.svg\" title=\"Флаг США\"><img alt=\"Флаг США\" class=\"thumbborder\" data-file-height=\"650\" data-file-width=\"1235\" decoding=\"async\" height=\"12\" src=\"//upload.wikimedia.org/wikipedia/commons/thumb/a/a4/Flag_of_the_United_States.svg/22px-Flag_of_the_United_States.svg.png\" srcset=\"//upload.wikimedia.org/wikipedia/commons/thumb/a/a4/Flag_of_the_United_States.svg/33px-Flag_of_the_United_States.svg.png 1.5x, //upload.wikimedia.org/wikipedia/commons/thumb/a/a4/Flag_of_the_United_States.svg/44px-Flag_of_the_United_States.svg.png 2x\" width=\"22\"/></a> <a href=\"/wiki/%D0%9B%D0%B0%D1%81-%D0%92%D0%B5%D0%B3%D0%B0%D1%81\" title=\"Лас-Вегас\">Лас-Вегас</a>, <a href=\"/wiki/%D0%9D%D0%B5%D0%B2%D0%B0%D0%B4%D0%B0\" title=\"Невада\">Невада</a>, <a class=\"mw-redirect\" href=\"/wiki/%D0%A1%D0%A8%D0%90\" title=\"США\">США</a>\n",
            "</td>\n",
            "<td><span style=\"font-size:85%;\">Бой в полусреднем весе. Лучший бой вечера.</span>\n",
            "</td></tr>\n",
            "<tr>\n",
            "<td class=\"table-no2\" style=\"background: #ffdddd; color: black; vertical-align: middle; text-align: center;\">Поражение\n",
            "</td>\n",
            "<td align=\"center\">19-3\n",
            "</td>\n",
            "<td><span class=\"flagicon\"><a class=\"image\" href=\"/wiki/%D0%A4%D0%B0%D0%B9%D0%BB:Flag_of_the_United_States.svg\" title=\"Соединённые Штаты Америки\"><img alt=\"Соединённые Штаты Америки\" class=\"thumbborder\" data-file-height=\"650\" data-file-width=\"1235\" decoding=\"async\" height=\"12\" src=\"//upload.wikimedia.org/wikipedia/commons/thumb/a/a4/Flag_of_the_United_States.svg/22px-Flag_of_the_United_States.svg.png\" srcset=\"//upload.wikimedia.org/wikipedia/commons/thumb/a/a4/Flag_of_the_United_States.svg/33px-Flag_of_the_United_States.svg.png 1.5x, //upload.wikimedia.org/wikipedia/commons/thumb/a/a4/Flag_of_the_United_States.svg/44px-Flag_of_the_United_States.svg.png 2x\" width=\"22\"/></a></span> <a href=\"/wiki/%D0%94%D0%B8%D0%B0%D1%81,_%D0%9D%D0%B5%D0%B9%D1%82\" title=\"Диас, Нейт\">Нейт Диас</a>\n",
            "</td>\n",
            "<td>Удушающий приём (сзади)\n",
            "</td>\n",
            "<td><a href=\"/wiki/UFC_196\" title=\"UFC 196\">UFC 196: McGregor vs. Diaz</a>\n",
            "</td>\n",
            "<td><span data-sort-value=\"000000002016-03-05-0000\" style=\"white-space:nowrap\">5 марта 2016</span>\n",
            "</td>\n",
            "<td align=\"center\">2\n",
            "</td>\n",
            "<td align=\"center\">4:12\n",
            "</td>\n",
            "<td><a class=\"image\" href=\"/wiki/%D0%A4%D0%B0%D0%B9%D0%BB:Flag_of_the_United_States.svg\" title=\"Флаг США\"><img alt=\"Флаг США\" class=\"thumbborder\" data-file-height=\"650\" data-file-width=\"1235\" decoding=\"async\" height=\"12\" src=\"//upload.wikimedia.org/wikipedia/commons/thumb/a/a4/Flag_of_the_United_States.svg/22px-Flag_of_the_United_States.svg.png\" srcset=\"//upload.wikimedia.org/wikipedia/commons/thumb/a/a4/Flag_of_the_United_States.svg/33px-Flag_of_the_United_States.svg.png 1.5x, //upload.wikimedia.org/wikipedia/commons/thumb/a/a4/Flag_of_the_United_States.svg/44px-Flag_of_the_United_States.svg.png 2x\" width=\"22\"/></a> <a href=\"/wiki/%D0%9B%D0%B0%D1%81-%D0%92%D0%B5%D0%B3%D0%B0%D1%81\" title=\"Лас-Вегас\">Лас-Вегас</a>, <a href=\"/wiki/%D0%9D%D0%B5%D0%B2%D0%B0%D0%B4%D0%B0\" title=\"Невада\">Невада</a>, <a class=\"mw-redirect\" href=\"/wiki/%D0%A1%D0%A8%D0%90\" title=\"США\">США</a>\n",
            "</td>\n",
            "<td><small>Дебют в полусреднем весе. Лучший бой вечера.</small>\n",
            "</td></tr>\n",
            "<tr>\n",
            "<td class=\"table-yes2\" style=\"background:#bfd; color:black; vertical-align:middle; text-align:center;\">Победа\n",
            "</td>\n",
            "<td align=\"center\">19-2\n",
            "</td>\n",
            "<td><span class=\"flagicon\"><a class=\"image\" href=\"/wiki/%D0%A4%D0%B0%D0%B9%D0%BB:Flag_of_Brazil.svg\" title=\"Бразилия\"><img alt=\"Бразилия\" class=\"thumbborder\" data-file-height=\"504\" data-file-width=\"720\" decoding=\"async\" height=\"15\" src=\"//upload.wikimedia.org/wikipedia/commons/thumb/0/05/Flag_of_Brazil.svg/22px-Flag_of_Brazil.svg.png\" srcset=\"//upload.wikimedia.org/wikipedia/commons/thumb/0/05/Flag_of_Brazil.svg/33px-Flag_of_Brazil.svg.png 1.5x, //upload.wikimedia.org/wikipedia/commons/thumb/0/05/Flag_of_Brazil.svg/44px-Flag_of_Brazil.svg.png 2x\" width=\"22\"/></a></span> <a href=\"/wiki/%D0%90%D0%BB%D0%B4%D1%83,_%D0%96%D0%BE%D0%B7%D0%B5\" title=\"Алду, Жозе\">Жозе Алду</a>\n",
            "</td>\n",
            "<td>Нокаут (удар)\n",
            "</td>\n",
            "<td><a href=\"/wiki/UFC_194\" title=\"UFC 194\">UFC 194: Aldo vs. McGregor</a>\n",
            "</td>\n",
            "<td><span data-sort-value=\"000000002015-12-12-0000\" style=\"white-space:nowrap\">12 декабря 2015</span>\n",
            "</td>\n",
            "<td align=\"center\">1\n",
            "</td>\n",
            "<td align=\"center\">0:13\n",
            "</td>\n",
            "<td><a class=\"image\" href=\"/wiki/%D0%A4%D0%B0%D0%B9%D0%BB:Flag_of_the_United_States.svg\" title=\"Флаг США\"><img alt=\"Флаг США\" class=\"thumbborder\" data-file-height=\"650\" data-file-width=\"1235\" decoding=\"async\" height=\"12\" src=\"//upload.wikimedia.org/wikipedia/commons/thumb/a/a4/Flag_of_the_United_States.svg/22px-Flag_of_the_United_States.svg.png\" srcset=\"//upload.wikimedia.org/wikipedia/commons/thumb/a/a4/Flag_of_the_United_States.svg/33px-Flag_of_the_United_States.svg.png 1.5x, //upload.wikimedia.org/wikipedia/commons/thumb/a/a4/Flag_of_the_United_States.svg/44px-Flag_of_the_United_States.svg.png 2x\" width=\"22\"/></a> <a href=\"/wiki/%D0%9B%D0%B0%D1%81-%D0%92%D0%B5%D0%B3%D0%B0%D1%81\" title=\"Лас-Вегас\">Лас-Вегас</a>, <a href=\"/wiki/%D0%9D%D0%B5%D0%B2%D0%B0%D0%B4%D0%B0\" title=\"Невада\">Невада</a>, <a class=\"mw-redirect\" href=\"/wiki/%D0%A1%D0%A8%D0%90\" title=\"США\">США</a>\n",
            "</td>\n",
            "<td><small>Объединил <a href=\"/wiki/%D0%A1%D0%BF%D0%B8%D1%81%D0%BE%D0%BA_%D1%87%D0%B5%D0%BC%D0%BF%D0%B8%D0%BE%D0%BD%D0%BE%D0%B2_UFC#Чемпионы_в_полулёгком_весе\" title=\"Список чемпионов UFC\">титул чемпиона UFC</a> в полулёгком весе.<br/>Выступление вечера.</small>\n",
            "</td></tr>\n",
            "<tr>\n",
            "<td class=\"table-yes2\" style=\"background:#bfd; color:black; vertical-align:middle; text-align:center;\">Победа\n",
            "</td>\n",
            "<td align=\"center\">18-2\n",
            "</td>\n",
            "<td><span class=\"flagicon\"><a class=\"image\" href=\"/wiki/%D0%A4%D0%B0%D0%B9%D0%BB:Flag_of_the_United_States.svg\" title=\"Соединённые Штаты Америки\"><img alt=\"Соединённые Штаты Америки\" class=\"thumbborder\" data-file-height=\"650\" data-file-width=\"1235\" decoding=\"async\" height=\"12\" src=\"//upload.wikimedia.org/wikipedia/commons/thumb/a/a4/Flag_of_the_United_States.svg/22px-Flag_of_the_United_States.svg.png\" srcset=\"//upload.wikimedia.org/wikipedia/commons/thumb/a/a4/Flag_of_the_United_States.svg/33px-Flag_of_the_United_States.svg.png 1.5x, //upload.wikimedia.org/wikipedia/commons/thumb/a/a4/Flag_of_the_United_States.svg/44px-Flag_of_the_United_States.svg.png 2x\" width=\"22\"/></a></span> <a href=\"/wiki/%D0%9C%D0%B5%D0%BD%D0%B4%D0%B5%D1%81,_%D0%A7%D0%B5%D0%B4\" title=\"Мендес, Чед\">Чед Мендес</a>\n",
            "</td>\n",
            "<td>Технический нокаут (удары)\n",
            "</td>\n",
            "<td><a href=\"/wiki/UFC_189\" title=\"UFC 189\">UFC 189: Mendes vs. McGregor</a>\n",
            "</td>\n",
            "<td><span data-sort-value=\"000000002015-07-11-0000\" style=\"white-space:nowrap\">11 июля 2015</span>\n",
            "</td>\n",
            "<td align=\"center\">2\n",
            "</td>\n",
            "<td align=\"center\">4:57\n",
            "</td>\n",
            "<td><a class=\"image\" href=\"/wiki/%D0%A4%D0%B0%D0%B9%D0%BB:Flag_of_the_United_States.svg\" title=\"Флаг США\"><img alt=\"Флаг США\" class=\"thumbborder\" data-file-height=\"650\" data-file-width=\"1235\" decoding=\"async\" height=\"12\" src=\"//upload.wikimedia.org/wikipedia/commons/thumb/a/a4/Flag_of_the_United_States.svg/22px-Flag_of_the_United_States.svg.png\" srcset=\"//upload.wikimedia.org/wikipedia/commons/thumb/a/a4/Flag_of_the_United_States.svg/33px-Flag_of_the_United_States.svg.png 1.5x, //upload.wikimedia.org/wikipedia/commons/thumb/a/a4/Flag_of_the_United_States.svg/44px-Flag_of_the_United_States.svg.png 2x\" width=\"22\"/></a> <a href=\"/wiki/%D0%9B%D0%B0%D1%81-%D0%92%D0%B5%D0%B3%D0%B0%D1%81\" title=\"Лас-Вегас\">Лас-Вегас</a>, <a href=\"/wiki/%D0%9D%D0%B5%D0%B2%D0%B0%D0%B4%D0%B0\" title=\"Невада\">Невада</a>, <a class=\"mw-redirect\" href=\"/wiki/%D0%A1%D0%A8%D0%90\" title=\"США\">США</a>\n",
            "</td>\n",
            "<td><small>Завоевал <a href=\"/wiki/%D0%A1%D0%BF%D0%B8%D1%81%D0%BE%D0%BA_%D1%87%D0%B5%D0%BC%D0%BF%D0%B8%D0%BE%D0%BD%D0%BE%D0%B2_UFC#Чемпионы_в_полулёгком_весе\" title=\"Список чемпионов UFC\">титул временного чемпиона UFC</a> в полулёгком весе.<br/>Выступление вечера.</small>\n",
            "</td></tr>\n",
            "<tr>\n",
            "<td class=\"table-yes2\" style=\"background:#bfd; color:black; vertical-align:middle; text-align:center;\">Победа\n",
            "</td>\n",
            "<td align=\"center\">17-2\n",
            "</td>\n",
            "<td><span class=\"flagicon\"><a class=\"image\" href=\"/wiki/%D0%A4%D0%B0%D0%B9%D0%BB:Flag_of_Germany.svg\" title=\"Германия\"><img alt=\"Германия\" class=\"thumbborder\" data-file-height=\"600\" data-file-width=\"1000\" decoding=\"async\" height=\"13\" src=\"//upload.wikimedia.org/wikipedia/commons/thumb/b/ba/Flag_of_Germany.svg/22px-Flag_of_Germany.svg.png\" srcset=\"//upload.wikimedia.org/wikipedia/commons/thumb/b/ba/Flag_of_Germany.svg/33px-Flag_of_Germany.svg.png 1.5x, //upload.wikimedia.org/wikipedia/commons/thumb/b/ba/Flag_of_Germany.svg/44px-Flag_of_Germany.svg.png 2x\" width=\"22\"/></a></span> <a href=\"/wiki/%D0%97%D0%B8%D1%84%D0%B5%D1%80,_%D0%94%D0%B5%D0%BD%D0%BD%D0%B8%D1%81\" title=\"Зифер, Деннис\">Деннис Зифер</a>\n",
            "</td>\n",
            "<td>Технический нокаут (удары)\n",
            "</td>\n",
            "<td>UFC Fight Night: McGregor vs. Siver\n",
            "</td>\n",
            "<td><span data-sort-value=\"000000002015-01-18-0000\" style=\"white-space:nowrap\">18 января 2015</span>\n",
            "</td>\n",
            "<td align=\"center\">2\n",
            "</td>\n",
            "<td align=\"center\">1:54\n",
            "</td>\n",
            "<td><a class=\"image\" href=\"/wiki/%D0%A4%D0%B0%D0%B9%D0%BB:Flag_of_the_United_States.svg\" title=\"Флаг США\"><img alt=\"Флаг США\" class=\"thumbborder\" data-file-height=\"650\" data-file-width=\"1235\" decoding=\"async\" height=\"12\" src=\"//upload.wikimedia.org/wikipedia/commons/thumb/a/a4/Flag_of_the_United_States.svg/22px-Flag_of_the_United_States.svg.png\" srcset=\"//upload.wikimedia.org/wikipedia/commons/thumb/a/a4/Flag_of_the_United_States.svg/33px-Flag_of_the_United_States.svg.png 1.5x, //upload.wikimedia.org/wikipedia/commons/thumb/a/a4/Flag_of_the_United_States.svg/44px-Flag_of_the_United_States.svg.png 2x\" width=\"22\"/></a> <a href=\"/wiki/%D0%91%D0%BE%D1%81%D1%82%D0%BE%D0%BD\" title=\"Бостон\">Бостон</a>, <a href=\"/wiki/%D0%9C%D0%B0%D1%81%D1%81%D0%B0%D1%87%D1%83%D1%81%D0%B5%D1%82%D1%81\" title=\"Массачусетс\">Массачусетс</a>, <a class=\"mw-redirect\" href=\"/wiki/%D0%A1%D0%A8%D0%90\" title=\"США\">США</a>\n",
            "</td>\n",
            "<td><small>Выступление вечера.</small>\n",
            "</td></tr>\n",
            "<tr>\n",
            "<td class=\"table-yes2\" style=\"background:#bfd; color:black; vertical-align:middle; text-align:center;\">Победа\n",
            "</td>\n",
            "<td align=\"center\">16-2\n",
            "</td>\n",
            "<td><span class=\"flagicon\"><a class=\"image\" href=\"/wiki/%D0%A4%D0%B0%D0%B9%D0%BB:Flag_of_the_United_States.svg\" title=\"Соединённые Штаты Америки\"><img alt=\"Соединённые Штаты Америки\" class=\"thumbborder\" data-file-height=\"650\" data-file-width=\"1235\" decoding=\"async\" height=\"12\" src=\"//upload.wikimedia.org/wikipedia/commons/thumb/a/a4/Flag_of_the_United_States.svg/22px-Flag_of_the_United_States.svg.png\" srcset=\"//upload.wikimedia.org/wikipedia/commons/thumb/a/a4/Flag_of_the_United_States.svg/33px-Flag_of_the_United_States.svg.png 1.5x, //upload.wikimedia.org/wikipedia/commons/thumb/a/a4/Flag_of_the_United_States.svg/44px-Flag_of_the_United_States.svg.png 2x\" width=\"22\"/></a></span> <a class=\"mw-redirect\" href=\"/wiki/%D0%94%D0%B0%D1%81%D1%82%D0%B8%D0%BD_%D0%9F%D1%83%D0%B0%D1%80%D1%8C%D0%B5\" title=\"Дастин Пуарье\">Дастин Пуарье</a>\n",
            "</td>\n",
            "<td>Нокаут (удар)\n",
            "</td>\n",
            "<td>UFC 178: Johnson vs. Cariaso\n",
            "</td>\n",
            "<td><span data-sort-value=\"000000002014-09-27-0000\" style=\"white-space:nowrap\">27 сентября 2014</span>\n",
            "</td>\n",
            "<td align=\"center\">1\n",
            "</td>\n",
            "<td align=\"center\">1:46\n",
            "</td>\n",
            "<td><a class=\"image\" href=\"/wiki/%D0%A4%D0%B0%D0%B9%D0%BB:Flag_of_the_United_States.svg\" title=\"Флаг США\"><img alt=\"Флаг США\" class=\"thumbborder\" data-file-height=\"650\" data-file-width=\"1235\" decoding=\"async\" height=\"12\" src=\"//upload.wikimedia.org/wikipedia/commons/thumb/a/a4/Flag_of_the_United_States.svg/22px-Flag_of_the_United_States.svg.png\" srcset=\"//upload.wikimedia.org/wikipedia/commons/thumb/a/a4/Flag_of_the_United_States.svg/33px-Flag_of_the_United_States.svg.png 1.5x, //upload.wikimedia.org/wikipedia/commons/thumb/a/a4/Flag_of_the_United_States.svg/44px-Flag_of_the_United_States.svg.png 2x\" width=\"22\"/></a> <a href=\"/wiki/%D0%9B%D0%B0%D1%81-%D0%92%D0%B5%D0%B3%D0%B0%D1%81\" title=\"Лас-Вегас\">Лас-Вегас</a>, <a href=\"/wiki/%D0%9D%D0%B5%D0%B2%D0%B0%D0%B4%D0%B0\" title=\"Невада\">Невада</a>, <a class=\"mw-redirect\" href=\"/wiki/%D0%A1%D0%A8%D0%90\" title=\"США\">США</a>\n",
            "</td>\n",
            "<td><small>Выступление вечера.</small>\n",
            "</td></tr>\n",
            "<tr>\n",
            "<td class=\"table-yes2\" style=\"background:#bfd; color:black; vertical-align:middle; text-align:center;\">Победа\n",
            "</td>\n",
            "<td align=\"center\">15-2\n",
            "</td>\n",
            "<td><span class=\"flagicon\"><a class=\"image\" href=\"/wiki/%D0%A4%D0%B0%D0%B9%D0%BB:Flag_of_Brazil.svg\" title=\"Бразилия\"><img alt=\"Бразилия\" class=\"thumbborder\" data-file-height=\"504\" data-file-width=\"720\" decoding=\"async\" height=\"15\" src=\"//upload.wikimedia.org/wikipedia/commons/thumb/0/05/Flag_of_Brazil.svg/22px-Flag_of_Brazil.svg.png\" srcset=\"//upload.wikimedia.org/wikipedia/commons/thumb/0/05/Flag_of_Brazil.svg/33px-Flag_of_Brazil.svg.png 1.5x, //upload.wikimedia.org/wikipedia/commons/thumb/0/05/Flag_of_Brazil.svg/44px-Flag_of_Brazil.svg.png 2x\" width=\"22\"/></a></span> <a class=\"mw-redirect\" href=\"/wiki/%D0%94%D0%B8%D0%B5%D0%B3%D1%83_%D0%91%D1%80%D0%B0%D0%BD%D0%B4%D0%B0%D0%BD\" title=\"Диегу Брандан\">Диегу Брандан</a>\n",
            "</td>\n",
            "<td>Технический нокаут (удары)\n",
            "</td>\n",
            "<td>UFC Fight Night: McGregor vs. Brandao\n",
            "</td>\n",
            "<td><span data-sort-value=\"000000002014-07-19-0000\" style=\"white-space:nowrap\">19 июля 2014</span>\n",
            "</td>\n",
            "<td align=\"center\">1\n",
            "</td>\n",
            "<td align=\"center\">4:05\n",
            "</td>\n",
            "<td><a class=\"image\" href=\"/wiki/%D0%A4%D0%B0%D0%B9%D0%BB:Flag_of_Ireland.svg\" title=\"Флаг Ирландии\"><img alt=\"Флаг Ирландии\" class=\"thumbborder\" data-file-height=\"600\" data-file-width=\"1200\" decoding=\"async\" height=\"11\" src=\"//upload.wikimedia.org/wikipedia/commons/thumb/4/45/Flag_of_Ireland.svg/22px-Flag_of_Ireland.svg.png\" srcset=\"//upload.wikimedia.org/wikipedia/commons/thumb/4/45/Flag_of_Ireland.svg/33px-Flag_of_Ireland.svg.png 1.5x, //upload.wikimedia.org/wikipedia/commons/thumb/4/45/Flag_of_Ireland.svg/44px-Flag_of_Ireland.svg.png 2x\" width=\"22\"/></a> <a href=\"/wiki/%D0%94%D1%83%D0%B1%D0%BB%D0%B8%D0%BD\" title=\"Дублин\">Дублин</a>, <a href=\"/wiki/%D0%98%D1%80%D0%BB%D0%B0%D0%BD%D0%B4%D0%B8%D1%8F\" title=\"Ирландия\">Ирландия</a>\n",
            "</td>\n",
            "<td><small>Выступление вечера.</small>\n",
            "</td></tr>\n",
            "<tr>\n",
            "<td class=\"table-yes2\" style=\"background:#bfd; color:black; vertical-align:middle; text-align:center;\">Победа\n",
            "</td>\n",
            "<td align=\"center\">14-2\n",
            "</td>\n",
            "<td><span class=\"flagicon\"><a class=\"image\" href=\"/wiki/%D0%A4%D0%B0%D0%B9%D0%BB:Flag_of_the_United_States.svg\" title=\"Соединённые Штаты Америки\"><img alt=\"Соединённые Штаты Америки\" class=\"thumbborder\" data-file-height=\"650\" data-file-width=\"1235\" decoding=\"async\" height=\"12\" src=\"//upload.wikimedia.org/wikipedia/commons/thumb/a/a4/Flag_of_the_United_States.svg/22px-Flag_of_the_United_States.svg.png\" srcset=\"//upload.wikimedia.org/wikipedia/commons/thumb/a/a4/Flag_of_the_United_States.svg/33px-Flag_of_the_United_States.svg.png 1.5x, //upload.wikimedia.org/wikipedia/commons/thumb/a/a4/Flag_of_the_United_States.svg/44px-Flag_of_the_United_States.svg.png 2x\" width=\"22\"/></a></span> <a href=\"/wiki/%D0%A5%D0%BE%D0%BB%D0%BB%D0%BE%D1%83%D1%8D%D0%B9,_%D0%9C%D0%B0%D0%BA%D1%81\" title=\"Холлоуэй, Макс\">Макс Холлоуэй</a>\n",
            "</td>\n",
            "<td>Единогласное решение\n",
            "</td>\n",
            "<td>UFC Fight Night: Shogun vs. Sonnen\n",
            "</td>\n",
            "<td><span data-sort-value=\"000000002013-08-17-0000\" style=\"white-space:nowrap\">17 августа 2013</span>\n",
            "</td>\n",
            "<td align=\"center\">3\n",
            "</td>\n",
            "<td align=\"center\">5:00\n",
            "</td>\n",
            "<td><a class=\"image\" href=\"/wiki/%D0%A4%D0%B0%D0%B9%D0%BB:Flag_of_the_United_States.svg\" title=\"Флаг США\"><img alt=\"Флаг США\" class=\"thumbborder\" data-file-height=\"650\" data-file-width=\"1235\" decoding=\"async\" height=\"12\" src=\"//upload.wikimedia.org/wikipedia/commons/thumb/a/a4/Flag_of_the_United_States.svg/22px-Flag_of_the_United_States.svg.png\" srcset=\"//upload.wikimedia.org/wikipedia/commons/thumb/a/a4/Flag_of_the_United_States.svg/33px-Flag_of_the_United_States.svg.png 1.5x, //upload.wikimedia.org/wikipedia/commons/thumb/a/a4/Flag_of_the_United_States.svg/44px-Flag_of_the_United_States.svg.png 2x\" width=\"22\"/></a> <a href=\"/wiki/%D0%91%D0%BE%D1%81%D1%82%D0%BE%D0%BD\" title=\"Бостон\">Бостон</a>, <a href=\"/wiki/%D0%9C%D0%B0%D1%81%D1%81%D0%B0%D1%87%D1%83%D1%81%D0%B5%D1%82%D1%81\" title=\"Массачусетс\">Массачусетс</a>, <a class=\"mw-redirect\" href=\"/wiki/%D0%A1%D0%A8%D0%90\" title=\"США\">США</a>\n",
            "</td>\n",
            "<td>\n",
            "</td></tr>\n",
            "<tr>\n",
            "<td class=\"table-yes2\" style=\"background:#bfd; color:black; vertical-align:middle; text-align:center;\">Победа\n",
            "</td>\n",
            "<td align=\"center\">13-2\n",
            "</td>\n",
            "<td><span class=\"flagicon\"><a class=\"image\" href=\"/wiki/%D0%A4%D0%B0%D0%B9%D0%BB:Flag_of_the_United_States.svg\" title=\"Соединённые Штаты Америки\"><img alt=\"Соединённые Штаты Америки\" class=\"thumbborder\" data-file-height=\"650\" data-file-width=\"1235\" decoding=\"async\" height=\"12\" src=\"//upload.wikimedia.org/wikipedia/commons/thumb/a/a4/Flag_of_the_United_States.svg/22px-Flag_of_the_United_States.svg.png\" srcset=\"//upload.wikimedia.org/wikipedia/commons/thumb/a/a4/Flag_of_the_United_States.svg/33px-Flag_of_the_United_States.svg.png 1.5x, //upload.wikimedia.org/wikipedia/commons/thumb/a/a4/Flag_of_the_United_States.svg/44px-Flag_of_the_United_States.svg.png 2x\" width=\"22\"/></a></span> Маркус Бримейдж\n",
            "</td>\n",
            "<td>Технический нокаут (удары)\n",
            "</td>\n",
            "<td>UFC on Fuel TV: Mousasi vs. Latifi\n",
            "</td>\n",
            "<td><span data-sort-value=\"000000002013-04-06-0000\" style=\"white-space:nowrap\">6 апреля 2013</span>\n",
            "</td>\n",
            "<td align=\"center\">1\n",
            "</td>\n",
            "<td align=\"center\">1:07\n",
            "</td>\n",
            "<td><a class=\"image\" href=\"/wiki/%D0%A4%D0%B0%D0%B9%D0%BB:Flag_of_Sweden.svg\" title=\"Флаг Швеции\"><img alt=\"Флаг Швеции\" class=\"thumbborder\" data-file-height=\"320\" data-file-width=\"512\" decoding=\"async\" height=\"14\" src=\"//upload.wikimedia.org/wikipedia/commons/thumb/4/4c/Flag_of_Sweden.svg/22px-Flag_of_Sweden.svg.png\" srcset=\"//upload.wikimedia.org/wikipedia/commons/thumb/4/4c/Flag_of_Sweden.svg/33px-Flag_of_Sweden.svg.png 1.5x, //upload.wikimedia.org/wikipedia/commons/thumb/4/4c/Flag_of_Sweden.svg/44px-Flag_of_Sweden.svg.png 2x\" width=\"22\"/></a> <a href=\"/wiki/%D0%A1%D1%82%D0%BE%D0%BA%D0%B3%D0%BE%D0%BB%D1%8C%D0%BC\" title=\"Стокгольм\">Стокгольм</a>, <a href=\"/wiki/%D0%A8%D0%B2%D0%B5%D1%86%D0%B8%D1%8F\" title=\"Швеция\">Швеция</a>\n",
            "</td>\n",
            "<td><small>Лучший нокаут вечера.</small>\n",
            "</td></tr>\n",
            "<tr>\n",
            "<td class=\"table-yes2\" style=\"background:#bfd; color:black; vertical-align:middle; text-align:center;\">Победа\n",
            "</td>\n",
            "<td align=\"center\">12-2\n",
            "</td>\n",
            "<td><span class=\"flagicon\"><a class=\"image\" href=\"/wiki/%D0%A4%D0%B0%D0%B9%D0%BB:Flag_of_Slovakia.svg\" title=\"Словакия\"><img alt=\"Словакия\" class=\"thumbborder\" data-file-height=\"341\" data-file-width=\"512\" decoding=\"async\" height=\"15\" src=\"//upload.wikimedia.org/wikipedia/commons/thumb/e/e6/Flag_of_Slovakia.svg/22px-Flag_of_Slovakia.svg.png\" srcset=\"//upload.wikimedia.org/wikipedia/commons/thumb/e/e6/Flag_of_Slovakia.svg/33px-Flag_of_Slovakia.svg.png 1.5x, //upload.wikimedia.org/wikipedia/commons/thumb/e/e6/Flag_of_Slovakia.svg/44px-Flag_of_Slovakia.svg.png 2x\" width=\"22\"/></a></span> <a href=\"/wiki/%D0%91%D1%83%D1%85%D0%B8%D0%BD%D0%B3%D0%B5%D1%80,_%D0%98%D0%B2%D0%B0%D0%BD\" title=\"Бухингер, Иван\">Иван Бухингер</a>\n",
            "</td>\n",
            "<td>Нокаут (удар)\n",
            "</td>\n",
            "<td>CWFC 51\n",
            "</td>\n",
            "<td><span data-sort-value=\"000000002012-12-31-0000\" style=\"white-space:nowrap\">31 декабря 2012</span>\n",
            "</td>\n",
            "<td align=\"center\">1\n",
            "</td>\n",
            "<td align=\"center\">3:40\n",
            "</td>\n",
            "<td><a class=\"image\" href=\"/wiki/%D0%A4%D0%B0%D0%B9%D0%BB:Flag_of_Ireland.svg\" title=\"Флаг Ирландии\"><img alt=\"Флаг Ирландии\" class=\"thumbborder\" data-file-height=\"600\" data-file-width=\"1200\" decoding=\"async\" height=\"11\" src=\"//upload.wikimedia.org/wikipedia/commons/thumb/4/45/Flag_of_Ireland.svg/22px-Flag_of_Ireland.svg.png\" srcset=\"//upload.wikimedia.org/wikipedia/commons/thumb/4/45/Flag_of_Ireland.svg/33px-Flag_of_Ireland.svg.png 1.5x, //upload.wikimedia.org/wikipedia/commons/thumb/4/45/Flag_of_Ireland.svg/44px-Flag_of_Ireland.svg.png 2x\" width=\"22\"/></a> <a href=\"/wiki/%D0%94%D1%83%D0%B1%D0%BB%D0%B8%D0%BD\" title=\"Дублин\">Дублин</a>, <a href=\"/wiki/%D0%98%D1%80%D0%BB%D0%B0%D0%BD%D0%B4%D0%B8%D1%8F\" title=\"Ирландия\">Ирландия</a>\n",
            "</td>\n",
            "<td><small>Завоевал титул чемпиона CWFC в лёгком весе.</small>\n",
            "</td></tr>\n",
            "<tr>\n",
            "<td class=\"table-yes2\" style=\"background:#bfd; color:black; vertical-align:middle; text-align:center;\">Победа\n",
            "</td>\n",
            "<td align=\"center\">11-2\n",
            "</td>\n",
            "<td><span class=\"flagicon\"><a class=\"image\" href=\"/wiki/%D0%A4%D0%B0%D0%B9%D0%BB:Flag_of_England.svg\" title=\"Англия\"><img alt=\"Англия\" class=\"thumbborder\" data-file-height=\"480\" data-file-width=\"800\" decoding=\"async\" height=\"13\" src=\"//upload.wikimedia.org/wikipedia/commons/thumb/b/be/Flag_of_England.svg/22px-Flag_of_England.svg.png\" srcset=\"//upload.wikimedia.org/wikipedia/commons/thumb/b/be/Flag_of_England.svg/33px-Flag_of_England.svg.png 1.5x, //upload.wikimedia.org/wikipedia/commons/thumb/b/be/Flag_of_England.svg/44px-Flag_of_England.svg.png 2x\" width=\"22\"/></a></span> Дэйв Хилл\n",
            "</td>\n",
            "<td>Удушающий приём (сзади)\n",
            "</td>\n",
            "<td>CWFC 47\n",
            "</td>\n",
            "<td><span data-sort-value=\"000000002012-06-02-0000\" style=\"white-space:nowrap\">2 июня 2012</span>\n",
            "</td>\n",
            "<td align=\"center\">2\n",
            "</td>\n",
            "<td align=\"center\">4:10\n",
            "</td>\n",
            "<td><a class=\"image\" href=\"/wiki/%D0%A4%D0%B0%D0%B9%D0%BB:Flag_of_Ireland.svg\" title=\"Флаг Ирландии\"><img alt=\"Флаг Ирландии\" class=\"thumbborder\" data-file-height=\"600\" data-file-width=\"1200\" decoding=\"async\" height=\"11\" src=\"//upload.wikimedia.org/wikipedia/commons/thumb/4/45/Flag_of_Ireland.svg/22px-Flag_of_Ireland.svg.png\" srcset=\"//upload.wikimedia.org/wikipedia/commons/thumb/4/45/Flag_of_Ireland.svg/33px-Flag_of_Ireland.svg.png 1.5x, //upload.wikimedia.org/wikipedia/commons/thumb/4/45/Flag_of_Ireland.svg/44px-Flag_of_Ireland.svg.png 2x\" width=\"22\"/></a> <a href=\"/wiki/%D0%94%D1%83%D0%B1%D0%BB%D0%B8%D0%BD\" title=\"Дублин\">Дублин</a>, <a href=\"/wiki/%D0%98%D1%80%D0%BB%D0%B0%D0%BD%D0%B4%D0%B8%D1%8F\" title=\"Ирландия\">Ирландия</a>\n",
            "</td>\n",
            "<td><small>Завоевал титул чемпиона CWFC в полулёгком весе.</small>\n",
            "</td></tr>\n",
            "<tr>\n",
            "<td class=\"table-yes2\" style=\"background:#bfd; color:black; vertical-align:middle; text-align:center;\">Победа\n",
            "</td>\n",
            "<td align=\"center\">10-2\n",
            "</td>\n",
            "<td><span class=\"flagicon\"><a class=\"image\" href=\"/wiki/%D0%A4%D0%B0%D0%B9%D0%BB:Flag_of_England.svg\" title=\"Англия\"><img alt=\"Англия\" class=\"thumbborder\" data-file-height=\"480\" data-file-width=\"800\" decoding=\"async\" height=\"13\" src=\"//upload.wikimedia.org/wikipedia/commons/thumb/b/be/Flag_of_England.svg/22px-Flag_of_England.svg.png\" srcset=\"//upload.wikimedia.org/wikipedia/commons/thumb/b/be/Flag_of_England.svg/33px-Flag_of_England.svg.png 1.5x, //upload.wikimedia.org/wikipedia/commons/thumb/b/be/Flag_of_England.svg/44px-Flag_of_England.svg.png 2x\" width=\"22\"/></a></span> Стив О’Киф\n",
            "</td>\n",
            "<td>Нокаут (удары локтями)\n",
            "</td>\n",
            "<td>CWFC 45\n",
            "</td>\n",
            "<td><span data-sort-value=\"000000002012-02-18-0000\" style=\"white-space:nowrap\">18 февраля 2012</span>\n",
            "</td>\n",
            "<td align=\"center\">1\n",
            "</td>\n",
            "<td align=\"center\">1:33\n",
            "</td>\n",
            "<td><a class=\"image\" href=\"/wiki/%D0%A4%D0%B0%D0%B9%D0%BB:Flag_of_England.svg\" title=\"Флаг Англии\"><img alt=\"Флаг Англии\" class=\"thumbborder\" data-file-height=\"480\" data-file-width=\"800\" decoding=\"async\" height=\"13\" src=\"//upload.wikimedia.org/wikipedia/commons/thumb/b/be/Flag_of_England.svg/22px-Flag_of_England.svg.png\" srcset=\"//upload.wikimedia.org/wikipedia/commons/thumb/b/be/Flag_of_England.svg/33px-Flag_of_England.svg.png 1.5x, //upload.wikimedia.org/wikipedia/commons/thumb/b/be/Flag_of_England.svg/44px-Flag_of_England.svg.png 2x\" width=\"22\"/></a> Кентиш-Таун, <a href=\"/wiki/%D0%90%D0%BD%D0%B3%D0%BB%D0%B8%D1%8F\" title=\"Англия\">Англия</a>\n",
            "</td>\n",
            "<td><small>Дебют в полулёгком весе.</small>\n",
            "</td></tr>\n",
            "<tr>\n",
            "<td class=\"table-yes2\" style=\"background:#bfd; color:black; vertical-align:middle; text-align:center;\">Победа\n",
            "</td>\n",
            "<td align=\"center\">9-2\n",
            "</td>\n",
            "<td><span class=\"flagicon\"><a class=\"image\" href=\"/wiki/%D0%A4%D0%B0%D0%B9%D0%BB:Flag_of_Norway.svg\" title=\"Норвегия\"><img alt=\"Норвегия\" class=\"thumbborder\" data-file-height=\"372\" data-file-width=\"512\" decoding=\"async\" height=\"16\" src=\"//upload.wikimedia.org/wikipedia/commons/thumb/d/d9/Flag_of_Norway.svg/22px-Flag_of_Norway.svg.png\" srcset=\"//upload.wikimedia.org/wikipedia/commons/thumb/d/d9/Flag_of_Norway.svg/33px-Flag_of_Norway.svg.png 1.5x, //upload.wikimedia.org/wikipedia/commons/thumb/d/d9/Flag_of_Norway.svg/44px-Flag_of_Norway.svg.png 2x\" width=\"22\"/></a></span> Аарон Янсен\n",
            "</td>\n",
            "<td>Технический нокаут (удары)\n",
            "</td>\n",
            "<td>CWFC: Fight Night 2\n",
            "</td>\n",
            "<td><span data-sort-value=\"000000002011-09-08-0000\" style=\"white-space:nowrap\">8 сентября 2011</span>\n",
            "</td>\n",
            "<td align=\"center\">1\n",
            "</td>\n",
            "<td align=\"center\">3:29\n",
            "</td>\n",
            "<td><a class=\"image\" href=\"/wiki/%D0%A4%D0%B0%D0%B9%D0%BB:Flag_of_Jordan.svg\" title=\"Флаг Иордании\"><img alt=\"Флаг Иордании\" class=\"thumbborder\" data-file-height=\"600\" data-file-width=\"1200\" decoding=\"async\" height=\"11\" src=\"//upload.wikimedia.org/wikipedia/commons/thumb/c/c0/Flag_of_Jordan.svg/22px-Flag_of_Jordan.svg.png\" srcset=\"//upload.wikimedia.org/wikipedia/commons/thumb/c/c0/Flag_of_Jordan.svg/33px-Flag_of_Jordan.svg.png 1.5x, //upload.wikimedia.org/wikipedia/commons/thumb/c/c0/Flag_of_Jordan.svg/44px-Flag_of_Jordan.svg.png 2x\" width=\"22\"/></a> <a href=\"/wiki/%D0%90%D0%BC%D0%BC%D0%B0%D0%BD\" title=\"Амман\">Амман</a>, <a href=\"/wiki/%D0%98%D0%BE%D1%80%D0%B4%D0%B0%D0%BD%D0%B8%D1%8F\" title=\"Иордания\">Иордания</a>\n",
            "</td>\n",
            "<td>\n",
            "</td></tr>\n",
            "<tr>\n",
            "<td class=\"table-yes2\" style=\"background:#bfd; color:black; vertical-align:middle; text-align:center;\">Победа\n",
            "</td>\n",
            "<td align=\"center\">8-2\n",
            "</td>\n",
            "<td><span class=\"flagicon\"><a class=\"image\" href=\"/wiki/%D0%A4%D0%B0%D0%B9%D0%BB:Flag_of_Poland.svg\" title=\"Польша\"><img alt=\"Польша\" class=\"thumbborder\" data-file-height=\"400\" data-file-width=\"640\" decoding=\"async\" height=\"14\" src=\"//upload.wikimedia.org/wikipedia/commons/thumb/1/12/Flag_of_Poland.svg/22px-Flag_of_Poland.svg.png\" srcset=\"//upload.wikimedia.org/wikipedia/commons/thumb/1/12/Flag_of_Poland.svg/33px-Flag_of_Poland.svg.png 1.5x, //upload.wikimedia.org/wikipedia/commons/thumb/1/12/Flag_of_Poland.svg/44px-Flag_of_Poland.svg.png 2x\" width=\"22\"/></a></span> Артур Совинский\n",
            "</td>\n",
            "<td>Технический нокаут (удары)\n",
            "</td>\n",
            "<td>Celtic Gladiator 2: Clash of the Giants\n",
            "</td>\n",
            "<td><span data-sort-value=\"000000002011-06-11-0000\" style=\"white-space:nowrap\">11 июня 2011</span>\n",
            "</td>\n",
            "<td align=\"center\">2\n",
            "</td>\n",
            "<td align=\"center\">1:12\n",
            "</td>\n",
            "<td><a class=\"image\" href=\"/wiki/%D0%A4%D0%B0%D0%B9%D0%BB:Flag_of_Ireland.svg\" title=\"Флаг Ирландии\"><img alt=\"Флаг Ирландии\" class=\"thumbborder\" data-file-height=\"600\" data-file-width=\"1200\" decoding=\"async\" height=\"11\" src=\"//upload.wikimedia.org/wikipedia/commons/thumb/4/45/Flag_of_Ireland.svg/22px-Flag_of_Ireland.svg.png\" srcset=\"//upload.wikimedia.org/wikipedia/commons/thumb/4/45/Flag_of_Ireland.svg/33px-Flag_of_Ireland.svg.png 1.5x, //upload.wikimedia.org/wikipedia/commons/thumb/4/45/Flag_of_Ireland.svg/44px-Flag_of_Ireland.svg.png 2x\" width=\"22\"/></a> <a href=\"/wiki/%D0%9F%D0%BE%D1%80%D1%82-%D0%9B%D0%B8%D0%B8%D1%88%D0%B5\" title=\"Порт-Лиише\">Порт-Лиише</a>, <a href=\"/wiki/%D0%98%D1%80%D0%BB%D0%B0%D0%BD%D0%B4%D0%B8%D1%8F\" title=\"Ирландия\">Ирландия</a>\n",
            "</td>\n",
            "<td>\n",
            "</td></tr>\n",
            "<tr>\n",
            "<td class=\"table-yes2\" style=\"background:#bfd; color:black; vertical-align:middle; text-align:center;\">Победа\n",
            "</td>\n",
            "<td align=\"center\">7-2\n",
            "</td>\n",
            "<td><span class=\"flagicon\"><a class=\"image\" href=\"/wiki/%D0%A4%D0%B0%D0%B9%D0%BB:Ulster_Banner.svg\" title=\"Северная Ирландия\"><img alt=\"Северная Ирландия\" class=\"thumbborder\" data-file-height=\"300\" data-file-width=\"600\" decoding=\"async\" height=\"11\" src=\"//upload.wikimedia.org/wikipedia/commons/thumb/d/d0/Ulster_Banner.svg/22px-Ulster_Banner.svg.png\" srcset=\"//upload.wikimedia.org/wikipedia/commons/thumb/d/d0/Ulster_Banner.svg/33px-Ulster_Banner.svg.png 1.5x, //upload.wikimedia.org/wikipedia/commons/thumb/d/d0/Ulster_Banner.svg/44px-Ulster_Banner.svg.png 2x\" width=\"22\"/></a></span> Патрик Доэрти\n",
            "</td>\n",
            "<td>Нокаут (удар)\n",
            "</td>\n",
            "<td>Immortal Fighting Championship 4\n",
            "</td>\n",
            "<td><span data-sort-value=\"000000002011-04-16-0000\" style=\"white-space:nowrap\">16 апреля 2011</span>\n",
            "</td>\n",
            "<td align=\"center\">1\n",
            "</td>\n",
            "<td align=\"center\">0:04\n",
            "</td>\n",
            "<td><a class=\"image\" href=\"/wiki/%D0%A4%D0%B0%D0%B9%D0%BB:Flag_of_Ireland.svg\" title=\"Флаг Ирландии\"><img alt=\"Флаг Ирландии\" class=\"thumbborder\" data-file-height=\"600\" data-file-width=\"1200\" decoding=\"async\" height=\"11\" src=\"//upload.wikimedia.org/wikipedia/commons/thumb/4/45/Flag_of_Ireland.svg/22px-Flag_of_Ireland.svg.png\" srcset=\"//upload.wikimedia.org/wikipedia/commons/thumb/4/45/Flag_of_Ireland.svg/33px-Flag_of_Ireland.svg.png 1.5x, //upload.wikimedia.org/wikipedia/commons/thumb/4/45/Flag_of_Ireland.svg/44px-Flag_of_Ireland.svg.png 2x\" width=\"22\"/></a> <a href=\"/wiki/%D0%9B%D0%B5%D1%82%D1%82%D0%B5%D1%80%D0%BA%D0%B5%D0%BD%D0%BD%D0%B8\" title=\"Леттеркенни\">Леттеркенни</a>, <a href=\"/wiki/%D0%98%D1%80%D0%BB%D0%B0%D0%BD%D0%B4%D0%B8%D1%8F\" title=\"Ирландия\">Ирландия</a>\n",
            "</td>\n",
            "<td>\n",
            "</td></tr>\n",
            "<tr>\n",
            "<td class=\"table-yes2\" style=\"background:#bfd; color:black; vertical-align:middle; text-align:center;\">Победа\n",
            "</td>\n",
            "<td align=\"center\">6-2\n",
            "</td>\n",
            "<td><span class=\"flagicon\"><a class=\"image\" href=\"/wiki/%D0%A4%D0%B0%D0%B9%D0%BB:Flag_of_England.svg\" title=\"Англия\"><img alt=\"Англия\" class=\"thumbborder\" data-file-height=\"480\" data-file-width=\"800\" decoding=\"async\" height=\"13\" src=\"//upload.wikimedia.org/wikipedia/commons/thumb/b/be/Flag_of_England.svg/22px-Flag_of_England.svg.png\" srcset=\"//upload.wikimedia.org/wikipedia/commons/thumb/b/be/Flag_of_England.svg/33px-Flag_of_England.svg.png 1.5x, //upload.wikimedia.org/wikipedia/commons/thumb/b/be/Flag_of_England.svg/44px-Flag_of_England.svg.png 2x\" width=\"22\"/></a></span> Майк Вуд\n",
            "</td>\n",
            "<td>Нокаут (удары)\n",
            "</td>\n",
            "<td>Cage Contender 8\n",
            "</td>\n",
            "<td><span data-sort-value=\"000000002011-03-12-0000\" style=\"white-space:nowrap\">12 марта 2011</span>\n",
            "</td>\n",
            "<td align=\"center\">1\n",
            "</td>\n",
            "<td align=\"center\">0:16\n",
            "</td>\n",
            "<td><a class=\"image\" href=\"/wiki/%D0%A4%D0%B0%D0%B9%D0%BB:Flag_of_Ireland.svg\" title=\"Флаг Ирландии\"><img alt=\"Флаг Ирландии\" class=\"thumbborder\" data-file-height=\"600\" data-file-width=\"1200\" decoding=\"async\" height=\"11\" src=\"//upload.wikimedia.org/wikipedia/commons/thumb/4/45/Flag_of_Ireland.svg/22px-Flag_of_Ireland.svg.png\" srcset=\"//upload.wikimedia.org/wikipedia/commons/thumb/4/45/Flag_of_Ireland.svg/33px-Flag_of_Ireland.svg.png 1.5x, //upload.wikimedia.org/wikipedia/commons/thumb/4/45/Flag_of_Ireland.svg/44px-Flag_of_Ireland.svg.png 2x\" width=\"22\"/></a> <a href=\"/wiki/%D0%94%D1%83%D0%B1%D0%BB%D0%B8%D0%BD\" title=\"Дублин\">Дублин</a>, <a href=\"/wiki/%D0%98%D1%80%D0%BB%D0%B0%D0%BD%D0%B4%D0%B8%D1%8F\" title=\"Ирландия\">Ирландия</a>\n",
            "</td>\n",
            "<td>\n",
            "</td></tr>\n",
            "<tr>\n",
            "<td class=\"table-yes2\" style=\"background:#bfd; color:black; vertical-align:middle; text-align:center;\">Победа\n",
            "</td>\n",
            "<td align=\"center\">5-2\n",
            "</td>\n",
            "<td><span class=\"flagicon\"><a class=\"image\" href=\"/wiki/%D0%A4%D0%B0%D0%B9%D0%BB:Ulster_Banner.svg\" title=\"Северная Ирландия\"><img alt=\"Северная Ирландия\" class=\"thumbborder\" data-file-height=\"300\" data-file-width=\"600\" decoding=\"async\" height=\"11\" src=\"//upload.wikimedia.org/wikipedia/commons/thumb/d/d0/Ulster_Banner.svg/22px-Ulster_Banner.svg.png\" srcset=\"//upload.wikimedia.org/wikipedia/commons/thumb/d/d0/Ulster_Banner.svg/33px-Ulster_Banner.svg.png 1.5x, //upload.wikimedia.org/wikipedia/commons/thumb/d/d0/Ulster_Banner.svg/44px-Ulster_Banner.svg.png 2x\" width=\"22\"/></a></span> Хью Брэди\n",
            "</td>\n",
            "<td>Технический нокаут (удары)\n",
            "</td>\n",
            "<td>Chaos FC 8\n",
            "</td>\n",
            "<td><span data-sort-value=\"000000002011-02-12-0000\" style=\"white-space:nowrap\">12 февраля 2011</span>\n",
            "</td>\n",
            "<td align=\"center\">1\n",
            "</td>\n",
            "<td align=\"center\">2:31\n",
            "</td>\n",
            "<td><a class=\"image\" href=\"/wiki/%D0%A4%D0%B0%D0%B9%D0%BB:Ulster_Banner.svg\" title=\"Флаг Северной Ирландии\"><img alt=\"Флаг Северной Ирландии\" class=\"thumbborder\" data-file-height=\"300\" data-file-width=\"600\" decoding=\"async\" height=\"11\" src=\"//upload.wikimedia.org/wikipedia/commons/thumb/d/d0/Ulster_Banner.svg/22px-Ulster_Banner.svg.png\" srcset=\"//upload.wikimedia.org/wikipedia/commons/thumb/d/d0/Ulster_Banner.svg/33px-Ulster_Banner.svg.png 1.5x, //upload.wikimedia.org/wikipedia/commons/thumb/d/d0/Ulster_Banner.svg/44px-Ulster_Banner.svg.png 2x\" width=\"22\"/></a> <a class=\"mw-redirect mw-disambig\" href=\"/wiki/%D0%94%D0%B5%D1%80%D1%80%D0%B8\" title=\"Дерри\">Дерри</a>, <a href=\"/wiki/%D0%A1%D0%B5%D0%B2%D0%B5%D1%80%D0%BD%D0%B0%D1%8F_%D0%98%D1%80%D0%BB%D0%B0%D0%BD%D0%B4%D0%B8%D1%8F\" title=\"Северная Ирландия\">Северная Ирландия</a>\n",
            "</td>\n",
            "<td>\n",
            "</td></tr>\n",
            "<tr>\n",
            "<td class=\"table-no2\" style=\"background: #ffdddd; color: black; vertical-align: middle; text-align: center;\">Поражение\n",
            "</td>\n",
            "<td align=\"center\">4-2\n",
            "</td>\n",
            "<td><span class=\"flagicon\"><a class=\"image\" href=\"/wiki/%D0%A4%D0%B0%D0%B9%D0%BB:Flag_of_Ireland.svg\" title=\"Ирландия\"><img alt=\"Ирландия\" class=\"thumbborder\" data-file-height=\"600\" data-file-width=\"1200\" decoding=\"async\" height=\"11\" src=\"//upload.wikimedia.org/wikipedia/commons/thumb/4/45/Flag_of_Ireland.svg/22px-Flag_of_Ireland.svg.png\" srcset=\"//upload.wikimedia.org/wikipedia/commons/thumb/4/45/Flag_of_Ireland.svg/33px-Flag_of_Ireland.svg.png 1.5x, //upload.wikimedia.org/wikipedia/commons/thumb/4/45/Flag_of_Ireland.svg/44px-Flag_of_Ireland.svg.png 2x\" width=\"22\"/></a></span> <a class=\"mw-redirect\" href=\"/wiki/%D0%94%D0%B6%D0%BE%D0%B7%D0%B5%D1%84_%D0%94%D0%B0%D1%84%D1%84%D0%B8\" title=\"Джозеф Даффи\">Джозеф Даффи</a>\n",
            "</td>\n",
            "<td>Удушающий приём (треугольник руками)\n",
            "</td>\n",
            "<td>Cage Warriors 39: The Uprising\n",
            "</td>\n",
            "<td><span data-sort-value=\"000000002010-11-27-0000\" style=\"white-space:nowrap\">27 ноября 2010</span>\n",
            "</td>\n",
            "<td align=\"center\">1\n",
            "</td>\n",
            "<td align=\"center\">0:38\n",
            "</td>\n",
            "<td><a class=\"image\" href=\"/wiki/%D0%A4%D0%B0%D0%B9%D0%BB:Flag_of_Ireland.svg\" title=\"Флаг Ирландии\"><img alt=\"Флаг Ирландии\" class=\"thumbborder\" data-file-height=\"600\" data-file-width=\"1200\" decoding=\"async\" height=\"11\" src=\"//upload.wikimedia.org/wikipedia/commons/thumb/4/45/Flag_of_Ireland.svg/22px-Flag_of_Ireland.svg.png\" srcset=\"//upload.wikimedia.org/wikipedia/commons/thumb/4/45/Flag_of_Ireland.svg/33px-Flag_of_Ireland.svg.png 1.5x, //upload.wikimedia.org/wikipedia/commons/thumb/4/45/Flag_of_Ireland.svg/44px-Flag_of_Ireland.svg.png 2x\" width=\"22\"/></a> <a href=\"/wiki/%D0%9A%D0%BE%D1%80%D0%BA\" title=\"Корк\">Корк</a>, <a href=\"/wiki/%D0%98%D1%80%D0%BB%D0%B0%D0%BD%D0%B4%D0%B8%D1%8F\" title=\"Ирландия\">Ирландия</a>\n",
            "</td>\n",
            "<td>\n",
            "</td></tr>\n",
            "<tr>\n",
            "<td class=\"table-yes2\" style=\"background:#bfd; color:black; vertical-align:middle; text-align:center;\">Победа\n",
            "</td>\n",
            "<td align=\"center\">4-1\n",
            "</td>\n",
            "<td><span class=\"flagicon\"><a class=\"image\" href=\"/wiki/%D0%A4%D0%B0%D0%B9%D0%BB:Ulster_Banner.svg\" title=\"Северная Ирландия\"><img alt=\"Северная Ирландия\" class=\"thumbborder\" data-file-height=\"300\" data-file-width=\"600\" decoding=\"async\" height=\"11\" src=\"//upload.wikimedia.org/wikipedia/commons/thumb/d/d0/Ulster_Banner.svg/22px-Ulster_Banner.svg.png\" srcset=\"//upload.wikimedia.org/wikipedia/commons/thumb/d/d0/Ulster_Banner.svg/33px-Ulster_Banner.svg.png 1.5x, //upload.wikimedia.org/wikipedia/commons/thumb/d/d0/Ulster_Banner.svg/44px-Ulster_Banner.svg.png 2x\" width=\"22\"/></a></span> Коннор Диллон\n",
            "</td>\n",
            "<td>Технический нокаут (остановка по решению тренеров)\n",
            "</td>\n",
            "<td>Chaos FC 7\n",
            "</td>\n",
            "<td><span data-sort-value=\"000000002010-10-09-0000\" style=\"white-space:nowrap\">9 октября 2010</span>\n",
            "</td>\n",
            "<td align=\"center\">1\n",
            "</td>\n",
            "<td align=\"center\">4:22\n",
            "</td>\n",
            "<td><a class=\"image\" href=\"/wiki/%D0%A4%D0%B0%D0%B9%D0%BB:Ulster_Banner.svg\" title=\"Флаг Северной Ирландии\"><img alt=\"Флаг Северной Ирландии\" class=\"thumbborder\" data-file-height=\"300\" data-file-width=\"600\" decoding=\"async\" height=\"11\" src=\"//upload.wikimedia.org/wikipedia/commons/thumb/d/d0/Ulster_Banner.svg/22px-Ulster_Banner.svg.png\" srcset=\"//upload.wikimedia.org/wikipedia/commons/thumb/d/d0/Ulster_Banner.svg/33px-Ulster_Banner.svg.png 1.5x, //upload.wikimedia.org/wikipedia/commons/thumb/d/d0/Ulster_Banner.svg/44px-Ulster_Banner.svg.png 2x\" width=\"22\"/></a><a class=\"mw-redirect mw-disambig\" href=\"/wiki/%D0%94%D0%B5%D1%80%D1%80%D0%B8\" title=\"Дерри\">Дерри</a>, <a href=\"/wiki/%D0%A1%D0%B5%D0%B2%D0%B5%D1%80%D0%BD%D0%B0%D1%8F_%D0%98%D1%80%D0%BB%D0%B0%D0%BD%D0%B4%D0%B8%D1%8F\" title=\"Северная Ирландия\">Северная Ирландия</a>\n",
            "</td>\n",
            "<td>\n",
            "</td></tr>\n",
            "<tr>\n",
            "<td class=\"table-yes2\" style=\"background:#bfd; color:black; vertical-align:middle; text-align:center;\">Победа\n",
            "</td>\n",
            "<td align=\"center\">3-1\n",
            "</td>\n",
            "<td><span class=\"flagicon\"><a class=\"image\" href=\"/wiki/%D0%A4%D0%B0%D0%B9%D0%BB:Flag_of_Ireland.svg\" title=\"Ирландия\"><img alt=\"Ирландия\" class=\"thumbborder\" data-file-height=\"600\" data-file-width=\"1200\" decoding=\"async\" height=\"11\" src=\"//upload.wikimedia.org/wikipedia/commons/thumb/4/45/Flag_of_Ireland.svg/22px-Flag_of_Ireland.svg.png\" srcset=\"//upload.wikimedia.org/wikipedia/commons/thumb/4/45/Flag_of_Ireland.svg/33px-Flag_of_Ireland.svg.png 1.5x, //upload.wikimedia.org/wikipedia/commons/thumb/4/45/Flag_of_Ireland.svg/44px-Flag_of_Ireland.svg.png 2x\" width=\"22\"/></a></span> Стивен Бейли\n",
            "</td>\n",
            "<td>Технический нокаут (удары)\n",
            "</td>\n",
            "<td>K.O.: The Fight Before Christmas\n",
            "</td>\n",
            "<td><span data-sort-value=\"000000002008-12-12-0000\" style=\"white-space:nowrap\">12 декабря 2008</span>\n",
            "</td>\n",
            "<td align=\"center\">1\n",
            "</td>\n",
            "<td align=\"center\">1:22\n",
            "</td>\n",
            "<td><a class=\"image\" href=\"/wiki/%D0%A4%D0%B0%D0%B9%D0%BB:Flag_of_Ireland.svg\" title=\"Флаг Ирландии\"><img alt=\"Флаг Ирландии\" class=\"thumbborder\" data-file-height=\"600\" data-file-width=\"1200\" decoding=\"async\" height=\"11\" src=\"//upload.wikimedia.org/wikipedia/commons/thumb/4/45/Flag_of_Ireland.svg/22px-Flag_of_Ireland.svg.png\" srcset=\"//upload.wikimedia.org/wikipedia/commons/thumb/4/45/Flag_of_Ireland.svg/33px-Flag_of_Ireland.svg.png 1.5x, //upload.wikimedia.org/wikipedia/commons/thumb/4/45/Flag_of_Ireland.svg/44px-Flag_of_Ireland.svg.png 2x\" width=\"22\"/></a> <a href=\"/wiki/%D0%94%D1%83%D0%B1%D0%BB%D0%B8%D0%BD\" title=\"Дублин\">Дублин</a>, <a href=\"/wiki/%D0%98%D1%80%D0%BB%D0%B0%D0%BD%D0%B4%D0%B8%D1%8F\" title=\"Ирландия\">Ирландия</a>\n",
            "</td>\n",
            "<td>\n",
            "</td></tr>\n",
            "<tr>\n",
            "<td class=\"table-no2\" style=\"background: #ffdddd; color: black; vertical-align: middle; text-align: center;\">Поражение\n",
            "</td>\n",
            "<td align=\"center\">2-1\n",
            "</td>\n",
            "<td><span class=\"flagicon\"><a class=\"image\" href=\"/wiki/%D0%A4%D0%B0%D0%B9%D0%BB:Flag_of_Lithuania.svg\" title=\"Литва\"><img alt=\"Литва\" class=\"thumbborder\" data-file-height=\"600\" data-file-width=\"1000\" decoding=\"async\" height=\"13\" src=\"//upload.wikimedia.org/wikipedia/commons/thumb/1/11/Flag_of_Lithuania.svg/22px-Flag_of_Lithuania.svg.png\" srcset=\"//upload.wikimedia.org/wikipedia/commons/thumb/1/11/Flag_of_Lithuania.svg/33px-Flag_of_Lithuania.svg.png 1.5x, //upload.wikimedia.org/wikipedia/commons/thumb/1/11/Flag_of_Lithuania.svg/44px-Flag_of_Lithuania.svg.png 2x\" width=\"22\"/></a></span> <a href=\"/wiki/%D0%A1%D0%B8%D1%82%D0%B5%D0%BD%D0%BA%D0%BE%D0%B2,_%D0%90%D1%80%D1%82%D0%B5%D0%BC%D0%B8%D0%B9_%D0%92%D0%B8%D0%BA%D1%82%D0%BE%D1%80%D0%BE%D0%B2%D0%B8%D1%87\" title=\"Ситенков, Артемий Викторович\">Артемий Ситенков</a>\n",
            "</td>\n",
            "<td>Болевой приём (рычаг колена)\n",
            "</td>\n",
            "<td>Cage of Truth 3\n",
            "</td>\n",
            "<td><span data-sort-value=\"000000002008-06-28-0000\" style=\"white-space:nowrap\">28 июня 2008</span>\n",
            "</td>\n",
            "<td align=\"center\">1\n",
            "</td>\n",
            "<td align=\"center\">1:09\n",
            "</td>\n",
            "<td><a class=\"image\" href=\"/wiki/%D0%A4%D0%B0%D0%B9%D0%BB:Flag_of_Ireland.svg\" title=\"Флаг Ирландии\"><img alt=\"Флаг Ирландии\" class=\"thumbborder\" data-file-height=\"600\" data-file-width=\"1200\" decoding=\"async\" height=\"11\" src=\"//upload.wikimedia.org/wikipedia/commons/thumb/4/45/Flag_of_Ireland.svg/22px-Flag_of_Ireland.svg.png\" srcset=\"//upload.wikimedia.org/wikipedia/commons/thumb/4/45/Flag_of_Ireland.svg/33px-Flag_of_Ireland.svg.png 1.5x, //upload.wikimedia.org/wikipedia/commons/thumb/4/45/Flag_of_Ireland.svg/44px-Flag_of_Ireland.svg.png 2x\" width=\"22\"/></a> <a href=\"/wiki/%D0%94%D1%83%D0%B1%D0%BB%D0%B8%D0%BD\" title=\"Дублин\">Дублин</a>, <a href=\"/wiki/%D0%98%D1%80%D0%BB%D0%B0%D0%BD%D0%B4%D0%B8%D1%8F\" title=\"Ирландия\">Ирландия</a>\n",
            "</td>\n",
            "<td>\n",
            "</td></tr>\n",
            "<tr>\n",
            "<td class=\"table-yes2\" style=\"background:#bfd; color:black; vertical-align:middle; text-align:center;\">Победа\n",
            "</td>\n",
            "<td align=\"center\">2-0\n",
            "</td>\n",
            "<td><span class=\"flagicon\"><a class=\"image\" href=\"/wiki/%D0%A4%D0%B0%D0%B9%D0%BB:Flag_of_Belgium_(civil).svg\" title=\"Бельгия\"><img alt=\"Бельгия\" class=\"thumbborder\" data-file-height=\"600\" data-file-width=\"900\" decoding=\"async\" height=\"15\" src=\"//upload.wikimedia.org/wikipedia/commons/thumb/9/92/Flag_of_Belgium_%28civil%29.svg/22px-Flag_of_Belgium_%28civil%29.svg.png\" srcset=\"//upload.wikimedia.org/wikipedia/commons/thumb/9/92/Flag_of_Belgium_%28civil%29.svg/33px-Flag_of_Belgium_%28civil%29.svg.png 1.5x, //upload.wikimedia.org/wikipedia/commons/thumb/9/92/Flag_of_Belgium_%28civil%29.svg/44px-Flag_of_Belgium_%28civil%29.svg.png 2x\" width=\"22\"/></a></span> Мо Тейлор\n",
            "</td>\n",
            "<td>Технический нокаут (удары)\n",
            "</td>\n",
            "<td>Cage Rage Contenders — Ireland vs. Belgium\n",
            "</td>\n",
            "<td><span data-sort-value=\"000000002008-05-03-0000\" style=\"white-space:nowrap\">3 мая 2008</span>\n",
            "</td>\n",
            "<td align=\"center\">1\n",
            "</td>\n",
            "<td align=\"center\">1:06\n",
            "</td>\n",
            "<td><a class=\"image\" href=\"/wiki/%D0%A4%D0%B0%D0%B9%D0%BB:Flag_of_Ireland.svg\" title=\"Флаг Ирландии\"><img alt=\"Флаг Ирландии\" class=\"thumbborder\" data-file-height=\"600\" data-file-width=\"1200\" decoding=\"async\" height=\"11\" src=\"//upload.wikimedia.org/wikipedia/commons/thumb/4/45/Flag_of_Ireland.svg/22px-Flag_of_Ireland.svg.png\" srcset=\"//upload.wikimedia.org/wikipedia/commons/thumb/4/45/Flag_of_Ireland.svg/33px-Flag_of_Ireland.svg.png 1.5x, //upload.wikimedia.org/wikipedia/commons/thumb/4/45/Flag_of_Ireland.svg/44px-Flag_of_Ireland.svg.png 2x\" width=\"22\"/></a> <a href=\"/wiki/%D0%94%D1%83%D0%B1%D0%BB%D0%B8%D0%BD\" title=\"Дублин\">Дублин</a>, <a href=\"/wiki/%D0%98%D1%80%D0%BB%D0%B0%D0%BD%D0%B4%D0%B8%D1%8F\" title=\"Ирландия\">Ирландия</a>\n",
            "</td>\n",
            "<td>\n",
            "</td></tr>\n",
            "<tr>\n",
            "<td class=\"table-yes2\" style=\"background:#bfd; color:black; vertical-align:middle; text-align:center;\">Победа\n",
            "</td>\n",
            "<td align=\"center\">1-0\n",
            "</td>\n",
            "<td><span class=\"flagicon\"><a class=\"image\" href=\"/wiki/%D0%A4%D0%B0%D0%B9%D0%BB:Flag_of_Ireland.svg\" title=\"Ирландия\"><img alt=\"Ирландия\" class=\"thumbborder\" data-file-height=\"600\" data-file-width=\"1200\" decoding=\"async\" height=\"11\" src=\"//upload.wikimedia.org/wikipedia/commons/thumb/4/45/Flag_of_Ireland.svg/22px-Flag_of_Ireland.svg.png\" srcset=\"//upload.wikimedia.org/wikipedia/commons/thumb/4/45/Flag_of_Ireland.svg/33px-Flag_of_Ireland.svg.png 1.5x, //upload.wikimedia.org/wikipedia/commons/thumb/4/45/Flag_of_Ireland.svg/44px-Flag_of_Ireland.svg.png 2x\" width=\"22\"/></a></span> Гэри Моррис\n",
            "</td>\n",
            "<td>Технический нокаут (удары)\n",
            "</td>\n",
            "<td>Cage of Truth 2\n",
            "</td>\n",
            "<td><span data-sort-value=\"000000002008-03-08-0000\" style=\"white-space:nowrap\">8 марта 2008</span>\n",
            "</td>\n",
            "<td align=\"center\">2\n",
            "</td>\n",
            "<td align=\"center\">нет данных\n",
            "</td>\n",
            "<td><a class=\"image\" href=\"/wiki/%D0%A4%D0%B0%D0%B9%D0%BB:Flag_of_Ireland.svg\" title=\"Флаг Ирландии\"><img alt=\"Флаг Ирландии\" class=\"thumbborder\" data-file-height=\"600\" data-file-width=\"1200\" decoding=\"async\" height=\"11\" src=\"//upload.wikimedia.org/wikipedia/commons/thumb/4/45/Flag_of_Ireland.svg/22px-Flag_of_Ireland.svg.png\" srcset=\"//upload.wikimedia.org/wikipedia/commons/thumb/4/45/Flag_of_Ireland.svg/33px-Flag_of_Ireland.svg.png 1.5x, //upload.wikimedia.org/wikipedia/commons/thumb/4/45/Flag_of_Ireland.svg/44px-Flag_of_Ireland.svg.png 2x\" width=\"22\"/></a> <a href=\"/wiki/%D0%94%D1%83%D0%B1%D0%BB%D0%B8%D0%BD\" title=\"Дублин\">Дублин</a>, <a href=\"/wiki/%D0%98%D1%80%D0%BB%D0%B0%D0%BD%D0%B4%D0%B8%D1%8F\" title=\"Ирландия\">Ирландия</a>\n",
            "</td>\n",
            "<td>\n",
            "</td></tr></tbody></table>\n",
            "<h2><span id=\".D0.A1.D1.82.D0.B0.D1.82.D0.B8.D1.81.D1.82.D0.B8.D0.BA.D0.B0_.D0.B2_.D0.BF.D1.80.D0.BE.D1.84.D0.B5.D1.81.D1.81.D0.B8.D0.BE.D0.BD.D0.B0.D0.BB.D1.8C.D0.BD.D0.BE.D0.BC_.D0.B1.D0.BE.D0.BA.D1.81.D0.B5\"/><span class=\"mw-headline\" id=\"Статистика_в_профессиональном_боксе\">Статистика в профессиональном боксе</span></h2>\n",
            "<div style=\"width: 40em;\">\n",
            "<div class=\"NavFrame collapsibleBox collapsed\" style=\"border-width: 1px; border-style: solid; border-color: lightsteelblue;\"><div class=\"NavHead collapsibleBox-title collapsibleBox-title-rightHideLink\" style=\"font-weight: bold; text-align: center; background-color: lightsteelblue;\">Как читать таблицу результатов боксёрских поединков</div><div class=\"NavContent\" style=\"font-size: 100%;\">\n",
            "<div style=\"font-size: 95%\">\n",
            "<p>В таблице перечислены результаты всех поединков боксёров.\n",
            "В каждой строке указан результат поединка. Дополнительно номер поединка обозначен цветом, который обозначает итог поединка. Расшифровка обозначений и цветов представлена в нижеследующей таблице.\n",
            "</p>\n",
            "</div>\n",
            "<table align=\"center\" class=\"wikitable\" style=\"margin-right:0; font-size:90%;\">\n",
            "<tbody><tr>\n",
            "<th>Пример\n",
            "</th>\n",
            "<th>Расшифровка\n",
            "</th></tr>\n",
            "<tr style=\"background-color:#9CEE90;\">\n",
            "<td>\n",
            "</td>\n",
            "<td>Победа\n",
            "</td></tr>\n",
            "<tr style=\"background-color:#87CEFA;\">\n",
            "<td>\n",
            "</td>\n",
            "<td>Ничья\n",
            "</td></tr>\n",
            "<tr style=\"background-color:#FF9273;\">\n",
            "<td>\n",
            "</td>\n",
            "<td>Поражение\n",
            "</td></tr>\n",
            "<tr style=\"background-color:#ffd700;\">\n",
            "<td>\n",
            "</td>\n",
            "<td>Планируемый поединок\n",
            "</td></tr>\n",
            "<tr style=\"background-color:#CECECE\">\n",
            "<td>\n",
            "</td>\n",
            "<td>Поединок признан несостоявшимся\n",
            "</td></tr>\n",
            "<tr>\n",
            "<td>КО\n",
            "</td>\n",
            "<td>Нокаут\n",
            "</td></tr>\n",
            "<tr>\n",
            "<td>ТКО\n",
            "</td>\n",
            "<td>Технический нокаут\n",
            "</td></tr>\n",
            "<tr>\n",
            "<td>UD, PTS\n",
            "</td>\n",
            "<td>Единогласное решение судей\n",
            "</td></tr>\n",
            "<tr>\n",
            "<td>MD\n",
            "</td>\n",
            "<td>Решение большинства судей\n",
            "</td></tr>\n",
            "<tr>\n",
            "<td>SD\n",
            "</td>\n",
            "<td>Раздельное решение судей\n",
            "</td></tr>\n",
            "<tr>\n",
            "<td>RTD\n",
            "</td>\n",
            "<td>Отказ от продолжения боя\n",
            "</td></tr>\n",
            "<tr>\n",
            "<td>DQ\n",
            "</td>\n",
            "<td>Дисквалификация\n",
            "</td></tr>\n",
            "<tr>\n",
            "<td>NC\n",
            "</td>\n",
            "<td>Поединок признан несостоявшимся\n",
            "</td></tr></tbody></table>\n",
            "</div></div>\n",
            "</div>\n",
            "<table class=\"wikitable\" style=\"font-size: 95%;\">\n",
            "<tbody><tr>\n",
            "<th>Бой</th>\n",
            "<th>Дата</th>\n",
            "<th>Соперник</th>\n",
            "<th>Место боя</th>\n",
            "<th>Результат</th>\n",
            "<th>Дополнительно\n",
            "</th></tr>\n",
            "<tr>\n",
            "<th style=\"background-color:#FF9273;\">0-1\n",
            "</th>\n",
            "<td><a href=\"/wiki/26_%D0%B0%D0%B2%D0%B3%D1%83%D1%81%D1%82%D0%B0\" title=\"26 августа\">26 августа</a> <a class=\"mw-redirect\" href=\"/wiki/2017\" title=\"2017\">2017</a>\n",
            "</td>\n",
            "<td><a class=\"image\" href=\"/wiki/%D0%A4%D0%B0%D0%B9%D0%BB:Flag_of_the_United_States.svg\" title=\"Флаг США\"><img alt=\"Флаг США\" class=\"thumbborder\" data-file-height=\"650\" data-file-width=\"1235\" decoding=\"async\" height=\"12\" src=\"//upload.wikimedia.org/wikipedia/commons/thumb/a/a4/Flag_of_the_United_States.svg/22px-Flag_of_the_United_States.svg.png\" srcset=\"//upload.wikimedia.org/wikipedia/commons/thumb/a/a4/Flag_of_the_United_States.svg/33px-Flag_of_the_United_States.svg.png 1.5x, //upload.wikimedia.org/wikipedia/commons/thumb/a/a4/Flag_of_the_United_States.svg/44px-Flag_of_the_United_States.svg.png 2x\" width=\"22\"/></a> <a href=\"/wiki/%D0%9C%D0%B5%D0%B9%D0%B2%D0%B5%D0%B7%D0%B5%D1%80,_%D0%A4%D0%BB%D0%BE%D0%B9%D0%B4\" title=\"Мейвезер, Флойд\">Флойд Мейвезер</a> <small>(49-0)</small>\n",
            "</td>\n",
            "<td><a class=\"image\" href=\"/wiki/%D0%A4%D0%B0%D0%B9%D0%BB:Flag_of_the_United_States.svg\" title=\"Флаг США\"><img alt=\"Флаг США\" class=\"thumbborder\" data-file-height=\"650\" data-file-width=\"1235\" decoding=\"async\" height=\"12\" src=\"//upload.wikimedia.org/wikipedia/commons/thumb/a/a4/Flag_of_the_United_States.svg/22px-Flag_of_the_United_States.svg.png\" srcset=\"//upload.wikimedia.org/wikipedia/commons/thumb/a/a4/Flag_of_the_United_States.svg/33px-Flag_of_the_United_States.svg.png 1.5x, //upload.wikimedia.org/wikipedia/commons/thumb/a/a4/Flag_of_the_United_States.svg/44px-Flag_of_the_United_States.svg.png 2x\" width=\"22\"/></a> <a href=\"/wiki/%D0%A2%D0%B8-%D0%9C%D0%BE%D0%B1%D0%B0%D0%B9%D0%BB_%D0%90%D1%80%D0%B5%D0%BD%D0%B0\" title=\"Ти-Мобайл Арена\">Ти-Мобайл Арена</a>, <a href=\"/wiki/%D0%9F%D0%B0%D1%80%D0%B0%D0%B4%D0%B0%D0%B9%D1%81_(%D0%9D%D0%B5%D0%B2%D0%B0%D0%B4%D0%B0)\" title=\"Парадайс (Невада)\">Парадайс</a>, <a href=\"/wiki/%D0%9D%D0%B5%D0%B2%D0%B0%D0%B4%D0%B0\" title=\"Невада\">Невада</a>, <a class=\"mw-redirect\" href=\"/wiki/%D0%A1%D0%A8%D0%90\" title=\"США\">США</a><sup class=\"reference\" id=\"cite_ref-44\"><a href=\"#cite_note-44\">[44]</a></sup><sup class=\"reference\" id=\"cite_ref-45\"><a href=\"#cite_note-45\">[45]</a></sup>\n",
            "</td>\n",
            "<td style=\"background-color:#FF9273;\"><a class=\"mw-redirect\" href=\"/wiki/%D0%A4%D0%BB%D0%BE%D0%B9%D0%B4_%D0%9C%D1%8D%D0%B9%D0%B2%D0%B5%D0%B7%D0%B5%D1%80_%E2%80%94_%D0%9A%D0%BE%D0%BD%D0%BE%D1%80_%D0%9C%D0%B0%D0%BA%D0%B3%D1%80%D0%B5%D0%B3%D0%BE%D1%80\" title=\"Флойд Мэйвезер — Конор Макгрегор\">TKO10</a> <small>(12), 1:05</small>\n",
            "</td>\n",
            "<td><small>Бой за специальный пояс <a class=\"mw-redirect\" href=\"/wiki/WBC\" title=\"WBC\">WBC</a> Money Belt. Профессиональный дебют.</small>\n",
            "</td></tr></tbody></table>\n",
            "<h2><span id=\".D0.9F.D1.80.D0.BE.D0.B8.D0.B7.D0.B2.D0.BE.D0.B4.D0.B8.D1.82.D0.B5.D0.BB.D1.8C_.D0.B2.D0.B8.D1.81.D0.BA.D0.B8\"/><span class=\"mw-headline\" id=\"Производитель_виски\">Производитель виски</span></h2>\n",
            "<table class=\"plainlinks metadata ambox ambox-content\" role=\"presentation\"><tbody><tr><td class=\"mbox-image\"><div style=\"width:52px\"><a href=\"/wiki/%D0%92%D0%B8%D0%BA%D0%B8%D0%BF%D0%B5%D0%B4%D0%B8%D1%8F:%D0%A1%D1%81%D1%8B%D0%BB%D0%BA%D0%B8_%D0%BD%D0%B0_%D0%B8%D1%81%D1%82%D0%BE%D1%87%D0%BD%D0%B8%D0%BA%D0%B8\" title=\"Ссылки на источники\"><img alt=\"Ссылки на источники\" data-file-height=\"204\" data-file-width=\"262\" decoding=\"async\" height=\"37\" src=\"//upload.wikimedia.org/wikipedia/commons/thumb/6/64/Question_book-4.svg/48px-Question_book-4.svg.png\" srcset=\"//upload.wikimedia.org/wikipedia/commons/thumb/6/64/Question_book-4.svg/72px-Question_book-4.svg.png 1.5x, //upload.wikimedia.org/wikipedia/commons/thumb/6/64/Question_book-4.svg/96px-Question_book-4.svg.png 2x\" width=\"48\"/></a></div></td><td class=\"mbox-text\"><div class=\"mbox-text-div\"><b>В этом разделе не хватает <a href=\"/wiki/%D0%92%D0%B8%D0%BA%D0%B8%D0%BF%D0%B5%D0%B4%D0%B8%D1%8F:%D0%A1%D1%81%D1%8B%D0%BB%D0%BA%D0%B8_%D0%BD%D0%B0_%D0%B8%D1%81%D1%82%D0%BE%D1%87%D0%BD%D0%B8%D0%BA%D0%B8\" title=\"Википедия:Ссылки на источники\">ссылок на источники информации</a>.</b></div><div class=\"mbox-textsmall-div hide-when-compact\" style=\"font-size:85%\">Информация должна быть <a href=\"/wiki/%D0%92%D0%B8%D0%BA%D0%B8%D0%BF%D0%B5%D0%B4%D0%B8%D1%8F:%D0%9F%D1%80%D0%BE%D0%B2%D0%B5%D1%80%D1%8F%D0%B5%D0%BC%D0%BE%D1%81%D1%82%D1%8C\" title=\"Википедия:Проверяемость\">проверяема</a>, иначе она может быть поставлена под сомнение и удалена.<br/>Вы можете <a class=\"external text\" href=\"https://ru.wikipedia.org/w/index.php?title=%D0%9C%D0%B0%D0%BA%D0%B3%D1%80%D0%B5%D0%B3%D0%BE%D1%80,_%D0%9A%D0%BE%D0%BD%D0%BE%D1%80&amp;action=edit\">отредактировать</a> эту статью, добавив ссылки на <a href=\"/wiki/%D0%92%D0%B8%D0%BA%D0%B8%D0%BF%D0%B5%D0%B4%D0%B8%D1%8F:%D0%90%D0%B2%D1%82%D0%BE%D1%80%D0%B8%D1%82%D0%B5%D1%82%D0%BD%D1%8B%D0%B5_%D0%B8%D1%81%D1%82%D0%BE%D1%87%D0%BD%D0%B8%D0%BA%D0%B8\" title=\"Википедия:Авторитетные источники\">авторитетные источники</a>.<br/>Эта отметка установлена  <b>22 августа 2019 года</b>.</div></td></tr></tbody></table>\n",
            "<p>Идею производить собственный виски Конор вынашивал давно, так как буквально с детства проникался культурой как производства, так и потребления ирландского виски. Впервые бутылку собственного виски ирландский боец представил публике 8 сентября 2018 года во время пресс-конференции, посвященной предстоящему бою с <a href=\"/wiki/%D0%9D%D1%83%D1%80%D0%BC%D0%B0%D0%B3%D0%BE%D0%BC%D0%B5%D0%B4%D0%BE%D0%B2,_%D0%A5%D0%B0%D0%B1%D0%B8%D0%B1_%D0%90%D0%B1%D0%B4%D1%83%D0%BB%D0%BC%D0%B0%D0%BD%D0%B0%D0%BF%D0%BE%D0%B2%D0%B8%D1%87\" title=\"Нурмагомедов, Хабиб Абдулманапович\">Хабибом Нурмагомедовым</a><sup class=\"reference\" id=\"cite_ref-46\"><a href=\"#cite_note-46\">[46]</a></sup>. При этом история виски началась ещё раньше, в августе 2017 — после проигранного боя с Мейвезером, Конор пришёл на пресс-конференцию с бутылкой виски, которая была названа в честь его прозвища — Notorious. Однако Конору пришлось изменить название, после общения с адвокатами, которые обещали ему дорогостоящие судебные тяжбы с пивоваренной компанией Carlos Brewing, которая уже успела зарегистрировать аналогичную товарную марку. В итоге 8 сентября 2018 года Макгрегор пришёл на встречу с журналистами с бутылкой виски Proper Twelve<sup class=\"reference\" id=\"cite_ref-47\"><a href=\"#cite_note-47\">[47]</a></sup><sup class=\"reference\" id=\"cite_ref-48\"><a href=\"#cite_note-48\">[48]</a></sup>.\n",
            "</p><p>Характеристики виски Макгрегора, как и история его создания состоит из множества маркетинговых тезисов, которые, как и имя основателя хорошо влияют на продажи напитка.\n",
            "</p><p>— Макгрегор лично выбирал купаж виски из более чем 100 предложенных.\n",
            "</p><p>— Виски производится на старейшей вискокурне Ирландии.\n",
            "</p><p>— Виски является эксклюзивным спонсором всех боёв Макгрегора под крышей UFC.\n",
            "</p><p>В становлении алкобизнеса Макгрегору активно помогал известный в Европе винокур Дэвид Элдер, который также работал с брендами <a href=\"/wiki/Old_Bushmills_Distillery\" title=\"Old Bushmills Distillery\">Bushmills</a> и <a href=\"/wiki/%D0%93%D0%B8%D0%BD%D0%BD%D0%B5%D1%81%D1%81\" title=\"Гиннесс\">Guinness</a>.\n",
            "</p><p>Благодаря деятельности Конора, напиток стал настолько популярен, что ряд магазинов в США ограничил продажу напитка двумя бутылками в одни руки<sup class=\"reference\" id=\"cite_ref-49\"><a href=\"#cite_note-49\">[49]</a></sup>.\n",
            "</p><p>C 2019 года Proper Twelve можно купить в России<sup class=\"reference\" id=\"cite_ref-50\"><a href=\"#cite_note-50\">[50]</a></sup>.\n",
            "</p><p>В марте 2021 года МакГрегор продал бренд мексиканской компании Becle, которая ранее была миноритарным акционером<sup class=\"reference\" id=\"cite_ref-51\"><a href=\"#cite_note-51\">[51]</a></sup>.\n",
            "</p>\n",
            "<h2><span id=\".D0.A1.D0.BC._.D1.82.D0.B0.D0.BA.D0.B6.D0.B5\"/><span class=\"mw-headline\" id=\"См._также\">См. также</span></h2>\n",
            "<ul><li><a href=\"/wiki/%D0%94%D0%B5%D0%B9%D1%81%D1%82%D0%B2%D1%83%D1%8E%D1%89%D0%B8%D0%B5_%D1%87%D0%B5%D0%BC%D0%BF%D0%B8%D0%BE%D0%BD%D1%8B_%D0%BC%D0%B8%D1%80%D0%B0_%D0%BF%D0%BE_%D1%81%D0%BC%D0%B5%D1%88%D0%B0%D0%BD%D0%BD%D1%8B%D0%BC_%D0%B5%D0%B4%D0%B8%D0%BD%D0%BE%D0%B1%D0%BE%D1%80%D1%81%D1%82%D0%B2%D0%B0%D0%BC\" title=\"Действующие чемпионы мира по смешанным единоборствам\">Действующие чемпионы мира по смешанным единоборствам</a></li></ul>\n",
            "<h2><span id=\".D0.9F.D1.80.D0.B8.D0.BC.D0.B5.D1.87.D0.B0.D0.BD.D0.B8.D1.8F\"/><span class=\"mw-headline\" id=\"Примечания\">Примечания</span></h2>\n",
            "<div class=\"reflist columns\" style=\"list-style-type: decimal;\">\n",
            "<div class=\"mw-references-wrap mw-references-columns\"><ol class=\"references\">\n",
            "<li id=\"cite_note-1\"><span class=\"mw-cite-backlink\"><a href=\"#cite_ref-1\">↑</a></span> <span class=\"reference-text\"><span class=\"citation\"><span class=\"citation\"><span lang=\"en\"><a class=\"external text\" href=\"http://www.ufc.com/fighter/Conor-McGregor?id=\" rel=\"nofollow\">Профиль Макгрегора на ufc.com</a></span> <span class=\"ref-info\" style=\"cursor:help;\" title=\"на английском языке\">(англ.)</span>.  ufc.com. <small>Дата обращения: 6 февраля 2016.</small></span></span></span>\n",
            "</li>\n",
            "<li id=\"cite_note-2\"><span class=\"mw-cite-backlink\"><a href=\"#cite_ref-2\">↑</a></span> <span class=\"reference-text\"><span class=\"citation\"><span class=\"citation\"><span lang=\"en\"><a class=\"external text\" href=\"http://www.ufc.com/rankings\" rel=\"nofollow\">UFC Fighter Rankings</a></span> <span class=\"ref-info\" style=\"cursor:help;\" title=\"на английском языке\">(англ.)</span>.  ufc.com. <small>Дата обращения: 2 февраля 2021.</small></span></span></span>\n",
            "</li>\n",
            "<li id=\"cite_note-3\"><span class=\"mw-cite-backlink\"><a href=\"#cite_ref-3\">↑</a></span> <span class=\"reference-text\"><span class=\"citation\"><span class=\"citation\"><span lang=\"en\"><a class=\"external text\" href=\"http://www.independent.ie/sport/mma/conor-mcgregor-tells-us-three-things-you-may-not-have-known-about-him-31223894.html\" rel=\"nofollow\">Conor McGregor tells us three things you may not have known about him</a></span> <span class=\"ref-info\" style=\"cursor:help;\" title=\"на английском языке\">(англ.)</span>.  independent.ie. <small>Дата обращения: 18 декабря 2015.</small></span></span></span>\n",
            "</li>\n",
            "<li id=\"cite_note-4\"><span class=\"mw-cite-backlink\"><a href=\"#cite_ref-4\">↑</a></span> <span class=\"reference-text\"><span class=\"citation\"><span class=\"citation\"><span lang=\"en\"><a class=\"external text\" href=\"http://www.independent.ie/sport/mma/exclusive-conor-mcgregor-the-haters-pay-their-money-in-the-hope-of-seeing-me-face-down-in-a-pool-of-my-own-blood-31223891.html\" rel=\"nofollow\">EXCLUSIVE Conor McGregor: The haters pay their money in the hope of seeing me face down in a pool of my own blood</a></span> <span class=\"ref-info\" style=\"cursor:help;\" title=\"на английском языке\">(англ.)</span>.  independent.ie. <small>Дата обращения: 18 декабря 2015.</small></span></span></span>\n",
            "</li>\n",
            "<li id=\"cite_note-5\"><span class=\"mw-cite-backlink\"><a href=\"#cite_ref-5\">↑</a></span> <span class=\"reference-text\"><span class=\"citation\"><span class=\"citation\"><span lang=\"en\"><a class=\"external text\" href=\"http://www.independent.ie/sport/mma/what-did-conor-mcgregor-do-to-get-his-kicks-before-ufc-superstardom-31388690.html\" rel=\"nofollow\">What did Conor McGregor do to get his kicks before UFC super-stardom?</a></span> <span class=\"ref-info\" style=\"cursor:help;\" title=\"на английском языке\">(англ.)</span>.  independent.ie. <small>Дата обращения: 18 декабря 2015.</small></span></span></span>\n",
            "</li>\n",
            "<li id=\"cite_note-6\"><span class=\"mw-cite-backlink\"><a href=\"#cite_ref-6\">↑</a></span> <span class=\"reference-text\"><span class=\"citation\"><span class=\"citation\"><i>Scott Harris.</i> <span lang=\"en\"><a class=\"external text\" href=\"http://bleacherreport.com/articles/1519897-uber-prospect-conor-mcgregor-signs-with-the-ufc\" rel=\"nofollow\">Uber-Prospect Conor McGregor Signs with the UFC</a></span> <span class=\"ref-info\" style=\"cursor:help;\" title=\"на английском языке\">(англ.)</span>.  bleacherreport.com (7 February 2013). <small>Дата обращения: 6 февраля 2016.</small></span></span></span>\n",
            "</li>\n",
            "<li id=\"cite_note-7\"><span class=\"mw-cite-backlink\"><a href=\"#cite_ref-7\">↑</a></span> <span class=\"reference-text\"><span class=\"citation\"><span class=\"citation\"><i>Dave Doyle.</i> <span lang=\"en\"><a class=\"external text\" href=\"http://www.mmafighting.com/2013/7/10/4512356/max-holloway-steps-up-against-conor-mcgregor-after-injury-forces-andy\" rel=\"nofollow\">Max Holloway steps up against Conor McGregor after injury forces Andy Ogle out</a></span> <span class=\"ref-info\" style=\"cursor:help;\" title=\"на английском языке\">(англ.)</span>.  mmafighting.com (10 July 2013). <small>Дата обращения: 6 февраля 2016.</small></span></span></span>\n",
            "</li>\n",
            "<li id=\"cite_note-8\"><span class=\"mw-cite-backlink\"><a href=\"#cite_ref-8\">↑</a></span> <span class=\"reference-text\"><span class=\"citation\"><span class=\"citation\"><span lang=\"und\"><a class=\"external text\" href=\"http://www.valetudo.ru/mma/news/5611-konor-makgregor-vybyvaet-na-10-mesacev\" rel=\"nofollow\">Конор МакГрегор выбывает на 10 месяцев</a></span><span class=\"hidden-ref\" style=\"display:none\"><b> <span class=\"ref-info\" style=\"cursor:help;\" title=\"на неопределённом языке\">(неопр.)</span></b></span>.  valetudo.ru (25 августа 2013). <small>Дата обращения: 6 февраля 2016.</small></span></span></span>\n",
            "</li>\n",
            "<li id=\"cite_note-9\"><span class=\"mw-cite-backlink\"><a href=\"#cite_ref-9\">↑</a></span> <span class=\"reference-text\"><span class=\"citation\"><span class=\"citation\"><i>Александр Гордополов.</i> <span lang=\"und\"><a class=\"external text\" href=\"http://tofight.ru/archives/15723\" rel=\"nofollow\">Коул Миллер травмировался, бой с Конором Макгрегором отменён</a></span><span class=\"hidden-ref\" style=\"display:none\"><b> <span class=\"ref-info\" style=\"cursor:help;\" title=\"на неопределённом языке\">(неопр.)</span></b></span>.  tofight.ru (4 июня 2014). <small>Дата обращения: 6 февраля 2016.</small></span></span></span>\n",
            "</li>\n",
            "<li id=\"cite_note-10\"><span class=\"mw-cite-backlink\"><a href=\"#cite_ref-10\">↑</a></span> <span class=\"reference-text\"><span class=\"citation\"><span class=\"citation\"><span lang=\"und\"><a class=\"external text\" href=\"http://www.championat.com/boxing/news-1944216-uajt-esli-aldu-vyigraet-u-mendesa-ego-sledujushhim-sopernikom-stanet-makgregor.html\" rel=\"nofollow\">Уайт: если Алду выиграет у Мендеса, его следующим соперником станет Макгрегор</a></span><span class=\"hidden-ref\" style=\"display:none\"><b> <span class=\"ref-info\" style=\"cursor:help;\" title=\"на неопределённом языке\">(неопр.)</span></b></span>. <i>Бокс/ММА</i>.  championat.com (3 октября 2014). <small>Дата обращения: 6 февраля 2016.</small></span></span></span>\n",
            "</li>\n",
            "<li id=\"cite_note-11\"><span class=\"mw-cite-backlink\"><a href=\"#cite_ref-11\">↑</a></span> <span class=\"reference-text\"><span class=\"citation\"><span class=\"citation\"><i>Staff.</i> <span lang=\"en\"><a class=\"external text\" href=\"http://mmajunkie.com/2014/10/conor-mcgregor-vs-dennis-siver-official-as-ufc-fight-night-59-headliner#\" rel=\"nofollow\">Conor McGregor vs. Dennis Siver official as UFC Fight Night 59 headliner</a></span> <span class=\"ref-info\" style=\"cursor:help;\" title=\"на английском языке\">(англ.)</span>.  mmajunkie.com (24 October 2015). <small>Дата обращения: 6 февраля 2016.</small></span></span></span>\n",
            "</li>\n",
            "<li id=\"cite_note-12\"><span class=\"mw-cite-backlink\"><a href=\"#cite_ref-12\">↑</a></span> <span class=\"reference-text\"><span class=\"citation\"><span class=\"citation\"><span lang=\"en\"><a class=\"external text\" href=\"https://www.bestfightodds.com/events/ufc-fight-night-59-mcgregor-vs-siver-895\" rel=\"nofollow\">UFC Fight Night 59: McGregor vs. Siver odds</a></span> <span class=\"ref-info\" style=\"cursor:help;\" title=\"на английском языке\">(англ.)</span>.  bestfightodds.com. <small>Дата обращения: 6 февраля 2016.</small></span></span></span>\n",
            "</li>\n",
            "<li id=\"cite_note-13\"><span class=\"mw-cite-backlink\"><a href=\"#cite_ref-13\">↑</a></span> <span class=\"reference-text\"><span class=\"citation\"><span class=\"citation\"><i>Павел Кушевский.</i> <span lang=\"und\"><a class=\"external text\" href=\"http://www.mmain.ru/boj-zhoze-aldo-vs-konor-makgregor-sostoitsja-11-ijulja-na-turnire-ufc-189/\" rel=\"nofollow\">Бой Жозе Альдо vs. Конор МакГрегор состоится 11 июля на турнире UFC 189</a></span><span class=\"hidden-ref\" style=\"display:none\"><b> <span class=\"ref-info\" style=\"cursor:help;\" title=\"на неопределённом языке\">(неопр.)</span></b></span>.  mmain.ru (31 января 2015). <small>Дата обращения: 6 февраля 2016.</small></span></span></span>\n",
            "</li>\n",
            "<li id=\"cite_note-14\"><span class=\"mw-cite-backlink\"><a href=\"#cite_ref-14\">↑</a></span> <span class=\"reference-text\"><span class=\"citation\"><span class=\"citation\"><i>Павел Кушевский.</i> <span lang=\"und\"><a class=\"external text\" href=\"http://www.mmain.ru/zhoze-aldo-vs-konor-makgregor-v-rio-de-zhanejro-proshla-pervaja-press-konferencija-k-ufc-189/\" rel=\"nofollow\">Жозе Алдо vs. Конор МакГрегор: в Рио-де-Жанейро прошла первая пресс-конференция к UFC 189</a></span><span class=\"hidden-ref\" style=\"display:none\"><b> <span class=\"ref-info\" style=\"cursor:help;\" title=\"на неопределённом языке\">(неопр.)</span></b></span>.  mmain.ru (20 марта 2015). <small>Дата обращения: 6 февраля 2016.</small></span></span></span>\n",
            "</li>\n",
            "<li id=\"cite_note-15\"><span class=\"mw-cite-backlink\"><a href=\"#cite_ref-15\">↑</a></span> <span class=\"reference-text\"><span class=\"citation\"><span class=\"citation\"><i>Павел Кушевский.</i> <span lang=\"und\"><a class=\"external text\" href=\"http://www.mmain.ru/konor-makgregor-ukral-chempionskij-pojas-u-zhoze-aldo-na-press-konferencii-v-dubline/\" rel=\"nofollow\">Конор МакГрегор украл чемпионский пояс у Жозе Альдо на пресс-конференции в Дублине</a></span><span class=\"hidden-ref\" style=\"display:none\"><b> <span class=\"ref-info\" style=\"cursor:help;\" title=\"на неопределённом языке\">(неопр.)</span></b></span>.  mmain.ru (1 апреля 2015). <small>Дата обращения: 6 февраля 2016.</small></span></span></span>\n",
            "</li>\n",
            "<li id=\"cite_note-16\"><span class=\"mw-cite-backlink\"><a href=\"#cite_ref-16\">↑</a></span> <span class=\"reference-text\"><span class=\"citation\"><span class=\"citation\"><i>Павел Кушевский.</i> <span lang=\"und\"><a class=\"external text\" href=\"http://www.mmain.ru/zhoze-aldo-travmirovan-boj-protiv-konora-makgregora-na-ufc-189-mozhet-byt-otmenen/\" rel=\"nofollow\">Жозе Альдо травмирован; бой против Конора МакГрегора на UFC 189 может быть отменён</a></span><span class=\"hidden-ref\" style=\"display:none\"><b> <span class=\"ref-info\" style=\"cursor:help;\" title=\"на неопределённом языке\">(неопр.)</span></b></span>.  mmain.ru (24 июня 2015). <small>Дата обращения: 20 сентября 2015.</small></span></span></span>\n",
            "</li>\n",
            "<li id=\"cite_note-17\"><span class=\"mw-cite-backlink\"><a href=\"#cite_ref-17\">↑</a></span> <span class=\"reference-text\"><span class=\"citation\"><span class=\"citation\"><span lang=\"und\"><a class=\"external text\" href=\"http://www.championat.com/boxing/news-2178414-ufc-podgotovila-zamenu-esli-aldu-ne-smozhet-provesti-poedinok-s-makgregorom.html\" rel=\"nofollow\">UFC подготовила замену, если Алду не сможет провести поединок с Макгрегором</a></span><span class=\"hidden-ref\" style=\"display:none\"><b> <span class=\"ref-info\" style=\"cursor:help;\" title=\"на неопределённом языке\">(неопр.)</span></b></span>. <i>Бокс/ММА</i>.  championat.com (26 июня 2015). <small>Дата обращения: 20 сентября 2015.</small></span></span></span>\n",
            "</li>\n",
            "<li id=\"cite_note-18\"><span class=\"mw-cite-backlink\"><a href=\"#cite_ref-18\">↑</a></span> <span class=\"reference-text\"><span class=\"citation\"><span class=\"citation\"><i>Павел Кушевский.</i> <span lang=\"und\"><a class=\"external text\" href=\"http://www.mmain.ru/zhoze-aldo-vybyl-iz-ufc-189-konor-makgregor-protiv-chada-mendesa-za-vremennyj-pojas-chempiona/\" rel=\"nofollow\">Жозе Альдо выбыл из UFC 189; Конор МакГрегор против Чада Мендеса за временный пояс чемпиона</a></span><span class=\"hidden-ref\" style=\"display:none\"><b> <span class=\"ref-info\" style=\"cursor:help;\" title=\"на неопределённом языке\">(неопр.)</span></b></span>.  mmain.ru (1 июля 2015). <small>Дата обращения: 20 сентября 2015.</small></span></span></span>\n",
            "</li>\n",
            "<li id=\"cite_note-19\"><span class=\"mw-cite-backlink\"><a href=\"#cite_ref-19\">↑</a></span> <span class=\"reference-text\"><span class=\"citation\"><span class=\"citation\"><i>Adrian MacNair.</i> <span lang=\"en\"><a class=\"external text\" href=\"http://www.mmamania.com/2015/9/4/9263737/epic-levels-of-trash-talk-at-gobig-as-conor-mcgregor-slams-everybody\" rel=\"nofollow\">Epic levels of trash talk at #GOBIG as Conor McGregor slams everybody on stage</a></span> <span class=\"ref-info\" style=\"cursor:help;\" title=\"на английском языке\">(англ.)</span>.  mmamania.com (4 September 2015). <small>Дата обращения: 6 февраля 2016.</small></span></span></span>\n",
            "</li>\n",
            "<li id=\"cite_note-20\"><span class=\"mw-cite-backlink\"><a href=\"#cite_ref-20\">↑</a></span> <span class=\"reference-text\"><span class=\"citation\"><span class=\"citation\"><i>Павел Кушевский.</i> <span lang=\"und\"><a class=\"external text\" href=\"http://www.mmain.ru/njejt-dias-vyjdet-protiv-konora-makgregora-na-ufc-196/\" rel=\"nofollow\">Нэйт Диас выйдет против Конора МакГрегора на UFC 196</a></span><span class=\"hidden-ref\" style=\"display:none\"><b> <span class=\"ref-info\" style=\"cursor:help;\" title=\"на неопределённом языке\">(неопр.)</span></b></span>.  mmain.ru (24 февраля 2016). <small>Дата обращения: 20 февраля 2016.</small></span></span></span>\n",
            "</li>\n",
            "<li id=\"cite_note-21\"><span class=\"mw-cite-backlink\"><a href=\"#cite_ref-21\">↑</a></span> <span class=\"reference-text\"><span class=\"citation\"><span class=\"citation\"><i>Павел Кушевский.</i> <span lang=\"und\"><a class=\"external text\" href=\"http://www.mmain.ru/posle-razogrevochnogo-boja-protiv-dos-anosa-makgregor-mozhet-dratsja-v-polusrednem-vese-ufc/\" rel=\"nofollow\">После «разогревочного боя» против Дос Аньоса, МакГрегор может драться в полусреднем весе</a></span><span class=\"hidden-ref\" style=\"display:none\"><b> <span class=\"ref-info\" style=\"cursor:help;\" title=\"на неопределённом языке\">(неопр.)</span></b></span>.  mmain.ru (14 января 2016). <small>Дата обращения: 20 февраля 2016.</small></span></span></span>\n",
            "</li>\n",
            "<li id=\"cite_note-22\"><span class=\"mw-cite-backlink\"><a href=\"#cite_ref-22\">↑</a></span> <span class=\"reference-text\"><span class=\"citation\"><span class=\"citation\"><span lang=\"und\"><a class=\"external text\" href=\"http://www.championat.com/boxing/news-2399538-makgregor-sledujushhij-shag---vozvrashhenie-v-poluljogkij-ves-i-zashhita-titula.html\" rel=\"nofollow\">Макгрегор: следующий шаг — возвращение в полулёгкий вес и защита титула</a></span><span class=\"hidden-ref\" style=\"display:none\"><b> <span class=\"ref-info\" style=\"cursor:help;\" title=\"на неопределённом языке\">(неопр.)</span></b></span>. <i>Бокс/ММА</i>.  championat.com (6 марта 2016). <small>Дата обращения: 28 февраля 2016.</small></span></span></span>\n",
            "</li>\n",
            "<li id=\"cite_note-23\"><span class=\"mw-cite-backlink\"><a href=\"#cite_ref-23\">↑</a></span> <span class=\"reference-text\"><span class=\"citation\"><span class=\"citation\"><span lang=\"und\"><a class=\"external text\" href=\"https://twitter.com/TheNotoriousMMA/status/722492455732584448\" rel=\"nofollow\">Conor McGregor on Twitter</a></span><span class=\"hidden-ref\" style=\"display:none\"><b> <span class=\"ref-info\" style=\"cursor:help;\" title=\"на неопределённом языке\">(неопр.)</span></b></span>. <small>Дата обращения: 30 июля 2016.</small></span></span></span>\n",
            "</li>\n",
            "<li id=\"cite_note-24\"><span class=\"mw-cite-backlink\"><a href=\"#cite_ref-24\">↑</a></span> <span class=\"reference-text\"><span class=\"citation\"><span class=\"citation\"><span lang=\"und\"><a class=\"external text\" href=\"https://www.facebook.com/thenotoriousmma/posts/1260441947357435\" rel=\"nofollow\">Conor McGregor - I am just trying to do my job and fight... | Facebook</a></span><span class=\"hidden-ref\" style=\"display:none\"><b> <span class=\"ref-info\" style=\"cursor:help;\" title=\"на неопределённом языке\">(неопр.)</span></b></span>.  www.facebook.com. <small>Дата обращения: 21 апреля 2016.</small></span></span></span>\n",
            "</li>\n",
            "<li id=\"cite_note-25\"><span class=\"mw-cite-backlink\"><a href=\"#cite_ref-25\">↑</a></span> <span class=\"reference-text\"><span class=\"citation\"><span class=\"citation\"><span lang=\"und\"><a class=\"external text\" href=\"http://www.ufc.com/event/UFC-202?id=\" rel=\"nofollow\">UFC 202</a></span><span class=\"hidden-ref\" style=\"display:none\"><b> <span class=\"ref-info\" style=\"cursor:help;\" title=\"на неопределённом языке\">(неопр.)</span></b></span>. <small>Дата обращения: 30 июля 2016.</small></span></span></span>\n",
            "</li>\n",
            "<li id=\"cite_note-:0-26\"><span class=\"mw-cite-backlink\"><a href=\"#cite_ref-:0_26-0\">↑</a></span> <span class=\"reference-text\"><span class=\"citation\"><span class=\"citation\"><i>Damon Martin.</i> <span lang=\"und\"><a class=\"external text\" href=\"http://www.foxsports.com/ufc/story/eddie-alvarez-vs-conor-mcgregor-headlines-ufc-205-in-new-york-092616\" rel=\"nofollow\">Eddie Alvarez vs. Conor McGregor headlines UFC 205 in New York</a></span><span class=\"hidden-ref\" style=\"display:none\"><b> <span class=\"ref-info\" style=\"cursor:help;\" title=\"на неопределённом языке\">(неопр.)</span></b></span>. <small>Дата обращения: 1 октября 2016.</small></span></span></span>\n",
            "</li>\n",
            "<li id=\"cite_note-27\"><span class=\"mw-cite-backlink\"><a href=\"#cite_ref-27\">↑</a></span> <span class=\"reference-text\"><span class=\"citation\"><a class=\"external text\" href=\"http://mmajunkie.com/2016/11/ufc-205-bonuses-conor-mcgregor-scores-another-50000-but-thats-probably-small-potatoes\" rel=\"nofollow\">UFC 205 bonuses: Conor McGregor scores another $50,000 – but that's probably small potatoes</a> <span class=\"ref-info\" style=\"cursor:help;\" title=\"на английском языке\">(англ.)</span>, <i>MMAjunkie</i> (13 November 2016). <small>Дата обращения 13 ноября 2016.</small></span></span>\n",
            "</li>\n",
            "<li id=\"cite_note-28\"><span class=\"mw-cite-backlink\"><a href=\"#cite_ref-28\">↑</a></span> <span class=\"reference-text\"><span class=\"citation\"><a class=\"external text\" href=\"http://www.ufc.com/news/McGregor-vacates-featherweight-title\" rel=\"nofollow\">McGregor vacates featherweight title; Aldo new undisputed champion</a>, <i>UFC</i>. <small>Дата обращения 27 ноября 2016.</small></span></span>\n",
            "</li>\n",
            "<li id=\"cite_note-29\"><span class=\"mw-cite-backlink\"><a href=\"#cite_ref-29\">↑</a></span> <span class=\"reference-text\"><span class=\"citation\">[Conor McGregor's UFC 205 Announcements: Time Off For Newborn, UFC Ownership Demand And An 'Apology' <a class=\"external free\" href=\"https://www.forbes.com/sites/mattconnolly/2016/11/13/conor-mcgregor-ufc-205-announcements-time-off-for-newborn-ufc-ownership-demand-and-an-apology/?sh=7cae2ab95b6d\" rel=\"nofollow\">https://www.forbes.com/sites/mattconnolly/2016/11/13/conor-mcgregor-ufc-205-announcements-time-off-for-newborn-ufc-ownership-demand-and-an-apology/?sh=7cae2ab95b6d</a>] <span class=\"ref-info\" style=\"cursor:help;\" title=\"на английском языке\">(англ.)</span>, <i>Forbes</i> (13 November 2016). <small>Дата обращения 25 ноября 2020.</small></span></span>\n",
            "</li>\n",
            "<li id=\"cite_note-30\"><span class=\"mw-cite-backlink\"><a href=\"#cite_ref-30\">↑</a></span> <span class=\"reference-text\"><span class=\"citation\"><span class=\"citation\"><span lang=\"ru\"><a class=\"external text\" href=\"https://www.kommersant.ru/doc/3867715\" rel=\"nofollow\">https://www.kommersant.ru/doc/3867715</a></span><span class=\"hidden-ref\" style=\"display:none\"> <span class=\"ref-info\" style=\"cursor:help;\" title=\"на русском языке\">(рус.)</span></span>.  www.kommersant.ru (29 января 2019). <small>Дата обращения: 30 января 2019.</small></span></span></span>\n",
            "</li>\n",
            "<li id=\"cite_note-31\"><span class=\"mw-cite-backlink\"><a href=\"#cite_ref-31\">↑</a></span> <span class=\"reference-text\"><span class=\"citation\"><span class=\"citation\"><span lang=\"ru\"><a class=\"external text\" href=\"https://rsport.ria.ru/20190326/1552108937.html\" rel=\"nofollow\">Конор Макгрегор объявил о завершении карьеры в смешанных единоборствах</a></span><span class=\"hidden-ref\" style=\"display:none\"> <span class=\"ref-info\" style=\"cursor:help;\" title=\"на русском языке\">(рус.)</span></span>.  Спорт РИА Новости (20190326T1124+0300Z). <small>Дата обращения: 26 марта 2019.</small></span></span></span>\n",
            "</li>\n",
            "<li id=\"cite_note-32\"><span class=\"mw-cite-backlink\"><a href=\"#cite_ref-32\">↑</a></span> <span class=\"reference-text\"><span class=\"citation\"><span class=\"citation\"><span lang=\"ru\"><a class=\"external text\" href=\"https://rsport.ria.ru/20190331/1552265298.html\" rel=\"nofollow\">Макгрегор вызвал на поединок голливудскую звезду Марка Уолберга</a></span><span class=\"hidden-ref\" style=\"display:none\"> <span class=\"ref-info\" style=\"cursor:help;\" title=\"на русском языке\">(рус.)</span></span>.  Спорт РИА Новости (20190331T1616+0300Z). <small>Дата обращения: 31 марта 2019.</small></span></span></span>\n",
            "</li>\n",
            "<li id=\"cite_note-33\"><span class=\"mw-cite-backlink\"><a href=\"#cite_ref-33\">↑</a></span> <span class=\"reference-text\"><a class=\"external text\" href=\"https://www.instagram.com/p/B6B9rb9jyBz//\" rel=\"nofollow\">ufc в Instagram: OFFICIAL. #UFC246</a></span>\n",
            "</li>\n",
            "<li id=\"cite_note-34\"><span class=\"mw-cite-backlink\"><a href=\"#cite_ref-34\">↑</a></span> <span class=\"reference-text\"><a class=\"external text\" href=\"https://ru.ufc.com/event/ufc-246#8247/\" rel=\"nofollow\">Результаты UFC 246</a> UFC Россия</span>\n",
            "</li>\n",
            "<li id=\"cite_note-35\"><span class=\"mw-cite-backlink\"><a href=\"#cite_ref-35\">↑</a></span> <span class=\"reference-text\"><a class=\"external text\" href=\"https://rg.ru/2020/01/19/makgregor-zaiavil-o-zhelanii-provesti-revansh-s-habibom-v-moskve.html/\" rel=\"nofollow\">Макгрегор заявил о желании провести реванш с Хабибом в Москве</a> Российская Газета</span>\n",
            "</li>\n",
            "<li id=\"cite_note-36\"><span class=\"mw-cite-backlink\"><a href=\"#cite_ref-36\">↑</a></span> <span class=\"reference-text\"><span class=\"citation\"><span class=\"citation\"><i>Микаил Гусейнов.</i> <span lang=\"ru\"><a class=\"external text\" href=\"https://www.championat.com/boxing/news-4054797-makgregor-objasnil-pochemu-reshil-zavershit-kareru.html\" rel=\"nofollow\">Макгрегор объяснил, почему решил завершить карьеру</a></span><span class=\"hidden-ref\" style=\"display:none\"> <span class=\"ref-info\" style=\"cursor:help;\" title=\"на русском языке\">(рус.)</span></span>.  www.championat.com. <small>Дата обращения: 7 июня 2020.</small></span></span></span>\n",
            "</li>\n",
            "<li id=\"cite_note-37\"><span class=\"mw-cite-backlink\"><a href=\"#cite_ref-37\">↑</a></span> <span class=\"reference-text\"><span class=\"citation\">[Conor McGregor vs. Dustin Poirier 2 in works for UFC 257 <a class=\"external free\" href=\"https://www.mmafighting.com/platform/amp/2020/11/10/21558071/conor-mcgregor-vs-dustin-poirier-2-officially-booked-for-ufc-257\" rel=\"nofollow\">https://www.mmafighting.com/platform/amp/2020/11/10/21558071/conor-mcgregor-vs-dustin-poirier-2-officially-booked-for-ufc-257</a>] <span class=\"ref-info\" style=\"cursor:help;\" title=\"на английском языке\">(англ.)</span>, <i>mmafighting</i> (10 November 2020). <small>Дата обращения 25 ноября 2020.</small></span></span>\n",
            "</li>\n",
            "<li id=\"cite_note-38\"><span class=\"mw-cite-backlink\"><a href=\"#cite_ref-38\">↑</a></span> <span class=\"reference-text\"><span class=\"citation\"><span class=\"citation\"><span lang=\"en\"><a class=\"external text\" href=\"http://mmaboxing.ru/news/news-mma/Konor-Makgregor-Ya-perehozhu-v-box-21475.html\" rel=\"nofollow\">Конор Макгрегор: «Я перехожу в бокс» - Новости ММА</a></span> <span class=\"ref-info\" style=\"cursor:help;\" title=\"на английском языке\">(англ.)</span>.  mmaboxing.ru. <small>Дата обращения: 6 августа 2017.</small></span></span></span>\n",
            "</li>\n",
            "<li id=\"cite_note-39\"><span class=\"mw-cite-backlink\"><a href=\"#cite_ref-39\">↑</a></span> <span class=\"reference-text\"><span class=\"citation\"><span class=\"citation\"><span lang=\"und\"><a class=\"external text\" href=\"https://www.championat.com/boxing/news-2717134-istochnik-mejvezer-mladshij-i-makgregor-soglasovali-kontrakt-na-boj.html\" rel=\"nofollow\">Источник: Мейвезер-младший и Макгрегор согласовали контракт на бой</a></span><span class=\"hidden-ref\" style=\"display:none\"><b> <span class=\"ref-info\" style=\"cursor:help;\" title=\"на неопределённом языке\">(неопр.)</span></b></span>.  www.championat.com. <small>Дата обращения: 6 августа 2017.</small></span></span></span>\n",
            "</li>\n",
            "<li id=\"cite_note-40\"><span class=\"mw-cite-backlink\"><a href=\"#cite_ref-40\">↑</a></span> <span class=\"reference-text\"><span class=\"citation\"><span class=\"citation\"><span lang=\"und\"><a class=\"external text\" href=\"https://www.sports.ru/boxing/1055085829.html\" rel=\"nofollow\">Флойд Мэйвезер победил Конора МакГрегора техническим нокаутом</a></span><span class=\"hidden-ref\" style=\"display:none\"><b> <span class=\"ref-info\" style=\"cursor:help;\" title=\"на неопределённом языке\">(неопр.)</span></b></span>.  Sport.ru (27 августа 2017). <small>Дата обращения: 27 августа 2017.</small></span></span></span>\n",
            "</li>\n",
            "<li id=\"cite_note-:1-41\"><span class=\"mw-cite-backlink\">↑ <a href=\"#cite_ref-:1_41-0\"><sup><i><b>1</b></i></sup></a> <a href=\"#cite_ref-:1_41-1\"><sup><i><b>2</b></i></sup></a> <a href=\"#cite_ref-:1_41-2\"><sup><i><b>3</b></i></sup></a> <a href=\"#cite_ref-:1_41-3\"><sup><i><b>4</b></i></sup></a></span> <span class=\"reference-text\"><span class=\"citation\"><span class=\"citation\"><span lang=\"en\"><a class=\"external text\" href=\"https://www.tapology.com/search/mma-event-figures/ppv-pay-per-view-buys-buyrate\" rel=\"nofollow\">Pay Per View Buys</a></span> <span class=\"ref-info\" style=\"cursor:help;\" title=\"на английском языке\">(англ.)</span>. <i>Tapology</i>. <small>Дата обращения: 23 января 2021.</small></span></span></span>\n",
            "</li>\n",
            "<li id=\"cite_note-:2-42\"><span class=\"mw-cite-backlink\">↑ <a href=\"#cite_ref-:2_42-0\"><sup><i><b>1</b></i></sup></a> <a href=\"#cite_ref-:2_42-1\"><sup><i><b>2</b></i></sup></a> <a href=\"#cite_ref-:2_42-2\"><sup><i><b>3</b></i></sup></a></span> <span class=\"reference-text\"><span class=\"citation\"><span class=\"citation\"><i>Alan Dawson.</i> <span lang=\"und\"><a class=\"external text\" href=\"https://www.businessinsider.com/the-50-best-selling-pay-per-view-events-boxing-ufc-wrestling-tv-history-2017-8\" rel=\"nofollow\">The 55 best-selling pay-per-view fight nights in history</a></span><span class=\"hidden-ref\" style=\"display:none\"><b> <span class=\"ref-info\" style=\"cursor:help;\" title=\"на неопределённом языке\">(неопр.)</span></b></span>. <i>Business Insider</i>. <small>Дата обращения: 23 января 2021.</small></span></span></span>\n",
            "</li>\n",
            "<li id=\"cite_note-43\"><span class=\"mw-cite-backlink\"><a href=\"#cite_ref-43\">↑</a></span> <span class=\"reference-text\"><span class=\"citation\"><span class=\"citation\"><span lang=\"en-US\"><a class=\"external text\" href=\"https://mmajunkie.usatoday.com/2021/01/ufc-257-conor-mcgregor-dustin-poirier-blockbuster-numbers-per-reports\" rel=\"nofollow\">UFC 257: Conor McGregor vs. Dustin Poirier does blockbuster PPV numbers, per reports</a></span> <span class=\"ref-info\" style=\"cursor:help;\" title=\"на английском языке\">(англ.)</span> <b> <span class=\"ref-info\" style=\"cursor:help;\" title=\"на неопределённом языке\">(неопр.)</span></b><a href=\"/wiki/%D0%9A%D0%B0%D1%82%D0%B5%D0%B3%D0%BE%D1%80%D0%B8%D1%8F:%D0%92%D0%B8%D0%BA%D0%B8%D0%BF%D0%B5%D0%B4%D0%B8%D1%8F:%D0%A1%D1%82%D0%B0%D1%82%D1%8C%D0%B8_%D1%81_%D0%BD%D0%B5%D0%BA%D0%BE%D1%80%D1%80%D0%B5%D0%BA%D1%82%D0%BD%D1%8B%D0%BC_%D0%B8%D1%81%D0%BF%D0%BE%D0%BB%D1%8C%D0%B7%D0%BE%D0%B2%D0%B0%D0%BD%D0%B8%D0%B5%D0%BC_%D1%88%D0%B0%D0%B1%D0%BB%D0%BE%D0%BD%D0%BE%D0%B2:Cite_web_(%D1%83%D0%BA%D0%B0%D0%B7%D0%B0%D0%BD_%D0%BD%D0%B5%D0%B2%D0%B5%D1%80%D0%BD%D1%8B%D0%B9_%D0%BA%D0%BE%D0%B4_%D1%8F%D0%B7%D1%8B%D0%BA%D0%B0)\" title=\"Категория:Википедия:Статьи с некорректным использованием шаблонов:Cite web (указан неверный код языка)\"> ?</a>. <i>MMA Junkie</i> (26 января 2021). <small>Дата обращения: 2 февраля 2021.</small></span></span></span>\n",
            "</li>\n",
            "<li id=\"cite_note-44\"><span class=\"mw-cite-backlink\"><a href=\"#cite_ref-44\">↑</a></span> <span class=\"reference-text\"><span class=\"citation\"><a class=\"external text\" href=\"https://sports.yahoo.com/floyd-mayweather-conor-mcgregor-fight-finalized-aug-26-205101486.html\" rel=\"nofollow\">Floyd Mayweather-Conor McGregor fight finalized for Aug. 26</a> <span class=\"ref-info\" style=\"cursor:help;\" title=\"на английском языке\">(англ.)</span>. <small>Дата обращения 27 августа 2017.</small></span></span>\n",
            "</li>\n",
            "<li id=\"cite_note-45\"><span class=\"mw-cite-backlink\"><a href=\"#cite_ref-45\">↑</a></span> <span class=\"reference-text\"><span class=\"citation\"><a class=\"external text\" href=\"http://www.espn.com/boxing/story/_/id/19637155/floyd-mayweather-conor-mcgregor-megafight-finalized-aug-26\" rel=\"nofollow\">It's on: Mayweather-McGregor fight finalized</a>, <i>ESPN.com</i>. <small>Дата обращения 27 августа 2017.</small></span></span>\n",
            "</li>\n",
            "<li id=\"cite_note-46\"><span class=\"mw-cite-backlink\"><a href=\"#cite_ref-46\">↑</a></span> <span class=\"reference-text\"><span class=\"citation\"><span class=\"citation\"><span lang=\"ru\"><a class=\"external text\" href=\"https://playboyrussia.com/data/bar/4-alkogolnykh-trenda-kotorye-poyavilis-v-ukhodyashchem-desyatiletii/\" rel=\"nofollow\">4 алкогольных тренда, которые появились в уходящем десятилетии</a></span><span class=\"hidden-ref\" style=\"display:none\"> <span class=\"ref-info\" style=\"cursor:help;\" title=\"на русском языке\">(рус.)</span></span>.  PlayBoy. <small>Дата обращения: 23 января 2020.</small></span></span></span>\n",
            "</li>\n",
            "<li id=\"cite_note-47\"><span class=\"mw-cite-backlink\"><a href=\"#cite_ref-47\">↑</a></span> <span class=\"reference-text\"><span class=\"citation\"><span class=\"citation\"><i>Михаил Приходько.</i> <span lang=\"und\"><a class=\"external text\" href=\"https://vc.ru/trade/66656-keys-proper-twelve-konor-makgregor-zapustil-sobstvennyy-brend-viski-i-vyshel-na-oborot-1-mlrd-v-god\" rel=\"nofollow\">Кейс Proper Twelve: Конор Макгрегор запустил собственный бренд виски и вышел на оборот $1 млрд в год — Торговля на vc.ru</a></span><span class=\"hidden-ref\" style=\"display:none\"><b> <span class=\"ref-info\" style=\"cursor:help;\" title=\"на неопределённом языке\">(неопр.)</span></b></span>.  vc.ru (7 мая 2019). <small>Дата обращения: 23 января 2020.</small></span></span></span>\n",
            "</li>\n",
            "<li id=\"cite_note-48\"><span class=\"mw-cite-backlink\"><a href=\"#cite_ref-48\">↑</a></span> <span class=\"reference-text\"><span class=\"citation\"><span class=\"citation\"><span lang=\"en\"><a class=\"external text\" href=\"https://properwhiskey.com/pages/story\" rel=\"nofollow\">About Conor McGregor's Whiskey- Proper No. Twelve</a></span> <span class=\"ref-info\" style=\"cursor:help;\" title=\"на английском языке\">(англ.)</span>.  Proper No. Twelve Irish Whiskey. <small>Дата обращения: 23 января 2020.</small></span></span></span>\n",
            "</li>\n",
            "<li id=\"cite_note-49\"><span class=\"mw-cite-backlink\"><a href=\"#cite_ref-49\">↑</a></span> <span class=\"reference-text\"><span class=\"citation\"><span class=\"citation\"><span lang=\"ru\"><a class=\"external text\" href=\"https://rsport.ria.ru/20181016/1144096733.html\" rel=\"nofollow\">Виски Макгрегора сметают с полок магазинов. И ругают за вкус</a></span><span class=\"hidden-ref\" style=\"display:none\"> <span class=\"ref-info\" style=\"cursor:help;\" title=\"на русском языке\">(рус.)</span></span>.  Спорт РИА Новости (20181016T1405+0300). <small>Дата обращения: 23 января 2020.</small></span></span></span>\n",
            "</li>\n",
            "<li id=\"cite_note-50\"><span class=\"mw-cite-backlink\"><a href=\"#cite_ref-50\">↑</a></span> <span class=\"reference-text\"><span class=\"citation\"><a class=\"external text\" href=\"https://www.kommersant.ru/doc/4045153\" rel=\"nofollow\">Россия распробует виски от Конора Макгрегора</a> // Коммерсантъ.</span></span>\n",
            "</li>\n",
            "<li id=\"cite_note-51\"><span class=\"mw-cite-backlink\"><a href=\"#cite_ref-51\">↑</a></span> <span class=\"reference-text\"><span class=\"citation\"><span class=\"citation\"><i>Александр Кожевников.</i> <span lang=\"ru\"><a class=\"external text\" href=\"https://www.championat.com/boxing/news-4285231-konor-makgregor-prodal-svoj-brend-viski-proper-12-meksikanskoj-kompanii.html\" rel=\"nofollow\">Конор Макгрегор продал свой бренд виски Proper 12 мексиканской компании</a></span><span class=\"hidden-ref\" style=\"display:none\"> <span class=\"ref-info\" style=\"cursor:help;\" title=\"на русском языке\">(рус.)</span></span>. <i>www.championat.com</i>. <small>Дата обращения: 4 марта 2021.</small></span></span></span>\n",
            "</li>\n",
            "</ol></div></div>\n",
            "<h2><span id=\".D0.A1.D1.81.D1.8B.D0.BB.D0.BA.D0.B8\"/><span class=\"mw-headline\" id=\"Ссылки\">Ссылки</span></h2>\n",
            "<style data-mw-deduplicate=\"TemplateStyles:r113275216\">.mw-parser-output .ts-Родственные_проекты{width:19em;box-sizing:border-box;margin:0 0 .5em 1em;padding:.4em;background:#f8f9fa;border:1px solid #a2a9b1;font-size:90%}.mw-parser-output .ts-Родственные_проекты-header{margin-bottom:.2em;padding:.2em .6em;font-size:110%}.mw-parser-output .ts-Родственные_проекты-item{display:flex;padding:.2em .6em}.mw-parser-output .ts-Родственные_проекты-image{min-width:24px;display:inline-block;margin-right:.4em;flex:none;vertical-align:top;text-align:center}.mw-parser-output .ts-Родственные_проекты-image img{vertical-align:middle}.mw-parser-output .ts-Родственные_проекты-label{align-self:center}@media(max-width:719px){.mw-parser-output .ts-Родственные_проекты{width:auto;margin-left:0;margin-right:0}}</style><div class=\"ts-Родственные_проекты tright metadata plainlinks plainlist noprint ruwikiWikimediaNavigation\"><div class=\"ts-Родственные_проекты-header\"><b>Конор Макгрегор:</b></div><ul><li class=\"ts-Родственные_проекты-item\"><span class=\"ts-Родственные_проекты-image\"><img alt=\"\" data-file-height=\"30\" data-file-width=\"30\" decoding=\"async\" height=\"24\" src=\"//upload.wikimedia.org/wikipedia/commons/thumb/5/5a/Notification-icon-Wikiquote.svg/24px-Notification-icon-Wikiquote.svg.png\" srcset=\"//upload.wikimedia.org/wikipedia/commons/thumb/5/5a/Notification-icon-Wikiquote.svg/36px-Notification-icon-Wikiquote.svg.png 1.5x, //upload.wikimedia.org/wikipedia/commons/thumb/5/5a/Notification-icon-Wikiquote.svg/48px-Notification-icon-Wikiquote.svg.png 2x\" width=\"24\"/></span><span class=\"ts-Родственные_проекты-label wikiquote-ref\"><a class=\"extiw\" href=\"https://ru.wikiquote.org/wiki/%D0%9A%D0%BE%D0%BD%D0%BE%D1%80_%D0%9C%D0%B0%D0%BA%D0%B3%D1%80%D0%B5%D0%B3%D0%BE%D1%80\" title=\"q:Конор Макгрегор\">Цитаты в Викицитатнике</a></span></li><li class=\"ts-Родственные_проекты-item\"><span class=\"ts-Родственные_проекты-image\"><img alt=\"\" data-file-height=\"30\" data-file-width=\"30\" decoding=\"async\" height=\"24\" src=\"//upload.wikimedia.org/wikipedia/commons/thumb/7/76/Notification-icon-Commons-logo.svg/24px-Notification-icon-Commons-logo.svg.png\" srcset=\"//upload.wikimedia.org/wikipedia/commons/thumb/7/76/Notification-icon-Commons-logo.svg/36px-Notification-icon-Commons-logo.svg.png 1.5x, //upload.wikimedia.org/wikipedia/commons/thumb/7/76/Notification-icon-Commons-logo.svg/48px-Notification-icon-Commons-logo.svg.png 2x\" width=\"24\"/></span><span class=\"ts-Родственные_проекты-label commons-ref\"><a class=\"extiw\" href=\"https://commons.wikimedia.org/wiki/Category:Conor_McGregor\" title=\"commons:Category:Conor McGregor\">Медиафайлы на Викискладе</a></span></li></ul></div>\n",
            "<ul><li class=\"mw-empty-elt\"/>\n",
            "<li><a class=\"external text\" href=\"https://ru.ufc.com/athlete/konor-makgregor\" rel=\"nofollow\">Профиль Конора Макгрегора на сайте UFC</a></li>\n",
            "<li><a class=\"external text\" href=\"http://www.sherdog.com/fighter/29688\" rel=\"nofollow\">Макгрегор, Конор</a> <span class=\"ref-info\" style=\"cursor:help;\" title=\"на английском языке\">(англ.)</span> — статистика профессиональных боёв на сайте <i><a href=\"/wiki/Sherdog\" title=\"Sherdog\">Sherdog</a></i></li>\n",
            "<li><a class=\"external text\" href=\"http://boxrec.com/en/boxer/802658\" rel=\"nofollow\">Макгрегор, Конор</a> <span class=\"ref-info\" style=\"cursor:help;\" title=\"на английском языке\">(англ.)</span> — статистика боёв на сайте <i><a href=\"/wiki/BoxRec\" title=\"BoxRec\">BoxRec</a></i></li></ul>\n",
            "<div aria-label=\"Навигационный шаблон\" class=\"navbox\" data-name=\"External links\" role=\"navigation\" style=\"padding:3px\"><table class=\"nowraplinks hlist navbox-inner\" style=\"border-spacing:0;background:transparent;color:inherit\"><tbody><tr><th class=\"navbox-group\" scope=\"row\" style=\"width:1px\"><div style=\"padding: 0 18px 0 0; width: 100%;\"><div style=\"float: left;\"><span class=\"noprint plainlinks nowrap\" style=\"font-size:85%;\"><a href=\"/wiki/%D0%A8%D0%B0%D0%B1%D0%BB%D0%BE%D0%BD:%D0%92%D0%BD%D0%B5%D1%88%D0%BD%D0%B8%D0%B5_%D1%81%D1%81%D1%8B%D0%BB%D0%BA%D0%B8\" title=\"Просмотр этого шаблона\"><img alt=\"⚙️\" data-file-height=\"14\" data-file-width=\"14\" decoding=\"async\" height=\"14\" src=\"//upload.wikimedia.org/wikipedia/commons/thumb/c/c9/Wikipedia_interwiki_section_gear_icon.svg/14px-Wikipedia_interwiki_section_gear_icon.svg.png\" srcset=\"//upload.wikimedia.org/wikipedia/commons/thumb/c/c9/Wikipedia_interwiki_section_gear_icon.svg/21px-Wikipedia_interwiki_section_gear_icon.svg.png 1.5x, //upload.wikimedia.org/wikipedia/commons/thumb/c/c9/Wikipedia_interwiki_section_gear_icon.svg/28px-Wikipedia_interwiki_section_gear_icon.svg.png 2x\" width=\"14\"/></a> </span></div>  В социальных сетях</div></th><td class=\"navbox-list navbox-odd\" style=\"text-align:left;border-left-width:2px;border-left-style:solid;width:100%;padding:0px\"><div style=\"padding:0em 0.25em\">\n",
            "<ul><li><a class=\"external text\" href=\"https://www.facebook.com/thenotoriousmma\" rel=\"nofollow\">Facebook</a> <span class=\"ref-info\" style=\"font-size:85%; cursor:help; color:#888;\" title=\"Английский язык\">(англ.)</span></li>\n",
            "<li><a class=\"external text\" href=\"https://twitter.com/TheNotoriousMMA\" rel=\"nofollow\">Твиттер</a> <span class=\"ref-info\" style=\"font-size:85%; cursor:help; color:#888;\" title=\"Английский язык\">(англ.)</span></li></ul>\n",
            "</div></td></tr><tr><th class=\"navbox-group\" scope=\"row\" style=\"width:1px\">Фото, видео и аудио</th><td class=\"navbox-list navbox-even\" style=\"text-align:left;border-left-width:2px;border-left-style:solid;width:100%;padding:0px\"><div style=\"padding:0em 0.25em\">\n",
            "<ul><li><a class=\"external text\" href=\"https://instagram.com/thenotoriousmma\" rel=\"nofollow\">Instagram</a> <span class=\"ref-info\" style=\"font-size:85%; cursor:help; color:#888;\" title=\"Английский язык\">(англ.)</span></li></ul>\n",
            "</div></td></tr><tr><th class=\"navbox-group\" scope=\"row\" style=\"width:1px\">Тематические сайты</th><td class=\"navbox-list navbox-odd\" style=\"text-align:left;border-left-width:2px;border-left-style:solid;width:100%;padding:0px\"><div style=\"padding:0em 0.25em\">\n",
            "<ul><li><a class=\"external text\" href=\"http://boxrec.com/boxer/802658\" rel=\"nofollow\">BoxRec</a></li>\n",
            "<li><a class=\"external text\" href=\"https://www.sherdog.com/fighter/29688\" rel=\"nofollow\">Sherdog</a></li>\n",
            "<li><a class=\"external text\" href=\"https://www.csfd.cz/tvurce/357297\" rel=\"nofollow\">ČSFD</a></li>\n",
            "<li><a class=\"external text\" href=\"https://www.imdb.com/name/nm6135552\" rel=\"nofollow\">Internet Movie Database</a></li></ul>\n",
            "</div></td></tr><tr><th class=\"navbox-group\" scope=\"row\" style=\"width:1px\"><a href=\"/wiki/%D0%9D%D0%BE%D1%80%D0%BC%D0%B0%D1%82%D0%B8%D0%B2%D0%BD%D1%8B%D0%B9_%D0%BA%D0%BE%D0%BD%D1%82%D1%80%D0%BE%D0%BB%D1%8C\" title=\"Нормативный контроль\">Нормативный контроль</a></th><td class=\"navbox-list navbox-even\" style=\"text-align:left;border-left-width:2px;border-left-style:solid;width:100%;padding:0px\"><div style=\"padding:0em 0.25em\">\n",
            "<ul><li><span style=\"border-bottom: 1px dotted; cursor: help;\" title=\"Gemeinsamer Thesaurus für audiovisuelle Archive\">GTAA</span>: <a class=\"external text\" href=\"http://data.beeldengeluid.nl/gtaa/1672970\" rel=\"nofollow\">1672970</a></li>\n",
            "<li><a href=\"/wiki/%D0%9C%D0%B5%D0%B6%D0%B4%D1%83%D0%BD%D0%B0%D1%80%D0%BE%D0%B4%D0%BD%D1%8B%D0%B9_%D0%B8%D0%B4%D0%B5%D0%BD%D1%82%D0%B8%D1%84%D0%B8%D0%BA%D0%B0%D1%82%D0%BE%D1%80_%D1%81%D1%82%D0%B0%D0%BD%D0%B4%D0%B0%D1%80%D1%82%D0%BD%D1%8B%D1%85_%D0%BD%D0%B0%D0%B8%D0%BC%D0%B5%D0%BD%D0%BE%D0%B2%D0%B0%D0%BD%D0%B8%D0%B9\" title=\"Международный идентификатор стандартных наименований\">ISNI</a>: <a class=\"external text\" href=\"http://isni-url.oclc.nl/isni/0000000464725895\" rel=\"nofollow\">0000 0004 6472 5895</a></li>\n",
            "<li><a href=\"/wiki/%D0%9A%D0%BE%D0%BD%D1%82%D1%80%D0%BE%D0%BB%D1%8C%D0%BD%D1%8B%D0%B9_%D0%BD%D0%BE%D0%BC%D0%B5%D1%80_%D0%91%D0%B8%D0%B1%D0%BB%D0%B8%D0%BE%D1%82%D0%B5%D0%BA%D0%B8_%D0%9A%D0%BE%D0%BD%D0%B3%D1%80%D0%B5%D1%81%D1%81%D0%B0\" title=\"Контрольный номер Библиотеки Конгресса\">LCCN</a>: <a class=\"external text\" href=\"https://id.loc.gov/authorities/no2016103901\" rel=\"nofollow\">no2016103901</a></li>\n",
            "<li><a href=\"/wiki/%D0%9D%D0%B0%D1%86%D0%B8%D0%BE%D0%BD%D0%B0%D0%BB%D1%8C%D0%BD%D0%B0%D1%8F_%D0%B1%D0%B8%D0%B1%D0%BB%D0%B8%D0%BE%D1%82%D0%B5%D0%BA%D0%B0_%D0%A7%D0%B5%D1%88%D1%81%D0%BA%D0%BE%D0%B9_%D0%A0%D0%B5%D1%81%D0%BF%D1%83%D0%B1%D0%BB%D0%B8%D0%BA%D0%B8\" title=\"Национальная библиотека Чешской Республики\">NKC</a>: <a class=\"external text\" href=\"http://aut.nkp.cz/xx0230269\" rel=\"nofollow\">xx0230269</a></li>\n",
            "<li><a href=\"/wiki/VIAF\" title=\"VIAF\">VIAF</a>: <a class=\"external text\" href=\"https://viaf.org/viaf/43147121811426392783\" rel=\"nofollow\">43147121811426392783</a></li>\n",
            "<li><a href=\"/wiki/WorldCat\" title=\"WorldCat\">WorldCat VIAF</a>: <a class=\"external text\" href=\"https://www.worldcat.org/identities/containsVIAFID/43147121811426392783\" rel=\"nofollow\">43147121811426392783</a></li></ul>\n",
            "</div></td></tr></tbody></table></div>\n",
            "<div class=\"navbox\" style=\"padding:1px;\">\n",
            "<table class=\"navbox-inner noprint\" style=\"border-spacing: 2px; background:transparent; color:inherit;\">\n",
            "<tbody><tr style=\"text-align: center;\">\n",
            "<td class=\"no-wikidata\" data-wikidata-property-id=\"P155\" style=\"background-color:#f8f9fa;\" width=\"30%\">Предшественник:<br/><b><a href=\"/wiki/%D0%90%D0%BB%D0%B4%D1%83,_%D0%96%D0%BE%D0%B7%D0%B5\" title=\"Алду, Жозе\">Жозе Алду</a></b>\n",
            "</td>\n",
            "<td style=\"text-align: center; font-size: 110%; background:#eaf3ff;\" width=\"40%\"><b>2-й <a href=\"/wiki/%D0%A1%D0%BF%D0%B8%D1%81%D0%BE%D0%BA_%D1%87%D0%B5%D0%BC%D0%BF%D0%B8%D0%BE%D0%BD%D0%BE%D0%B2_UFC#Чемпионы_в_полулёгком_весе\" title=\"Список чемпионов UFC\">чемпион UFC</a> в полулёгком весе</b><br/><span class=\"nowrap\">12 декабря 2015 — 26 ноября 2016</span>\n",
            "</td>\n",
            "<td class=\"no-wikidata\" data-wikidata-property-id=\"P156\" style=\"background-color:#f8f9fa;\" width=\"30%\">Преемник:<br/><b>Вакантный титул</b>\n",
            "</td></tr>\n",
            "<tr style=\"text-align: center;\">\n",
            "<td class=\"no-wikidata\" data-wikidata-property-id=\"P155\" style=\"background-color:#f8f9fa;\" width=\"30%\">Предшественник:<br/><b><a href=\"/wiki/%D0%90%D0%BB%D1%8C%D0%B2%D0%B0%D1%80%D0%B5%D1%81,_%D0%AD%D0%B4%D0%B4%D0%B8\" title=\"Альварес, Эдди\">Эдди Альварес</a></b>\n",
            "</td>\n",
            "<td style=\"text-align: center; font-size: 110%; background:#eaf3ff;\" width=\"40%\"><b>9-й <a href=\"/wiki/%D0%A1%D0%BF%D0%B8%D1%81%D0%BE%D0%BA_%D1%87%D0%B5%D0%BC%D0%BF%D0%B8%D0%BE%D0%BD%D0%BE%D0%B2_UFC#Чемпионы_в_лёгком_весе\" title=\"Список чемпионов UFC\">чемпион UFC</a> в лёгком весе</b><br/><span class=\"nowrap\">12 ноября 2016 — 7 апреля 2018</span>\n",
            "</td>\n",
            "<td class=\"no-wikidata\" data-wikidata-property-id=\"P156\" style=\"background-color:#f8f9fa;\" width=\"30%\">Преемник:<br/><b>Вакантный титул</b>\n",
            "</td></tr></tbody></table></div>\n",
            "<!-- \n",
            "NewPP limit report\n",
            "Parsed by mw1321\n",
            "Cached time: 20210509161051\n",
            "Cache expiry: 2592000\n",
            "Dynamic content: false\n",
            "Complications: []\n",
            "CPU time usage: 1.794 seconds\n",
            "Real time usage: 2.257 seconds\n",
            "Preprocessor visited node count: 21015/1000000\n",
            "Post‐expand include size: 224990/2097152 bytes\n",
            "Template argument size: 63332/2097152 bytes\n",
            "Highest expansion depth: 27/40\n",
            "Expensive parser function count: 19/500\n",
            "Unstrip recursion depth: 0/20\n",
            "Unstrip post‐expand size: 42078/5000000 bytes\n",
            "Lua time usage: 0.652/10.000 seconds\n",
            "Lua memory usage: 10925953/52428800 bytes\n",
            "Number of Wikibase entities loaded: 9/400\n",
            "-->\n",
            "<!--\n",
            "Transclusion expansion time report (%,ms,calls,template)\n",
            "100.00% 1988.221      1 -total\n",
            " 26.97%  536.256      1 Шаблон:Примечания\n",
            " 25.10%  498.993      1 Шаблон:Боец_смешанного_стиля\n",
            " 24.64%  489.985      1 Шаблон:Карточка\n",
            " 22.26%  442.676     41 Шаблон:Cite_web\n",
            " 12.23%  243.132      2 Шаблон:Нет_АИ\n",
            " 11.71%  232.777      2 Шаблон:Надстрочное_предупреждение\n",
            " 11.43%  227.292      2 Шаблон:Видимый_якорь\n",
            "  9.71%  192.998     52 Шаблон:Str_≠_len\n",
            "  8.52%  169.491      3 Шаблон:Сортировка:_статьи_без_источников\n",
            "-->\n",
            "<!-- Saved in parser cache with key ruwiki:pcache:idhash:5878202-0!canonical and timestamp 20210509161049 and revision id 112762038. Serialized with JSON.\n",
            " -->\n",
            "</div>\n"
          ],
          "name": "stdout"
        },
        {
          "output_type": "stream",
          "text": [
            "/usr/local/lib/python3.7/dist-packages/bs4/__init__.py:568: UserWarning: The BeautifulStoneSoup class is deprecated. Instead of using it, pass features=\"xml\" into the BeautifulSoup constructor.\n",
            "  'The BeautifulStoneSoup class is deprecated. Instead of using '\n"
          ],
          "name": "stderr"
        }
      ]
    },
    {
      "cell_type": "code",
      "metadata": {
        "colab": {
          "base_uri": "https://localhost:8080/",
          "height": 180
        },
        "id": "zldZbUCvsWIz",
        "outputId": "36908f68-bc6a-4f2f-8e3f-1406777ce886"
      },
      "source": [
        "with open('datasets/Макгрегор,_Конор.txt', 'r') as file:\n",
        "  wiki = file.read()"
      ],
      "execution_count": 3,
      "outputs": [
        {
          "output_type": "error",
          "ename": "FileNotFoundError",
          "evalue": "ignored",
          "traceback": [
            "\u001b[0;31m---------------------------------------------------------------------------\u001b[0m",
            "\u001b[0;31mFileNotFoundError\u001b[0m                         Traceback (most recent call last)",
            "\u001b[0;32m<ipython-input-3-7e7db000eb4c>\u001b[0m in \u001b[0;36m<module>\u001b[0;34m()\u001b[0m\n\u001b[0;32m----> 1\u001b[0;31m \u001b[0;32mwith\u001b[0m \u001b[0mopen\u001b[0m\u001b[0;34m(\u001b[0m\u001b[0;34m'datasets/Макгрегор,_Конор.txt'\u001b[0m\u001b[0;34m,\u001b[0m \u001b[0;34m'r'\u001b[0m\u001b[0;34m)\u001b[0m \u001b[0;32mas\u001b[0m \u001b[0mfile\u001b[0m\u001b[0;34m:\u001b[0m\u001b[0;34m\u001b[0m\u001b[0;34m\u001b[0m\u001b[0m\n\u001b[0m\u001b[1;32m      2\u001b[0m   \u001b[0mwiki\u001b[0m \u001b[0;34m=\u001b[0m \u001b[0mfile\u001b[0m\u001b[0;34m.\u001b[0m\u001b[0mread\u001b[0m\u001b[0;34m(\u001b[0m\u001b[0;34m)\u001b[0m\u001b[0;34m\u001b[0m\u001b[0;34m\u001b[0m\u001b[0m\n",
            "\u001b[0;31mFileNotFoundError\u001b[0m: [Errno 2] No such file or directory: 'datasets/Макгрегор,_Конор.txt'"
          ]
        }
      ]
    },
    {
      "cell_type": "markdown",
      "metadata": {
        "id": "LmKTbi-UwLJM"
      },
      "source": [
        "<h2> Quiz <h2>"
      ]
    },
    {
      "cell_type": "markdown",
      "metadata": {
        "id": "Gt2tyYXCTN8D"
      },
      "source": [
        "**Задание №1**"
      ]
    },
    {
      "cell_type": "code",
      "metadata": {
        "colab": {
          "base_uri": "https://localhost:8080/"
        },
        "id": "9hVdWLKD1F1p",
        "outputId": "38f66fed-1da9-4089-9659-9d67b855b097"
      },
      "source": [
        "import re\n",
        "string = 'bat, lat, mat, bet, let, met, bit, lit, mit, bot, lot, mot'\n",
        "result = re.findall('b[ao]t', string)\n",
        "print(result)"
      ],
      "execution_count": null,
      "outputs": [
        {
          "output_type": "stream",
          "text": [
            "['bat', 'bot']\n"
          ],
          "name": "stdout"
        }
      ]
    },
    {
      "cell_type": "markdown",
      "metadata": {
        "id": "gjC2bE9XTuDJ"
      },
      "source": [
        "**Задание №2**\n",
        "\n",
        "$L_2 = \\sqrt{\\sum_{i=1}^n (a_i - b_i)^2}$\n",
        "\n",
        "Предположим, что $a$ и $b$ - два (20, 20) массивa numpy. Расстояние $L_2$ (определенное выше) между двумя массивами равных размеров может быть вычислено в Python следующим образом:"
      ]
    },
    {
      "cell_type": "code",
      "metadata": {
        "id": "iuNpDZMy1Gqu"
      },
      "source": [
        "import numpy as np\n",
        "a = np.array([[1, 3, 5], [2, 4, 6], [1, 3, 5]])\n",
        "b = np.array([[7, 8, 3], [2, 5, 4], [2, 4, 6]])\n",
        "\n",
        "def l2_dist(a, b):\n",
        "    result = ((a - b) * (a - b)).sum()\n",
        "    result = result ** 0.5\n",
        "    return result"
      ],
      "execution_count": 36,
      "outputs": []
    },
    {
      "cell_type": "markdown",
      "metadata": {
        "id": "jSfo9KQqxLRT"
      },
      "source": [
        "Какое из следующих выражений, использующих эту функцию, приведет к ошибке?\n",
        "\n",
        "+ l2_dist(a, b)\n",
        "+ l2_dist(a.T, b.T)\n",
        "+ l2_dist(np.reshape(a, (20 * 20)), np.reshape(b, (20 * 20, 1)))\n",
        "+ l2_dist(np.reshape(a, (20 * 20)), np.reshape(b, (20 * 20)))"
      ]
    },
    {
      "cell_type": "code",
      "metadata": {
        "colab": {
          "base_uri": "https://localhost:8080/"
        },
        "id": "8HljNzXRxo4A",
        "outputId": "b8e79dd4-dcdb-4526-b1e5-33cbed5aaef5"
      },
      "source": [
        "l2_dist(np.reshape(a, (3 * 3)), np.reshape(b, (3 * 3)))"
      ],
      "execution_count": 40,
      "outputs": [
        {
          "output_type": "execute_result",
          "data": {
            "text/plain": [
              "8.54400374531753"
            ]
          },
          "metadata": {
            "tags": []
          },
          "execution_count": 40
        }
      ]
    },
    {
      "cell_type": "code",
      "metadata": {
        "colab": {
          "base_uri": "https://localhost:8080/"
        },
        "id": "-v-LqqX2UldB",
        "outputId": "31101604-af3d-4b7b-b8fe-8d8d6e2f9c23"
      },
      "source": [
        "b1 = np.reshape(xix, (2, 6), order='A')\n",
        "b1"
      ],
      "execution_count": null,
      "outputs": [
        {
          "output_type": "execute_result",
          "data": {
            "text/plain": [
              "array([[1, 3, 5, 2, 4, 6],\n",
              "       [1, 3, 5, 1, 3, 5]])"
            ]
          },
          "metadata": {
            "tags": []
          },
          "execution_count": 25
        }
      ]
    },
    {
      "cell_type": "code",
      "metadata": {
        "colab": {
          "base_uri": "https://localhost:8080/"
        },
        "id": "FTbudZwqXhok",
        "outputId": "67ab0b12-0a52-4ca3-f508-970830e42aee"
      },
      "source": [
        "b1[0 : 2, 0 : 2]"
      ],
      "execution_count": null,
      "outputs": [
        {
          "output_type": "execute_result",
          "data": {
            "text/plain": [
              "array([[1, 3],\n",
              "       [1, 3]])"
            ]
          },
          "metadata": {
            "tags": []
          },
          "execution_count": 32
        }
      ]
    },
    {
      "cell_type": "markdown",
      "metadata": {
        "id": "ZvKLOTaQzz0X"
      },
      "source": [
        "**Задание №3**"
      ]
    },
    {
      "cell_type": "code",
      "metadata": {
        "id": "W84rcg6-VC4X"
      },
      "source": [
        "a1 = np.random.rand(4)\n",
        "a2 = np.random.rand(4, 1)\n",
        "a3 = np.array([[1, 2, 3, 4]])\n",
        "a4 = np.arange(1, 4, 1)\n",
        "a5 = np.linspace(1 ,4, 4)"
      ],
      "execution_count": 62,
      "outputs": []
    },
    {
      "cell_type": "code",
      "metadata": {
        "colab": {
          "base_uri": "https://localhost:8080/"
        },
        "id": "flU1AMWK9QCb",
        "outputId": "b7896cd1-0631-4fc0-f8a6-e88b1c40cf21"
      },
      "source": [
        "a5.shape"
      ],
      "execution_count": 67,
      "outputs": [
        {
          "output_type": "execute_result",
          "data": {
            "text/plain": [
              "(4,)"
            ]
          },
          "metadata": {
            "tags": []
          },
          "execution_count": 67
        }
      ]
    },
    {
      "cell_type": "code",
      "metadata": {
        "colab": {
          "base_uri": "https://localhost:8080/"
        },
        "id": "0a07ddAxWizz",
        "outputId": "f8c3eaab-a756-4da2-b261-8abd8c76fba7"
      },
      "source": [
        "print(a1)\n",
        "print(a2)\n",
        "print(a3)\n",
        "print(a4)\n",
        "print(a5)\n",
        "print(a4.ndim)"
      ],
      "execution_count": 52,
      "outputs": [
        {
          "output_type": "stream",
          "text": [
            "[0.00826127 0.27490424 0.64725534 0.15982307]\n",
            "[[0.43476554]\n",
            " [0.34251163]\n",
            " [0.8496797 ]\n",
            " [0.84784069]]\n",
            "[[1 2 3 4]]\n",
            "[1 2 3]\n",
            "[1. 2. 3. 4.]\n",
            "1\n"
          ],
          "name": "stdout"
        }
      ]
    },
    {
      "cell_type": "markdown",
      "metadata": {
        "id": "tafS5i-20K1q"
      },
      "source": [
        "**Задание №4**"
      ]
    },
    {
      "cell_type": "code",
      "metadata": {
        "colab": {
          "base_uri": "https://localhost:8080/"
        },
        "id": "hta75Hr70OpW",
        "outputId": "d82ec1b9-7c85-442d-f709-a5d81ebe9975"
      },
      "source": [
        "import numpy as np\n",
        "\n",
        "old = np.array([[1, 1, 1], [1, 1, 1]])\n",
        "new = old\n",
        "new[0, :2] = 0\n",
        "\n",
        "print(old)"
      ],
      "execution_count": 54,
      "outputs": [
        {
          "output_type": "stream",
          "text": [
            "[[0 0 1]\n",
            " [1 1 1]]\n"
          ],
          "name": "stdout"
        }
      ]
    },
    {
      "cell_type": "markdown",
      "metadata": {
        "id": "ACCqlTWN7D-s"
      },
      "source": [
        "**Задание №5**"
      ]
    },
    {
      "cell_type": "code",
      "metadata": {
        "colab": {
          "base_uri": "https://localhost:8080/"
        },
        "id": "sAIImVdv7E17",
        "outputId": "02a0f570-cc79-4976-99ac-33030d38ccc8"
      },
      "source": [
        "massiv = np.array([[0, 1, 2, 3, 4, 5],\n",
        "          [6, 7, 8, 9, 10, 11],\n",
        "          [12, 13, 14, 15, 16, 17],\n",
        "          [18, 19, 20, 21, 22, 23],\n",
        "          [24, 25, 26, 27, 28, 29],\n",
        "          [30, 31, 32, 33, 34, 35]])\n",
        "\n",
        "massiv[2:4, 2:4]"
      ],
      "execution_count": 57,
      "outputs": [
        {
          "output_type": "execute_result",
          "data": {
            "text/plain": [
              "array([[14, 15],\n",
              "       [20, 21]])"
            ]
          },
          "metadata": {
            "tags": []
          },
          "execution_count": 57
        }
      ]
    },
    {
      "cell_type": "markdown",
      "metadata": {
        "id": "pLqxUHeJ704_"
      },
      "source": [
        "**Задание №6**\n"
      ]
    },
    {
      "cell_type": "code",
      "metadata": {
        "id": "NzDmFqmuWqmx"
      },
      "source": [
        "import re\n",
        "s = 'ACBCAC'"
      ],
      "execution_count": 58,
      "outputs": []
    },
    {
      "cell_type": "code",
      "metadata": {
        "colab": {
          "base_uri": "https://localhost:8080/"
        },
        "id": "6wTUkOUS7_nU",
        "outputId": "4ad470b5-f581-4f24-ba05-9d8ce788747d"
      },
      "source": [
        "print(re.findall('^AC', s))\n",
        "print(re.findall('AC', s))\n",
        "print(re.findall('^[AC]', s))\n",
        "print(re.findall('[^A]C', s))"
      ],
      "execution_count": 61,
      "outputs": [
        {
          "output_type": "stream",
          "text": [
            "['AC']\n",
            "['AC', 'AC']\n",
            "['A']\n",
            "['BC']\n"
          ],
          "name": "stdout"
        }
      ]
    },
    {
      "cell_type": "markdown",
      "metadata": {
        "id": "K91rePCg8dRl"
      },
      "source": [
        "**Задание №7**"
      ]
    },
    {
      "cell_type": "code",
      "metadata": {
        "colab": {
          "base_uri": "https://localhost:8080/"
        },
        "id": "H6dG82I6YEtg",
        "outputId": "6f699d41-bd16-4ff6-a12f-c1d54fcfc353"
      },
      "source": [
        "import re\n",
        "\n",
        "s = 'ACAABAACAAAB'\n",
        "result = re.findall('A{1,2}', s)\n",
        "L = len(result)\n",
        "\n",
        "L"
      ],
      "execution_count": null,
      "outputs": [
        {
          "output_type": "execute_result",
          "data": {
            "text/plain": [
              "5"
            ]
          },
          "metadata": {
            "tags": []
          },
          "execution_count": 37
        }
      ]
    },
    {
      "cell_type": "markdown",
      "metadata": {
        "id": "qgixwyGg9sZ5"
      },
      "source": [
        "**Задание №10**"
      ]
    },
    {
      "cell_type": "code",
      "metadata": {
        "id": "7V-WhRCY4i_B",
        "colab": {
          "base_uri": "https://localhost:8080/"
        },
        "outputId": "c4fcd5e2-3753-4e8a-978e-f798f2e4e91f"
      },
      "source": [
        "text=r'''Everyone has the following fundamental freedoms:\n",
        "    (a) freedom of conscience and religion;\n",
        "    (b) freedom of thought, belief, opinion and expression, including freedom of the press and other media of communication;\n",
        "    (c) freedom of peaceful assembly; and\n",
        "    (d) freedom of association.'''\n",
        "\n",
        "import re\n",
        "pattern = '\\(.\\)' \n",
        "print(len(re.findall(pattern,text)))"
      ],
      "execution_count": 75,
      "outputs": [
        {
          "output_type": "stream",
          "text": [
            "4\n"
          ],
          "name": "stdout"
        }
      ]
    },
    {
      "cell_type": "code",
      "metadata": {
        "id": "gf2-jGxK9t2E"
      },
      "source": [
        ""
      ],
      "execution_count": 71,
      "outputs": []
    }
  ]
}