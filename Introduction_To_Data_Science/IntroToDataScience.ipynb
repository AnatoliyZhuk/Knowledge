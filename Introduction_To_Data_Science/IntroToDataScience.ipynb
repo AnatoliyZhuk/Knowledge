{
  "nbformat": 4,
  "nbformat_minor": 0,
  "metadata": {
    "colab": {
      "name": "IntroToDataScience.ipynb",
      "provenance": [],
      "collapsed_sections": [],
      "authorship_tag": "ABX9TyM5DPkB3VPPlzbBZzwNW808",
      "include_colab_link": true
    },
    "kernelspec": {
      "name": "python3",
      "display_name": "Python 3"
    }
  },
  "cells": [
    {
      "cell_type": "markdown",
      "metadata": {
        "id": "view-in-github",
        "colab_type": "text"
      },
      "source": [
        "<a href=\"https://colab.research.google.com/github/AnatoliyZhuk/Knowledge/blob/main/Introduction_To_Data_Science/IntroToDataScience.ipynb\" target=\"_parent\"><img src=\"https://colab.research.google.com/assets/colab-badge.svg\" alt=\"Open In Colab\"/></a>"
      ]
    },
    {
      "cell_type": "markdown",
      "metadata": {
        "id": "c1h8kVGLh3DN"
      },
      "source": [
        "<h1>Введение в Data Science. Курс на Stepik.<h1/>"
      ]
    },
    {
      "cell_type": "markdown",
      "metadata": {
        "id": "DyK_S4YDkpVC"
      },
      "source": [
        "**Глава 1. Введение**"
      ]
    },
    {
      "cell_type": "code",
      "metadata": {
        "id": "KSjd4JgMlCNE"
      },
      "source": [
        "import pandas as pd\n",
        "import numpy as np"
      ],
      "execution_count": 1,
      "outputs": []
    },
    {
      "cell_type": "code",
      "metadata": {
        "id": "RYPnupSQlHey",
        "outputId": "275c1c8e-aa9e-4601-dd51-0cbd98b5e52a",
        "colab": {
          "base_uri": "https://localhost:8080/",
          "height": 142
        }
      },
      "source": [
        "# аргумент sep говорит о том, что в csv-файле принимается за разделитель\n",
        "student_performance = pd.read_csv('https://raw.githubusercontent.com/AnatoliyZhuk/Knowledge/main/Introduction_To_Data_Science/StudentsPerformance.csv', sep=',')\n",
        "student_performance.head(3)"
      ],
      "execution_count": 2,
      "outputs": [
        {
          "output_type": "execute_result",
          "data": {
            "text/html": [
              "<div>\n",
              "<style scoped>\n",
              "    .dataframe tbody tr th:only-of-type {\n",
              "        vertical-align: middle;\n",
              "    }\n",
              "\n",
              "    .dataframe tbody tr th {\n",
              "        vertical-align: top;\n",
              "    }\n",
              "\n",
              "    .dataframe thead th {\n",
              "        text-align: right;\n",
              "    }\n",
              "</style>\n",
              "<table border=\"1\" class=\"dataframe\">\n",
              "  <thead>\n",
              "    <tr style=\"text-align: right;\">\n",
              "      <th></th>\n",
              "      <th>gender</th>\n",
              "      <th>race/ethnicity</th>\n",
              "      <th>parental level of education</th>\n",
              "      <th>lunch</th>\n",
              "      <th>test preparation course</th>\n",
              "      <th>math score</th>\n",
              "      <th>reading score</th>\n",
              "      <th>writing score</th>\n",
              "    </tr>\n",
              "  </thead>\n",
              "  <tbody>\n",
              "    <tr>\n",
              "      <th>0</th>\n",
              "      <td>female</td>\n",
              "      <td>group B</td>\n",
              "      <td>bachelor's degree</td>\n",
              "      <td>standard</td>\n",
              "      <td>none</td>\n",
              "      <td>72</td>\n",
              "      <td>72</td>\n",
              "      <td>74</td>\n",
              "    </tr>\n",
              "    <tr>\n",
              "      <th>1</th>\n",
              "      <td>female</td>\n",
              "      <td>group C</td>\n",
              "      <td>some college</td>\n",
              "      <td>standard</td>\n",
              "      <td>completed</td>\n",
              "      <td>69</td>\n",
              "      <td>90</td>\n",
              "      <td>88</td>\n",
              "    </tr>\n",
              "    <tr>\n",
              "      <th>2</th>\n",
              "      <td>female</td>\n",
              "      <td>group B</td>\n",
              "      <td>master's degree</td>\n",
              "      <td>standard</td>\n",
              "      <td>none</td>\n",
              "      <td>90</td>\n",
              "      <td>95</td>\n",
              "      <td>93</td>\n",
              "    </tr>\n",
              "  </tbody>\n",
              "</table>\n",
              "</div>"
            ],
            "text/plain": [
              "   gender race/ethnicity  ... reading score writing score\n",
              "0  female        group B  ...            72            74\n",
              "1  female        group C  ...            90            88\n",
              "2  female        group B  ...            95            93\n",
              "\n",
              "[3 rows x 8 columns]"
            ]
          },
          "metadata": {
            "tags": []
          },
          "execution_count": 2
        }
      ]
    },
    {
      "cell_type": "markdown",
      "metadata": {
        "id": "uPdSt2I0mUe2"
      },
      "source": [
        "С помощью метод **describe** можно посмотреть на описательные статистики количественных переменных.<br/>\n",
        "С помощью атрибута **dtypes** можно посмотреть на тип данных признаков."
      ]
    },
    {
      "cell_type": "code",
      "metadata": {
        "id": "Cvk2dP34mMjs",
        "outputId": "f4e39773-5c8a-4273-d529-a091123fa208",
        "colab": {
          "base_uri": "https://localhost:8080/"
        }
      },
      "source": [
        "student_performance.describe()\n",
        "student_performance.dtypes"
      ],
      "execution_count": 3,
      "outputs": [
        {
          "output_type": "execute_result",
          "data": {
            "text/plain": [
              "gender                         object\n",
              "race/ethnicity                 object\n",
              "parental level of education    object\n",
              "lunch                          object\n",
              "test preparation course        object\n",
              "math score                      int64\n",
              "reading score                   int64\n",
              "writing score                   int64\n",
              "dtype: object"
            ]
          },
          "metadata": {
            "tags": []
          },
          "execution_count": 3
        }
      ]
    },
    {
      "cell_type": "markdown",
      "metadata": {
        "id": "IIbkwmByoQny"
      },
      "source": [
        "С помощью **iloc (integer location)** мы можем отбирать столбцы и строки из нашего dataframe по номеру позиции.<br/>\n",
        "\n",
        "Отрицательные индексы можно использовать, чтобы двигаться с конца, так \"-1\" это последнее значение.<br/>"
      ]
    },
    {
      "cell_type": "code",
      "metadata": {
        "id": "95kfbarvoCad",
        "outputId": "7fcaa00a-72fb-4549-f3cb-e38df1ef738d",
        "colab": {
          "base_uri": "https://localhost:8080/",
          "height": 142
        }
      },
      "source": [
        "#student_performance.iloc[[0, 3, -1], :] \n",
        "#student_performance.iloc[[0, 3, -1], 0:5] \n",
        "student_performance.iloc[0:3, 0:5]"
      ],
      "execution_count": 4,
      "outputs": [
        {
          "output_type": "execute_result",
          "data": {
            "text/html": [
              "<div>\n",
              "<style scoped>\n",
              "    .dataframe tbody tr th:only-of-type {\n",
              "        vertical-align: middle;\n",
              "    }\n",
              "\n",
              "    .dataframe tbody tr th {\n",
              "        vertical-align: top;\n",
              "    }\n",
              "\n",
              "    .dataframe thead th {\n",
              "        text-align: right;\n",
              "    }\n",
              "</style>\n",
              "<table border=\"1\" class=\"dataframe\">\n",
              "  <thead>\n",
              "    <tr style=\"text-align: right;\">\n",
              "      <th></th>\n",
              "      <th>gender</th>\n",
              "      <th>race/ethnicity</th>\n",
              "      <th>parental level of education</th>\n",
              "      <th>lunch</th>\n",
              "      <th>test preparation course</th>\n",
              "    </tr>\n",
              "  </thead>\n",
              "  <tbody>\n",
              "    <tr>\n",
              "      <th>0</th>\n",
              "      <td>female</td>\n",
              "      <td>group B</td>\n",
              "      <td>bachelor's degree</td>\n",
              "      <td>standard</td>\n",
              "      <td>none</td>\n",
              "    </tr>\n",
              "    <tr>\n",
              "      <th>1</th>\n",
              "      <td>female</td>\n",
              "      <td>group C</td>\n",
              "      <td>some college</td>\n",
              "      <td>standard</td>\n",
              "      <td>completed</td>\n",
              "    </tr>\n",
              "    <tr>\n",
              "      <th>2</th>\n",
              "      <td>female</td>\n",
              "      <td>group B</td>\n",
              "      <td>master's degree</td>\n",
              "      <td>standard</td>\n",
              "      <td>none</td>\n",
              "    </tr>\n",
              "  </tbody>\n",
              "</table>\n",
              "</div>"
            ],
            "text/plain": [
              "   gender race/ethnicity  ...     lunch test preparation course\n",
              "0  female        group B  ...  standard                    none\n",
              "1  female        group C  ...  standard               completed\n",
              "2  female        group B  ...  standard                    none\n",
              "\n",
              "[3 rows x 5 columns]"
            ]
          },
          "metadata": {
            "tags": []
          },
          "execution_count": 4
        }
      ]
    },
    {
      "cell_type": "markdown",
      "metadata": {
        "id": "ckeMm1AnqnX1"
      },
      "source": [
        "**Индекс** в pandas dataframe - это номер строки.<br/>\n",
        "Таким образом можем присвоить индексам имя. <br/>"
      ]
    },
    {
      "cell_type": "code",
      "metadata": {
        "id": "aMj2C-J9p_81",
        "outputId": "9ed94e2d-3533-4ed7-e01b-4d19d6f642ed",
        "colab": {
          "base_uri": "https://localhost:8080/",
          "height": 173
        }
      },
      "source": [
        "student_performance_name = student_performance.iloc[[0, 2, 4, 7]]\n",
        "student_performance_name.index = ['One', 'Tree', 'Five', 'Eight']\n",
        "student_performance_name"
      ],
      "execution_count": 5,
      "outputs": [
        {
          "output_type": "execute_result",
          "data": {
            "text/html": [
              "<div>\n",
              "<style scoped>\n",
              "    .dataframe tbody tr th:only-of-type {\n",
              "        vertical-align: middle;\n",
              "    }\n",
              "\n",
              "    .dataframe tbody tr th {\n",
              "        vertical-align: top;\n",
              "    }\n",
              "\n",
              "    .dataframe thead th {\n",
              "        text-align: right;\n",
              "    }\n",
              "</style>\n",
              "<table border=\"1\" class=\"dataframe\">\n",
              "  <thead>\n",
              "    <tr style=\"text-align: right;\">\n",
              "      <th></th>\n",
              "      <th>gender</th>\n",
              "      <th>race/ethnicity</th>\n",
              "      <th>parental level of education</th>\n",
              "      <th>lunch</th>\n",
              "      <th>test preparation course</th>\n",
              "      <th>math score</th>\n",
              "      <th>reading score</th>\n",
              "      <th>writing score</th>\n",
              "    </tr>\n",
              "  </thead>\n",
              "  <tbody>\n",
              "    <tr>\n",
              "      <th>One</th>\n",
              "      <td>female</td>\n",
              "      <td>group B</td>\n",
              "      <td>bachelor's degree</td>\n",
              "      <td>standard</td>\n",
              "      <td>none</td>\n",
              "      <td>72</td>\n",
              "      <td>72</td>\n",
              "      <td>74</td>\n",
              "    </tr>\n",
              "    <tr>\n",
              "      <th>Tree</th>\n",
              "      <td>female</td>\n",
              "      <td>group B</td>\n",
              "      <td>master's degree</td>\n",
              "      <td>standard</td>\n",
              "      <td>none</td>\n",
              "      <td>90</td>\n",
              "      <td>95</td>\n",
              "      <td>93</td>\n",
              "    </tr>\n",
              "    <tr>\n",
              "      <th>Five</th>\n",
              "      <td>male</td>\n",
              "      <td>group C</td>\n",
              "      <td>some college</td>\n",
              "      <td>standard</td>\n",
              "      <td>none</td>\n",
              "      <td>76</td>\n",
              "      <td>78</td>\n",
              "      <td>75</td>\n",
              "    </tr>\n",
              "    <tr>\n",
              "      <th>Eight</th>\n",
              "      <td>male</td>\n",
              "      <td>group B</td>\n",
              "      <td>some college</td>\n",
              "      <td>free/reduced</td>\n",
              "      <td>none</td>\n",
              "      <td>40</td>\n",
              "      <td>43</td>\n",
              "      <td>39</td>\n",
              "    </tr>\n",
              "  </tbody>\n",
              "</table>\n",
              "</div>"
            ],
            "text/plain": [
              "       gender race/ethnicity  ... reading score writing score\n",
              "One    female        group B  ...            72            74\n",
              "Tree   female        group B  ...            95            93\n",
              "Five     male        group C  ...            78            75\n",
              "Eight    male        group B  ...            43            39\n",
              "\n",
              "[4 rows x 8 columns]"
            ]
          },
          "metadata": {
            "tags": []
          },
          "execution_count": 5
        }
      ]
    },
    {
      "cell_type": "markdown",
      "metadata": {
        "id": "ZN_Z5jKsuK6_"
      },
      "source": [
        "После предыдущей процедуры может отбирать как строки, так и столбцы с помощью **loc (значения должны быть с формате string)**"
      ]
    },
    {
      "cell_type": "code",
      "metadata": {
        "id": "FCT786GsuWU9",
        "outputId": "115a09ec-5bd6-4f39-fe23-548f034aa6a3",
        "colab": {
          "base_uri": "https://localhost:8080/",
          "height": 111
        }
      },
      "source": [
        "student_performance_name.loc[['One', 'Five'], ['race/ethnicity', 'gender']]"
      ],
      "execution_count": 6,
      "outputs": [
        {
          "output_type": "execute_result",
          "data": {
            "text/html": [
              "<div>\n",
              "<style scoped>\n",
              "    .dataframe tbody tr th:only-of-type {\n",
              "        vertical-align: middle;\n",
              "    }\n",
              "\n",
              "    .dataframe tbody tr th {\n",
              "        vertical-align: top;\n",
              "    }\n",
              "\n",
              "    .dataframe thead th {\n",
              "        text-align: right;\n",
              "    }\n",
              "</style>\n",
              "<table border=\"1\" class=\"dataframe\">\n",
              "  <thead>\n",
              "    <tr style=\"text-align: right;\">\n",
              "      <th></th>\n",
              "      <th>race/ethnicity</th>\n",
              "      <th>gender</th>\n",
              "    </tr>\n",
              "  </thead>\n",
              "  <tbody>\n",
              "    <tr>\n",
              "      <th>One</th>\n",
              "      <td>group B</td>\n",
              "      <td>female</td>\n",
              "    </tr>\n",
              "    <tr>\n",
              "      <th>Five</th>\n",
              "      <td>group C</td>\n",
              "      <td>male</td>\n",
              "    </tr>\n",
              "  </tbody>\n",
              "</table>\n",
              "</div>"
            ],
            "text/plain": [
              "     race/ethnicity  gender\n",
              "One         group B  female\n",
              "Five        group C    male"
            ]
          },
          "metadata": {
            "tags": []
          },
          "execution_count": 6
        }
      ]
    },
    {
      "cell_type": "markdown",
      "metadata": {
        "id": "unyyMaH7xoDW"
      },
      "source": [
        "Если единичный столбец не поместить в квадратные скобки, то в итоге мы получим **Pandas Series**"
      ]
    },
    {
      "cell_type": "code",
      "metadata": {
        "id": "3FtnuerLxXlk",
        "outputId": "353082fe-6f0d-4e6e-f0a9-8f52d836e87a",
        "colab": {
          "base_uri": "https://localhost:8080/"
        }
      },
      "source": [
        "student_performance_name.loc[['One', 'Five'], 'gender']"
      ],
      "execution_count": 7,
      "outputs": [
        {
          "output_type": "execute_result",
          "data": {
            "text/plain": [
              "One     female\n",
              "Five      male\n",
              "Name: gender, dtype: object"
            ]
          },
          "metadata": {
            "tags": []
          },
          "execution_count": 7
        }
      ]
    },
    {
      "cell_type": "markdown",
      "metadata": {
        "id": "UEVwXqkxzaAF"
      },
      "source": [
        "Примеры отдельного построения **Pandas Series** и **Pandas DataFrame**"
      ]
    },
    {
      "cell_type": "code",
      "metadata": {
        "id": "dWL00lEnyF9E",
        "outputId": "77076d53-3f27-45fd-a45d-195c7274d4c4",
        "colab": {
          "base_uri": "https://localhost:8080/",
          "height": 142
        }
      },
      "source": [
        "num1 = pd.Series([1, 4, 3])\n",
        "num2 = pd.Series([1, 1, 2])\n",
        "num3 = pd.DataFrame({'col1' : num1, 'col2' : num2})\n",
        "num3"
      ],
      "execution_count": 8,
      "outputs": [
        {
          "output_type": "execute_result",
          "data": {
            "text/html": [
              "<div>\n",
              "<style scoped>\n",
              "    .dataframe tbody tr th:only-of-type {\n",
              "        vertical-align: middle;\n",
              "    }\n",
              "\n",
              "    .dataframe tbody tr th {\n",
              "        vertical-align: top;\n",
              "    }\n",
              "\n",
              "    .dataframe thead th {\n",
              "        text-align: right;\n",
              "    }\n",
              "</style>\n",
              "<table border=\"1\" class=\"dataframe\">\n",
              "  <thead>\n",
              "    <tr style=\"text-align: right;\">\n",
              "      <th></th>\n",
              "      <th>col1</th>\n",
              "      <th>col2</th>\n",
              "    </tr>\n",
              "  </thead>\n",
              "  <tbody>\n",
              "    <tr>\n",
              "      <th>0</th>\n",
              "      <td>1</td>\n",
              "      <td>1</td>\n",
              "    </tr>\n",
              "    <tr>\n",
              "      <th>1</th>\n",
              "      <td>4</td>\n",
              "      <td>1</td>\n",
              "    </tr>\n",
              "    <tr>\n",
              "      <th>2</th>\n",
              "      <td>3</td>\n",
              "      <td>2</td>\n",
              "    </tr>\n",
              "  </tbody>\n",
              "</table>\n",
              "</div>"
            ],
            "text/plain": [
              "   col1  col2\n",
              "0     1     1\n",
              "1     4     1\n",
              "2     3     2"
            ]
          },
          "metadata": {
            "tags": []
          },
          "execution_count": 8
        }
      ]
    },
    {
      "cell_type": "markdown",
      "metadata": {
        "id": "tDXLaL13zy6Q"
      },
      "source": [
        "<h1> Фильтрация данных <h1>"
      ]
    },
    {
      "cell_type": "markdown",
      "metadata": {
        "id": "8LuEGy9H0z-m"
      },
      "source": [
        "С помощью **loc** можно фильтровать по определенным значениям."
      ]
    },
    {
      "cell_type": "code",
      "metadata": {
        "id": "eHS2CahP0KjF",
        "outputId": "6ea6f9f2-491c-4d2d-a71d-f06ee701f2b8",
        "colab": {
          "base_uri": "https://localhost:8080/",
          "height": 419
        }
      },
      "source": [
        "# student_performance.loc[student_performance['gender'] == 'female', [gender, math score, reading score]].head(3)\n",
        "student_performance.loc[student_performance['gender'] == 'female']"
      ],
      "execution_count": 9,
      "outputs": [
        {
          "output_type": "execute_result",
          "data": {
            "text/html": [
              "<div>\n",
              "<style scoped>\n",
              "    .dataframe tbody tr th:only-of-type {\n",
              "        vertical-align: middle;\n",
              "    }\n",
              "\n",
              "    .dataframe tbody tr th {\n",
              "        vertical-align: top;\n",
              "    }\n",
              "\n",
              "    .dataframe thead th {\n",
              "        text-align: right;\n",
              "    }\n",
              "</style>\n",
              "<table border=\"1\" class=\"dataframe\">\n",
              "  <thead>\n",
              "    <tr style=\"text-align: right;\">\n",
              "      <th></th>\n",
              "      <th>gender</th>\n",
              "      <th>race/ethnicity</th>\n",
              "      <th>parental level of education</th>\n",
              "      <th>lunch</th>\n",
              "      <th>test preparation course</th>\n",
              "      <th>math score</th>\n",
              "      <th>reading score</th>\n",
              "      <th>writing score</th>\n",
              "    </tr>\n",
              "  </thead>\n",
              "  <tbody>\n",
              "    <tr>\n",
              "      <th>0</th>\n",
              "      <td>female</td>\n",
              "      <td>group B</td>\n",
              "      <td>bachelor's degree</td>\n",
              "      <td>standard</td>\n",
              "      <td>none</td>\n",
              "      <td>72</td>\n",
              "      <td>72</td>\n",
              "      <td>74</td>\n",
              "    </tr>\n",
              "    <tr>\n",
              "      <th>1</th>\n",
              "      <td>female</td>\n",
              "      <td>group C</td>\n",
              "      <td>some college</td>\n",
              "      <td>standard</td>\n",
              "      <td>completed</td>\n",
              "      <td>69</td>\n",
              "      <td>90</td>\n",
              "      <td>88</td>\n",
              "    </tr>\n",
              "    <tr>\n",
              "      <th>2</th>\n",
              "      <td>female</td>\n",
              "      <td>group B</td>\n",
              "      <td>master's degree</td>\n",
              "      <td>standard</td>\n",
              "      <td>none</td>\n",
              "      <td>90</td>\n",
              "      <td>95</td>\n",
              "      <td>93</td>\n",
              "    </tr>\n",
              "    <tr>\n",
              "      <th>5</th>\n",
              "      <td>female</td>\n",
              "      <td>group B</td>\n",
              "      <td>associate's degree</td>\n",
              "      <td>standard</td>\n",
              "      <td>none</td>\n",
              "      <td>71</td>\n",
              "      <td>83</td>\n",
              "      <td>78</td>\n",
              "    </tr>\n",
              "    <tr>\n",
              "      <th>6</th>\n",
              "      <td>female</td>\n",
              "      <td>group B</td>\n",
              "      <td>some college</td>\n",
              "      <td>standard</td>\n",
              "      <td>completed</td>\n",
              "      <td>88</td>\n",
              "      <td>95</td>\n",
              "      <td>92</td>\n",
              "    </tr>\n",
              "    <tr>\n",
              "      <th>...</th>\n",
              "      <td>...</td>\n",
              "      <td>...</td>\n",
              "      <td>...</td>\n",
              "      <td>...</td>\n",
              "      <td>...</td>\n",
              "      <td>...</td>\n",
              "      <td>...</td>\n",
              "      <td>...</td>\n",
              "    </tr>\n",
              "    <tr>\n",
              "      <th>993</th>\n",
              "      <td>female</td>\n",
              "      <td>group D</td>\n",
              "      <td>bachelor's degree</td>\n",
              "      <td>free/reduced</td>\n",
              "      <td>none</td>\n",
              "      <td>62</td>\n",
              "      <td>72</td>\n",
              "      <td>74</td>\n",
              "    </tr>\n",
              "    <tr>\n",
              "      <th>995</th>\n",
              "      <td>female</td>\n",
              "      <td>group E</td>\n",
              "      <td>master's degree</td>\n",
              "      <td>standard</td>\n",
              "      <td>completed</td>\n",
              "      <td>88</td>\n",
              "      <td>99</td>\n",
              "      <td>95</td>\n",
              "    </tr>\n",
              "    <tr>\n",
              "      <th>997</th>\n",
              "      <td>female</td>\n",
              "      <td>group C</td>\n",
              "      <td>high school</td>\n",
              "      <td>free/reduced</td>\n",
              "      <td>completed</td>\n",
              "      <td>59</td>\n",
              "      <td>71</td>\n",
              "      <td>65</td>\n",
              "    </tr>\n",
              "    <tr>\n",
              "      <th>998</th>\n",
              "      <td>female</td>\n",
              "      <td>group D</td>\n",
              "      <td>some college</td>\n",
              "      <td>standard</td>\n",
              "      <td>completed</td>\n",
              "      <td>68</td>\n",
              "      <td>78</td>\n",
              "      <td>77</td>\n",
              "    </tr>\n",
              "    <tr>\n",
              "      <th>999</th>\n",
              "      <td>female</td>\n",
              "      <td>group D</td>\n",
              "      <td>some college</td>\n",
              "      <td>free/reduced</td>\n",
              "      <td>none</td>\n",
              "      <td>77</td>\n",
              "      <td>86</td>\n",
              "      <td>86</td>\n",
              "    </tr>\n",
              "  </tbody>\n",
              "</table>\n",
              "<p>518 rows × 8 columns</p>\n",
              "</div>"
            ],
            "text/plain": [
              "     gender race/ethnicity  ... reading score writing score\n",
              "0    female        group B  ...            72            74\n",
              "1    female        group C  ...            90            88\n",
              "2    female        group B  ...            95            93\n",
              "5    female        group B  ...            83            78\n",
              "6    female        group B  ...            95            92\n",
              "..      ...            ...  ...           ...           ...\n",
              "993  female        group D  ...            72            74\n",
              "995  female        group E  ...            99            95\n",
              "997  female        group C  ...            71            65\n",
              "998  female        group D  ...            78            77\n",
              "999  female        group D  ...            86            86\n",
              "\n",
              "[518 rows x 8 columns]"
            ]
          },
          "metadata": {
            "tags": []
          },
          "execution_count": 9
        }
      ]
    },
    {
      "cell_type": "markdown",
      "metadata": {
        "id": "b0HSJgao12SJ"
      },
      "source": [
        "Некоторые примеры того, что можно делать:<br/>\n",
        "1. Считаем среднее значение по колонке **writing score**\n",
        "2. Отбираем все наблюдения, в которых **writing score** превышает среднее значение."
      ]
    },
    {
      "cell_type": "code",
      "metadata": {
        "id": "aro3pO9117Ju",
        "outputId": "fd9ebba1-ac67-478b-dc6d-20f6f6d5e4e1",
        "colab": {
          "base_uri": "https://localhost:8080/",
          "height": 419
        }
      },
      "source": [
        "mean_writing_score = student_performance['writing score'].mean()\n",
        "student_performance.loc[student_performance['writing score'] > mean_writing_score]"
      ],
      "execution_count": 10,
      "outputs": [
        {
          "output_type": "execute_result",
          "data": {
            "text/html": [
              "<div>\n",
              "<style scoped>\n",
              "    .dataframe tbody tr th:only-of-type {\n",
              "        vertical-align: middle;\n",
              "    }\n",
              "\n",
              "    .dataframe tbody tr th {\n",
              "        vertical-align: top;\n",
              "    }\n",
              "\n",
              "    .dataframe thead th {\n",
              "        text-align: right;\n",
              "    }\n",
              "</style>\n",
              "<table border=\"1\" class=\"dataframe\">\n",
              "  <thead>\n",
              "    <tr style=\"text-align: right;\">\n",
              "      <th></th>\n",
              "      <th>gender</th>\n",
              "      <th>race/ethnicity</th>\n",
              "      <th>parental level of education</th>\n",
              "      <th>lunch</th>\n",
              "      <th>test preparation course</th>\n",
              "      <th>math score</th>\n",
              "      <th>reading score</th>\n",
              "      <th>writing score</th>\n",
              "    </tr>\n",
              "  </thead>\n",
              "  <tbody>\n",
              "    <tr>\n",
              "      <th>0</th>\n",
              "      <td>female</td>\n",
              "      <td>group B</td>\n",
              "      <td>bachelor's degree</td>\n",
              "      <td>standard</td>\n",
              "      <td>none</td>\n",
              "      <td>72</td>\n",
              "      <td>72</td>\n",
              "      <td>74</td>\n",
              "    </tr>\n",
              "    <tr>\n",
              "      <th>1</th>\n",
              "      <td>female</td>\n",
              "      <td>group C</td>\n",
              "      <td>some college</td>\n",
              "      <td>standard</td>\n",
              "      <td>completed</td>\n",
              "      <td>69</td>\n",
              "      <td>90</td>\n",
              "      <td>88</td>\n",
              "    </tr>\n",
              "    <tr>\n",
              "      <th>2</th>\n",
              "      <td>female</td>\n",
              "      <td>group B</td>\n",
              "      <td>master's degree</td>\n",
              "      <td>standard</td>\n",
              "      <td>none</td>\n",
              "      <td>90</td>\n",
              "      <td>95</td>\n",
              "      <td>93</td>\n",
              "    </tr>\n",
              "    <tr>\n",
              "      <th>4</th>\n",
              "      <td>male</td>\n",
              "      <td>group C</td>\n",
              "      <td>some college</td>\n",
              "      <td>standard</td>\n",
              "      <td>none</td>\n",
              "      <td>76</td>\n",
              "      <td>78</td>\n",
              "      <td>75</td>\n",
              "    </tr>\n",
              "    <tr>\n",
              "      <th>5</th>\n",
              "      <td>female</td>\n",
              "      <td>group B</td>\n",
              "      <td>associate's degree</td>\n",
              "      <td>standard</td>\n",
              "      <td>none</td>\n",
              "      <td>71</td>\n",
              "      <td>83</td>\n",
              "      <td>78</td>\n",
              "    </tr>\n",
              "    <tr>\n",
              "      <th>...</th>\n",
              "      <td>...</td>\n",
              "      <td>...</td>\n",
              "      <td>...</td>\n",
              "      <td>...</td>\n",
              "      <td>...</td>\n",
              "      <td>...</td>\n",
              "      <td>...</td>\n",
              "      <td>...</td>\n",
              "    </tr>\n",
              "    <tr>\n",
              "      <th>992</th>\n",
              "      <td>female</td>\n",
              "      <td>group D</td>\n",
              "      <td>associate's degree</td>\n",
              "      <td>free/reduced</td>\n",
              "      <td>none</td>\n",
              "      <td>55</td>\n",
              "      <td>76</td>\n",
              "      <td>76</td>\n",
              "    </tr>\n",
              "    <tr>\n",
              "      <th>993</th>\n",
              "      <td>female</td>\n",
              "      <td>group D</td>\n",
              "      <td>bachelor's degree</td>\n",
              "      <td>free/reduced</td>\n",
              "      <td>none</td>\n",
              "      <td>62</td>\n",
              "      <td>72</td>\n",
              "      <td>74</td>\n",
              "    </tr>\n",
              "    <tr>\n",
              "      <th>995</th>\n",
              "      <td>female</td>\n",
              "      <td>group E</td>\n",
              "      <td>master's degree</td>\n",
              "      <td>standard</td>\n",
              "      <td>completed</td>\n",
              "      <td>88</td>\n",
              "      <td>99</td>\n",
              "      <td>95</td>\n",
              "    </tr>\n",
              "    <tr>\n",
              "      <th>998</th>\n",
              "      <td>female</td>\n",
              "      <td>group D</td>\n",
              "      <td>some college</td>\n",
              "      <td>standard</td>\n",
              "      <td>completed</td>\n",
              "      <td>68</td>\n",
              "      <td>78</td>\n",
              "      <td>77</td>\n",
              "    </tr>\n",
              "    <tr>\n",
              "      <th>999</th>\n",
              "      <td>female</td>\n",
              "      <td>group D</td>\n",
              "      <td>some college</td>\n",
              "      <td>free/reduced</td>\n",
              "      <td>none</td>\n",
              "      <td>77</td>\n",
              "      <td>86</td>\n",
              "      <td>86</td>\n",
              "    </tr>\n",
              "  </tbody>\n",
              "</table>\n",
              "<p>512 rows × 8 columns</p>\n",
              "</div>"
            ],
            "text/plain": [
              "     gender race/ethnicity  ... reading score writing score\n",
              "0    female        group B  ...            72            74\n",
              "1    female        group C  ...            90            88\n",
              "2    female        group B  ...            95            93\n",
              "4      male        group C  ...            78            75\n",
              "5    female        group B  ...            83            78\n",
              "..      ...            ...  ...           ...           ...\n",
              "992  female        group D  ...            76            76\n",
              "993  female        group D  ...            72            74\n",
              "995  female        group E  ...            99            95\n",
              "998  female        group D  ...            78            77\n",
              "999  female        group D  ...            86            86\n",
              "\n",
              "[512 rows x 8 columns]"
            ]
          },
          "metadata": {
            "tags": []
          },
          "execution_count": 10
        }
      ]
    },
    {
      "cell_type": "markdown",
      "metadata": {
        "id": "N2_AS-7232Ir"
      },
      "source": [
        "Рассмотрим ситуацию, когда необходимо переименовать названия столбцов, чтобы это сделать можно использовать атрибут **rename**"
      ]
    },
    {
      "cell_type": "code",
      "metadata": {
        "id": "RUw97GWr4NGA"
      },
      "source": [
        "student_performance = student_performance.rename(columns={'parental level of education' : 'parental_level_of_education', \n",
        "                                    'test preparation course' : 'test_preparation_course',\n",
        "                                    'math score' : 'math_score',\n",
        "                                    'reading score' : 'reading_score',\n",
        "                                    'writing score' : 'writing_score'})"
      ],
      "execution_count": 11,
      "outputs": []
    },
    {
      "cell_type": "markdown",
      "metadata": {
        "id": "sF-kHEAe5cL_"
      },
      "source": [
        "Рассмотрим как работает метод **query**:"
      ]
    },
    {
      "cell_type": "code",
      "metadata": {
        "id": "J9Za8igP7XV0"
      },
      "source": [
        "writing_score_query = 100"
      ],
      "execution_count": 12,
      "outputs": []
    },
    {
      "cell_type": "code",
      "metadata": {
        "id": "KiygIze65jLU",
        "outputId": "0f0f72ff-d402-4111-bc32-9f4322dc7002",
        "colab": {
          "base_uri": "https://localhost:8080/",
          "height": 419
        }
      },
      "source": [
        "# student_performance.query(\"writing_score > @writing_score_query\")\n",
        "# student_performance.query(\"gender == 'female'\")\n",
        "# student_performance.query(\"gender == 'female' & math_score > 74\")\n",
        "student_performance.query(\"math_score > 74\")"
      ],
      "execution_count": 13,
      "outputs": [
        {
          "output_type": "execute_result",
          "data": {
            "text/html": [
              "<div>\n",
              "<style scoped>\n",
              "    .dataframe tbody tr th:only-of-type {\n",
              "        vertical-align: middle;\n",
              "    }\n",
              "\n",
              "    .dataframe tbody tr th {\n",
              "        vertical-align: top;\n",
              "    }\n",
              "\n",
              "    .dataframe thead th {\n",
              "        text-align: right;\n",
              "    }\n",
              "</style>\n",
              "<table border=\"1\" class=\"dataframe\">\n",
              "  <thead>\n",
              "    <tr style=\"text-align: right;\">\n",
              "      <th></th>\n",
              "      <th>gender</th>\n",
              "      <th>race/ethnicity</th>\n",
              "      <th>parental_level_of_education</th>\n",
              "      <th>lunch</th>\n",
              "      <th>test_preparation_course</th>\n",
              "      <th>math_score</th>\n",
              "      <th>reading_score</th>\n",
              "      <th>writing_score</th>\n",
              "    </tr>\n",
              "  </thead>\n",
              "  <tbody>\n",
              "    <tr>\n",
              "      <th>2</th>\n",
              "      <td>female</td>\n",
              "      <td>group B</td>\n",
              "      <td>master's degree</td>\n",
              "      <td>standard</td>\n",
              "      <td>none</td>\n",
              "      <td>90</td>\n",
              "      <td>95</td>\n",
              "      <td>93</td>\n",
              "    </tr>\n",
              "    <tr>\n",
              "      <th>4</th>\n",
              "      <td>male</td>\n",
              "      <td>group C</td>\n",
              "      <td>some college</td>\n",
              "      <td>standard</td>\n",
              "      <td>none</td>\n",
              "      <td>76</td>\n",
              "      <td>78</td>\n",
              "      <td>75</td>\n",
              "    </tr>\n",
              "    <tr>\n",
              "      <th>6</th>\n",
              "      <td>female</td>\n",
              "      <td>group B</td>\n",
              "      <td>some college</td>\n",
              "      <td>standard</td>\n",
              "      <td>completed</td>\n",
              "      <td>88</td>\n",
              "      <td>95</td>\n",
              "      <td>92</td>\n",
              "    </tr>\n",
              "    <tr>\n",
              "      <th>13</th>\n",
              "      <td>male</td>\n",
              "      <td>group A</td>\n",
              "      <td>some college</td>\n",
              "      <td>standard</td>\n",
              "      <td>completed</td>\n",
              "      <td>78</td>\n",
              "      <td>72</td>\n",
              "      <td>70</td>\n",
              "    </tr>\n",
              "    <tr>\n",
              "      <th>16</th>\n",
              "      <td>male</td>\n",
              "      <td>group C</td>\n",
              "      <td>high school</td>\n",
              "      <td>standard</td>\n",
              "      <td>none</td>\n",
              "      <td>88</td>\n",
              "      <td>89</td>\n",
              "      <td>86</td>\n",
              "    </tr>\n",
              "    <tr>\n",
              "      <th>...</th>\n",
              "      <td>...</td>\n",
              "      <td>...</td>\n",
              "      <td>...</td>\n",
              "      <td>...</td>\n",
              "      <td>...</td>\n",
              "      <td>...</td>\n",
              "      <td>...</td>\n",
              "      <td>...</td>\n",
              "    </tr>\n",
              "    <tr>\n",
              "      <th>983</th>\n",
              "      <td>female</td>\n",
              "      <td>group A</td>\n",
              "      <td>some college</td>\n",
              "      <td>standard</td>\n",
              "      <td>completed</td>\n",
              "      <td>78</td>\n",
              "      <td>87</td>\n",
              "      <td>91</td>\n",
              "    </tr>\n",
              "    <tr>\n",
              "      <th>987</th>\n",
              "      <td>male</td>\n",
              "      <td>group E</td>\n",
              "      <td>some high school</td>\n",
              "      <td>standard</td>\n",
              "      <td>completed</td>\n",
              "      <td>81</td>\n",
              "      <td>75</td>\n",
              "      <td>76</td>\n",
              "    </tr>\n",
              "    <tr>\n",
              "      <th>990</th>\n",
              "      <td>male</td>\n",
              "      <td>group E</td>\n",
              "      <td>high school</td>\n",
              "      <td>free/reduced</td>\n",
              "      <td>completed</td>\n",
              "      <td>86</td>\n",
              "      <td>81</td>\n",
              "      <td>75</td>\n",
              "    </tr>\n",
              "    <tr>\n",
              "      <th>995</th>\n",
              "      <td>female</td>\n",
              "      <td>group E</td>\n",
              "      <td>master's degree</td>\n",
              "      <td>standard</td>\n",
              "      <td>completed</td>\n",
              "      <td>88</td>\n",
              "      <td>99</td>\n",
              "      <td>95</td>\n",
              "    </tr>\n",
              "    <tr>\n",
              "      <th>999</th>\n",
              "      <td>female</td>\n",
              "      <td>group D</td>\n",
              "      <td>some college</td>\n",
              "      <td>free/reduced</td>\n",
              "      <td>none</td>\n",
              "      <td>77</td>\n",
              "      <td>86</td>\n",
              "      <td>86</td>\n",
              "    </tr>\n",
              "  </tbody>\n",
              "</table>\n",
              "<p>295 rows × 8 columns</p>\n",
              "</div>"
            ],
            "text/plain": [
              "     gender race/ethnicity  ... reading_score writing_score\n",
              "2    female        group B  ...            95            93\n",
              "4      male        group C  ...            78            75\n",
              "6    female        group B  ...            95            92\n",
              "13     male        group A  ...            72            70\n",
              "16     male        group C  ...            89            86\n",
              "..      ...            ...  ...           ...           ...\n",
              "983  female        group A  ...            87            91\n",
              "987    male        group E  ...            75            76\n",
              "990    male        group E  ...            81            75\n",
              "995  female        group E  ...            99            95\n",
              "999  female        group D  ...            86            86\n",
              "\n",
              "[295 rows x 8 columns]"
            ]
          },
          "metadata": {
            "tags": []
          },
          "execution_count": 13
        }
      ]
    },
    {
      "cell_type": "markdown",
      "metadata": {
        "id": "eCal3e_W8unR"
      },
      "source": [
        "<h1> Группировка и агрегация <h1>"
      ]
    },
    {
      "cell_type": "markdown",
      "metadata": {
        "id": "V6d36tiU-Z7v"
      },
      "source": [
        "Снова начнем с исходного dataset'a"
      ]
    },
    {
      "cell_type": "code",
      "metadata": {
        "id": "u3IgEVH7-Evg",
        "outputId": "97516be2-50cd-47d5-f6f8-48c738809a2e",
        "colab": {
          "base_uri": "https://localhost:8080/",
          "height": 204
        }
      },
      "source": [
        "student_performance.head()"
      ],
      "execution_count": 14,
      "outputs": [
        {
          "output_type": "execute_result",
          "data": {
            "text/html": [
              "<div>\n",
              "<style scoped>\n",
              "    .dataframe tbody tr th:only-of-type {\n",
              "        vertical-align: middle;\n",
              "    }\n",
              "\n",
              "    .dataframe tbody tr th {\n",
              "        vertical-align: top;\n",
              "    }\n",
              "\n",
              "    .dataframe thead th {\n",
              "        text-align: right;\n",
              "    }\n",
              "</style>\n",
              "<table border=\"1\" class=\"dataframe\">\n",
              "  <thead>\n",
              "    <tr style=\"text-align: right;\">\n",
              "      <th></th>\n",
              "      <th>gender</th>\n",
              "      <th>race/ethnicity</th>\n",
              "      <th>parental_level_of_education</th>\n",
              "      <th>lunch</th>\n",
              "      <th>test_preparation_course</th>\n",
              "      <th>math_score</th>\n",
              "      <th>reading_score</th>\n",
              "      <th>writing_score</th>\n",
              "    </tr>\n",
              "  </thead>\n",
              "  <tbody>\n",
              "    <tr>\n",
              "      <th>0</th>\n",
              "      <td>female</td>\n",
              "      <td>group B</td>\n",
              "      <td>bachelor's degree</td>\n",
              "      <td>standard</td>\n",
              "      <td>none</td>\n",
              "      <td>72</td>\n",
              "      <td>72</td>\n",
              "      <td>74</td>\n",
              "    </tr>\n",
              "    <tr>\n",
              "      <th>1</th>\n",
              "      <td>female</td>\n",
              "      <td>group C</td>\n",
              "      <td>some college</td>\n",
              "      <td>standard</td>\n",
              "      <td>completed</td>\n",
              "      <td>69</td>\n",
              "      <td>90</td>\n",
              "      <td>88</td>\n",
              "    </tr>\n",
              "    <tr>\n",
              "      <th>2</th>\n",
              "      <td>female</td>\n",
              "      <td>group B</td>\n",
              "      <td>master's degree</td>\n",
              "      <td>standard</td>\n",
              "      <td>none</td>\n",
              "      <td>90</td>\n",
              "      <td>95</td>\n",
              "      <td>93</td>\n",
              "    </tr>\n",
              "    <tr>\n",
              "      <th>3</th>\n",
              "      <td>male</td>\n",
              "      <td>group A</td>\n",
              "      <td>associate's degree</td>\n",
              "      <td>free/reduced</td>\n",
              "      <td>none</td>\n",
              "      <td>47</td>\n",
              "      <td>57</td>\n",
              "      <td>44</td>\n",
              "    </tr>\n",
              "    <tr>\n",
              "      <th>4</th>\n",
              "      <td>male</td>\n",
              "      <td>group C</td>\n",
              "      <td>some college</td>\n",
              "      <td>standard</td>\n",
              "      <td>none</td>\n",
              "      <td>76</td>\n",
              "      <td>78</td>\n",
              "      <td>75</td>\n",
              "    </tr>\n",
              "  </tbody>\n",
              "</table>\n",
              "</div>"
            ],
            "text/plain": [
              "   gender race/ethnicity  ... reading_score writing_score\n",
              "0  female        group B  ...            72            74\n",
              "1  female        group C  ...            90            88\n",
              "2  female        group B  ...            95            93\n",
              "3    male        group A  ...            57            44\n",
              "4    male        group C  ...            78            75\n",
              "\n",
              "[5 rows x 8 columns]"
            ]
          },
          "metadata": {
            "tags": []
          },
          "execution_count": 14
        }
      ]
    },
    {
      "cell_type": "markdown",
      "metadata": {
        "id": "HeNG_HF7-pLn"
      },
      "source": [
        "Применяем к dataset'у метод **groupby** <br/>\n",
        "После чего можем выбирать какую характеристику мы хотим применить к группировки.<br/>\n",
        "Например используя метод **mean** получаем средние значения для всех количественных признаков, для всех значений из колонки **gender**"
      ]
    },
    {
      "cell_type": "code",
      "metadata": {
        "id": "NhRowLVMnWZV",
        "outputId": "01a1b635-597d-4bce-a664-b74af97045bc",
        "colab": {
          "base_uri": "https://localhost:8080/",
          "height": 142
        }
      },
      "source": [
        "student_performance.groupby('gender').mean()"
      ],
      "execution_count": 15,
      "outputs": [
        {
          "output_type": "execute_result",
          "data": {
            "text/html": [
              "<div>\n",
              "<style scoped>\n",
              "    .dataframe tbody tr th:only-of-type {\n",
              "        vertical-align: middle;\n",
              "    }\n",
              "\n",
              "    .dataframe tbody tr th {\n",
              "        vertical-align: top;\n",
              "    }\n",
              "\n",
              "    .dataframe thead th {\n",
              "        text-align: right;\n",
              "    }\n",
              "</style>\n",
              "<table border=\"1\" class=\"dataframe\">\n",
              "  <thead>\n",
              "    <tr style=\"text-align: right;\">\n",
              "      <th></th>\n",
              "      <th>math_score</th>\n",
              "      <th>reading_score</th>\n",
              "      <th>writing_score</th>\n",
              "    </tr>\n",
              "    <tr>\n",
              "      <th>gender</th>\n",
              "      <th></th>\n",
              "      <th></th>\n",
              "      <th></th>\n",
              "    </tr>\n",
              "  </thead>\n",
              "  <tbody>\n",
              "    <tr>\n",
              "      <th>female</th>\n",
              "      <td>63.633205</td>\n",
              "      <td>72.608108</td>\n",
              "      <td>72.467181</td>\n",
              "    </tr>\n",
              "    <tr>\n",
              "      <th>male</th>\n",
              "      <td>68.728216</td>\n",
              "      <td>65.473029</td>\n",
              "      <td>63.311203</td>\n",
              "    </tr>\n",
              "  </tbody>\n",
              "</table>\n",
              "</div>"
            ],
            "text/plain": [
              "        math_score  reading_score  writing_score\n",
              "gender                                          \n",
              "female   63.633205      72.608108      72.467181\n",
              "male     68.728216      65.473029      63.311203"
            ]
          },
          "metadata": {
            "tags": []
          },
          "execution_count": 15
        }
      ]
    },
    {
      "cell_type": "markdown",
      "metadata": {
        "id": "htiZBvFU_-7y"
      },
      "source": [
        "Чтобы более подробно расписать как мы хотим провести группировку используем метод **aggregate**"
      ]
    },
    {
      "cell_type": "markdown",
      "metadata": {
        "id": "7UchCEd5DnOr"
      },
      "source": [
        "<h1>Визуализация<h1>"
      ]
    },
    {
      "cell_type": "code",
      "metadata": {
        "id": "qZVclkybJRGU"
      },
      "source": [
        "import seaborn as sns"
      ],
      "execution_count": 16,
      "outputs": []
    },
    {
      "cell_type": "code",
      "metadata": {
        "id": "oYqf7VxSDvWg",
        "outputId": "ad4d2836-0732-47d6-8a33-6c071837d970",
        "colab": {
          "base_uri": "https://localhost:8080/",
          "height": 204
        }
      },
      "source": [
        "dota = pd.read_csv('https://raw.githubusercontent.com/AnatoliyZhuk/Knowledge/main/Introduction_To_Data_Science/dota_hero_stats.csv')\n",
        "dota.head()"
      ],
      "execution_count": 17,
      "outputs": [
        {
          "output_type": "execute_result",
          "data": {
            "text/html": [
              "<div>\n",
              "<style scoped>\n",
              "    .dataframe tbody tr th:only-of-type {\n",
              "        vertical-align: middle;\n",
              "    }\n",
              "\n",
              "    .dataframe tbody tr th {\n",
              "        vertical-align: top;\n",
              "    }\n",
              "\n",
              "    .dataframe thead th {\n",
              "        text-align: right;\n",
              "    }\n",
              "</style>\n",
              "<table border=\"1\" class=\"dataframe\">\n",
              "  <thead>\n",
              "    <tr style=\"text-align: right;\">\n",
              "      <th></th>\n",
              "      <th>Unnamed: 0</th>\n",
              "      <th>attack_type</th>\n",
              "      <th>id</th>\n",
              "      <th>legs</th>\n",
              "      <th>localized_name</th>\n",
              "      <th>name</th>\n",
              "      <th>primary_attr</th>\n",
              "      <th>roles</th>\n",
              "    </tr>\n",
              "  </thead>\n",
              "  <tbody>\n",
              "    <tr>\n",
              "      <th>0</th>\n",
              "      <td>0</td>\n",
              "      <td>Melee</td>\n",
              "      <td>1</td>\n",
              "      <td>2</td>\n",
              "      <td>Anti-Mage</td>\n",
              "      <td>npc_dota_hero_antimage</td>\n",
              "      <td>agi</td>\n",
              "      <td>['Carry', 'Escape', 'Nuker']</td>\n",
              "    </tr>\n",
              "    <tr>\n",
              "      <th>1</th>\n",
              "      <td>1</td>\n",
              "      <td>Melee</td>\n",
              "      <td>2</td>\n",
              "      <td>2</td>\n",
              "      <td>Axe</td>\n",
              "      <td>npc_dota_hero_axe</td>\n",
              "      <td>str</td>\n",
              "      <td>['Initiator', 'Durable', 'Disabler', 'Jungler']</td>\n",
              "    </tr>\n",
              "    <tr>\n",
              "      <th>2</th>\n",
              "      <td>2</td>\n",
              "      <td>Ranged</td>\n",
              "      <td>3</td>\n",
              "      <td>4</td>\n",
              "      <td>Bane</td>\n",
              "      <td>npc_dota_hero_bane</td>\n",
              "      <td>int</td>\n",
              "      <td>['Support', 'Disabler', 'Nuker', 'Durable']</td>\n",
              "    </tr>\n",
              "    <tr>\n",
              "      <th>3</th>\n",
              "      <td>3</td>\n",
              "      <td>Melee</td>\n",
              "      <td>4</td>\n",
              "      <td>2</td>\n",
              "      <td>Bloodseeker</td>\n",
              "      <td>npc_dota_hero_bloodseeker</td>\n",
              "      <td>agi</td>\n",
              "      <td>['Carry', 'Disabler', 'Jungler', 'Nuker', 'Ini...</td>\n",
              "    </tr>\n",
              "    <tr>\n",
              "      <th>4</th>\n",
              "      <td>4</td>\n",
              "      <td>Ranged</td>\n",
              "      <td>5</td>\n",
              "      <td>2</td>\n",
              "      <td>Crystal Maiden</td>\n",
              "      <td>npc_dota_hero_crystal_maiden</td>\n",
              "      <td>int</td>\n",
              "      <td>['Support', 'Disabler', 'Nuker', 'Jungler']</td>\n",
              "    </tr>\n",
              "  </tbody>\n",
              "</table>\n",
              "</div>"
            ],
            "text/plain": [
              "   Unnamed: 0  ...                                              roles\n",
              "0           0  ...                       ['Carry', 'Escape', 'Nuker']\n",
              "1           1  ...    ['Initiator', 'Durable', 'Disabler', 'Jungler']\n",
              "2           2  ...        ['Support', 'Disabler', 'Nuker', 'Durable']\n",
              "3           3  ...  ['Carry', 'Disabler', 'Jungler', 'Nuker', 'Ini...\n",
              "4           4  ...        ['Support', 'Disabler', 'Nuker', 'Jungler']\n",
              "\n",
              "[5 rows x 8 columns]"
            ]
          },
          "metadata": {
            "tags": []
          },
          "execution_count": 17
        }
      ]
    },
    {
      "cell_type": "code",
      "metadata": {
        "id": "Bamm47nSHiCU"
      },
      "source": [
        "lenths = [len(r.split(',')) for r in dota.roles]\n",
        "dota['lenths'] = lenths"
      ],
      "execution_count": 18,
      "outputs": []
    },
    {
      "cell_type": "code",
      "metadata": {
        "id": "ehSs4YnSHn0z",
        "outputId": "23d47289-446e-4d51-9f79-ae30c456cc85",
        "colab": {
          "base_uri": "https://localhost:8080/",
          "height": 282
        }
      },
      "source": [
        "dota['lenths'].hist()"
      ],
      "execution_count": 19,
      "outputs": [
        {
          "output_type": "execute_result",
          "data": {
            "text/plain": [
              "<matplotlib.axes._subplots.AxesSubplot at 0x7f8e265a60b8>"
            ]
          },
          "metadata": {
            "tags": []
          },
          "execution_count": 19
        },
        {
          "output_type": "display_data",
          "data": {
            "image/png": "[encoded data removed]",
            "text/plain": [
              "<Figure size 432x288 with 1 Axes>"
            ]
          },
          "metadata": {
            "tags": [],
            "needs_background": "light"
          }
        }
      ]
    },
    {
      "cell_type": "code",
      "metadata": {
        "id": "GUYBLhlKIfVQ",
        "outputId": "d3459ea2-5029-43e3-ea04-00131d42e707",
        "colab": {
          "base_uri": "https://localhost:8080/",
          "height": 204
        }
      },
      "source": [
        "exam = pd.read_csv('https://raw.githubusercontent.com/AnatoliyZhuk/Knowledge/main/Introduction_To_Data_Science/iris.csv')\n",
        "exam.head()\n"
      ],
      "execution_count": 20,
      "outputs": [
        {
          "output_type": "execute_result",
          "data": {
            "text/html": [
              "<div>\n",
              "<style scoped>\n",
              "    .dataframe tbody tr th:only-of-type {\n",
              "        vertical-align: middle;\n",
              "    }\n",
              "\n",
              "    .dataframe tbody tr th {\n",
              "        vertical-align: top;\n",
              "    }\n",
              "\n",
              "    .dataframe thead th {\n",
              "        text-align: right;\n",
              "    }\n",
              "</style>\n",
              "<table border=\"1\" class=\"dataframe\">\n",
              "  <thead>\n",
              "    <tr style=\"text-align: right;\">\n",
              "      <th></th>\n",
              "      <th>Unnamed: 0</th>\n",
              "      <th>sepal length</th>\n",
              "      <th>sepal width</th>\n",
              "      <th>petal length</th>\n",
              "      <th>petal width</th>\n",
              "      <th>species</th>\n",
              "    </tr>\n",
              "  </thead>\n",
              "  <tbody>\n",
              "    <tr>\n",
              "      <th>0</th>\n",
              "      <td>0</td>\n",
              "      <td>5.1</td>\n",
              "      <td>3.5</td>\n",
              "      <td>1.4</td>\n",
              "      <td>0.2</td>\n",
              "      <td>0</td>\n",
              "    </tr>\n",
              "    <tr>\n",
              "      <th>1</th>\n",
              "      <td>1</td>\n",
              "      <td>4.9</td>\n",
              "      <td>3.0</td>\n",
              "      <td>1.4</td>\n",
              "      <td>0.2</td>\n",
              "      <td>0</td>\n",
              "    </tr>\n",
              "    <tr>\n",
              "      <th>2</th>\n",
              "      <td>2</td>\n",
              "      <td>4.7</td>\n",
              "      <td>3.2</td>\n",
              "      <td>1.3</td>\n",
              "      <td>0.2</td>\n",
              "      <td>0</td>\n",
              "    </tr>\n",
              "    <tr>\n",
              "      <th>3</th>\n",
              "      <td>3</td>\n",
              "      <td>4.6</td>\n",
              "      <td>3.1</td>\n",
              "      <td>1.5</td>\n",
              "      <td>0.2</td>\n",
              "      <td>0</td>\n",
              "    </tr>\n",
              "    <tr>\n",
              "      <th>4</th>\n",
              "      <td>4</td>\n",
              "      <td>5.0</td>\n",
              "      <td>3.6</td>\n",
              "      <td>1.4</td>\n",
              "      <td>0.2</td>\n",
              "      <td>0</td>\n",
              "    </tr>\n",
              "  </tbody>\n",
              "</table>\n",
              "</div>"
            ],
            "text/plain": [
              "   Unnamed: 0  sepal length  sepal width  petal length  petal width  species\n",
              "0           0           5.1          3.5           1.4          0.2        0\n",
              "1           1           4.9          3.0           1.4          0.2        0\n",
              "2           2           4.7          3.2           1.3          0.2        0\n",
              "3           3           4.6          3.1           1.5          0.2        0\n",
              "4           4           5.0          3.6           1.4          0.2        0"
            ]
          },
          "metadata": {
            "tags": []
          },
          "execution_count": 20
        }
      ]
    },
    {
      "cell_type": "code",
      "metadata": {
        "id": "3Op5CPuFJEKo",
        "outputId": "c82bd242-7e7d-46d5-e23f-280be2b6e159",
        "colab": {
          "base_uri": "https://localhost:8080/",
          "height": 1000
        }
      },
      "source": [
        "sns.displot(exam['petal width'], color = \"blue\")\n",
        "sns.displot(exam['petal length'], color =\"green\")\n",
        "sns.displot(exam['sepal width'], color = \"yellow\")\n",
        "sns.displot(exam['sepal length'], color = \"orange\")\n",
        "None"
      ],
      "execution_count": 21,
      "outputs": [
        {
          "output_type": "display_data",
          "data": {
            "image/png": "[encoded data removed]",
            "text/plain": [
              "<Figure size 360x360 with 1 Axes>"
            ]
          },
          "metadata": {
            "tags": [],
            "needs_background": "light"
          }
        },
        {
          "output_type": "display_data",
          "data": {
            "image/png": "[encoded data removed]",
            "text/plain": [
              "<Figure size 360x360 with 1 Axes>"
            ]
          },
          "metadata": {
            "tags": [],
            "needs_background": "light"
          }
        },
        {
          "output_type": "display_data",
          "data": {
            "image/png": "[encoded data removed]",
            "text/plain": [
              "<Figure size 360x360 with 1 Axes>"
            ]
          },
          "metadata": {
            "tags": [],
            "needs_background": "light"
          }
        },
        {
          "output_type": "display_data",
          "data": {
            "image/png": "[encoded data removed]",
            "text/plain": [
              "<Figure size 360x360 with 1 Axes>"
            ]
          },
          "metadata": {
            "tags": [],
            "needs_background": "light"
          }
        }
      ]
    },
    {
      "cell_type": "code",
      "metadata": {
        "id": "mESPagLzLXw9",
        "outputId": "4fe488c9-6e18-4d41-8bcb-10ddbbe3f6f5",
        "colab": {
          "base_uri": "https://localhost:8080/",
          "height": 384
        }
      },
      "source": [
        "sns.violinplot(exam['petal length'], orient='v')"
      ],
      "execution_count": 22,
      "outputs": [
        {
          "output_type": "stream",
          "text": [
            "/usr/local/lib/python3.6/dist-packages/seaborn/_decorators.py:43: FutureWarning: Pass the following variable as a keyword arg: x. From version 0.12, the only valid positional argument will be `data`, and passing other arguments without an explicit keyword will result in an error or misinterpretation.\n",
            "  FutureWarning\n",
            "/usr/local/lib/python3.6/dist-packages/seaborn/_core.py:1303: UserWarning: Vertical orientation ignored with only `x` specified.\n",
            "  warnings.warn(single_var_warning.format(\"Vertical\", \"x\"))\n"
          ],
          "name": "stderr"
        },
        {
          "output_type": "execute_result",
          "data": {
            "text/plain": [
              "<matplotlib.axes._subplots.AxesSubplot at 0x7f8e23672ba8>"
            ]
          },
          "metadata": {
            "tags": []
          },
          "execution_count": 22
        },
        {
          "output_type": "display_data",
          "data": {
            "image/png": "[encoded data removed]",
            "text/plain": [
              "<Figure size 432x288 with 1 Axes>"
            ]
          },
          "metadata": {
            "tags": [],
            "needs_background": "light"
          }
        }
      ]
    },
    {
      "cell_type": "code",
      "metadata": {
        "id": "hrjps7m7MHXY",
        "outputId": "26ecf3f3-8f50-4672-95bd-70d9231a9c2a",
        "colab": {
          "base_uri": "https://localhost:8080/",
          "height": 235
        }
      },
      "source": [
        "exam.corr()"
      ],
      "execution_count": 23,
      "outputs": [
        {
          "output_type": "execute_result",
          "data": {
            "text/html": [
              "<div>\n",
              "<style scoped>\n",
              "    .dataframe tbody tr th:only-of-type {\n",
              "        vertical-align: middle;\n",
              "    }\n",
              "\n",
              "    .dataframe tbody tr th {\n",
              "        vertical-align: top;\n",
              "    }\n",
              "\n",
              "    .dataframe thead th {\n",
              "        text-align: right;\n",
              "    }\n",
              "</style>\n",
              "<table border=\"1\" class=\"dataframe\">\n",
              "  <thead>\n",
              "    <tr style=\"text-align: right;\">\n",
              "      <th></th>\n",
              "      <th>Unnamed: 0</th>\n",
              "      <th>sepal length</th>\n",
              "      <th>sepal width</th>\n",
              "      <th>petal length</th>\n",
              "      <th>petal width</th>\n",
              "      <th>species</th>\n",
              "    </tr>\n",
              "  </thead>\n",
              "  <tbody>\n",
              "    <tr>\n",
              "      <th>Unnamed: 0</th>\n",
              "      <td>1.000000</td>\n",
              "      <td>0.716676</td>\n",
              "      <td>-0.397729</td>\n",
              "      <td>0.882747</td>\n",
              "      <td>0.899759</td>\n",
              "      <td>0.942830</td>\n",
              "    </tr>\n",
              "    <tr>\n",
              "      <th>sepal length</th>\n",
              "      <td>0.716676</td>\n",
              "      <td>1.000000</td>\n",
              "      <td>-0.109369</td>\n",
              "      <td>0.871754</td>\n",
              "      <td>0.817954</td>\n",
              "      <td>0.782561</td>\n",
              "    </tr>\n",
              "    <tr>\n",
              "      <th>sepal width</th>\n",
              "      <td>-0.397729</td>\n",
              "      <td>-0.109369</td>\n",
              "      <td>1.000000</td>\n",
              "      <td>-0.420516</td>\n",
              "      <td>-0.356544</td>\n",
              "      <td>-0.419446</td>\n",
              "    </tr>\n",
              "    <tr>\n",
              "      <th>petal length</th>\n",
              "      <td>0.882747</td>\n",
              "      <td>0.871754</td>\n",
              "      <td>-0.420516</td>\n",
              "      <td>1.000000</td>\n",
              "      <td>0.962757</td>\n",
              "      <td>0.949043</td>\n",
              "    </tr>\n",
              "    <tr>\n",
              "      <th>petal width</th>\n",
              "      <td>0.899759</td>\n",
              "      <td>0.817954</td>\n",
              "      <td>-0.356544</td>\n",
              "      <td>0.962757</td>\n",
              "      <td>1.000000</td>\n",
              "      <td>0.956464</td>\n",
              "    </tr>\n",
              "    <tr>\n",
              "      <th>species</th>\n",
              "      <td>0.942830</td>\n",
              "      <td>0.782561</td>\n",
              "      <td>-0.419446</td>\n",
              "      <td>0.949043</td>\n",
              "      <td>0.956464</td>\n",
              "      <td>1.000000</td>\n",
              "    </tr>\n",
              "  </tbody>\n",
              "</table>\n",
              "</div>"
            ],
            "text/plain": [
              "              Unnamed: 0  sepal length  ...  petal width   species\n",
              "Unnamed: 0      1.000000      0.716676  ...     0.899759  0.942830\n",
              "sepal length    0.716676      1.000000  ...     0.817954  0.782561\n",
              "sepal width    -0.397729     -0.109369  ...    -0.356544 -0.419446\n",
              "petal length    0.882747      0.871754  ...     0.962757  0.949043\n",
              "petal width     0.899759      0.817954  ...     1.000000  0.956464\n",
              "species         0.942830      0.782561  ...     0.956464  1.000000\n",
              "\n",
              "[6 rows x 6 columns]"
            ]
          },
          "metadata": {
            "tags": []
          },
          "execution_count": 23
        }
      ]
    },
    {
      "cell_type": "markdown",
      "metadata": {
        "id": "Ez6ek-7jiVrV"
      },
      "source": [
        "**Глава 2. Decision Tree**\n"
      ]
    },
    {
      "cell_type": "markdown",
      "metadata": {
        "id": "3OLPUMpDGKf2"
      },
      "source": [
        "Дерево решений — тип контролируемого машинного обучения (supervised learning - обучение с учителем), который в основном используется в задачах классификации.<br/>\n",
        "**Корневой узел (Root node)** — самый верхний узел в дереве решений.<br/>\n",
        "**Узел принятия решения (Decision node)** — подузел, который разделяется на дополнительные подузлы.<br/>\n",
        "**Лист/терминальный узел (leaf/ Terminal node)** — узел, который не разделяется на другие узлы (конец дерева).<br/>"
      ]
    },
    {
      "cell_type": "markdown",
      "metadata": {
        "id": "LfQKdTMEGsbQ"
      },
      "source": [
        "![image.png](data:image/png;base64,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)"
      ]
    },
    {
      "cell_type": "markdown",
      "metadata": {
        "id": "svLMn48DjcBA"
      },
      "source": [
        "Импортируем необходимы для работы библиотеки."
      ]
    },
    {
      "cell_type": "code",
      "metadata": {
        "id": "Z2zQzX21hp7e"
      },
      "source": [
        "from sklearn import tree\n",
        "import pandas as pd\n",
        "import numpy as np\n",
        "import matplotlib.pyplot as plt\n",
        "from sklearn.model_selection import train_test_split\n",
        "import seaborn as sns\n",
        "from sklearn.model_selection import cross_val_score # Для кросс-валидации"
      ],
      "execution_count": 24,
      "outputs": []
    },
    {
      "cell_type": "markdown",
      "metadata": {
        "id": "d5f6epS6jhny"
      },
      "source": [
        "Создадим DataFrame для дальнейшей работы:"
      ]
    },
    {
      "cell_type": "markdown",
      "metadata": {
        "id": "ssrMo58ujzLd"
      },
      "source": [
        "Наша задача научиться предсказывать значение переменной Y, основываясь на значениях переменных X_1 и X_2.<br/>"
      ]
    },
    {
      "cell_type": "code",
      "metadata": {
        "id": "uooAVNBcjIB_",
        "outputId": "fc8fadca-9a7a-4b1b-a167-270a73a49e87",
        "colab": {
          "base_uri": "https://localhost:8080/",
          "height": 297
        }
      },
      "source": [
        "data = pd.DataFrame({'X_1': [1, 1, 1, 0, 0, 0, 0, 1],\n",
        "                     'X_2': [0, 0, 0, 1, 0, 0, 0, 1],\n",
        "                     'Y': [1, 1, 1, 1, 0, 0, 0, 0]})\n",
        "data"
      ],
      "execution_count": 25,
      "outputs": [
        {
          "output_type": "execute_result",
          "data": {
            "text/html": [
              "<div>\n",
              "<style scoped>\n",
              "    .dataframe tbody tr th:only-of-type {\n",
              "        vertical-align: middle;\n",
              "    }\n",
              "\n",
              "    .dataframe tbody tr th {\n",
              "        vertical-align: top;\n",
              "    }\n",
              "\n",
              "    .dataframe thead th {\n",
              "        text-align: right;\n",
              "    }\n",
              "</style>\n",
              "<table border=\"1\" class=\"dataframe\">\n",
              "  <thead>\n",
              "    <tr style=\"text-align: right;\">\n",
              "      <th></th>\n",
              "      <th>X_1</th>\n",
              "      <th>X_2</th>\n",
              "      <th>Y</th>\n",
              "    </tr>\n",
              "  </thead>\n",
              "  <tbody>\n",
              "    <tr>\n",
              "      <th>0</th>\n",
              "      <td>1</td>\n",
              "      <td>0</td>\n",
              "      <td>1</td>\n",
              "    </tr>\n",
              "    <tr>\n",
              "      <th>1</th>\n",
              "      <td>1</td>\n",
              "      <td>0</td>\n",
              "      <td>1</td>\n",
              "    </tr>\n",
              "    <tr>\n",
              "      <th>2</th>\n",
              "      <td>1</td>\n",
              "      <td>0</td>\n",
              "      <td>1</td>\n",
              "    </tr>\n",
              "    <tr>\n",
              "      <th>3</th>\n",
              "      <td>0</td>\n",
              "      <td>1</td>\n",
              "      <td>1</td>\n",
              "    </tr>\n",
              "    <tr>\n",
              "      <th>4</th>\n",
              "      <td>0</td>\n",
              "      <td>0</td>\n",
              "      <td>0</td>\n",
              "    </tr>\n",
              "    <tr>\n",
              "      <th>5</th>\n",
              "      <td>0</td>\n",
              "      <td>0</td>\n",
              "      <td>0</td>\n",
              "    </tr>\n",
              "    <tr>\n",
              "      <th>6</th>\n",
              "      <td>0</td>\n",
              "      <td>0</td>\n",
              "      <td>0</td>\n",
              "    </tr>\n",
              "    <tr>\n",
              "      <th>7</th>\n",
              "      <td>1</td>\n",
              "      <td>1</td>\n",
              "      <td>0</td>\n",
              "    </tr>\n",
              "  </tbody>\n",
              "</table>\n",
              "</div>"
            ],
            "text/plain": [
              "   X_1  X_2  Y\n",
              "0    1    0  1\n",
              "1    1    0  1\n",
              "2    1    0  1\n",
              "3    0    1  1\n",
              "4    0    0  0\n",
              "5    0    0  0\n",
              "6    0    0  0\n",
              "7    1    1  0"
            ]
          },
          "metadata": {
            "tags": []
          },
          "execution_count": 25
        }
      ]
    },
    {
      "cell_type": "markdown",
      "metadata": {
        "id": "PEzcVj3SklLi"
      },
      "source": [
        "Задаем классификатор."
      ]
    },
    {
      "cell_type": "code",
      "metadata": {
        "id": "ztKUBz36joDJ",
        "outputId": "ed251fb3-0eb3-48e6-e3f7-c767b2e5991e",
        "colab": {
          "base_uri": "https://localhost:8080/"
        }
      },
      "source": [
        "clf = tree.DecisionTreeClassifier(criterion='entropy')\n",
        "clf"
      ],
      "execution_count": 26,
      "outputs": [
        {
          "output_type": "execute_result",
          "data": {
            "text/plain": [
              "DecisionTreeClassifier(ccp_alpha=0.0, class_weight=None, criterion='entropy',\n",
              "                       max_depth=None, max_features=None, max_leaf_nodes=None,\n",
              "                       min_impurity_decrease=0.0, min_impurity_split=None,\n",
              "                       min_samples_leaf=1, min_samples_split=2,\n",
              "                       min_weight_fraction_leaf=0.0, presort='deprecated',\n",
              "                       random_state=None, splitter='best')"
            ]
          },
          "metadata": {
            "tags": []
          },
          "execution_count": 26
        }
      ]
    },
    {
      "cell_type": "markdown",
      "metadata": {
        "id": "6Vyk74LDk6V3"
      },
      "source": [
        "Сделаем предобработку данных:\n",
        "> X - dataframe с признаками (фичами; данные, которые мы используем для обучения)<br/>\n",
        "> y - целевая переменная (та переменная, которую мы будем предсказывать)"
      ]
    },
    {
      "cell_type": "code",
      "metadata": {
        "id": "Vcenml8ekpmz"
      },
      "source": [
        "X = data[['X_1', 'X_2']]\n",
        "y = data.Y"
      ],
      "execution_count": 27,
      "outputs": []
    },
    {
      "cell_type": "markdown",
      "metadata": {
        "id": "B3PZ7at7mFW8"
      },
      "source": [
        "Обучим дерево решений."
      ]
    },
    {
      "cell_type": "code",
      "metadata": {
        "id": "OcygNJmmlLr_",
        "outputId": "b3ac1b25-b138-4892-ee99-a7919ab9cc79",
        "colab": {
          "base_uri": "https://localhost:8080/"
        }
      },
      "source": [
        "clf.fit(X,y)"
      ],
      "execution_count": 28,
      "outputs": [
        {
          "output_type": "execute_result",
          "data": {
            "text/plain": [
              "DecisionTreeClassifier(ccp_alpha=0.0, class_weight=None, criterion='entropy',\n",
              "                       max_depth=None, max_features=None, max_leaf_nodes=None,\n",
              "                       min_impurity_decrease=0.0, min_impurity_split=None,\n",
              "                       min_samples_leaf=1, min_samples_split=2,\n",
              "                       min_weight_fraction_leaf=0.0, presort='deprecated',\n",
              "                       random_state=None, splitter='best')"
            ]
          },
          "metadata": {
            "tags": []
          },
          "execution_count": 28
        }
      ]
    },
    {
      "cell_type": "markdown",
      "metadata": {
        "id": "CFfdEtQqmREr"
      },
      "source": [
        "Теперь дерево решений **clf** знает о наших данных."
      ]
    },
    {
      "cell_type": "markdown",
      "metadata": {
        "id": "tGUz3zLUmc3b"
      },
      "source": [
        "Самый простой способ понять чему научилось дерево решений - визуализировать это дерево.<br/> "
      ]
    },
    {
      "cell_type": "code",
      "metadata": {
        "id": "OJh1nic3mJOI",
        "outputId": "a5c51e11-6f72-496c-fb43-cad22477f0f6",
        "colab": {
          "base_uri": "https://localhost:8080/",
          "height": 248
        }
      },
      "source": [
        "tree.plot_tree(clf, feature_names=list(X),\n",
        "               class_names=['Negative', 'Positive'],\n",
        "               filled=True)\n",
        "None"
      ],
      "execution_count": 29,
      "outputs": [
        {
          "output_type": "display_data",
          "data": {
            "image/png": "[encoded data removed]",
            "text/plain": [
              "<Figure size 432x288 with 1 Axes>"
            ]
          },
          "metadata": {
            "tags": [],
            "needs_background": "light"
          }
        }
      ]
    },
    {
      "cell_type": "markdown",
      "metadata": {
        "id": "e3WmEo9vnRNS"
      },
      "source": [
        "**Внимательно проанализируем визуализацию дерева решений:**<br/>\n",
        "Значение **value** говорит нам, что изначально у нас есть четыре наблюдения из класса **\"0\"**, четыре наблюдения из класса **\"1\"**<br/>\n",
        "В самом первом вопросе дерева мы спрашиваем, правда ли, что **X_1** меньше $\\frac{1}{2}$<br/>\n",
        "**Sample** показывает число наблюдений в каждый момент времени.<br/>"
      ]
    },
    {
      "cell_type": "markdown",
      "metadata": {
        "id": "BRRY5Ev-puX4"
      },
      "source": [
        "<h1>Энтропия<h1/>\n",
        "\n"
      ]
    },
    {
      "cell_type": "markdown",
      "metadata": {
        "id": "eQkl6e9HIWEI"
      },
      "source": [
        "![image.png](data:image/png;base64,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)"
      ]
    },
    {
      "cell_type": "markdown",
      "metadata": {
        "id": "iJrghl_4ooce"
      },
      "source": [
        "По какому принципу дерево решений производит разделение?<br/>\n",
        "Чтобы понять это, рассмотрим что такое **энтропия**:<br/>\n",
        "**Энтропия** - это уровень неопределенности наших данных.<br/>\n",
        "Уровень энтропии колеблется от 0 до 1.<br/>\n",
        "Неопределенность тем выше, чем хуже получается разделять классы. <br/>\n",
        "\n",
        " Общая формула для Энтропии: $E = -\\sum_{i=1}^n p_i*log_{2}(p_i)$\n",
        "\n",
        " Допустим у нас есть случай, когда 50 % элементов относятся к одному классу и 50 % элементов к другому классу: $E = - (\\frac{1}{2})*log_{2}(\\frac{1}{2}) - (\\frac{1}{2})*log_{2}(\\frac{1}{2}) = - (\\frac{1}{2})*(-1) - (\\frac{1}{2})*(-1) = 1$ - максимальная степень неопределенности данных.<br/>\n",
        "+ $p$ - вероятность того, что мы относим элемент к одному из классов.<br/>\n",
        "\n",
        "Если на определенном этапе получается ситуация, когда имеются элементы только одного класса.\n",
        "$E = - 1*log_{2}(-1) - (0)*log_{2}(0) = 0$\n",
        "Основная идея, которой следует дерево решений - это уменьшение энтропии, при этом вариант для вилки выбирается таким образом, чтобы наибольшим образом понизить ее на каждом шаге.<br/>\n",
        "\n",
        "Information Gain - что произошло с неопределенностью после того как мы учли значения накоторой переменной X.<br/>\n",
        "$$IG = E(Y) - E(Y|X)$$ Чем больше Information Gain - тем лучше.<br/>\n",
        "$n_0$ - выборка при $x = 0$<br/>\n",
        "$n_1$ - выборка при $x = 1$\n",
        "\n",
        "$n_0 + n_1 = N$<br/>\n",
        "$N$ - общее количество наблюдений <br/>\n",
        "$E_0$ - энтропия $x = 0$ <br/>\n",
        "$E_1$ - энтропия $x = 1$\n",
        "$$E(Y|X) = \\frac{n_0}{N} * E_0 +  \\frac{n_1}{N} * E_1 $$"
      ]
    },
    {
      "cell_type": "markdown",
      "metadata": {
        "id": "YF4cszP75zx8"
      },
      "source": [
        "<h1>Titanic - Machine Learning<h1/>"
      ]
    },
    {
      "cell_type": "markdown",
      "metadata": {
        "id": "Tupv3Z1p7btV"
      },
      "source": [
        "**Задача:** обучить **Decision Tree**, которое будет предсказывать выжил пассажир или нет, основываясь на тех данных про пассажиров, которые имеются. Подключим необходимые данные и выведем первые 5 значений:<br/>"
      ]
    },
    {
      "cell_type": "code",
      "metadata": {
        "id": "uj8gjZfZmyVc",
        "outputId": "1f196f7a-4592-4a5c-9edb-facfab9abcdf",
        "colab": {
          "base_uri": "https://localhost:8080/",
          "height": 204
        }
      },
      "source": [
        "titanic_data = pd.read_csv('https://raw.githubusercontent.com/AnatoliyZhuk/Knowledge/main/Introduction_To_Data_Science/train_Titanic.csv')\n",
        "titanic_data.head()"
      ],
      "execution_count": 30,
      "outputs": [
        {
          "output_type": "execute_result",
          "data": {
            "text/html": [
              "<div>\n",
              "<style scoped>\n",
              "    .dataframe tbody tr th:only-of-type {\n",
              "        vertical-align: middle;\n",
              "    }\n",
              "\n",
              "    .dataframe tbody tr th {\n",
              "        vertical-align: top;\n",
              "    }\n",
              "\n",
              "    .dataframe thead th {\n",
              "        text-align: right;\n",
              "    }\n",
              "</style>\n",
              "<table border=\"1\" class=\"dataframe\">\n",
              "  <thead>\n",
              "    <tr style=\"text-align: right;\">\n",
              "      <th></th>\n",
              "      <th>PassengerId</th>\n",
              "      <th>Survived</th>\n",
              "      <th>Pclass</th>\n",
              "      <th>Name</th>\n",
              "      <th>Sex</th>\n",
              "      <th>Age</th>\n",
              "      <th>SibSp</th>\n",
              "      <th>Parch</th>\n",
              "      <th>Ticket</th>\n",
              "      <th>Fare</th>\n",
              "      <th>Cabin</th>\n",
              "      <th>Embarked</th>\n",
              "    </tr>\n",
              "  </thead>\n",
              "  <tbody>\n",
              "    <tr>\n",
              "      <th>0</th>\n",
              "      <td>1</td>\n",
              "      <td>0</td>\n",
              "      <td>3</td>\n",
              "      <td>Braund, Mr. Owen Harris</td>\n",
              "      <td>male</td>\n",
              "      <td>22.0</td>\n",
              "      <td>1</td>\n",
              "      <td>0</td>\n",
              "      <td>A/5 21171</td>\n",
              "      <td>7.2500</td>\n",
              "      <td>NaN</td>\n",
              "      <td>S</td>\n",
              "    </tr>\n",
              "    <tr>\n",
              "      <th>1</th>\n",
              "      <td>2</td>\n",
              "      <td>1</td>\n",
              "      <td>1</td>\n",
              "      <td>Cumings, Mrs. John Bradley (Florence Briggs Th...</td>\n",
              "      <td>female</td>\n",
              "      <td>38.0</td>\n",
              "      <td>1</td>\n",
              "      <td>0</td>\n",
              "      <td>PC 17599</td>\n",
              "      <td>71.2833</td>\n",
              "      <td>C85</td>\n",
              "      <td>C</td>\n",
              "    </tr>\n",
              "    <tr>\n",
              "      <th>2</th>\n",
              "      <td>3</td>\n",
              "      <td>1</td>\n",
              "      <td>3</td>\n",
              "      <td>Heikkinen, Miss. Laina</td>\n",
              "      <td>female</td>\n",
              "      <td>26.0</td>\n",
              "      <td>0</td>\n",
              "      <td>0</td>\n",
              "      <td>STON/O2. 3101282</td>\n",
              "      <td>7.9250</td>\n",
              "      <td>NaN</td>\n",
              "      <td>S</td>\n",
              "    </tr>\n",
              "    <tr>\n",
              "      <th>3</th>\n",
              "      <td>4</td>\n",
              "      <td>1</td>\n",
              "      <td>1</td>\n",
              "      <td>Futrelle, Mrs. Jacques Heath (Lily May Peel)</td>\n",
              "      <td>female</td>\n",
              "      <td>35.0</td>\n",
              "      <td>1</td>\n",
              "      <td>0</td>\n",
              "      <td>113803</td>\n",
              "      <td>53.1000</td>\n",
              "      <td>C123</td>\n",
              "      <td>S</td>\n",
              "    </tr>\n",
              "    <tr>\n",
              "      <th>4</th>\n",
              "      <td>5</td>\n",
              "      <td>0</td>\n",
              "      <td>3</td>\n",
              "      <td>Allen, Mr. William Henry</td>\n",
              "      <td>male</td>\n",
              "      <td>35.0</td>\n",
              "      <td>0</td>\n",
              "      <td>0</td>\n",
              "      <td>373450</td>\n",
              "      <td>8.0500</td>\n",
              "      <td>NaN</td>\n",
              "      <td>S</td>\n",
              "    </tr>\n",
              "  </tbody>\n",
              "</table>\n",
              "</div>"
            ],
            "text/plain": [
              "   PassengerId  Survived  Pclass  ...     Fare Cabin  Embarked\n",
              "0            1         0       3  ...   7.2500   NaN         S\n",
              "1            2         1       1  ...  71.2833   C85         C\n",
              "2            3         1       3  ...   7.9250   NaN         S\n",
              "3            4         1       1  ...  53.1000  C123         S\n",
              "4            5         0       3  ...   8.0500   NaN         S\n",
              "\n",
              "[5 rows x 12 columns]"
            ]
          },
          "metadata": {
            "tags": []
          },
          "execution_count": 30
        }
      ]
    },
    {
      "cell_type": "markdown",
      "metadata": {
        "id": "aOSzpXPB7-1Z"
      },
      "source": [
        "Посмотрим на пропущенные значения."
      ]
    },
    {
      "cell_type": "code",
      "metadata": {
        "id": "RNrJL9u06xh3",
        "outputId": "82ab8338-e437-436b-b81c-4a07088f0c02",
        "colab": {
          "base_uri": "https://localhost:8080/"
        }
      },
      "source": [
        "# метод isna() возвращает False (если значение не пропущено) и True (если значение пропущено)\n",
        "titanic_data.isna().sum()"
      ],
      "execution_count": 31,
      "outputs": [
        {
          "output_type": "execute_result",
          "data": {
            "text/plain": [
              "PassengerId      0\n",
              "Survived         0\n",
              "Pclass           0\n",
              "Name             0\n",
              "Sex              0\n",
              "Age            177\n",
              "SibSp            0\n",
              "Parch            0\n",
              "Ticket           0\n",
              "Fare             0\n",
              "Cabin          687\n",
              "Embarked         2\n",
              "dtype: int64"
            ]
          },
          "metadata": {
            "tags": []
          },
          "execution_count": 31
        }
      ]
    },
    {
      "cell_type": "markdown",
      "metadata": {
        "id": "VFVqLg6E8ZU1"
      },
      "source": [
        "Отберем самые очевидные переменные для обучения модели."
      ]
    },
    {
      "cell_type": "code",
      "metadata": {
        "id": "z2IdXlMw8H6j"
      },
      "source": [
        "X = titanic_data.drop(['PassengerId', 'Ticket', 'Cabin', 'Survived', 'Name'], axis=1) # axis=1 говорит, что это список с именами колонок\n",
        "y = titanic_data.Survived"
      ],
      "execution_count": 32,
      "outputs": []
    },
    {
      "cell_type": "markdown",
      "metadata": {
        "id": "845QJndjFDkd"
      },
      "source": [
        "Алгоритм Decision Tree может работать только с числовыми данными\n",
        "Воспользуемся One-code Encoding.\n"
      ]
    },
    {
      "cell_type": "code",
      "metadata": {
        "id": "pYr_Iz-QFHmu"
      },
      "source": [
        "X = pd.get_dummies(X) # альтернативный вариант использовать Label Encoding"
      ],
      "execution_count": 33,
      "outputs": []
    },
    {
      "cell_type": "markdown",
      "metadata": {
        "id": "JxkEG-BZ_ixu"
      },
      "source": [
        "Decision Tree не умеет работать с пропущенными значениями.<br/>\n",
        "Заполненим пропущенные значения медианным значением."
      ]
    },
    {
      "cell_type": "code",
      "metadata": {
        "id": "dWhOhVMn_M_R"
      },
      "source": [
        "X = X.fillna({'Age' : X.Age.median()})"
      ],
      "execution_count": 34,
      "outputs": []
    },
    {
      "cell_type": "markdown",
      "metadata": {
        "id": "8seq5APAGKiD"
      },
      "source": [
        "Обратим внимание на новые получившиеся переменные **Sex_male** и **Sex_female**<br/>\n",
        "В линейных моделях наличие таких переменных (это касается всех переменных, закодированных с помощью **One-hot Encoding**) могло бы привести к проблемам, однако для деревьев решений все эти переменные можно оставить."
      ]
    },
    {
      "cell_type": "code",
      "metadata": {
        "id": "27V9fGavFxvT",
        "outputId": "ba7f19e2-de9a-47c2-d4e6-5d5e566af19c",
        "colab": {
          "base_uri": "https://localhost:8080/",
          "height": 204
        }
      },
      "source": [
        "X.head()"
      ],
      "execution_count": 35,
      "outputs": [
        {
          "output_type": "execute_result",
          "data": {
            "text/html": [
              "<div>\n",
              "<style scoped>\n",
              "    .dataframe tbody tr th:only-of-type {\n",
              "        vertical-align: middle;\n",
              "    }\n",
              "\n",
              "    .dataframe tbody tr th {\n",
              "        vertical-align: top;\n",
              "    }\n",
              "\n",
              "    .dataframe thead th {\n",
              "        text-align: right;\n",
              "    }\n",
              "</style>\n",
              "<table border=\"1\" class=\"dataframe\">\n",
              "  <thead>\n",
              "    <tr style=\"text-align: right;\">\n",
              "      <th></th>\n",
              "      <th>Pclass</th>\n",
              "      <th>Age</th>\n",
              "      <th>SibSp</th>\n",
              "      <th>Parch</th>\n",
              "      <th>Fare</th>\n",
              "      <th>Sex_female</th>\n",
              "      <th>Sex_male</th>\n",
              "      <th>Embarked_C</th>\n",
              "      <th>Embarked_Q</th>\n",
              "      <th>Embarked_S</th>\n",
              "    </tr>\n",
              "  </thead>\n",
              "  <tbody>\n",
              "    <tr>\n",
              "      <th>0</th>\n",
              "      <td>3</td>\n",
              "      <td>22.0</td>\n",
              "      <td>1</td>\n",
              "      <td>0</td>\n",
              "      <td>7.2500</td>\n",
              "      <td>0</td>\n",
              "      <td>1</td>\n",
              "      <td>0</td>\n",
              "      <td>0</td>\n",
              "      <td>1</td>\n",
              "    </tr>\n",
              "    <tr>\n",
              "      <th>1</th>\n",
              "      <td>1</td>\n",
              "      <td>38.0</td>\n",
              "      <td>1</td>\n",
              "      <td>0</td>\n",
              "      <td>71.2833</td>\n",
              "      <td>1</td>\n",
              "      <td>0</td>\n",
              "      <td>1</td>\n",
              "      <td>0</td>\n",
              "      <td>0</td>\n",
              "    </tr>\n",
              "    <tr>\n",
              "      <th>2</th>\n",
              "      <td>3</td>\n",
              "      <td>26.0</td>\n",
              "      <td>0</td>\n",
              "      <td>0</td>\n",
              "      <td>7.9250</td>\n",
              "      <td>1</td>\n",
              "      <td>0</td>\n",
              "      <td>0</td>\n",
              "      <td>0</td>\n",
              "      <td>1</td>\n",
              "    </tr>\n",
              "    <tr>\n",
              "      <th>3</th>\n",
              "      <td>1</td>\n",
              "      <td>35.0</td>\n",
              "      <td>1</td>\n",
              "      <td>0</td>\n",
              "      <td>53.1000</td>\n",
              "      <td>1</td>\n",
              "      <td>0</td>\n",
              "      <td>0</td>\n",
              "      <td>0</td>\n",
              "      <td>1</td>\n",
              "    </tr>\n",
              "    <tr>\n",
              "      <th>4</th>\n",
              "      <td>3</td>\n",
              "      <td>35.0</td>\n",
              "      <td>0</td>\n",
              "      <td>0</td>\n",
              "      <td>8.0500</td>\n",
              "      <td>0</td>\n",
              "      <td>1</td>\n",
              "      <td>0</td>\n",
              "      <td>0</td>\n",
              "      <td>1</td>\n",
              "    </tr>\n",
              "  </tbody>\n",
              "</table>\n",
              "</div>"
            ],
            "text/plain": [
              "   Pclass   Age  SibSp  Parch  ...  Sex_male  Embarked_C  Embarked_Q  Embarked_S\n",
              "0       3  22.0      1      0  ...         1           0           0           1\n",
              "1       1  38.0      1      0  ...         0           1           0           0\n",
              "2       3  26.0      0      0  ...         0           0           0           1\n",
              "3       1  35.0      1      0  ...         0           0           0           1\n",
              "4       3  35.0      0      0  ...         1           0           0           1\n",
              "\n",
              "[5 rows x 10 columns]"
            ]
          },
          "metadata": {
            "tags": []
          },
          "execution_count": 35
        }
      ]
    },
    {
      "cell_type": "markdown",
      "metadata": {
        "id": "85oOg5KxIExq"
      },
      "source": [
        "**Переобучение** - явление, когда построенная модель хорошо объясняет примеры из обучающей выборки, но относительно плохо работает на примерах, не участвовавших в обучении (на примерах из тестовой выборки).<br/>\n",
        "Переобученная модель не выявляет общие закономерности, а решает задачу классификации конкретно этих пассажиров.\n",
        "Чтобы бороться с переобучением нужно ограничить ресурсы дерева - отрегулировать параметры дерева так, чтобы нивилировать разницу между результатом на тренировочных данных и тестовых данных.<br/>\n",
        "**titanic_tree. score(X_train, y_train)** - предсказывает число правильных ответов (accuracy)"
      ]
    },
    {
      "cell_type": "markdown",
      "metadata": {
        "id": "ZQgKg3O360MJ"
      },
      "source": [
        "![image.png](data:image/png;base64,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)"
      ]
    },
    {
      "cell_type": "code",
      "metadata": {
        "id": "AvIkrvIpKGl4"
      },
      "source": [
        "X_train, X_test, Y_train, Y_test = train_test_split(X, y, test_size=0.33, random_state=42)"
      ],
      "execution_count": 36,
      "outputs": []
    },
    {
      "cell_type": "markdown",
      "metadata": {
        "id": "PdGoSUq_FZ8c"
      },
      "source": [
        "Создадим классификатор - дерево решений и обучим его."
      ]
    },
    {
      "cell_type": "code",
      "metadata": {
        "id": "LRcb4Cjb8xSR"
      },
      "source": [
        "titanic_tree = tree.DecisionTreeClassifier(criterion='entropy', max_depth=5, random_state=42)"
      ],
      "execution_count": 37,
      "outputs": []
    },
    {
      "cell_type": "code",
      "metadata": {
        "id": "OVvahRu79g4P",
        "outputId": "9beb7d15-09bc-4f10-df46-5dfb219a3eea",
        "colab": {
          "base_uri": "https://localhost:8080/"
        }
      },
      "source": [
        "titanic_tree.fit(X, y)"
      ],
      "execution_count": 38,
      "outputs": [
        {
          "output_type": "execute_result",
          "data": {
            "text/plain": [
              "DecisionTreeClassifier(ccp_alpha=0.0, class_weight=None, criterion='entropy',\n",
              "                       max_depth=5, max_features=None, max_leaf_nodes=None,\n",
              "                       min_impurity_decrease=0.0, min_impurity_split=None,\n",
              "                       min_samples_leaf=1, min_samples_split=2,\n",
              "                       min_weight_fraction_leaf=0.0, presort='deprecated',\n",
              "                       random_state=42, splitter='best')"
            ]
          },
          "metadata": {
            "tags": []
          },
          "execution_count": 38
        }
      ]
    },
    {
      "cell_type": "markdown",
      "metadata": {
        "id": "eLCfdagO7vvt"
      },
      "source": [
        "Выбрав **глубину дерева** = 5, получили примерно одинаковое значение метрики **accuracy** как на train, так и а test множестве."
      ]
    },
    {
      "cell_type": "code",
      "metadata": {
        "id": "RgY6zD8S_33-",
        "outputId": "340d4ea5-616f-4753-f329-9db5acecd8b6",
        "colab": {
          "base_uri": "https://localhost:8080/"
        }
      },
      "source": [
        "titanic_tree.score(X_train, Y_train)"
      ],
      "execution_count": 39,
      "outputs": [
        {
          "output_type": "execute_result",
          "data": {
            "text/plain": [
              "0.8439597315436241"
            ]
          },
          "metadata": {
            "tags": []
          },
          "execution_count": 39
        }
      ]
    },
    {
      "cell_type": "code",
      "metadata": {
        "id": "7rxCuyHeUiUd",
        "outputId": "9feae8c5-3736-474d-abd1-bb11ab8ad2ee",
        "colab": {
          "base_uri": "https://localhost:8080/"
        }
      },
      "source": [
        "titanic_tree.score(X_test, Y_test)"
      ],
      "execution_count": 40,
      "outputs": [
        {
          "output_type": "execute_result",
          "data": {
            "text/plain": [
              "0.8610169491525423"
            ]
          },
          "metadata": {
            "tags": []
          },
          "execution_count": 40
        }
      ]
    },
    {
      "cell_type": "markdown",
      "metadata": {
        "id": "sAfjKZRhVRlv"
      },
      "source": [
        "Поэксперементируем с параметрами, чтобы создать dataframe с показателями качества для разных глубин деревьев и выбрать наилучший."
      ]
    },
    {
      "cell_type": "code",
      "metadata": {
        "id": "376MVVQ5WG0I"
      },
      "source": [
        "scores_data = pd.DataFrame()"
      ],
      "execution_count": 41,
      "outputs": []
    },
    {
      "cell_type": "code",
      "metadata": {
        "id": "trEb879DUqYe"
      },
      "source": [
        "max_depth_values = range(1, 100)\n",
        "for max_depth in max_depth_values:\n",
        "  titanic_tree = tree.DecisionTreeClassifier(criterion='entropy', max_depth=max_depth)\n",
        "  titanic_tree.fit(X_train, Y_train)\n",
        "  train_score = titanic_tree.score(X_train, Y_train)\n",
        "  test_score = titanic_tree.score(X_test, Y_test)\n",
        "  mean_cross_val_score = cross_val_score(titanic_tree, X_train, Y_train, cv=5).mean() # средняя точность на кросс-валидации\n",
        "\n",
        "  temp_score_data = pd.DataFrame({'max_depth' : [max_depth], 'train_score' : [train_score], 'test_score' : [test_score], 'cross_val_score' : [mean_cross_val_score]})\n",
        "  scores_data = scores_data.append(temp_score_data)"
      ],
      "execution_count": 42,
      "outputs": []
    },
    {
      "cell_type": "code",
      "metadata": {
        "id": "w3Z00kXvW4f7",
        "outputId": "c40ffd70-8ba3-4037-b1f4-b1f6b618e98f",
        "colab": {
          "base_uri": "https://localhost:8080/",
          "height": 419
        }
      },
      "source": [
        "scores_data"
      ],
      "execution_count": 43,
      "outputs": [
        {
          "output_type": "execute_result",
          "data": {
            "text/html": [
              "<div>\n",
              "<style scoped>\n",
              "    .dataframe tbody tr th:only-of-type {\n",
              "        vertical-align: middle;\n",
              "    }\n",
              "\n",
              "    .dataframe tbody tr th {\n",
              "        vertical-align: top;\n",
              "    }\n",
              "\n",
              "    .dataframe thead th {\n",
              "        text-align: right;\n",
              "    }\n",
              "</style>\n",
              "<table border=\"1\" class=\"dataframe\">\n",
              "  <thead>\n",
              "    <tr style=\"text-align: right;\">\n",
              "      <th></th>\n",
              "      <th>max_depth</th>\n",
              "      <th>train_score</th>\n",
              "      <th>test_score</th>\n",
              "      <th>cross_val_score</th>\n",
              "    </tr>\n",
              "  </thead>\n",
              "  <tbody>\n",
              "    <tr>\n",
              "      <th>0</th>\n",
              "      <td>1</td>\n",
              "      <td>0.781879</td>\n",
              "      <td>0.796610</td>\n",
              "      <td>0.781961</td>\n",
              "    </tr>\n",
              "    <tr>\n",
              "      <th>0</th>\n",
              "      <td>2</td>\n",
              "      <td>0.805369</td>\n",
              "      <td>0.776271</td>\n",
              "      <td>0.770196</td>\n",
              "    </tr>\n",
              "    <tr>\n",
              "      <th>0</th>\n",
              "      <td>3</td>\n",
              "      <td>0.823826</td>\n",
              "      <td>0.820339</td>\n",
              "      <td>0.790322</td>\n",
              "    </tr>\n",
              "    <tr>\n",
              "      <th>0</th>\n",
              "      <td>4</td>\n",
              "      <td>0.833893</td>\n",
              "      <td>0.823729</td>\n",
              "      <td>0.788627</td>\n",
              "    </tr>\n",
              "    <tr>\n",
              "      <th>0</th>\n",
              "      <td>5</td>\n",
              "      <td>0.840604</td>\n",
              "      <td>0.806780</td>\n",
              "      <td>0.800392</td>\n",
              "    </tr>\n",
              "    <tr>\n",
              "      <th>...</th>\n",
              "      <td>...</td>\n",
              "      <td>...</td>\n",
              "      <td>...</td>\n",
              "      <td>...</td>\n",
              "    </tr>\n",
              "    <tr>\n",
              "      <th>0</th>\n",
              "      <td>95</td>\n",
              "      <td>0.979866</td>\n",
              "      <td>0.769492</td>\n",
              "      <td>0.770196</td>\n",
              "    </tr>\n",
              "    <tr>\n",
              "      <th>0</th>\n",
              "      <td>96</td>\n",
              "      <td>0.979866</td>\n",
              "      <td>0.776271</td>\n",
              "      <td>0.766835</td>\n",
              "    </tr>\n",
              "    <tr>\n",
              "      <th>0</th>\n",
              "      <td>97</td>\n",
              "      <td>0.979866</td>\n",
              "      <td>0.776271</td>\n",
              "      <td>0.763473</td>\n",
              "    </tr>\n",
              "    <tr>\n",
              "      <th>0</th>\n",
              "      <td>98</td>\n",
              "      <td>0.979866</td>\n",
              "      <td>0.769492</td>\n",
              "      <td>0.778585</td>\n",
              "    </tr>\n",
              "    <tr>\n",
              "      <th>0</th>\n",
              "      <td>99</td>\n",
              "      <td>0.979866</td>\n",
              "      <td>0.769492</td>\n",
              "      <td>0.765154</td>\n",
              "    </tr>\n",
              "  </tbody>\n",
              "</table>\n",
              "<p>99 rows × 4 columns</p>\n",
              "</div>"
            ],
            "text/plain": [
              "    max_depth  train_score  test_score  cross_val_score\n",
              "0           1     0.781879    0.796610         0.781961\n",
              "0           2     0.805369    0.776271         0.770196\n",
              "0           3     0.823826    0.820339         0.790322\n",
              "0           4     0.833893    0.823729         0.788627\n",
              "0           5     0.840604    0.806780         0.800392\n",
              "..        ...          ...         ...              ...\n",
              "0          95     0.979866    0.769492         0.770196\n",
              "0          96     0.979866    0.776271         0.766835\n",
              "0          97     0.979866    0.776271         0.763473\n",
              "0          98     0.979866    0.769492         0.778585\n",
              "0          99     0.979866    0.769492         0.765154\n",
              "\n",
              "[99 rows x 4 columns]"
            ]
          },
          "metadata": {
            "tags": []
          },
          "execution_count": 43
        }
      ]
    },
    {
      "cell_type": "markdown",
      "metadata": {
        "id": "5hZe1cWz-J3w"
      },
      "source": [
        "Метод **melt** позволяет изменить формат dataframe'a, расположив результаты колонок **train_score,\ttest_score,\tcross_val_score** друг за другом."
      ]
    },
    {
      "cell_type": "code",
      "metadata": {
        "id": "DApruN2pW9Ps",
        "outputId": "576a5565-443c-4297-9c36-8a59a19eae66",
        "colab": {
          "base_uri": "https://localhost:8080/",
          "height": 419
        }
      },
      "source": [
        "scores_data_long = pd.melt(scores_data, id_vars=['max_depth'], value_vars=['train_score', 'test_score', 'cross_val_score'],\n",
        "                           var_name='set_type', value_name='score')\n",
        "scores_data_long"
      ],
      "execution_count": 44,
      "outputs": [
        {
          "output_type": "execute_result",
          "data": {
            "text/html": [
              "<div>\n",
              "<style scoped>\n",
              "    .dataframe tbody tr th:only-of-type {\n",
              "        vertical-align: middle;\n",
              "    }\n",
              "\n",
              "    .dataframe tbody tr th {\n",
              "        vertical-align: top;\n",
              "    }\n",
              "\n",
              "    .dataframe thead th {\n",
              "        text-align: right;\n",
              "    }\n",
              "</style>\n",
              "<table border=\"1\" class=\"dataframe\">\n",
              "  <thead>\n",
              "    <tr style=\"text-align: right;\">\n",
              "      <th></th>\n",
              "      <th>max_depth</th>\n",
              "      <th>set_type</th>\n",
              "      <th>score</th>\n",
              "    </tr>\n",
              "  </thead>\n",
              "  <tbody>\n",
              "    <tr>\n",
              "      <th>0</th>\n",
              "      <td>1</td>\n",
              "      <td>train_score</td>\n",
              "      <td>0.781879</td>\n",
              "    </tr>\n",
              "    <tr>\n",
              "      <th>1</th>\n",
              "      <td>2</td>\n",
              "      <td>train_score</td>\n",
              "      <td>0.805369</td>\n",
              "    </tr>\n",
              "    <tr>\n",
              "      <th>2</th>\n",
              "      <td>3</td>\n",
              "      <td>train_score</td>\n",
              "      <td>0.823826</td>\n",
              "    </tr>\n",
              "    <tr>\n",
              "      <th>3</th>\n",
              "      <td>4</td>\n",
              "      <td>train_score</td>\n",
              "      <td>0.833893</td>\n",
              "    </tr>\n",
              "    <tr>\n",
              "      <th>4</th>\n",
              "      <td>5</td>\n",
              "      <td>train_score</td>\n",
              "      <td>0.840604</td>\n",
              "    </tr>\n",
              "    <tr>\n",
              "      <th>...</th>\n",
              "      <td>...</td>\n",
              "      <td>...</td>\n",
              "      <td>...</td>\n",
              "    </tr>\n",
              "    <tr>\n",
              "      <th>292</th>\n",
              "      <td>95</td>\n",
              "      <td>cross_val_score</td>\n",
              "      <td>0.770196</td>\n",
              "    </tr>\n",
              "    <tr>\n",
              "      <th>293</th>\n",
              "      <td>96</td>\n",
              "      <td>cross_val_score</td>\n",
              "      <td>0.766835</td>\n",
              "    </tr>\n",
              "    <tr>\n",
              "      <th>294</th>\n",
              "      <td>97</td>\n",
              "      <td>cross_val_score</td>\n",
              "      <td>0.763473</td>\n",
              "    </tr>\n",
              "    <tr>\n",
              "      <th>295</th>\n",
              "      <td>98</td>\n",
              "      <td>cross_val_score</td>\n",
              "      <td>0.778585</td>\n",
              "    </tr>\n",
              "    <tr>\n",
              "      <th>296</th>\n",
              "      <td>99</td>\n",
              "      <td>cross_val_score</td>\n",
              "      <td>0.765154</td>\n",
              "    </tr>\n",
              "  </tbody>\n",
              "</table>\n",
              "<p>297 rows × 3 columns</p>\n",
              "</div>"
            ],
            "text/plain": [
              "     max_depth         set_type     score\n",
              "0            1      train_score  0.781879\n",
              "1            2      train_score  0.805369\n",
              "2            3      train_score  0.823826\n",
              "3            4      train_score  0.833893\n",
              "4            5      train_score  0.840604\n",
              "..         ...              ...       ...\n",
              "292         95  cross_val_score  0.770196\n",
              "293         96  cross_val_score  0.766835\n",
              "294         97  cross_val_score  0.763473\n",
              "295         98  cross_val_score  0.778585\n",
              "296         99  cross_val_score  0.765154\n",
              "\n",
              "[297 rows x 3 columns]"
            ]
          },
          "metadata": {
            "tags": []
          },
          "execution_count": 44
        }
      ]
    },
    {
      "cell_type": "code",
      "metadata": {
        "id": "WlrTHivP2tqy",
        "outputId": "32276b9c-1acf-418f-b354-b851725a14a3",
        "colab": {
          "base_uri": "https://localhost:8080/",
          "height": 514
        }
      },
      "source": [
        "scores_data_long.query(\"set_type == 'cross_val_score'\").head(15)"
      ],
      "execution_count": 45,
      "outputs": [
        {
          "output_type": "execute_result",
          "data": {
            "text/html": [
              "<div>\n",
              "<style scoped>\n",
              "    .dataframe tbody tr th:only-of-type {\n",
              "        vertical-align: middle;\n",
              "    }\n",
              "\n",
              "    .dataframe tbody tr th {\n",
              "        vertical-align: top;\n",
              "    }\n",
              "\n",
              "    .dataframe thead th {\n",
              "        text-align: right;\n",
              "    }\n",
              "</style>\n",
              "<table border=\"1\" class=\"dataframe\">\n",
              "  <thead>\n",
              "    <tr style=\"text-align: right;\">\n",
              "      <th></th>\n",
              "      <th>max_depth</th>\n",
              "      <th>set_type</th>\n",
              "      <th>score</th>\n",
              "    </tr>\n",
              "  </thead>\n",
              "  <tbody>\n",
              "    <tr>\n",
              "      <th>198</th>\n",
              "      <td>1</td>\n",
              "      <td>cross_val_score</td>\n",
              "      <td>0.781961</td>\n",
              "    </tr>\n",
              "    <tr>\n",
              "      <th>199</th>\n",
              "      <td>2</td>\n",
              "      <td>cross_val_score</td>\n",
              "      <td>0.770196</td>\n",
              "    </tr>\n",
              "    <tr>\n",
              "      <th>200</th>\n",
              "      <td>3</td>\n",
              "      <td>cross_val_score</td>\n",
              "      <td>0.790322</td>\n",
              "    </tr>\n",
              "    <tr>\n",
              "      <th>201</th>\n",
              "      <td>4</td>\n",
              "      <td>cross_val_score</td>\n",
              "      <td>0.788627</td>\n",
              "    </tr>\n",
              "    <tr>\n",
              "      <th>202</th>\n",
              "      <td>5</td>\n",
              "      <td>cross_val_score</td>\n",
              "      <td>0.800392</td>\n",
              "    </tr>\n",
              "    <tr>\n",
              "      <th>203</th>\n",
              "      <td>6</td>\n",
              "      <td>cross_val_score</td>\n",
              "      <td>0.803754</td>\n",
              "    </tr>\n",
              "    <tr>\n",
              "      <th>204</th>\n",
              "      <td>7</td>\n",
              "      <td>cross_val_score</td>\n",
              "      <td>0.798697</td>\n",
              "    </tr>\n",
              "    <tr>\n",
              "      <th>205</th>\n",
              "      <td>8</td>\n",
              "      <td>cross_val_score</td>\n",
              "      <td>0.800364</td>\n",
              "    </tr>\n",
              "    <tr>\n",
              "      <th>206</th>\n",
              "      <td>9</td>\n",
              "      <td>cross_val_score</td>\n",
              "      <td>0.790266</td>\n",
              "    </tr>\n",
              "    <tr>\n",
              "      <th>207</th>\n",
              "      <td>10</td>\n",
              "      <td>cross_val_score</td>\n",
              "      <td>0.803711</td>\n",
              "    </tr>\n",
              "    <tr>\n",
              "      <th>208</th>\n",
              "      <td>11</td>\n",
              "      <td>cross_val_score</td>\n",
              "      <td>0.803711</td>\n",
              "    </tr>\n",
              "    <tr>\n",
              "      <th>209</th>\n",
              "      <td>12</td>\n",
              "      <td>cross_val_score</td>\n",
              "      <td>0.793655</td>\n",
              "    </tr>\n",
              "    <tr>\n",
              "      <th>210</th>\n",
              "      <td>13</td>\n",
              "      <td>cross_val_score</td>\n",
              "      <td>0.796989</td>\n",
              "    </tr>\n",
              "    <tr>\n",
              "      <th>211</th>\n",
              "      <td>14</td>\n",
              "      <td>cross_val_score</td>\n",
              "      <td>0.790266</td>\n",
              "    </tr>\n",
              "    <tr>\n",
              "      <th>212</th>\n",
              "      <td>15</td>\n",
              "      <td>cross_val_score</td>\n",
              "      <td>0.776863</td>\n",
              "    </tr>\n",
              "  </tbody>\n",
              "</table>\n",
              "</div>"
            ],
            "text/plain": [
              "     max_depth         set_type     score\n",
              "198          1  cross_val_score  0.781961\n",
              "199          2  cross_val_score  0.770196\n",
              "200          3  cross_val_score  0.790322\n",
              "201          4  cross_val_score  0.788627\n",
              "202          5  cross_val_score  0.800392\n",
              "203          6  cross_val_score  0.803754\n",
              "204          7  cross_val_score  0.798697\n",
              "205          8  cross_val_score  0.800364\n",
              "206          9  cross_val_score  0.790266\n",
              "207         10  cross_val_score  0.803711\n",
              "208         11  cross_val_score  0.803711\n",
              "209         12  cross_val_score  0.793655\n",
              "210         13  cross_val_score  0.796989\n",
              "211         14  cross_val_score  0.790266\n",
              "212         15  cross_val_score  0.776863"
            ]
          },
          "metadata": {
            "tags": []
          },
          "execution_count": 45
        }
      ]
    },
    {
      "cell_type": "code",
      "metadata": {
        "id": "jC1jR6W4YrRc",
        "outputId": "5fb0b7ed-19a6-4e9f-9a5c-9187b3bab9d7",
        "colab": {
          "base_uri": "https://localhost:8080/",
          "height": 297
        }
      },
      "source": [
        "sns.lineplot(x='max_depth', y='score', hue='set_type', data=scores_data_long)"
      ],
      "execution_count": 46,
      "outputs": [
        {
          "output_type": "execute_result",
          "data": {
            "text/plain": [
              "<matplotlib.axes._subplots.AxesSubplot at 0x7f8e1e8d2cf8>"
            ]
          },
          "metadata": {
            "tags": []
          },
          "execution_count": 46
        },
        {
          "output_type": "display_data",
          "data": {
            "image/png": "[encoded data removed]",
            "text/plain": [
              "<Figure size 432x288 with 1 Axes>"
            ]
          },
          "metadata": {
            "tags": [],
            "needs_background": "light"
          }
        }
      ]
    },
    {
      "cell_type": "markdown",
      "metadata": {
        "id": "PEavRAP4nx5J"
      },
      "source": [
        "<h1>Кросс-валидация<h1>"
      ]
    },
    {
      "cell_type": "markdown",
      "metadata": {
        "id": "SuBhDLvSQX1x"
      },
      "source": [
        "Данные, которые доступны для манипуляций и в которых есть результат (целевая переменная), обычно обозначаются как **train.csv**.<br/>\n",
        "Разделяем эти данные на тренировочные и тестовые, тестовые данные откладываем в сторону. Тренировочные данные делим на части (обычно это 3 или 5 равных частей) и шаг за шагом обучаем нашу модель на **k-1** частях и тестируем на оставшейся, делаем так пока все части не побывают в роли части для тестирования. После этого усредняем показатели accuracy от всего процесса."
      ]
    },
    {
      "cell_type": "code",
      "metadata": {
        "id": "61uQGGaBiOy6"
      },
      "source": [
        "titanic_tree = tree.DecisionTreeClassifier(criterion='entropy', max_depth=4)"
      ],
      "execution_count": 47,
      "outputs": []
    },
    {
      "cell_type": "code",
      "metadata": {
        "id": "MpKQqd66n35n",
        "outputId": "ecc86ade-d0aa-4108-e5fa-0048e83d479d",
        "colab": {
          "base_uri": "https://localhost:8080/"
        }
      },
      "source": [
        "cross_val_score(titanic_tree, X_train, Y_train, cv=5).mean() # средняя точность на кросс-валидации"
      ],
      "execution_count": 48,
      "outputs": [
        {
          "output_type": "execute_result",
          "data": {
            "text/plain": [
              "0.7886274509803922"
            ]
          },
          "metadata": {
            "tags": []
          },
          "execution_count": 48
        }
      ]
    },
    {
      "cell_type": "markdown",
      "metadata": {
        "id": "nVTphkiRGHFo"
      },
      "source": [
        "Используя цикл и кросс-валидацию определили, что **наилучшая глубина дерева=11**<br/>\n",
        "Сделая все это, нужно сказать, что мы оптимизировали **accuracy**, но здесь это плохая метрика."
      ]
    },
    {
      "cell_type": "markdown",
      "metadata": {
        "id": "GCCKjeqtIN35"
      },
      "source": [
        "<h1> Метрики качества модели (2.5) <h1>\n",
        "\n",
        "\n"
      ]
    },
    {
      "cell_type": "markdown",
      "metadata": {
        "id": "yGDX3XUTm2mD"
      },
      "source": [
        "**Метрики качества модели** - метрики, при помощи которой можно понять насколько хорошо модель справляется с задачей классификации.<br/>"
      ]
    },
    {
      "cell_type": "markdown",
      "metadata": {
        "id": "sZRzUMaemVm8"
      },
      "source": [
        "**Работа с несбалансированными выборками**\n",
        "\n",
        "+ Можно считать, что выборка несбалансирована, когда размеры классов отличаются более, чем в 10 раз. \n",
        "+ Больший класс называют доминирующим, меньший класс называется минорным\n",
        "+ Зачастую можно повысить качество с помощью\n",
        " + Корректировки весов объектов\n",
        " + Исскуственной модификации датасета"
      ]
    },
    {
      "cell_type": "markdown",
      "metadata": {
        "id": "FmOTOSUYL8Lq"
      },
      "source": [
        "**Ошибка 1 и 2 рода**<br/>\n",
        "**Ошибка первого рода (ложная тревога)** — ситуация, когда отвергнута правильная нулевая гипотеза. <br/>\n",
        "**Ошибка второго рода (пропуск цели)** — ситуация, когда принята неправильная нулевая гипотеза.<br/>\n",
        "Проанализируем картинку: $H_0$ - человек не беремен.<br/>\n",
        "В случае мужчины нулевая гипотеза \"человек не беремен\" неверно отвергнута.<br/>\n",
        "В случае женщины нулевая гипотеза \"человек не беремен\" неверно принята.<br/>"
      ]
    },
    {
      "cell_type": "markdown",
      "metadata": {
        "id": "rthmxN-wLz_x"
      },
      "source": [
        "![Type-I-and-II-errors1-625x468.jpg](data:image/jpeg;base64,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)"
      ]
    },
    {
      "cell_type": "markdown",
      "metadata": {
        "id": "li9K3ZveL0TV"
      },
      "source": [
        "Мы рассмотрим метрики, при помощи которых мы можем понять насколько хорошо модель справляется с задачей классификации.\n",
        "**Пояснение**: <br/>\n",
        "TP - True Positive (истино-положительное решение); FP - False Positive (ложно-положительное решение);<br/>\n",
        "TN - True Negative (истино-отрицательное решение); FN - False Negative (ложно-отрицательное решение); \n",
        "\n",
        "<br/> \n",
        " + **Accuracy** - общий процент правильных ответов.<br/> \n",
        " Формула: $Accuracy = \\frac{TP + TN}{TP + FP + TN + FN}$\n",
        "  + Зачастую не очень эффективная метрика. Так если для нашей задачи используются несбалансированые данные, например, мы предсказываем какой процент человек закончит курс на Stepik (определим, что обычно курс не заканчивают 90% человек), тогда если наша модель скажет, что курс никто не закончил, то показатель метрики accuracy = 0.9.  <br/>\n",
        "\n"
      ]
    },
    {
      "cell_type": "markdown",
      "metadata": {
        "id": "4TsLnuEDQzBk"
      },
      "source": [
        " + **Precision** - насколько хорошо удается находить положительные классы, не переплачивая за это ложными срабатываниями. <br/>\n",
        "Но эта метрика никак не отвечает на вопрос насколько в целом получается находить положительные примеры.<br/>\n",
        " Формула: $Precision = \\frac{TP}{TP + FP}$\n",
        "\n",
        "Пусть есть база на которую нападают вражеские самолеты, наша задача их классифицировать <br/>\n",
        "Если каждый самолет будет успешно детектирован, тогда TP - наша гипотеза, что это самолет подтвердилась, FP - наша гипотеза, что это самолет не подтвердилась.\n",
        "\n",
        " + **Recall** - правда ли, что мы нашли все примеры положительного класса <br/>\n",
        " Но эта метрика не несет информации о том насколько мы перепатили заэто ложными срабатываниями.<br/>\n",
        " Формула: $Recall = \\frac{TP}{TP + FN}$\n",
        "\n",
        " FN - наша гипотеза, что это не самолет не подтвердилась (на самом деле самолет был, то есть пропуск - мы не заметили вражеский самолет).\n",
        "\n",
        " + **Recall** и **Precision** взаимно изолированы друг от друга. В зависимости от того, какую задачу мы решаем, мы также решаем какую из метрик мы будем оптимизировать. <br/>\n"
      ]
    },
    {
      "cell_type": "markdown",
      "metadata": {
        "id": "ms6saNs5QueO"
      },
      "source": [
        "![image.png](data:image/png;base64,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)"
      ]
    },
    {
      "cell_type": "markdown",
      "metadata": {
        "id": "tl9M_XWiShbA"
      },
      "source": [
        "Здесь видим, что FP - (гипотеза, что это самолет не подтвердилась) = 7, что в свою очередь влияет на метрику качества **Precision**.<br/>\n",
        "Радар настроен слишком чувствительно, то есть слишком реагирует на шумы. <br/>"
      ]
    },
    {
      "cell_type": "markdown",
      "metadata": {
        "id": "osCUy90hScXi"
      },
      "source": [
        "![image.png](data:image/png;base64,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)"
      ]
    },
    {
      "cell_type": "markdown",
      "metadata": {
        "id": "r16P6onzTa9K"
      },
      "source": [
        "Здесь видим другую ситуацию, когда радар настроен плохо и не может детектировать некоторые самолеты."
      ]
    },
    {
      "cell_type": "markdown",
      "metadata": {
        "id": "4VHBC8NUTl2H"
      },
      "source": [
        "![image.png](data:image/png;base64,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)"
      ]
    },
    {
      "cell_type": "markdown",
      "metadata": {
        "id": "QbNRySlKVBE-"
      },
      "source": [
        "Комбинированная между **Precision** и **Recall** метрика называется **F-мера** <br/>\n",
        " Формула: $\\frac{2*Precision * Recall}{Precision + Recall}$ <br/>\n",
        "**F-мера** используется, когда мы хотим получить лучшее от совокупности этих 2 метрик качества. <br/>\n",
        "На практике этот параметр выглядит следующим образом: <br/><br/><br/>\n",
        "Мы устроились аналитиком в Tinder (сайт знакомств). В реальном продукте задача никогда не формулируется с точки зрения оптимизации какой-то метрики качества - оптимизироваться должны метрики продукта. <br/>\n",
        "Мы хотим внедрить машинное обучение, чтобы метрики продукта стали лучше. \n",
        "+ Приток новой аудитории\n",
        "+ Покупки пользователей\n",
        "+ Удовлетворенность пользователей <br/> \n",
        "Нужно найти хитрое равновесие, потому что если человек сразу найдет себе нужного человека, он уйдет с сайта, это компании не нужно."
      ]
    },
    {
      "cell_type": "markdown",
      "metadata": {
        "id": "FpRJUg-_Kk1G"
      },
      "source": [
        "<h1>Подбор параметров<h1/>"
      ]
    },
    {
      "cell_type": "markdown",
      "metadata": {
        "id": "V8JLSMiyLBiY"
      },
      "source": [
        "**GridSearchCV** - позволяет взять модель и набор параметров, которые мы хотим проверить и при помощи кросс-валидации отобрать такой набор параметров, которая дает наилучший результат.<br/>\n",
        "В качестве результата можно указывать разные метрики.\n"
      ]
    },
    {
      "cell_type": "code",
      "metadata": {
        "id": "v0UUk8lhS_lU"
      },
      "source": [
        "parametrs = {'criterion' : ['gini', 'entropy'], 'max_depth' : range(1, 30)}"
      ],
      "execution_count": 49,
      "outputs": []
    },
    {
      "cell_type": "code",
      "metadata": {
        "id": "QrcLk1BuKw2r"
      },
      "source": [
        "from sklearn.model_selection import GridSearchCV\n",
        "clf = tree.DecisionTreeClassifier()\n",
        "grid_search_cv_clf = GridSearchCV(clf, param_grid=parametrs, cv=5)"
      ],
      "execution_count": 50,
      "outputs": []
    },
    {
      "cell_type": "code",
      "metadata": {
        "id": "CbMIheUhTxEV",
        "outputId": "95355280-4346-4130-b8ce-5eaab04111f7",
        "colab": {
          "base_uri": "https://localhost:8080/"
        }
      },
      "source": [
        "grid_search_cv_clf.fit(X_train, Y_train)"
      ],
      "execution_count": 51,
      "outputs": [
        {
          "output_type": "execute_result",
          "data": {
            "text/plain": [
              "GridSearchCV(cv=5, error_score=nan,\n",
              "             estimator=DecisionTreeClassifier(ccp_alpha=0.0, class_weight=None,\n",
              "                                              criterion='gini', max_depth=None,\n",
              "                                              max_features=None,\n",
              "                                              max_leaf_nodes=None,\n",
              "                                              min_impurity_decrease=0.0,\n",
              "                                              min_impurity_split=None,\n",
              "                                              min_samples_leaf=1,\n",
              "                                              min_samples_split=2,\n",
              "                                              min_weight_fraction_leaf=0.0,\n",
              "                                              presort='deprecated',\n",
              "                                              random_state=None,\n",
              "                                              splitter='best'),\n",
              "             iid='deprecated', n_jobs=None,\n",
              "             param_grid={'criterion': ['gini', 'entropy'],\n",
              "                         'max_depth': range(1, 30)},\n",
              "             pre_dispatch='2*n_jobs', refit=True, return_train_score=False,\n",
              "             scoring=None, verbose=0)"
            ]
          },
          "metadata": {
            "tags": []
          },
          "execution_count": 51
        }
      ]
    },
    {
      "cell_type": "code",
      "metadata": {
        "id": "AymtHUCaUGYC",
        "outputId": "60d4fdd2-7c14-4d30-9627-7271cea6c7f1",
        "colab": {
          "base_uri": "https://localhost:8080/"
        }
      },
      "source": [
        "grid_search_cv_clf.best_params_"
      ],
      "execution_count": 52,
      "outputs": [
        {
          "output_type": "execute_result",
          "data": {
            "text/plain": [
              "{'criterion': 'entropy', 'max_depth': 8}"
            ]
          },
          "metadata": {
            "tags": []
          },
          "execution_count": 52
        }
      ]
    },
    {
      "cell_type": "code",
      "metadata": {
        "id": "8Y7AhPd-UiM6",
        "outputId": "369163a1-fd31-44b0-d466-424a5d22591c",
        "colab": {
          "base_uri": "https://localhost:8080/"
        }
      },
      "source": [
        "best_clf = grid_search_cv_clf.best_estimator_\n",
        "best_clf"
      ],
      "execution_count": 53,
      "outputs": [
        {
          "output_type": "execute_result",
          "data": {
            "text/plain": [
              "DecisionTreeClassifier(ccp_alpha=0.0, class_weight=None, criterion='entropy',\n",
              "                       max_depth=8, max_features=None, max_leaf_nodes=None,\n",
              "                       min_impurity_decrease=0.0, min_impurity_split=None,\n",
              "                       min_samples_leaf=1, min_samples_split=2,\n",
              "                       min_weight_fraction_leaf=0.0, presort='deprecated',\n",
              "                       random_state=None, splitter='best')"
            ]
          },
          "metadata": {
            "tags": []
          },
          "execution_count": 53
        }
      ]
    },
    {
      "cell_type": "code",
      "metadata": {
        "id": "obMot663U1F2",
        "outputId": "979b57a3-d92c-4e37-9f5e-6ea386fe79fa",
        "colab": {
          "base_uri": "https://localhost:8080/"
        }
      },
      "source": [
        "best_clf.score(X_test, Y_test)"
      ],
      "execution_count": 54,
      "outputs": [
        {
          "output_type": "execute_result",
          "data": {
            "text/plain": [
              "0.8033898305084746"
            ]
          },
          "metadata": {
            "tags": []
          },
          "execution_count": 54
        }
      ]
    },
    {
      "cell_type": "markdown",
      "metadata": {
        "id": "_AJ7ooRl5A5H"
      },
      "source": [
        "**Глава 3. Random Forest и Нейронные сети**"
      ]
    },
    {
      "cell_type": "markdown",
      "metadata": {
        "id": "Ek9c3wp-xIB_"
      },
      "source": [
        "**Decision Tree** - очень переобучаемый алгоритм. Решением этой проблемы является подбор параметров дерева.<br/>\n",
        "Если глубина дерева достаточно велика, это не значит, что оно переобучено, потому что всегда есть такие закономерности, которые нельзя описать деревом с маленькой глубиной, но если мы имеем одинаковые показатели качества, лучше выбрать глубину меньше.<br/>\n",
        "Можем заметить, что у нас есть лист, где всего 2 наблюдения.<br/>\n",
        "**min_sample_split** - параметр, который показывает, какой минимальное количество наблюдений необходимо, чтобы совершить разделение.<br/>\n",
        "**min_sample_leaf** - параметр, который показывает, какое минимальное количество наблюдений должен иметь  каждый из листов разделения.<br/>"
      ]
    },
    {
      "cell_type": "markdown",
      "metadata": {
        "id": "oZITw5bLQwXh"
      },
      "source": [
        "![image.png](data:image/png;base64,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)"
      ]
    },
    {
      "cell_type": "markdown",
      "metadata": {
        "id": "e3MFMQGWXhZ6"
      },
      "source": [
        "Зачастую одно дерево решений - это не очень хорошо из-за переобучения, но если взять много маленьких деревьев решений, то это здорово."
      ]
    },
    {
      "cell_type": "markdown",
      "metadata": {
        "id": "sLtbSMLjYCEj"
      },
      "source": [
        "<h1>Random Forest<h1>"
      ]
    },
    {
      "cell_type": "markdown",
      "metadata": {
        "id": "iACEB15PY8Zh"
      },
      "source": [
        "Представим, что у нас есть большой dataframe, где количество наблюдений исчисляется тысячами. В таких случаях дерево получается очень большим, тяжеловоспринимаемым и переобученным.<br/>\n",
        "У нас будет много деревьев решений, каждое из которых будет обучаться на маленькой части (кусок) данных. Данные у каждого дерева отличаются.<br/>\n",
        "В финале мы усредним предсказанную вероятность от всех деревьев.\n",
        "+ Новый параметр модели в Random Forest - число деревьев (**n_estimators**)\n",
        "+ Параметр **bootstrap** - правда ли, что мы будет использовать выборки с повторениями при формировании подсета даных для каждого дерева"
      ]
    },
    {
      "cell_type": "code",
      "metadata": {
        "id": "9yFtdKa1KRMc"
      },
      "source": [
        "from sklearn.ensemble import RandomForestClassifier"
      ],
      "execution_count": 55,
      "outputs": []
    },
    {
      "cell_type": "code",
      "metadata": {
        "id": "jZXPbIPBKYuA",
        "outputId": "f73ca0c8-280b-4a2f-9e95-ae0bd028f6bd",
        "colab": {
          "base_uri": "https://localhost:8080/"
        }
      },
      "source": [
        "rf_clf = RandomForestClassifier()\n",
        "parametrs = {'n_estimators' : [10, 20, 30], 'max_depth' : [2, 5, 7, 10]}\n",
        "grid_search_cv_clf = GridSearchCV(rf_clf, parametrs, cv=5)\n",
        "grid_search_cv_clf.fit(X_train, Y_train)"
      ],
      "execution_count": 57,
      "outputs": [
        {
          "output_type": "execute_result",
          "data": {
            "text/plain": [
              "GridSearchCV(cv=5, error_score=nan,\n",
              "             estimator=RandomForestClassifier(bootstrap=True, ccp_alpha=0.0,\n",
              "                                              class_weight=None,\n",
              "                                              criterion='gini', max_depth=None,\n",
              "                                              max_features='auto',\n",
              "                                              max_leaf_nodes=None,\n",
              "                                              max_samples=None,\n",
              "                                              min_impurity_decrease=0.0,\n",
              "                                              min_impurity_split=None,\n",
              "                                              min_samples_leaf=1,\n",
              "                                              min_samples_split=2,\n",
              "                                              min_weight_fraction_leaf=0.0,\n",
              "                                              n_estimators=100, n_jobs=None,\n",
              "                                              oob_score=False,\n",
              "                                              random_state=None, verbose=0,\n",
              "                                              warm_start=False),\n",
              "             iid='deprecated', n_jobs=None,\n",
              "             param_grid={'max_depth': [2, 5, 7, 10],\n",
              "                         'n_estimators': [10, 20, 30]},\n",
              "             pre_dispatch='2*n_jobs', refit=True, return_train_score=False,\n",
              "             scoring=None, verbose=0)"
            ]
          },
          "metadata": {
            "tags": []
          },
          "execution_count": 57
        }
      ]
    },
    {
      "cell_type": "code",
      "metadata": {
        "id": "qxMMV4kRLr3b",
        "outputId": "2bf82c4f-bbfb-4b6e-9ab5-f227c7dffdbb",
        "colab": {
          "base_uri": "https://localhost:8080/"
        }
      },
      "source": [
        "grid_search_cv_clf.best_params_"
      ],
      "execution_count": 58,
      "outputs": [
        {
          "output_type": "execute_result",
          "data": {
            "text/plain": [
              "{'max_depth': 7, 'n_estimators': 30}"
            ]
          },
          "metadata": {
            "tags": []
          },
          "execution_count": 58
        }
      ]
    },
    {
      "cell_type": "code",
      "metadata": {
        "id": "t2sFXAe_M0AK"
      },
      "source": [
        "best_rf_clf = grid_search_cv_clf.best_estimator_"
      ],
      "execution_count": 59,
      "outputs": []
    },
    {
      "cell_type": "code",
      "metadata": {
        "id": "mThNxkV7M-sy",
        "outputId": "e05dd4a8-48e2-4b45-90e3-240b6fd8eb11",
        "colab": {
          "base_uri": "https://localhost:8080/"
        }
      },
      "source": [
        "best_rf_clf.score(X_test, Y_test)"
      ],
      "execution_count": 61,
      "outputs": [
        {
          "output_type": "execute_result",
          "data": {
            "text/plain": [
              "0.8203389830508474"
            ]
          },
          "metadata": {
            "tags": []
          },
          "execution_count": 61
        }
      ]
    },
    {
      "cell_type": "markdown",
      "metadata": {
        "id": "4mjZo9RnNLUj"
      },
      "source": [
        "Атрибут **feature_importances_** - по каким из фичей мы делали сплиты, чтобы добиться макимальной энтропии данных."
      ]
    },
    {
      "cell_type": "code",
      "metadata": {
        "id": "NqkKe1xKNIay"
      },
      "source": [
        "feature_importance = best_rf_clf.feature_importances_"
      ],
      "execution_count": 67,
      "outputs": []
    },
    {
      "cell_type": "code",
      "metadata": {
        "id": "fq_x608oNdwm",
        "outputId": "46a2615d-496d-445c-db1a-fe4f308383e5",
        "colab": {
          "base_uri": "https://localhost:8080/",
          "height": 359
        }
      },
      "source": [
        "feature_importance_df = pd.DataFrame({'feature' : list(X_train),\n",
        "                                   'feature_importance' : feature_importance})\n",
        "feature_importance_df"
      ],
      "execution_count": 70,
      "outputs": [
        {
          "output_type": "execute_result",
          "data": {
            "text/html": [
              "<div>\n",
              "<style scoped>\n",
              "    .dataframe tbody tr th:only-of-type {\n",
              "        vertical-align: middle;\n",
              "    }\n",
              "\n",
              "    .dataframe tbody tr th {\n",
              "        vertical-align: top;\n",
              "    }\n",
              "\n",
              "    .dataframe thead th {\n",
              "        text-align: right;\n",
              "    }\n",
              "</style>\n",
              "<table border=\"1\" class=\"dataframe\">\n",
              "  <thead>\n",
              "    <tr style=\"text-align: right;\">\n",
              "      <th></th>\n",
              "      <th>feature</th>\n",
              "      <th>feature_importance</th>\n",
              "    </tr>\n",
              "  </thead>\n",
              "  <tbody>\n",
              "    <tr>\n",
              "      <th>0</th>\n",
              "      <td>Pclass</td>\n",
              "      <td>0.130320</td>\n",
              "    </tr>\n",
              "    <tr>\n",
              "      <th>1</th>\n",
              "      <td>Age</td>\n",
              "      <td>0.143277</td>\n",
              "    </tr>\n",
              "    <tr>\n",
              "      <th>2</th>\n",
              "      <td>SibSp</td>\n",
              "      <td>0.047614</td>\n",
              "    </tr>\n",
              "    <tr>\n",
              "      <th>3</th>\n",
              "      <td>Parch</td>\n",
              "      <td>0.039836</td>\n",
              "    </tr>\n",
              "    <tr>\n",
              "      <th>4</th>\n",
              "      <td>Fare</td>\n",
              "      <td>0.180668</td>\n",
              "    </tr>\n",
              "    <tr>\n",
              "      <th>5</th>\n",
              "      <td>Sex_female</td>\n",
              "      <td>0.205410</td>\n",
              "    </tr>\n",
              "    <tr>\n",
              "      <th>6</th>\n",
              "      <td>Sex_male</td>\n",
              "      <td>0.202556</td>\n",
              "    </tr>\n",
              "    <tr>\n",
              "      <th>7</th>\n",
              "      <td>Embarked_C</td>\n",
              "      <td>0.020999</td>\n",
              "    </tr>\n",
              "    <tr>\n",
              "      <th>8</th>\n",
              "      <td>Embarked_Q</td>\n",
              "      <td>0.009912</td>\n",
              "    </tr>\n",
              "    <tr>\n",
              "      <th>9</th>\n",
              "      <td>Embarked_S</td>\n",
              "      <td>0.019408</td>\n",
              "    </tr>\n",
              "  </tbody>\n",
              "</table>\n",
              "</div>"
            ],
            "text/plain": [
              "      feature  feature_importance\n",
              "0      Pclass            0.130320\n",
              "1         Age            0.143277\n",
              "2       SibSp            0.047614\n",
              "3       Parch            0.039836\n",
              "4        Fare            0.180668\n",
              "5  Sex_female            0.205410\n",
              "6    Sex_male            0.202556\n",
              "7  Embarked_C            0.020999\n",
              "8  Embarked_Q            0.009912\n",
              "9  Embarked_S            0.019408"
            ]
          },
          "metadata": {
            "tags": []
          },
          "execution_count": 70
        }
      ]
    },
    {
      "cell_type": "code",
      "metadata": {
        "id": "SvPK4UBTOSx-",
        "outputId": "8b9a6d21-8fa3-4123-982c-13b23c8ef366",
        "colab": {
          "base_uri": "https://localhost:8080/",
          "height": 359
        }
      },
      "source": [
        "# ascending=False - по убыванию; ascending=True - по возрастанию\n",
        "feature_importance_df.sort_values('feature_importance', ascending=False) "
      ],
      "execution_count": 72,
      "outputs": [
        {
          "output_type": "execute_result",
          "data": {
            "text/html": [
              "<div>\n",
              "<style scoped>\n",
              "    .dataframe tbody tr th:only-of-type {\n",
              "        vertical-align: middle;\n",
              "    }\n",
              "\n",
              "    .dataframe tbody tr th {\n",
              "        vertical-align: top;\n",
              "    }\n",
              "\n",
              "    .dataframe thead th {\n",
              "        text-align: right;\n",
              "    }\n",
              "</style>\n",
              "<table border=\"1\" class=\"dataframe\">\n",
              "  <thead>\n",
              "    <tr style=\"text-align: right;\">\n",
              "      <th></th>\n",
              "      <th>feature</th>\n",
              "      <th>feature_importance</th>\n",
              "    </tr>\n",
              "  </thead>\n",
              "  <tbody>\n",
              "    <tr>\n",
              "      <th>5</th>\n",
              "      <td>Sex_female</td>\n",
              "      <td>0.205410</td>\n",
              "    </tr>\n",
              "    <tr>\n",
              "      <th>6</th>\n",
              "      <td>Sex_male</td>\n",
              "      <td>0.202556</td>\n",
              "    </tr>\n",
              "    <tr>\n",
              "      <th>4</th>\n",
              "      <td>Fare</td>\n",
              "      <td>0.180668</td>\n",
              "    </tr>\n",
              "    <tr>\n",
              "      <th>1</th>\n",
              "      <td>Age</td>\n",
              "      <td>0.143277</td>\n",
              "    </tr>\n",
              "    <tr>\n",
              "      <th>0</th>\n",
              "      <td>Pclass</td>\n",
              "      <td>0.130320</td>\n",
              "    </tr>\n",
              "    <tr>\n",
              "      <th>2</th>\n",
              "      <td>SibSp</td>\n",
              "      <td>0.047614</td>\n",
              "    </tr>\n",
              "    <tr>\n",
              "      <th>3</th>\n",
              "      <td>Parch</td>\n",
              "      <td>0.039836</td>\n",
              "    </tr>\n",
              "    <tr>\n",
              "      <th>7</th>\n",
              "      <td>Embarked_C</td>\n",
              "      <td>0.020999</td>\n",
              "    </tr>\n",
              "    <tr>\n",
              "      <th>9</th>\n",
              "      <td>Embarked_S</td>\n",
              "      <td>0.019408</td>\n",
              "    </tr>\n",
              "    <tr>\n",
              "      <th>8</th>\n",
              "      <td>Embarked_Q</td>\n",
              "      <td>0.009912</td>\n",
              "    </tr>\n",
              "  </tbody>\n",
              "</table>\n",
              "</div>"
            ],
            "text/plain": [
              "      feature  feature_importance\n",
              "5  Sex_female            0.205410\n",
              "6    Sex_male            0.202556\n",
              "4        Fare            0.180668\n",
              "1         Age            0.143277\n",
              "0      Pclass            0.130320\n",
              "2       SibSp            0.047614\n",
              "3       Parch            0.039836\n",
              "7  Embarked_C            0.020999\n",
              "9  Embarked_S            0.019408\n",
              "8  Embarked_Q            0.009912"
            ]
          },
          "metadata": {
            "tags": []
          },
          "execution_count": 72
        }
      ]
    },
    {
      "cell_type": "markdown",
      "metadata": {
        "id": "NRt2PG2yTwzY"
      },
      "source": [
        "<h1>Практика (3.5)<h1>"
      ]
    },
    {
      "cell_type": "code",
      "metadata": {
        "id": "ucf64DDwT5O4",
        "outputId": "ad2445e1-c18c-4295-da84-f674a1d6ca0e",
        "colab": {
          "base_uri": "https://localhost:8080/",
          "height": 490
        }
      },
      "source": [
        "son = pd.read_csv('https://raw.githubusercontent.com/AnatoliyZhuk/Knowledge/main/Introduction_To_Data_Science/training_mush.csv')\n",
        "son"
      ],
      "execution_count": 95,
      "outputs": [
        {
          "output_type": "execute_result",
          "data": {
            "text/html": [
              "<div>\n",
              "<style scoped>\n",
              "    .dataframe tbody tr th:only-of-type {\n",
              "        vertical-align: middle;\n",
              "    }\n",
              "\n",
              "    .dataframe tbody tr th {\n",
              "        vertical-align: top;\n",
              "    }\n",
              "\n",
              "    .dataframe thead th {\n",
              "        text-align: right;\n",
              "    }\n",
              "</style>\n",
              "<table border=\"1\" class=\"dataframe\">\n",
              "  <thead>\n",
              "    <tr style=\"text-align: right;\">\n",
              "      <th></th>\n",
              "      <th>cap-shape</th>\n",
              "      <th>cap-surface</th>\n",
              "      <th>cap-color</th>\n",
              "      <th>bruises</th>\n",
              "      <th>odor</th>\n",
              "      <th>gill-attachment</th>\n",
              "      <th>gill-spacing</th>\n",
              "      <th>gill-size</th>\n",
              "      <th>gill-color</th>\n",
              "      <th>stalk-shape</th>\n",
              "      <th>stalk-root</th>\n",
              "      <th>stalk-surface-above-ring</th>\n",
              "      <th>stalk-surface-below-ring</th>\n",
              "      <th>stalk-color-above-ring</th>\n",
              "      <th>stalk-color-below-ring</th>\n",
              "      <th>veil-type</th>\n",
              "      <th>veil-color</th>\n",
              "      <th>ring-number</th>\n",
              "      <th>ring-type</th>\n",
              "      <th>spore-print-color</th>\n",
              "      <th>population</th>\n",
              "      <th>habitat</th>\n",
              "      <th>class</th>\n",
              "    </tr>\n",
              "  </thead>\n",
              "  <tbody>\n",
              "    <tr>\n",
              "      <th>0</th>\n",
              "      <td>2</td>\n",
              "      <td>0</td>\n",
              "      <td>3</td>\n",
              "      <td>1</td>\n",
              "      <td>5</td>\n",
              "      <td>1</td>\n",
              "      <td>0</td>\n",
              "      <td>0</td>\n",
              "      <td>9</td>\n",
              "      <td>1</td>\n",
              "      <td>1</td>\n",
              "      <td>2</td>\n",
              "      <td>2</td>\n",
              "      <td>3</td>\n",
              "      <td>7</td>\n",
              "      <td>0</td>\n",
              "      <td>2</td>\n",
              "      <td>1</td>\n",
              "      <td>4</td>\n",
              "      <td>3</td>\n",
              "      <td>5</td>\n",
              "      <td>0</td>\n",
              "      <td>0</td>\n",
              "    </tr>\n",
              "    <tr>\n",
              "      <th>1</th>\n",
              "      <td>2</td>\n",
              "      <td>0</td>\n",
              "      <td>4</td>\n",
              "      <td>0</td>\n",
              "      <td>5</td>\n",
              "      <td>1</td>\n",
              "      <td>0</td>\n",
              "      <td>1</td>\n",
              "      <td>10</td>\n",
              "      <td>0</td>\n",
              "      <td>0</td>\n",
              "      <td>1</td>\n",
              "      <td>3</td>\n",
              "      <td>7</td>\n",
              "      <td>4</td>\n",
              "      <td>0</td>\n",
              "      <td>2</td>\n",
              "      <td>1</td>\n",
              "      <td>0</td>\n",
              "      <td>7</td>\n",
              "      <td>4</td>\n",
              "      <td>0</td>\n",
              "      <td>1</td>\n",
              "    </tr>\n",
              "    <tr>\n",
              "      <th>2</th>\n",
              "      <td>2</td>\n",
              "      <td>0</td>\n",
              "      <td>3</td>\n",
              "      <td>0</td>\n",
              "      <td>2</td>\n",
              "      <td>1</td>\n",
              "      <td>0</td>\n",
              "      <td>0</td>\n",
              "      <td>7</td>\n",
              "      <td>0</td>\n",
              "      <td>1</td>\n",
              "      <td>1</td>\n",
              "      <td>1</td>\n",
              "      <td>0</td>\n",
              "      <td>4</td>\n",
              "      <td>0</td>\n",
              "      <td>2</td>\n",
              "      <td>1</td>\n",
              "      <td>2</td>\n",
              "      <td>1</td>\n",
              "      <td>5</td>\n",
              "      <td>1</td>\n",
              "      <td>1</td>\n",
              "    </tr>\n",
              "    <tr>\n",
              "      <th>3</th>\n",
              "      <td>0</td>\n",
              "      <td>0</td>\n",
              "      <td>3</td>\n",
              "      <td>0</td>\n",
              "      <td>5</td>\n",
              "      <td>1</td>\n",
              "      <td>1</td>\n",
              "      <td>0</td>\n",
              "      <td>2</td>\n",
              "      <td>0</td>\n",
              "      <td>0</td>\n",
              "      <td>1</td>\n",
              "      <td>2</td>\n",
              "      <td>7</td>\n",
              "      <td>7</td>\n",
              "      <td>0</td>\n",
              "      <td>2</td>\n",
              "      <td>2</td>\n",
              "      <td>4</td>\n",
              "      <td>7</td>\n",
              "      <td>3</td>\n",
              "      <td>1</td>\n",
              "      <td>0</td>\n",
              "    </tr>\n",
              "    <tr>\n",
              "      <th>4</th>\n",
              "      <td>2</td>\n",
              "      <td>3</td>\n",
              "      <td>3</td>\n",
              "      <td>1</td>\n",
              "      <td>5</td>\n",
              "      <td>1</td>\n",
              "      <td>0</td>\n",
              "      <td>0</td>\n",
              "      <td>10</td>\n",
              "      <td>1</td>\n",
              "      <td>1</td>\n",
              "      <td>2</td>\n",
              "      <td>2</td>\n",
              "      <td>3</td>\n",
              "      <td>6</td>\n",
              "      <td>0</td>\n",
              "      <td>2</td>\n",
              "      <td>1</td>\n",
              "      <td>4</td>\n",
              "      <td>2</td>\n",
              "      <td>5</td>\n",
              "      <td>0</td>\n",
              "      <td>0</td>\n",
              "    </tr>\n",
              "    <tr>\n",
              "      <th>...</th>\n",
              "      <td>...</td>\n",
              "      <td>...</td>\n",
              "      <td>...</td>\n",
              "      <td>...</td>\n",
              "      <td>...</td>\n",
              "      <td>...</td>\n",
              "      <td>...</td>\n",
              "      <td>...</td>\n",
              "      <td>...</td>\n",
              "      <td>...</td>\n",
              "      <td>...</td>\n",
              "      <td>...</td>\n",
              "      <td>...</td>\n",
              "      <td>...</td>\n",
              "      <td>...</td>\n",
              "      <td>...</td>\n",
              "      <td>...</td>\n",
              "      <td>...</td>\n",
              "      <td>...</td>\n",
              "      <td>...</td>\n",
              "      <td>...</td>\n",
              "      <td>...</td>\n",
              "      <td>...</td>\n",
              "    </tr>\n",
              "    <tr>\n",
              "      <th>6088</th>\n",
              "      <td>2</td>\n",
              "      <td>0</td>\n",
              "      <td>3</td>\n",
              "      <td>0</td>\n",
              "      <td>5</td>\n",
              "      <td>1</td>\n",
              "      <td>1</td>\n",
              "      <td>0</td>\n",
              "      <td>4</td>\n",
              "      <td>1</td>\n",
              "      <td>3</td>\n",
              "      <td>0</td>\n",
              "      <td>2</td>\n",
              "      <td>7</td>\n",
              "      <td>7</td>\n",
              "      <td>0</td>\n",
              "      <td>2</td>\n",
              "      <td>1</td>\n",
              "      <td>0</td>\n",
              "      <td>3</td>\n",
              "      <td>3</td>\n",
              "      <td>1</td>\n",
              "      <td>0</td>\n",
              "    </tr>\n",
              "    <tr>\n",
              "      <th>6089</th>\n",
              "      <td>3</td>\n",
              "      <td>2</td>\n",
              "      <td>2</td>\n",
              "      <td>0</td>\n",
              "      <td>2</td>\n",
              "      <td>1</td>\n",
              "      <td>0</td>\n",
              "      <td>1</td>\n",
              "      <td>0</td>\n",
              "      <td>1</td>\n",
              "      <td>0</td>\n",
              "      <td>1</td>\n",
              "      <td>2</td>\n",
              "      <td>6</td>\n",
              "      <td>7</td>\n",
              "      <td>0</td>\n",
              "      <td>2</td>\n",
              "      <td>1</td>\n",
              "      <td>0</td>\n",
              "      <td>7</td>\n",
              "      <td>4</td>\n",
              "      <td>0</td>\n",
              "      <td>1</td>\n",
              "    </tr>\n",
              "    <tr>\n",
              "      <th>6090</th>\n",
              "      <td>5</td>\n",
              "      <td>2</td>\n",
              "      <td>3</td>\n",
              "      <td>0</td>\n",
              "      <td>1</td>\n",
              "      <td>1</td>\n",
              "      <td>0</td>\n",
              "      <td>1</td>\n",
              "      <td>9</td>\n",
              "      <td>0</td>\n",
              "      <td>1</td>\n",
              "      <td>2</td>\n",
              "      <td>2</td>\n",
              "      <td>7</td>\n",
              "      <td>7</td>\n",
              "      <td>0</td>\n",
              "      <td>2</td>\n",
              "      <td>1</td>\n",
              "      <td>4</td>\n",
              "      <td>3</td>\n",
              "      <td>4</td>\n",
              "      <td>0</td>\n",
              "      <td>1</td>\n",
              "    </tr>\n",
              "    <tr>\n",
              "      <th>6091</th>\n",
              "      <td>3</td>\n",
              "      <td>2</td>\n",
              "      <td>3</td>\n",
              "      <td>0</td>\n",
              "      <td>5</td>\n",
              "      <td>1</td>\n",
              "      <td>1</td>\n",
              "      <td>0</td>\n",
              "      <td>2</td>\n",
              "      <td>0</td>\n",
              "      <td>0</td>\n",
              "      <td>2</td>\n",
              "      <td>2</td>\n",
              "      <td>7</td>\n",
              "      <td>7</td>\n",
              "      <td>0</td>\n",
              "      <td>2</td>\n",
              "      <td>2</td>\n",
              "      <td>4</td>\n",
              "      <td>7</td>\n",
              "      <td>3</td>\n",
              "      <td>1</td>\n",
              "      <td>0</td>\n",
              "    </tr>\n",
              "    <tr>\n",
              "      <th>6092</th>\n",
              "      <td>2</td>\n",
              "      <td>0</td>\n",
              "      <td>9</td>\n",
              "      <td>0</td>\n",
              "      <td>2</td>\n",
              "      <td>1</td>\n",
              "      <td>0</td>\n",
              "      <td>0</td>\n",
              "      <td>3</td>\n",
              "      <td>0</td>\n",
              "      <td>1</td>\n",
              "      <td>1</td>\n",
              "      <td>1</td>\n",
              "      <td>4</td>\n",
              "      <td>4</td>\n",
              "      <td>0</td>\n",
              "      <td>2</td>\n",
              "      <td>1</td>\n",
              "      <td>2</td>\n",
              "      <td>1</td>\n",
              "      <td>4</td>\n",
              "      <td>0</td>\n",
              "      <td>1</td>\n",
              "    </tr>\n",
              "  </tbody>\n",
              "</table>\n",
              "<p>6093 rows × 23 columns</p>\n",
              "</div>"
            ],
            "text/plain": [
              "      cap-shape  cap-surface  cap-color  ...  population  habitat  class\n",
              "0             2            0          3  ...           5        0      0\n",
              "1             2            0          4  ...           4        0      1\n",
              "2             2            0          3  ...           5        1      1\n",
              "3             0            0          3  ...           3        1      0\n",
              "4             2            3          3  ...           5        0      0\n",
              "...         ...          ...        ...  ...         ...      ...    ...\n",
              "6088          2            0          3  ...           3        1      0\n",
              "6089          3            2          2  ...           4        0      1\n",
              "6090          5            2          3  ...           4        0      1\n",
              "6091          3            2          3  ...           3        1      0\n",
              "6092          2            0          9  ...           4        0      1\n",
              "\n",
              "[6093 rows x 23 columns]"
            ]
          },
          "metadata": {
            "tags": []
          },
          "execution_count": 95
        }
      ]
    },
    {
      "cell_type": "code",
      "metadata": {
        "id": "9b3IjxfuUIhS",
        "outputId": "36f07ca3-be74-4153-bce6-f084a0e9a390",
        "colab": {
          "base_uri": "https://localhost:8080/"
        }
      },
      "source": [
        "y = son['class']\n",
        "X = son.drop(['class'], axis=1)\n",
        "clf_2 = RandomForestClassifier(random_state=0)\n",
        "parames = {'n_estimators' : range(10, 50, 10),\n",
        "           'max_depth' : range(1, 12, 2),\n",
        "           'min_samples_leaf' : range(1, 7),\n",
        "           'min_samples_split' : range(2, 9, 2)}\n",
        "\n",
        "gs_cv_clf = GridSearchCV(clf_2, parames, cv=3, n_jobs=-1)\n",
        "gs_cv_clf.fit(X, y)"
      ],
      "execution_count": 82,
      "outputs": [
        {
          "output_type": "execute_result",
          "data": {
            "text/plain": [
              "GridSearchCV(cv=3, error_score=nan,\n",
              "             estimator=RandomForestClassifier(bootstrap=True, ccp_alpha=0.0,\n",
              "                                              class_weight=None,\n",
              "                                              criterion='gini', max_depth=None,\n",
              "                                              max_features='auto',\n",
              "                                              max_leaf_nodes=None,\n",
              "                                              max_samples=None,\n",
              "                                              min_impurity_decrease=0.0,\n",
              "                                              min_impurity_split=None,\n",
              "                                              min_samples_leaf=1,\n",
              "                                              min_samples_split=2,\n",
              "                                              min_weight_fraction_leaf=0.0,\n",
              "                                              n_estimators=100, n_jobs=None,\n",
              "                                              oob_score=False, random_state=0,\n",
              "                                              verbose=0, warm_start=False),\n",
              "             iid='deprecated', n_jobs=-1,\n",
              "             param_grid={'max_depth': range(1, 12, 2),\n",
              "                         'min_samples_leaf': range(1, 7),\n",
              "                         'min_samples_split': range(2, 9, 2),\n",
              "                         'n_estimators': range(10, 50, 10)},\n",
              "             pre_dispatch='2*n_jobs', refit=True, return_train_score=False,\n",
              "             scoring=None, verbose=0)"
            ]
          },
          "metadata": {
            "tags": []
          },
          "execution_count": 82
        }
      ]
    },
    {
      "cell_type": "code",
      "metadata": {
        "id": "LuT47QS8bSLL",
        "outputId": "3b069f1a-dd04-4e79-fe46-55e9215d49af",
        "colab": {
          "base_uri": "https://localhost:8080/",
          "height": 490
        }
      },
      "source": [
        "X"
      ],
      "execution_count": 96,
      "outputs": [
        {
          "output_type": "execute_result",
          "data": {
            "text/html": [
              "<div>\n",
              "<style scoped>\n",
              "    .dataframe tbody tr th:only-of-type {\n",
              "        vertical-align: middle;\n",
              "    }\n",
              "\n",
              "    .dataframe tbody tr th {\n",
              "        vertical-align: top;\n",
              "    }\n",
              "\n",
              "    .dataframe thead th {\n",
              "        text-align: right;\n",
              "    }\n",
              "</style>\n",
              "<table border=\"1\" class=\"dataframe\">\n",
              "  <thead>\n",
              "    <tr style=\"text-align: right;\">\n",
              "      <th></th>\n",
              "      <th>cap-shape</th>\n",
              "      <th>cap-surface</th>\n",
              "      <th>cap-color</th>\n",
              "      <th>bruises</th>\n",
              "      <th>odor</th>\n",
              "      <th>gill-attachment</th>\n",
              "      <th>gill-spacing</th>\n",
              "      <th>gill-size</th>\n",
              "      <th>gill-color</th>\n",
              "      <th>stalk-shape</th>\n",
              "      <th>stalk-root</th>\n",
              "      <th>stalk-surface-above-ring</th>\n",
              "      <th>stalk-surface-below-ring</th>\n",
              "      <th>stalk-color-above-ring</th>\n",
              "      <th>stalk-color-below-ring</th>\n",
              "      <th>veil-type</th>\n",
              "      <th>veil-color</th>\n",
              "      <th>ring-number</th>\n",
              "      <th>ring-type</th>\n",
              "      <th>spore-print-color</th>\n",
              "      <th>population</th>\n",
              "      <th>habitat</th>\n",
              "    </tr>\n",
              "  </thead>\n",
              "  <tbody>\n",
              "    <tr>\n",
              "      <th>0</th>\n",
              "      <td>2</td>\n",
              "      <td>0</td>\n",
              "      <td>3</td>\n",
              "      <td>1</td>\n",
              "      <td>5</td>\n",
              "      <td>1</td>\n",
              "      <td>0</td>\n",
              "      <td>0</td>\n",
              "      <td>9</td>\n",
              "      <td>1</td>\n",
              "      <td>1</td>\n",
              "      <td>2</td>\n",
              "      <td>2</td>\n",
              "      <td>3</td>\n",
              "      <td>7</td>\n",
              "      <td>0</td>\n",
              "      <td>2</td>\n",
              "      <td>1</td>\n",
              "      <td>4</td>\n",
              "      <td>3</td>\n",
              "      <td>5</td>\n",
              "      <td>0</td>\n",
              "    </tr>\n",
              "    <tr>\n",
              "      <th>1</th>\n",
              "      <td>2</td>\n",
              "      <td>0</td>\n",
              "      <td>4</td>\n",
              "      <td>0</td>\n",
              "      <td>5</td>\n",
              "      <td>1</td>\n",
              "      <td>0</td>\n",
              "      <td>1</td>\n",
              "      <td>10</td>\n",
              "      <td>0</td>\n",
              "      <td>0</td>\n",
              "      <td>1</td>\n",
              "      <td>3</td>\n",
              "      <td>7</td>\n",
              "      <td>4</td>\n",
              "      <td>0</td>\n",
              "      <td>2</td>\n",
              "      <td>1</td>\n",
              "      <td>0</td>\n",
              "      <td>7</td>\n",
              "      <td>4</td>\n",
              "      <td>0</td>\n",
              "    </tr>\n",
              "    <tr>\n",
              "      <th>2</th>\n",
              "      <td>2</td>\n",
              "      <td>0</td>\n",
              "      <td>3</td>\n",
              "      <td>0</td>\n",
              "      <td>2</td>\n",
              "      <td>1</td>\n",
              "      <td>0</td>\n",
              "      <td>0</td>\n",
              "      <td>7</td>\n",
              "      <td>0</td>\n",
              "      <td>1</td>\n",
              "      <td>1</td>\n",
              "      <td>1</td>\n",
              "      <td>0</td>\n",
              "      <td>4</td>\n",
              "      <td>0</td>\n",
              "      <td>2</td>\n",
              "      <td>1</td>\n",
              "      <td>2</td>\n",
              "      <td>1</td>\n",
              "      <td>5</td>\n",
              "      <td>1</td>\n",
              "    </tr>\n",
              "    <tr>\n",
              "      <th>3</th>\n",
              "      <td>0</td>\n",
              "      <td>0</td>\n",
              "      <td>3</td>\n",
              "      <td>0</td>\n",
              "      <td>5</td>\n",
              "      <td>1</td>\n",
              "      <td>1</td>\n",
              "      <td>0</td>\n",
              "      <td>2</td>\n",
              "      <td>0</td>\n",
              "      <td>0</td>\n",
              "      <td>1</td>\n",
              "      <td>2</td>\n",
              "      <td>7</td>\n",
              "      <td>7</td>\n",
              "      <td>0</td>\n",
              "      <td>2</td>\n",
              "      <td>2</td>\n",
              "      <td>4</td>\n",
              "      <td>7</td>\n",
              "      <td>3</td>\n",
              "      <td>1</td>\n",
              "    </tr>\n",
              "    <tr>\n",
              "      <th>4</th>\n",
              "      <td>2</td>\n",
              "      <td>3</td>\n",
              "      <td>3</td>\n",
              "      <td>1</td>\n",
              "      <td>5</td>\n",
              "      <td>1</td>\n",
              "      <td>0</td>\n",
              "      <td>0</td>\n",
              "      <td>10</td>\n",
              "      <td>1</td>\n",
              "      <td>1</td>\n",
              "      <td>2</td>\n",
              "      <td>2</td>\n",
              "      <td>3</td>\n",
              "      <td>6</td>\n",
              "      <td>0</td>\n",
              "      <td>2</td>\n",
              "      <td>1</td>\n",
              "      <td>4</td>\n",
              "      <td>2</td>\n",
              "      <td>5</td>\n",
              "      <td>0</td>\n",
              "    </tr>\n",
              "    <tr>\n",
              "      <th>...</th>\n",
              "      <td>...</td>\n",
              "      <td>...</td>\n",
              "      <td>...</td>\n",
              "      <td>...</td>\n",
              "      <td>...</td>\n",
              "      <td>...</td>\n",
              "      <td>...</td>\n",
              "      <td>...</td>\n",
              "      <td>...</td>\n",
              "      <td>...</td>\n",
              "      <td>...</td>\n",
              "      <td>...</td>\n",
              "      <td>...</td>\n",
              "      <td>...</td>\n",
              "      <td>...</td>\n",
              "      <td>...</td>\n",
              "      <td>...</td>\n",
              "      <td>...</td>\n",
              "      <td>...</td>\n",
              "      <td>...</td>\n",
              "      <td>...</td>\n",
              "      <td>...</td>\n",
              "    </tr>\n",
              "    <tr>\n",
              "      <th>6088</th>\n",
              "      <td>2</td>\n",
              "      <td>0</td>\n",
              "      <td>3</td>\n",
              "      <td>0</td>\n",
              "      <td>5</td>\n",
              "      <td>1</td>\n",
              "      <td>1</td>\n",
              "      <td>0</td>\n",
              "      <td>4</td>\n",
              "      <td>1</td>\n",
              "      <td>3</td>\n",
              "      <td>0</td>\n",
              "      <td>2</td>\n",
              "      <td>7</td>\n",
              "      <td>7</td>\n",
              "      <td>0</td>\n",
              "      <td>2</td>\n",
              "      <td>1</td>\n",
              "      <td>0</td>\n",
              "      <td>3</td>\n",
              "      <td>3</td>\n",
              "      <td>1</td>\n",
              "    </tr>\n",
              "    <tr>\n",
              "      <th>6089</th>\n",
              "      <td>3</td>\n",
              "      <td>2</td>\n",
              "      <td>2</td>\n",
              "      <td>0</td>\n",
              "      <td>2</td>\n",
              "      <td>1</td>\n",
              "      <td>0</td>\n",
              "      <td>1</td>\n",
              "      <td>0</td>\n",
              "      <td>1</td>\n",
              "      <td>0</td>\n",
              "      <td>1</td>\n",
              "      <td>2</td>\n",
              "      <td>6</td>\n",
              "      <td>7</td>\n",
              "      <td>0</td>\n",
              "      <td>2</td>\n",
              "      <td>1</td>\n",
              "      <td>0</td>\n",
              "      <td>7</td>\n",
              "      <td>4</td>\n",
              "      <td>0</td>\n",
              "    </tr>\n",
              "    <tr>\n",
              "      <th>6090</th>\n",
              "      <td>5</td>\n",
              "      <td>2</td>\n",
              "      <td>3</td>\n",
              "      <td>0</td>\n",
              "      <td>1</td>\n",
              "      <td>1</td>\n",
              "      <td>0</td>\n",
              "      <td>1</td>\n",
              "      <td>9</td>\n",
              "      <td>0</td>\n",
              "      <td>1</td>\n",
              "      <td>2</td>\n",
              "      <td>2</td>\n",
              "      <td>7</td>\n",
              "      <td>7</td>\n",
              "      <td>0</td>\n",
              "      <td>2</td>\n",
              "      <td>1</td>\n",
              "      <td>4</td>\n",
              "      <td>3</td>\n",
              "      <td>4</td>\n",
              "      <td>0</td>\n",
              "    </tr>\n",
              "    <tr>\n",
              "      <th>6091</th>\n",
              "      <td>3</td>\n",
              "      <td>2</td>\n",
              "      <td>3</td>\n",
              "      <td>0</td>\n",
              "      <td>5</td>\n",
              "      <td>1</td>\n",
              "      <td>1</td>\n",
              "      <td>0</td>\n",
              "      <td>2</td>\n",
              "      <td>0</td>\n",
              "      <td>0</td>\n",
              "      <td>2</td>\n",
              "      <td>2</td>\n",
              "      <td>7</td>\n",
              "      <td>7</td>\n",
              "      <td>0</td>\n",
              "      <td>2</td>\n",
              "      <td>2</td>\n",
              "      <td>4</td>\n",
              "      <td>7</td>\n",
              "      <td>3</td>\n",
              "      <td>1</td>\n",
              "    </tr>\n",
              "    <tr>\n",
              "      <th>6092</th>\n",
              "      <td>2</td>\n",
              "      <td>0</td>\n",
              "      <td>9</td>\n",
              "      <td>0</td>\n",
              "      <td>2</td>\n",
              "      <td>1</td>\n",
              "      <td>0</td>\n",
              "      <td>0</td>\n",
              "      <td>3</td>\n",
              "      <td>0</td>\n",
              "      <td>1</td>\n",
              "      <td>1</td>\n",
              "      <td>1</td>\n",
              "      <td>4</td>\n",
              "      <td>4</td>\n",
              "      <td>0</td>\n",
              "      <td>2</td>\n",
              "      <td>1</td>\n",
              "      <td>2</td>\n",
              "      <td>1</td>\n",
              "      <td>4</td>\n",
              "      <td>0</td>\n",
              "    </tr>\n",
              "  </tbody>\n",
              "</table>\n",
              "<p>6093 rows × 22 columns</p>\n",
              "</div>"
            ],
            "text/plain": [
              "      cap-shape  cap-surface  cap-color  ...  spore-print-color  population  habitat\n",
              "0             2            0          3  ...                  3           5        0\n",
              "1             2            0          4  ...                  7           4        0\n",
              "2             2            0          3  ...                  1           5        1\n",
              "3             0            0          3  ...                  7           3        1\n",
              "4             2            3          3  ...                  2           5        0\n",
              "...         ...          ...        ...  ...                ...         ...      ...\n",
              "6088          2            0          3  ...                  3           3        1\n",
              "6089          3            2          2  ...                  7           4        0\n",
              "6090          5            2          3  ...                  3           4        0\n",
              "6091          3            2          3  ...                  7           3        1\n",
              "6092          2            0          9  ...                  1           4        0\n",
              "\n",
              "[6093 rows x 22 columns]"
            ]
          },
          "metadata": {
            "tags": []
          },
          "execution_count": 96
        }
      ]
    },
    {
      "cell_type": "code",
      "metadata": {
        "id": "3AZnBDtxX2WA",
        "outputId": "cf75fbd6-255b-4d40-800c-d570c46587b3",
        "colab": {
          "base_uri": "https://localhost:8080/"
        }
      },
      "source": [
        "gs_cv_clf.best_params_"
      ],
      "execution_count": 84,
      "outputs": [
        {
          "output_type": "execute_result",
          "data": {
            "text/plain": [
              "{'max_depth': 9,\n",
              " 'min_samples_leaf': 1,\n",
              " 'min_samples_split': 2,\n",
              " 'n_estimators': 10}"
            ]
          },
          "metadata": {
            "tags": []
          },
          "execution_count": 84
        }
      ]
    },
    {
      "cell_type": "code",
      "metadata": {
        "id": "PjXGm4G_Ydvp"
      },
      "source": [
        "good = gs_cv_clf.best_estimator_"
      ],
      "execution_count": 87,
      "outputs": []
    },
    {
      "cell_type": "code",
      "metadata": {
        "id": "a94QiqIgYSs4",
        "outputId": "91e3f36b-45d2-4ab3-f996-d1cffb5231f3",
        "colab": {
          "base_uri": "https://localhost:8080/",
          "height": 731
        }
      },
      "source": [
        "feature_importance = good.feature_importances_\n",
        "feature_importance_df = pd.DataFrame({'feature' : list(X),\n",
        "                                   'feature_importance' : feature_importance})\n",
        "feature_importance_df.sort_values('feature_importance', ascending=False) "
      ],
      "execution_count": 88,
      "outputs": [
        {
          "output_type": "execute_result",
          "data": {
            "text/html": [
              "<div>\n",
              "<style scoped>\n",
              "    .dataframe tbody tr th:only-of-type {\n",
              "        vertical-align: middle;\n",
              "    }\n",
              "\n",
              "    .dataframe tbody tr th {\n",
              "        vertical-align: top;\n",
              "    }\n",
              "\n",
              "    .dataframe thead th {\n",
              "        text-align: right;\n",
              "    }\n",
              "</style>\n",
              "<table border=\"1\" class=\"dataframe\">\n",
              "  <thead>\n",
              "    <tr style=\"text-align: right;\">\n",
              "      <th></th>\n",
              "      <th>feature</th>\n",
              "      <th>feature_importance</th>\n",
              "    </tr>\n",
              "  </thead>\n",
              "  <tbody>\n",
              "    <tr>\n",
              "      <th>4</th>\n",
              "      <td>odor</td>\n",
              "      <td>0.188376</td>\n",
              "    </tr>\n",
              "    <tr>\n",
              "      <th>8</th>\n",
              "      <td>gill-color</td>\n",
              "      <td>0.103861</td>\n",
              "    </tr>\n",
              "    <tr>\n",
              "      <th>10</th>\n",
              "      <td>stalk-root</td>\n",
              "      <td>0.103793</td>\n",
              "    </tr>\n",
              "    <tr>\n",
              "      <th>19</th>\n",
              "      <td>spore-print-color</td>\n",
              "      <td>0.083564</td>\n",
              "    </tr>\n",
              "    <tr>\n",
              "      <th>6</th>\n",
              "      <td>gill-spacing</td>\n",
              "      <td>0.080840</td>\n",
              "    </tr>\n",
              "    <tr>\n",
              "      <th>18</th>\n",
              "      <td>ring-type</td>\n",
              "      <td>0.070726</td>\n",
              "    </tr>\n",
              "    <tr>\n",
              "      <th>3</th>\n",
              "      <td>bruises</td>\n",
              "      <td>0.070109</td>\n",
              "    </tr>\n",
              "    <tr>\n",
              "      <th>7</th>\n",
              "      <td>gill-size</td>\n",
              "      <td>0.068461</td>\n",
              "    </tr>\n",
              "    <tr>\n",
              "      <th>12</th>\n",
              "      <td>stalk-surface-below-ring</td>\n",
              "      <td>0.048296</td>\n",
              "    </tr>\n",
              "    <tr>\n",
              "      <th>20</th>\n",
              "      <td>population</td>\n",
              "      <td>0.043783</td>\n",
              "    </tr>\n",
              "    <tr>\n",
              "      <th>11</th>\n",
              "      <td>stalk-surface-above-ring</td>\n",
              "      <td>0.031802</td>\n",
              "    </tr>\n",
              "    <tr>\n",
              "      <th>21</th>\n",
              "      <td>habitat</td>\n",
              "      <td>0.022611</td>\n",
              "    </tr>\n",
              "    <tr>\n",
              "      <th>2</th>\n",
              "      <td>cap-color</td>\n",
              "      <td>0.021773</td>\n",
              "    </tr>\n",
              "    <tr>\n",
              "      <th>13</th>\n",
              "      <td>stalk-color-above-ring</td>\n",
              "      <td>0.017689</td>\n",
              "    </tr>\n",
              "    <tr>\n",
              "      <th>17</th>\n",
              "      <td>ring-number</td>\n",
              "      <td>0.013910</td>\n",
              "    </tr>\n",
              "    <tr>\n",
              "      <th>16</th>\n",
              "      <td>veil-color</td>\n",
              "      <td>0.010881</td>\n",
              "    </tr>\n",
              "    <tr>\n",
              "      <th>9</th>\n",
              "      <td>stalk-shape</td>\n",
              "      <td>0.007563</td>\n",
              "    </tr>\n",
              "    <tr>\n",
              "      <th>14</th>\n",
              "      <td>stalk-color-below-ring</td>\n",
              "      <td>0.006253</td>\n",
              "    </tr>\n",
              "    <tr>\n",
              "      <th>1</th>\n",
              "      <td>cap-surface</td>\n",
              "      <td>0.003130</td>\n",
              "    </tr>\n",
              "    <tr>\n",
              "      <th>0</th>\n",
              "      <td>cap-shape</td>\n",
              "      <td>0.002577</td>\n",
              "    </tr>\n",
              "    <tr>\n",
              "      <th>15</th>\n",
              "      <td>veil-type</td>\n",
              "      <td>0.000000</td>\n",
              "    </tr>\n",
              "    <tr>\n",
              "      <th>5</th>\n",
              "      <td>gill-attachment</td>\n",
              "      <td>0.000000</td>\n",
              "    </tr>\n",
              "  </tbody>\n",
              "</table>\n",
              "</div>"
            ],
            "text/plain": [
              "                     feature  feature_importance\n",
              "4                       odor            0.188376\n",
              "8                 gill-color            0.103861\n",
              "10                stalk-root            0.103793\n",
              "19         spore-print-color            0.083564\n",
              "6               gill-spacing            0.080840\n",
              "18                 ring-type            0.070726\n",
              "3                    bruises            0.070109\n",
              "7                  gill-size            0.068461\n",
              "12  stalk-surface-below-ring            0.048296\n",
              "20                population            0.043783\n",
              "11  stalk-surface-above-ring            0.031802\n",
              "21                   habitat            0.022611\n",
              "2                  cap-color            0.021773\n",
              "13    stalk-color-above-ring            0.017689\n",
              "17               ring-number            0.013910\n",
              "16                veil-color            0.010881\n",
              "9                stalk-shape            0.007563\n",
              "14    stalk-color-below-ring            0.006253\n",
              "1                cap-surface            0.003130\n",
              "0                  cap-shape            0.002577\n",
              "15                 veil-type            0.000000\n",
              "5            gill-attachment            0.000000"
            ]
          },
          "metadata": {
            "tags": []
          },
          "execution_count": 88
        }
      ]
    },
    {
      "cell_type": "code",
      "metadata": {
        "id": "caWuhxdHausP"
      },
      "source": [
        "X_test = pd.read_csv('https://raw.githubusercontent.com/AnatoliyZhuk/Knowledge/main/Introduction_To_Data_Science/testing_mush.csv')"
      ],
      "execution_count": 99,
      "outputs": []
    },
    {
      "cell_type": "code",
      "metadata": {
        "id": "Dlk2QCOWZSAK",
        "outputId": "884e39e5-d78f-4c10-ab3c-ddda7f0b9949",
        "colab": {
          "base_uri": "https://localhost:8080/"
        }
      },
      "source": [
        "y_pred = good.predict(X_test)\n",
        "pd.Series(y_pred).value_counts()"
      ],
      "execution_count": 100,
      "outputs": [
        {
          "output_type": "execute_result",
          "data": {
            "text/plain": [
              "0    1055\n",
              "1     976\n",
              "dtype: int64"
            ]
          },
          "metadata": {
            "tags": []
          },
          "execution_count": 100
        }
      ]
    },
    {
      "cell_type": "code",
      "metadata": {
        "id": "354jhYvwbsWP",
        "outputId": "09e627b3-3a6d-4991-bb74-a8942cb94f42",
        "colab": {
          "base_uri": "https://localhost:8080/",
          "height": 282
        }
      },
      "source": [
        "from sklearn.metrics import confusion_matrix\n",
        "y_true = pd.read_csv('https://raw.githubusercontent.com/AnatoliyZhuk/Knowledge/main/Introduction_To_Data_Science/testing_y_mush.csv')\n",
        "confusion_matrix(y_true, y_pred)\n",
        "sns.heatmap(confusion_matrix(y_true, y_pred), annot=True, cmap=\"Blues\")"
      ],
      "execution_count": 102,
      "outputs": [
        {
          "output_type": "execute_result",
          "data": {
            "text/plain": [
              "<matplotlib.axes._subplots.AxesSubplot at 0x7f8e13f60710>"
            ]
          },
          "metadata": {
            "tags": []
          },
          "execution_count": 102
        },
        {
          "output_type": "display_data",
          "data": {
            "image/png": "[encoded data removed]",
            "text/plain": [
              "<Figure size 432x288 with 2 Axes>"
            ]
          },
          "metadata": {
            "tags": [],
            "needs_background": "light"
          }
        }
      ]
    },
    {
      "cell_type": "code",
      "metadata": {
        "id": "0_5gBjl3gkP6",
        "outputId": "2fa098f4-7e7d-4b82-b3ab-5d829b3d2a27",
        "colab": {
          "base_uri": "https://localhost:8080/",
          "height": 419
        }
      },
      "source": [
        "gon = pd.read_csv('https://raw.githubusercontent.com/AnatoliyZhuk/Knowledge/main/Introduction_To_Data_Science/invasion.csv')\n",
        "X_test = pd.read_csv('https://raw.githubusercontent.com/AnatoliyZhuk/Knowledge/main/Introduction_To_Data_Science/operative_information.csv')\n",
        "gon"
      ],
      "execution_count": 114,
      "outputs": [
        {
          "output_type": "execute_result",
          "data": {
            "text/html": [
              "<div>\n",
              "<style scoped>\n",
              "    .dataframe tbody tr th:only-of-type {\n",
              "        vertical-align: middle;\n",
              "    }\n",
              "\n",
              "    .dataframe tbody tr th {\n",
              "        vertical-align: top;\n",
              "    }\n",
              "\n",
              "    .dataframe thead th {\n",
              "        text-align: right;\n",
              "    }\n",
              "</style>\n",
              "<table border=\"1\" class=\"dataframe\">\n",
              "  <thead>\n",
              "    <tr style=\"text-align: right;\">\n",
              "      <th></th>\n",
              "      <th>class</th>\n",
              "      <th>g_reflection</th>\n",
              "      <th>i_reflection</th>\n",
              "      <th>speed</th>\n",
              "      <th>brightness</th>\n",
              "      <th>time_of_observance</th>\n",
              "      <th>volume</th>\n",
              "    </tr>\n",
              "  </thead>\n",
              "  <tbody>\n",
              "    <tr>\n",
              "      <th>0</th>\n",
              "      <td>transport</td>\n",
              "      <td>2.190672</td>\n",
              "      <td>6.716633</td>\n",
              "      <td>62.168208</td>\n",
              "      <td>0.347465</td>\n",
              "      <td>158221</td>\n",
              "      <td>44.932446</td>\n",
              "    </tr>\n",
              "    <tr>\n",
              "      <th>1</th>\n",
              "      <td>transport</td>\n",
              "      <td>3.453276</td>\n",
              "      <td>8.995909</td>\n",
              "      <td>62.994707</td>\n",
              "      <td>0.590094</td>\n",
              "      <td>385972</td>\n",
              "      <td>41.568300</td>\n",
              "    </tr>\n",
              "    <tr>\n",
              "      <th>2</th>\n",
              "      <td>transport</td>\n",
              "      <td>2.432994</td>\n",
              "      <td>6.938691</td>\n",
              "      <td>62.245807</td>\n",
              "      <td>0.329288</td>\n",
              "      <td>446482</td>\n",
              "      <td>40.123467</td>\n",
              "    </tr>\n",
              "    <tr>\n",
              "      <th>3</th>\n",
              "      <td>fighter</td>\n",
              "      <td>6.083763</td>\n",
              "      <td>3.019459</td>\n",
              "      <td>18.474555</td>\n",
              "      <td>0.174738</td>\n",
              "      <td>210125</td>\n",
              "      <td>11.384865</td>\n",
              "    </tr>\n",
              "    <tr>\n",
              "      <th>4</th>\n",
              "      <td>fighter</td>\n",
              "      <td>12.876769</td>\n",
              "      <td>2.452950</td>\n",
              "      <td>195.805771</td>\n",
              "      <td>0.150446</td>\n",
              "      <td>23109</td>\n",
              "      <td>11.328806</td>\n",
              "    </tr>\n",
              "    <tr>\n",
              "      <th>...</th>\n",
              "      <td>...</td>\n",
              "      <td>...</td>\n",
              "      <td>...</td>\n",
              "      <td>...</td>\n",
              "      <td>...</td>\n",
              "      <td>...</td>\n",
              "      <td>...</td>\n",
              "    </tr>\n",
              "    <tr>\n",
              "      <th>495</th>\n",
              "      <td>fighter</td>\n",
              "      <td>9.901731</td>\n",
              "      <td>7.162124</td>\n",
              "      <td>58.095069</td>\n",
              "      <td>0.145065</td>\n",
              "      <td>395762</td>\n",
              "      <td>12.901909</td>\n",
              "    </tr>\n",
              "    <tr>\n",
              "      <th>496</th>\n",
              "      <td>transport</td>\n",
              "      <td>3.574132</td>\n",
              "      <td>7.118835</td>\n",
              "      <td>62.928159</td>\n",
              "      <td>0.469670</td>\n",
              "      <td>435926</td>\n",
              "      <td>39.926551</td>\n",
              "    </tr>\n",
              "    <tr>\n",
              "      <th>497</th>\n",
              "      <td>fighter</td>\n",
              "      <td>9.186049</td>\n",
              "      <td>4.580781</td>\n",
              "      <td>412.102112</td>\n",
              "      <td>0.108195</td>\n",
              "      <td>299594</td>\n",
              "      <td>12.178203</td>\n",
              "    </tr>\n",
              "    <tr>\n",
              "      <th>498</th>\n",
              "      <td>fighter</td>\n",
              "      <td>8.278256</td>\n",
              "      <td>8.353756</td>\n",
              "      <td>268.121561</td>\n",
              "      <td>0.132661</td>\n",
              "      <td>361911</td>\n",
              "      <td>13.905809</td>\n",
              "    </tr>\n",
              "    <tr>\n",
              "      <th>499</th>\n",
              "      <td>transport</td>\n",
              "      <td>0.860820</td>\n",
              "      <td>8.014988</td>\n",
              "      <td>62.292486</td>\n",
              "      <td>0.304896</td>\n",
              "      <td>364601</td>\n",
              "      <td>46.151972</td>\n",
              "    </tr>\n",
              "  </tbody>\n",
              "</table>\n",
              "<p>500 rows × 7 columns</p>\n",
              "</div>"
            ],
            "text/plain": [
              "         class  g_reflection  ...  time_of_observance     volume\n",
              "0    transport      2.190672  ...              158221  44.932446\n",
              "1    transport      3.453276  ...              385972  41.568300\n",
              "2    transport      2.432994  ...              446482  40.123467\n",
              "3      fighter      6.083763  ...              210125  11.384865\n",
              "4      fighter     12.876769  ...               23109  11.328806\n",
              "..         ...           ...  ...                 ...        ...\n",
              "495    fighter      9.901731  ...              395762  12.901909\n",
              "496  transport      3.574132  ...              435926  39.926551\n",
              "497    fighter      9.186049  ...              299594  12.178203\n",
              "498    fighter      8.278256  ...              361911  13.905809\n",
              "499  transport      0.860820  ...              364601  46.151972\n",
              "\n",
              "[500 rows x 7 columns]"
            ]
          },
          "metadata": {
            "tags": []
          },
          "execution_count": 114
        }
      ]
    },
    {
      "cell_type": "code",
      "metadata": {
        "id": "J53MZis2zoF4"
      },
      "source": [
        "transport = {'transport' :  0,  'fighter' :  1,  'cruiser' : 2}\n",
        "y = gon['class'].map(transport)\n",
        "X = gon.drop(['class'], axis=1)"
      ],
      "execution_count": 119,
      "outputs": []
    },
    {
      "cell_type": "code",
      "metadata": {
        "id": "AQ7bNeLHz6jH",
        "outputId": "02e87859-47d7-4dfb-b2f0-2914bc00bcfc",
        "colab": {
          "base_uri": "https://localhost:8080/"
        }
      },
      "source": [
        "clf_2 = RandomForestClassifier()\n",
        "parames = {'n_estimators' : range(10, 50, 10),\n",
        "           'max_depth' : range(1, 12, 2),\n",
        "           'min_samples_leaf' : range(1, 7),\n",
        "           'min_samples_split' : range(2, 9, 2)}\n",
        "\n",
        "gs_cv_clf = GridSearchCV(clf_2, parames, cv=3, n_jobs=-1)\n",
        "gs_cv_clf.fit(X, y)"
      ],
      "execution_count": 124,
      "outputs": [
        {
          "output_type": "execute_result",
          "data": {
            "text/plain": [
              "GridSearchCV(cv=3, error_score=nan,\n",
              "             estimator=RandomForestClassifier(bootstrap=True, ccp_alpha=0.0,\n",
              "                                              class_weight=None,\n",
              "                                              criterion='gini', max_depth=None,\n",
              "                                              max_features='auto',\n",
              "                                              max_leaf_nodes=None,\n",
              "                                              max_samples=None,\n",
              "                                              min_impurity_decrease=0.0,\n",
              "                                              min_impurity_split=None,\n",
              "                                              min_samples_leaf=1,\n",
              "                                              min_samples_split=2,\n",
              "                                              min_weight_fraction_leaf=0.0,\n",
              "                                              n_estimators=100, n_jobs=None,\n",
              "                                              oob_score=False,\n",
              "                                              random_state=None, verbose=0,\n",
              "                                              warm_start=False),\n",
              "             iid='deprecated', n_jobs=-1,\n",
              "             param_grid={'max_depth': range(1, 12, 2),\n",
              "                         'min_samples_leaf': range(1, 7),\n",
              "                         'min_samples_split': range(2, 9, 2),\n",
              "                         'n_estimators': range(10, 50, 10)},\n",
              "             pre_dispatch='2*n_jobs', refit=True, return_train_score=False,\n",
              "             scoring=None, verbose=0)"
            ]
          },
          "metadata": {
            "tags": []
          },
          "execution_count": 124
        }
      ]
    },
    {
      "cell_type": "code",
      "metadata": {
        "id": "J83q__eDy8lc",
        "outputId": "31af3c9f-c52c-46cc-f605-02ff23a91049",
        "colab": {
          "base_uri": "https://localhost:8080/",
          "height": 235
        }
      },
      "source": [
        "good1 = gs_cv_clf.best_estimator_\n",
        "feature_importance = good1.feature_importances_\n",
        "feature_importance_df = pd.DataFrame({'feature' : list(X),\n",
        "                                   'feature_importance' : feature_importance})\n",
        "feature_importance_df.sort_values('feature_importance', ascending=False) "
      ],
      "execution_count": 125,
      "outputs": [
        {
          "output_type": "execute_result",
          "data": {
            "text/html": [
              "<div>\n",
              "<style scoped>\n",
              "    .dataframe tbody tr th:only-of-type {\n",
              "        vertical-align: middle;\n",
              "    }\n",
              "\n",
              "    .dataframe tbody tr th {\n",
              "        vertical-align: top;\n",
              "    }\n",
              "\n",
              "    .dataframe thead th {\n",
              "        text-align: right;\n",
              "    }\n",
              "</style>\n",
              "<table border=\"1\" class=\"dataframe\">\n",
              "  <thead>\n",
              "    <tr style=\"text-align: right;\">\n",
              "      <th></th>\n",
              "      <th>feature</th>\n",
              "      <th>feature_importance</th>\n",
              "    </tr>\n",
              "  </thead>\n",
              "  <tbody>\n",
              "    <tr>\n",
              "      <th>3</th>\n",
              "      <td>brightness</td>\n",
              "      <td>0.319579</td>\n",
              "    </tr>\n",
              "    <tr>\n",
              "      <th>2</th>\n",
              "      <td>speed</td>\n",
              "      <td>0.251013</td>\n",
              "    </tr>\n",
              "    <tr>\n",
              "      <th>5</th>\n",
              "      <td>volume</td>\n",
              "      <td>0.199163</td>\n",
              "    </tr>\n",
              "    <tr>\n",
              "      <th>1</th>\n",
              "      <td>i_reflection</td>\n",
              "      <td>0.157010</td>\n",
              "    </tr>\n",
              "    <tr>\n",
              "      <th>0</th>\n",
              "      <td>g_reflection</td>\n",
              "      <td>0.073234</td>\n",
              "    </tr>\n",
              "    <tr>\n",
              "      <th>4</th>\n",
              "      <td>time_of_observance</td>\n",
              "      <td>0.000000</td>\n",
              "    </tr>\n",
              "  </tbody>\n",
              "</table>\n",
              "</div>"
            ],
            "text/plain": [
              "              feature  feature_importance\n",
              "3          brightness            0.319579\n",
              "2               speed            0.251013\n",
              "5              volume            0.199163\n",
              "1        i_reflection            0.157010\n",
              "0        g_reflection            0.073234\n",
              "4  time_of_observance            0.000000"
            ]
          },
          "metadata": {
            "tags": []
          },
          "execution_count": 125
        }
      ]
    },
    {
      "cell_type": "code",
      "metadata": {
        "id": "FXGMYy1ezDJ5",
        "outputId": "d5ab5f9f-ed70-45a8-97ec-0247038f24da",
        "colab": {
          "base_uri": "https://localhost:8080/"
        }
      },
      "source": [
        "y_pred = good1.predict(X_test)\n",
        "pd.Series(y_pred).value_counts()"
      ],
      "execution_count": 126,
      "outputs": [
        {
          "output_type": "execute_result",
          "data": {
            "text/plain": [
              "1    675\n",
              "0    595\n",
              "2    230\n",
              "dtype: int64"
            ]
          },
          "metadata": {
            "tags": []
          },
          "execution_count": 126
        }
      ]
    },
    {
      "cell_type": "markdown",
      "metadata": {
        "id": "lIO02P3743E-"
      },
      "source": [
        "<h1>Трюки в Pandas<h1/>"
      ]
    },
    {
      "cell_type": "code",
      "metadata": {
        "id": "AH66MZvxzhIB",
        "outputId": "94e910f0-d0a7-4285-9026-0b6bc1f2fb50",
        "colab": {
          "base_uri": "https://localhost:8080/",
          "height": 700
        }
      },
      "source": [
        "submissions = pd.read_csv('submissions_data_train.csv')\n",
        "c = submissions[submissions.submission_status == 'correct'].groupby('user_id').agg({'submission_status': 'count'}).sort_values(by=['submission_status'], ascending=False).head(20)\n",
        "c"
      ],
      "execution_count": 9,
      "outputs": [
        {
          "output_type": "execute_result",
          "data": {
            "text/html": [
              "<div>\n",
              "<style scoped>\n",
              "    .dataframe tbody tr th:only-of-type {\n",
              "        vertical-align: middle;\n",
              "    }\n",
              "\n",
              "    .dataframe tbody tr th {\n",
              "        vertical-align: top;\n",
              "    }\n",
              "\n",
              "    .dataframe thead th {\n",
              "        text-align: right;\n",
              "    }\n",
              "</style>\n",
              "<table border=\"1\" class=\"dataframe\">\n",
              "  <thead>\n",
              "    <tr style=\"text-align: right;\">\n",
              "      <th></th>\n",
              "      <th>submission_status</th>\n",
              "    </tr>\n",
              "    <tr>\n",
              "      <th>user_id</th>\n",
              "      <th></th>\n",
              "    </tr>\n",
              "  </thead>\n",
              "  <tbody>\n",
              "    <tr>\n",
              "      <th>1046</th>\n",
              "      <td>421</td>\n",
              "    </tr>\n",
              "    <tr>\n",
              "      <th>5552</th>\n",
              "      <td>186</td>\n",
              "    </tr>\n",
              "    <tr>\n",
              "      <th>17135</th>\n",
              "      <td>168</td>\n",
              "    </tr>\n",
              "    <tr>\n",
              "      <th>6183</th>\n",
              "      <td>142</td>\n",
              "    </tr>\n",
              "    <tr>\n",
              "      <th>8461</th>\n",
              "      <td>135</td>\n",
              "    </tr>\n",
              "    <tr>\n",
              "      <th>1218</th>\n",
              "      <td>130</td>\n",
              "    </tr>\n",
              "    <tr>\n",
              "      <th>24022</th>\n",
              "      <td>121</td>\n",
              "    </tr>\n",
              "    <tr>\n",
              "      <th>14699</th>\n",
              "      <td>121</td>\n",
              "    </tr>\n",
              "    <tr>\n",
              "      <th>30</th>\n",
              "      <td>119</td>\n",
              "    </tr>\n",
              "    <tr>\n",
              "      <th>22713</th>\n",
              "      <td>117</td>\n",
              "    </tr>\n",
              "    <tr>\n",
              "      <th>12470</th>\n",
              "      <td>115</td>\n",
              "    </tr>\n",
              "    <tr>\n",
              "      <th>3572</th>\n",
              "      <td>113</td>\n",
              "    </tr>\n",
              "    <tr>\n",
              "      <th>26417</th>\n",
              "      <td>111</td>\n",
              "    </tr>\n",
              "    <tr>\n",
              "      <th>16271</th>\n",
              "      <td>107</td>\n",
              "    </tr>\n",
              "    <tr>\n",
              "      <th>19755</th>\n",
              "      <td>107</td>\n",
              "    </tr>\n",
              "    <tr>\n",
              "      <th>15274</th>\n",
              "      <td>102</td>\n",
              "    </tr>\n",
              "    <tr>\n",
              "      <th>9873</th>\n",
              "      <td>102</td>\n",
              "    </tr>\n",
              "    <tr>\n",
              "      <th>20531</th>\n",
              "      <td>101</td>\n",
              "    </tr>\n",
              "    <tr>\n",
              "      <th>19691</th>\n",
              "      <td>100</td>\n",
              "    </tr>\n",
              "    <tr>\n",
              "      <th>11329</th>\n",
              "      <td>99</td>\n",
              "    </tr>\n",
              "  </tbody>\n",
              "</table>\n",
              "</div>"
            ],
            "text/plain": [
              "         submission_status\n",
              "user_id                   \n",
              "1046                   421\n",
              "5552                   186\n",
              "17135                  168\n",
              "6183                   142\n",
              "8461                   135\n",
              "1218                   130\n",
              "24022                  121\n",
              "14699                  121\n",
              "30                     119\n",
              "22713                  117\n",
              "12470                  115\n",
              "3572                   113\n",
              "26417                  111\n",
              "16271                  107\n",
              "19755                  107\n",
              "15274                  102\n",
              "9873                   102\n",
              "20531                  101\n",
              "19691                  100\n",
              "11329                   99"
            ]
          },
          "metadata": {
            "tags": []
          },
          "execution_count": 9
        }
      ]
    },
    {
      "cell_type": "code",
      "metadata": {
        "id": "ncboU-jC2VCG",
        "outputId": "45ade220-9ab2-4e2f-8a62-113ea3040c7b",
        "colab": {
          "base_uri": "https://localhost:8080/"
        }
      },
      "source": [
        "submissions[submissions.submission_status == 'wrong'].step_id.value_counts()"
      ],
      "execution_count": 13,
      "outputs": [
        {
          "output_type": "execute_result",
          "data": {
            "text/plain": [
              "31978    16084\n",
              "32031    13373\n",
              "32202    13002\n",
              "33481    10300\n",
              "32075    10003\n",
              "         ...  \n",
              "33482      707\n",
              "33681      703\n",
              "33362      673\n",
              "32175      342\n",
              "32929       85\n",
              "Name: step_id, Length: 76, dtype: int64"
            ]
          },
          "metadata": {
            "tags": []
          },
          "execution_count": 13
        }
      ]
    },
    {
      "cell_type": "code",
      "metadata": {
        "id": "olqudYEQx66q",
        "outputId": "9d16600b-be9e-4846-f6b5-31a3e928e72a",
        "colab": {
          "base_uri": "https://localhost:8080/"
        }
      },
      "source": [
        "import pandas as pd\n",
        "import numpy as np\n",
        "df = pd.DataFrame(range(10000000))\n",
        "\n",
        "%time df.apply(np.mean)\n",
        "\n",
        "%time df.apply('mean')\n",
        "\n",
        "%time df.describe().loc['mean']\n",
        "\n",
        "%time df.mean(axis=0)"
      ],
      "execution_count": 3,
      "outputs": [
        {
          "output_type": "stream",
          "text": [
            "CPU times: user 22.1 ms, sys: 0 ns, total: 22.1 ms\n",
            "Wall time: 26 ms\n",
            "CPU times: user 18 ms, sys: 0 ns, total: 18 ms\n",
            "Wall time: 17.4 ms\n",
            "CPU times: user 197 ms, sys: 82 ms, total: 279 ms\n",
            "Wall time: 285 ms\n",
            "CPU times: user 17 ms, sys: 837 µs, total: 17.9 ms\n",
            "Wall time: 17.3 ms\n"
          ],
          "name": "stdout"
        },
        {
          "output_type": "execute_result",
          "data": {
            "text/plain": [
              "0    4999999.5\n",
              "dtype: float64"
            ]
          },
          "metadata": {
            "tags": []
          },
          "execution_count": 3
        }
      ]
    },
    {
      "cell_type": "code",
      "metadata": {
        "id": "qzzU7DNo5WQw"
      },
      "source": [
        "import numpy as np\n",
        "import pandas as pd"
      ],
      "execution_count": null,
      "outputs": []
    },
    {
      "cell_type": "markdown",
      "metadata": {
        "id": "cU2i7D4MKXWn"
      },
      "source": [
        "Загрузим dataset, содержащий информацию о фильмах."
      ]
    },
    {
      "cell_type": "code",
      "metadata": {
        "id": "YV1fvGC95itq",
        "outputId": "6a5cf0f5-6b2f-45da-c8e3-1f6a3c8cfdee",
        "colab": {
          "base_uri": "https://localhost:8080/",
          "height": 360
        }
      },
      "source": [
        "movie = pd.read_csv('https://raw.githubusercontent.com/AnatoliyZhuk/Knowledge/main/Introduction_To_Data_Science/movie_metadata.csv')\n",
        "movie.head()"
      ],
      "execution_count": null,
      "outputs": [
        {
          "output_type": "execute_result",
          "data": {
            "text/html": [
              "<div>\n",
              "<style scoped>\n",
              "    .dataframe tbody tr th:only-of-type {\n",
              "        vertical-align: middle;\n",
              "    }\n",
              "\n",
              "    .dataframe tbody tr th {\n",
              "        vertical-align: top;\n",
              "    }\n",
              "\n",
              "    .dataframe thead th {\n",
              "        text-align: right;\n",
              "    }\n",
              "</style>\n",
              "<table border=\"1\" class=\"dataframe\">\n",
              "  <thead>\n",
              "    <tr style=\"text-align: right;\">\n",
              "      <th></th>\n",
              "      <th>color</th>\n",
              "      <th>director_name</th>\n",
              "      <th>num_critic_for_reviews</th>\n",
              "      <th>duration</th>\n",
              "      <th>director_facebook_likes</th>\n",
              "      <th>actor_3_facebook_likes</th>\n",
              "      <th>actor_2_name</th>\n",
              "      <th>actor_1_facebook_likes</th>\n",
              "      <th>gross</th>\n",
              "      <th>genres</th>\n",
              "      <th>actor_1_name</th>\n",
              "      <th>movie_title</th>\n",
              "      <th>num_voted_users</th>\n",
              "      <th>cast_total_facebook_likes</th>\n",
              "      <th>actor_3_name</th>\n",
              "      <th>facenumber_in_poster</th>\n",
              "      <th>plot_keywords</th>\n",
              "      <th>movie_imdb_link</th>\n",
              "      <th>num_user_for_reviews</th>\n",
              "      <th>language</th>\n",
              "      <th>country</th>\n",
              "      <th>content_rating</th>\n",
              "      <th>budget</th>\n",
              "      <th>title_year</th>\n",
              "      <th>actor_2_facebook_likes</th>\n",
              "      <th>imdb_score</th>\n",
              "      <th>aspect_ratio</th>\n",
              "      <th>movie_facebook_likes</th>\n",
              "    </tr>\n",
              "  </thead>\n",
              "  <tbody>\n",
              "    <tr>\n",
              "      <th>0</th>\n",
              "      <td>Color</td>\n",
              "      <td>James Cameron</td>\n",
              "      <td>723.0</td>\n",
              "      <td>178.0</td>\n",
              "      <td>0.0</td>\n",
              "      <td>855.0</td>\n",
              "      <td>Joel David Moore</td>\n",
              "      <td>1000.0</td>\n",
              "      <td>760505847.0</td>\n",
              "      <td>Action|Adventure|Fantasy|Sci-Fi</td>\n",
              "      <td>CCH Pounder</td>\n",
              "      <td>Avatar</td>\n",
              "      <td>886204</td>\n",
              "      <td>4834</td>\n",
              "      <td>Wes Studi</td>\n",
              "      <td>0.0</td>\n",
              "      <td>avatar|future|marine|native|paraplegic</td>\n",
              "      <td>http://www.imdb.com/title/tt0499549/?ref_=fn_t...</td>\n",
              "      <td>3054.0</td>\n",
              "      <td>English</td>\n",
              "      <td>USA</td>\n",
              "      <td>PG-13</td>\n",
              "      <td>237000000.0</td>\n",
              "      <td>2009.0</td>\n",
              "      <td>936.0</td>\n",
              "      <td>7.9</td>\n",
              "      <td>1.78</td>\n",
              "      <td>33000</td>\n",
              "    </tr>\n",
              "    <tr>\n",
              "      <th>1</th>\n",
              "      <td>Color</td>\n",
              "      <td>Gore Verbinski</td>\n",
              "      <td>302.0</td>\n",
              "      <td>169.0</td>\n",
              "      <td>563.0</td>\n",
              "      <td>1000.0</td>\n",
              "      <td>Orlando Bloom</td>\n",
              "      <td>40000.0</td>\n",
              "      <td>309404152.0</td>\n",
              "      <td>Action|Adventure|Fantasy</td>\n",
              "      <td>Johnny Depp</td>\n",
              "      <td>Pirates of the Caribbean: At World's End</td>\n",
              "      <td>471220</td>\n",
              "      <td>48350</td>\n",
              "      <td>Jack Davenport</td>\n",
              "      <td>0.0</td>\n",
              "      <td>goddess|marriage ceremony|marriage proposal|pi...</td>\n",
              "      <td>http://www.imdb.com/title/tt0449088/?ref_=fn_t...</td>\n",
              "      <td>1238.0</td>\n",
              "      <td>English</td>\n",
              "      <td>USA</td>\n",
              "      <td>PG-13</td>\n",
              "      <td>300000000.0</td>\n",
              "      <td>2007.0</td>\n",
              "      <td>5000.0</td>\n",
              "      <td>7.1</td>\n",
              "      <td>2.35</td>\n",
              "      <td>0</td>\n",
              "    </tr>\n",
              "    <tr>\n",
              "      <th>2</th>\n",
              "      <td>Color</td>\n",
              "      <td>Sam Mendes</td>\n",
              "      <td>602.0</td>\n",
              "      <td>148.0</td>\n",
              "      <td>0.0</td>\n",
              "      <td>161.0</td>\n",
              "      <td>Rory Kinnear</td>\n",
              "      <td>11000.0</td>\n",
              "      <td>200074175.0</td>\n",
              "      <td>Action|Adventure|Thriller</td>\n",
              "      <td>Christoph Waltz</td>\n",
              "      <td>Spectre</td>\n",
              "      <td>275868</td>\n",
              "      <td>11700</td>\n",
              "      <td>Stephanie Sigman</td>\n",
              "      <td>1.0</td>\n",
              "      <td>bomb|espionage|sequel|spy|terrorist</td>\n",
              "      <td>http://www.imdb.com/title/tt2379713/?ref_=fn_t...</td>\n",
              "      <td>994.0</td>\n",
              "      <td>English</td>\n",
              "      <td>UK</td>\n",
              "      <td>PG-13</td>\n",
              "      <td>245000000.0</td>\n",
              "      <td>2015.0</td>\n",
              "      <td>393.0</td>\n",
              "      <td>6.8</td>\n",
              "      <td>2.35</td>\n",
              "      <td>85000</td>\n",
              "    </tr>\n",
              "    <tr>\n",
              "      <th>3</th>\n",
              "      <td>Color</td>\n",
              "      <td>Christopher Nolan</td>\n",
              "      <td>813.0</td>\n",
              "      <td>164.0</td>\n",
              "      <td>22000.0</td>\n",
              "      <td>23000.0</td>\n",
              "      <td>Christian Bale</td>\n",
              "      <td>27000.0</td>\n",
              "      <td>448130642.0</td>\n",
              "      <td>Action|Thriller</td>\n",
              "      <td>Tom Hardy</td>\n",
              "      <td>The Dark Knight Rises</td>\n",
              "      <td>1144337</td>\n",
              "      <td>106759</td>\n",
              "      <td>Joseph Gordon-Levitt</td>\n",
              "      <td>0.0</td>\n",
              "      <td>deception|imprisonment|lawlessness|police offi...</td>\n",
              "      <td>http://www.imdb.com/title/tt1345836/?ref_=fn_t...</td>\n",
              "      <td>2701.0</td>\n",
              "      <td>English</td>\n",
              "      <td>USA</td>\n",
              "      <td>PG-13</td>\n",
              "      <td>250000000.0</td>\n",
              "      <td>2012.0</td>\n",
              "      <td>23000.0</td>\n",
              "      <td>8.5</td>\n",
              "      <td>2.35</td>\n",
              "      <td>164000</td>\n",
              "    </tr>\n",
              "    <tr>\n",
              "      <th>4</th>\n",
              "      <td>NaN</td>\n",
              "      <td>Doug Walker</td>\n",
              "      <td>NaN</td>\n",
              "      <td>NaN</td>\n",
              "      <td>131.0</td>\n",
              "      <td>NaN</td>\n",
              "      <td>Rob Walker</td>\n",
              "      <td>131.0</td>\n",
              "      <td>NaN</td>\n",
              "      <td>Documentary</td>\n",
              "      <td>Doug Walker</td>\n",
              "      <td>Star Wars: Episode VII - The Force Awakens    ...</td>\n",
              "      <td>8</td>\n",
              "      <td>143</td>\n",
              "      <td>NaN</td>\n",
              "      <td>0.0</td>\n",
              "      <td>NaN</td>\n",
              "      <td>http://www.imdb.com/title/tt5289954/?ref_=fn_t...</td>\n",
              "      <td>NaN</td>\n",
              "      <td>NaN</td>\n",
              "      <td>NaN</td>\n",
              "      <td>NaN</td>\n",
              "      <td>NaN</td>\n",
              "      <td>NaN</td>\n",
              "      <td>12.0</td>\n",
              "      <td>7.1</td>\n",
              "      <td>NaN</td>\n",
              "      <td>0</td>\n",
              "    </tr>\n",
              "  </tbody>\n",
              "</table>\n",
              "</div>"
            ],
            "text/plain": [
              "   color      director_name  ...  aspect_ratio  movie_facebook_likes\n",
              "0  Color      James Cameron  ...          1.78                 33000\n",
              "1  Color     Gore Verbinski  ...          2.35                     0\n",
              "2  Color         Sam Mendes  ...          2.35                 85000\n",
              "3  Color  Christopher Nolan  ...          2.35                164000\n",
              "4    NaN        Doug Walker  ...           NaN                     0\n",
              "\n",
              "[5 rows x 28 columns]"
            ]
          },
          "metadata": {
            "tags": []
          },
          "execution_count": 2
        }
      ]
    },
    {
      "cell_type": "markdown",
      "metadata": {
        "id": "5GY5GDg46lnn"
      },
      "source": [
        "Для простоты отберем некоторые колонки (название фильма и жанр) из этого DataFrame'а.<br/>\n"
      ]
    },
    {
      "cell_type": "code",
      "metadata": {
        "id": "Y2NgDjC66cdT",
        "outputId": "5ead9081-74c7-4bfa-e465-7f4a34a0962d",
        "colab": {
          "base_uri": "https://localhost:8080/",
          "height": 419
        }
      },
      "source": [
        "genres = movie[['movie_title', 'genres']]\n",
        "genres.head(2545)"
      ],
      "execution_count": null,
      "outputs": [
        {
          "output_type": "execute_result",
          "data": {
            "text/html": [
              "<div>\n",
              "<style scoped>\n",
              "    .dataframe tbody tr th:only-of-type {\n",
              "        vertical-align: middle;\n",
              "    }\n",
              "\n",
              "    .dataframe tbody tr th {\n",
              "        vertical-align: top;\n",
              "    }\n",
              "\n",
              "    .dataframe thead th {\n",
              "        text-align: right;\n",
              "    }\n",
              "</style>\n",
              "<table border=\"1\" class=\"dataframe\">\n",
              "  <thead>\n",
              "    <tr style=\"text-align: right;\">\n",
              "      <th></th>\n",
              "      <th>movie_title</th>\n",
              "      <th>genres</th>\n",
              "    </tr>\n",
              "  </thead>\n",
              "  <tbody>\n",
              "    <tr>\n",
              "      <th>0</th>\n",
              "      <td>Avatar</td>\n",
              "      <td>Action|Adventure|Fantasy|Sci-Fi</td>\n",
              "    </tr>\n",
              "    <tr>\n",
              "      <th>1</th>\n",
              "      <td>Pirates of the Caribbean: At World's End</td>\n",
              "      <td>Action|Adventure|Fantasy</td>\n",
              "    </tr>\n",
              "    <tr>\n",
              "      <th>2</th>\n",
              "      <td>Spectre</td>\n",
              "      <td>Action|Adventure|Thriller</td>\n",
              "    </tr>\n",
              "    <tr>\n",
              "      <th>3</th>\n",
              "      <td>The Dark Knight Rises</td>\n",
              "      <td>Action|Thriller</td>\n",
              "    </tr>\n",
              "    <tr>\n",
              "      <th>4</th>\n",
              "      <td>Star Wars: Episode VII - The Force Awakens    ...</td>\n",
              "      <td>Documentary</td>\n",
              "    </tr>\n",
              "    <tr>\n",
              "      <th>...</th>\n",
              "      <td>...</td>\n",
              "      <td>...</td>\n",
              "    </tr>\n",
              "    <tr>\n",
              "      <th>2540</th>\n",
              "      <td>Dumb &amp; Dumber</td>\n",
              "      <td>Comedy</td>\n",
              "    </tr>\n",
              "    <tr>\n",
              "      <th>2541</th>\n",
              "      <td>When Harry Met Sally...</td>\n",
              "      <td>Comedy|Drama|Romance</td>\n",
              "    </tr>\n",
              "    <tr>\n",
              "      <th>2542</th>\n",
              "      <td>The Verdict</td>\n",
              "      <td>Drama</td>\n",
              "    </tr>\n",
              "    <tr>\n",
              "      <th>2543</th>\n",
              "      <td>Road Trip</td>\n",
              "      <td>Comedy</td>\n",
              "    </tr>\n",
              "    <tr>\n",
              "      <th>2544</th>\n",
              "      <td>Varsity Blues</td>\n",
              "      <td>Comedy|Drama|Romance|Sport</td>\n",
              "    </tr>\n",
              "  </tbody>\n",
              "</table>\n",
              "<p>2545 rows × 2 columns</p>\n",
              "</div>"
            ],
            "text/plain": [
              "                                            movie_title                           genres\n",
              "0                                               Avatar   Action|Adventure|Fantasy|Sci-Fi\n",
              "1             Pirates of the Caribbean: At World's End          Action|Adventure|Fantasy\n",
              "2                                              Spectre         Action|Adventure|Thriller\n",
              "3                                The Dark Knight Rises                   Action|Thriller\n",
              "4     Star Wars: Episode VII - The Force Awakens    ...                      Documentary\n",
              "...                                                 ...                              ...\n",
              "2540                                     Dumb & Dumber                            Comedy\n",
              "2541                           When Harry Met Sally...              Comedy|Drama|Romance\n",
              "2542                                       The Verdict                             Drama\n",
              "2543                                         Road Trip                            Comedy\n",
              "2544                                     Varsity Blues        Comedy|Drama|Romance|Sport\n",
              "\n",
              "[2545 rows x 2 columns]"
            ]
          },
          "metadata": {
            "tags": []
          },
          "execution_count": 26
        }
      ]
    },
    {
      "cell_type": "markdown",
      "metadata": {
        "id": "h29ErvFNK6St"
      },
      "source": [
        "Нам необходимо применить функцию к каждой из ячеек этого dataframe.<br/>\n",
        "Самый примитивный способ это сделать - это итерация по dataframe."
      ]
    },
    {
      "cell_type": "markdown",
      "metadata": {
        "id": "t3uBodnKLcDb"
      },
      "source": [
        "По умолчанию мы итерируемся по названиям столбцов.<br/>\n"
      ]
    },
    {
      "cell_type": "code",
      "metadata": {
        "id": "yHXReQKf7EZZ",
        "outputId": "ba79b099-036a-4f26-d1e3-3f1bf7c7d7e4",
        "colab": {
          "base_uri": "https://localhost:8080/"
        }
      },
      "source": [
        "for i in genres:  # можно использовать атрибут columns (genres.columns)\n",
        "  print(i)"
      ],
      "execution_count": null,
      "outputs": [
        {
          "output_type": "stream",
          "text": [
            "movie_title\n",
            "genres\n"
          ],
          "name": "stdout"
        }
      ]
    },
    {
      "cell_type": "code",
      "metadata": {
        "id": "ulXmCDEZR8jG",
        "outputId": "f86b8ce6-c353-4988-ad74-cf7ae4b3d0a2",
        "colab": {
          "base_uri": "https://localhost:8080/",
          "height": 163
        }
      },
      "source": [
        "genres.values['Avatar']"
      ],
      "execution_count": null,
      "outputs": [
        {
          "output_type": "error",
          "ename": "IndexError",
          "evalue": "ignored",
          "traceback": [
            "\u001b[0;31m---------------------------------------------------------------------------\u001b[0m",
            "\u001b[0;31mIndexError\u001b[0m                                Traceback (most recent call last)",
            "\u001b[0;32m<ipython-input-10-b710582657ec>\u001b[0m in \u001b[0;36m<module>\u001b[0;34m()\u001b[0m\n\u001b[0;32m----> 1\u001b[0;31m \u001b[0mgenres\u001b[0m\u001b[0;34m.\u001b[0m\u001b[0mvalues\u001b[0m\u001b[0;34m[\u001b[0m\u001b[0;34m'Avatar'\u001b[0m\u001b[0;34m]\u001b[0m\u001b[0;34m\u001b[0m\u001b[0;34m\u001b[0m\u001b[0m\n\u001b[0m",
            "\u001b[0;31mIndexError\u001b[0m: only integers, slices (`:`), ellipsis (`...`), numpy.newaxis (`None`) and integer or boolean arrays are valid indices"
          ]
        }
      ]
    },
    {
      "cell_type": "markdown",
      "metadata": {
        "id": "-Iio4BZrL6i8"
      },
      "source": [
        "Чтобы получить доступ к элементам dataframe, необходимо вызвать атрибут **values**."
      ]
    },
    {
      "cell_type": "code",
      "metadata": {
        "id": "RejiBlSLLWxj",
        "outputId": "eb9ab0e0-e6c7-49e9-b159-a85152c761c0",
        "colab": {
          "base_uri": "https://localhost:8080/"
        }
      },
      "source": [
        "for row in genres.values[:100]:\n",
        "  for value in row:\n",
        "    print(value)"
      ],
      "execution_count": null,
      "outputs": [
        {
          "output_type": "stream",
          "text": [
            "Avatar \n",
            "Action|Adventure|Fantasy|Sci-Fi\n",
            "Pirates of the Caribbean: At World's End \n",
            "Action|Adventure|Fantasy\n",
            "Spectre \n",
            "Action|Adventure|Thriller\n",
            "The Dark Knight Rises \n",
            "Action|Thriller\n",
            "Star Wars: Episode VII - The Force Awakens             \n",
            "Documentary\n",
            "John Carter \n",
            "Action|Adventure|Sci-Fi\n",
            "Spider-Man 3 \n",
            "Action|Adventure|Romance\n",
            "Tangled \n",
            "Adventure|Animation|Comedy|Family|Fantasy|Musical|Romance\n",
            "Avengers: Age of Ultron \n",
            "Action|Adventure|Sci-Fi\n",
            "Harry Potter and the Half-Blood Prince \n",
            "Adventure|Family|Fantasy|Mystery\n",
            "Batman v Superman: Dawn of Justice \n",
            "Action|Adventure|Sci-Fi\n",
            "Superman Returns \n",
            "Action|Adventure|Sci-Fi\n",
            "Quantum of Solace \n",
            "Action|Adventure\n",
            "Pirates of the Caribbean: Dead Man's Chest \n",
            "Action|Adventure|Fantasy\n",
            "The Lone Ranger \n",
            "Action|Adventure|Western\n",
            "Man of Steel \n",
            "Action|Adventure|Fantasy|Sci-Fi\n",
            "The Chronicles of Narnia: Prince Caspian \n",
            "Action|Adventure|Family|Fantasy\n",
            "The Avengers \n",
            "Action|Adventure|Sci-Fi\n",
            "Pirates of the Caribbean: On Stranger Tides \n",
            "Action|Adventure|Fantasy\n",
            "Men in Black 3 \n",
            "Action|Adventure|Comedy|Family|Fantasy|Sci-Fi\n",
            "The Hobbit: The Battle of the Five Armies \n",
            "Adventure|Fantasy\n",
            "The Amazing Spider-Man \n",
            "Action|Adventure|Fantasy\n",
            "Robin Hood \n",
            "Action|Adventure|Drama|History\n",
            "The Hobbit: The Desolation of Smaug \n",
            "Adventure|Fantasy\n",
            "The Golden Compass \n",
            "Adventure|Family|Fantasy\n",
            "King Kong \n",
            "Action|Adventure|Drama|Romance\n",
            "Titanic \n",
            "Drama|Romance\n",
            "Captain America: Civil War \n",
            "Action|Adventure|Sci-Fi\n",
            "Battleship \n",
            "Action|Adventure|Sci-Fi|Thriller\n",
            "Jurassic World \n",
            "Action|Adventure|Sci-Fi|Thriller\n",
            "Skyfall \n",
            "Action|Adventure|Thriller\n",
            "Spider-Man 2 \n",
            "Action|Adventure|Fantasy|Romance\n",
            "Iron Man 3 \n",
            "Action|Adventure|Sci-Fi\n",
            "Alice in Wonderland \n",
            "Adventure|Family|Fantasy\n",
            "X-Men: The Last Stand \n",
            "Action|Adventure|Fantasy|Sci-Fi|Thriller\n",
            "Monsters University \n",
            "Adventure|Animation|Comedy|Family|Fantasy\n",
            "Transformers: Revenge of the Fallen \n",
            "Action|Adventure|Sci-Fi\n",
            "Transformers: Age of Extinction \n",
            "Action|Adventure|Sci-Fi\n",
            "Oz the Great and Powerful \n",
            "Adventure|Family|Fantasy\n",
            "The Amazing Spider-Man 2 \n",
            "Action|Adventure|Fantasy|Sci-Fi\n",
            "TRON: Legacy \n",
            "Action|Adventure|Sci-Fi\n",
            "Cars 2 \n",
            "Adventure|Animation|Comedy|Family|Sport\n",
            "Green Lantern \n",
            "Action|Adventure|Sci-Fi\n",
            "Toy Story 3 \n",
            "Adventure|Animation|Comedy|Family|Fantasy\n",
            "Terminator Salvation \n",
            "Action|Adventure|Sci-Fi\n",
            "Furious 7 \n",
            "Action|Crime|Thriller\n",
            "World War Z \n",
            "Action|Adventure|Horror|Sci-Fi|Thriller\n",
            "X-Men: Days of Future Past \n",
            "Action|Adventure|Fantasy|Sci-Fi|Thriller\n",
            "Star Trek Into Darkness \n",
            "Action|Adventure|Sci-Fi\n",
            "Jack the Giant Slayer \n",
            "Adventure|Fantasy\n",
            "The Great Gatsby \n",
            "Drama|Romance\n",
            "Prince of Persia: The Sands of Time \n",
            "Action|Adventure|Fantasy|Romance\n",
            "Pacific Rim \n",
            "Action|Adventure|Sci-Fi\n",
            "Transformers: Dark of the Moon \n",
            "Action|Adventure|Sci-Fi\n",
            "Indiana Jones and the Kingdom of the Crystal Skull \n",
            "Action|Adventure|Fantasy\n",
            "The Good Dinosaur \n",
            "Adventure|Animation|Comedy|Family|Fantasy\n",
            "Brave \n",
            "Adventure|Animation|Comedy|Family|Fantasy\n",
            "Star Trek Beyond \n",
            "Action|Adventure|Sci-Fi|Thriller\n",
            "WALL·E \n",
            "Adventure|Animation|Family|Sci-Fi\n",
            "Rush Hour 3 \n",
            "Action|Comedy|Crime|Thriller\n",
            "2012 \n",
            "Action|Adventure|Sci-Fi\n",
            "A Christmas Carol \n",
            "Animation|Drama|Family|Fantasy\n",
            "Jupiter Ascending \n",
            "Action|Adventure|Sci-Fi\n",
            "The Legend of Tarzan \n",
            "Action|Adventure|Drama|Romance\n",
            "The Chronicles of Narnia: The Lion, the Witch and the Wardrobe \n",
            "Adventure|Family|Fantasy\n",
            "X-Men: Apocalypse \n",
            "Action|Adventure|Sci-Fi\n",
            "The Dark Knight \n",
            "Action|Crime|Drama|Thriller\n",
            "Up \n",
            "Adventure|Animation|Comedy|Family\n",
            "Monsters vs. Aliens \n",
            "Action|Adventure|Animation|Comedy|Family|Sci-Fi\n",
            "Iron Man \n",
            "Action|Adventure|Sci-Fi\n",
            "Hugo \n",
            "Adventure|Drama|Family|Mystery\n",
            "Wild Wild West \n",
            "Action|Comedy|Sci-Fi|Western\n",
            "The Mummy: Tomb of the Dragon Emperor \n",
            "Action|Adventure|Fantasy|Horror|Thriller\n",
            "Suicide Squad \n",
            "Action|Adventure|Comedy|Sci-Fi\n",
            "Evan Almighty \n",
            "Comedy|Family|Fantasy\n",
            "Edge of Tomorrow \n",
            "Action|Adventure|Sci-Fi\n",
            "Waterworld \n",
            "Action|Adventure|Sci-Fi|Thriller\n",
            "G.I. Joe: The Rise of Cobra \n",
            "Action|Adventure|Sci-Fi|Thriller\n",
            "Inside Out \n",
            "Adventure|Animation|Comedy|Drama|Family|Fantasy\n",
            "The Jungle Book \n",
            "Adventure|Drama|Family|Fantasy\n",
            "Iron Man 2 \n",
            "Action|Adventure|Sci-Fi\n",
            "Snow White and the Huntsman \n",
            "Action|Adventure|Drama|Fantasy\n",
            "Maleficent \n",
            "Action|Adventure|Family|Fantasy|Romance\n",
            "Dawn of the Planet of the Apes \n",
            "Action|Adventure|Drama|Sci-Fi\n",
            "The Lovers \n",
            "Action|Adventure|Romance|Sci-Fi\n",
            "47 Ronin \n",
            "Action|Adventure|Drama|Fantasy\n",
            "Captain America: The Winter Soldier \n",
            "Action|Adventure|Sci-Fi\n",
            "Shrek Forever After \n",
            "Adventure|Animation|Comedy|Family|Fantasy\n",
            "Tomorrowland \n",
            "Action|Adventure|Family|Mystery|Sci-Fi\n",
            "Big Hero 6 \n",
            "Action|Adventure|Animation|Comedy|Drama|Family|Sci-Fi\n",
            "Wreck-It Ralph \n",
            "Adventure|Animation|Comedy|Family|Sci-Fi\n",
            "The Polar Express \n",
            "Adventure|Animation|Family|Fantasy\n",
            "Independence Day: Resurgence \n",
            "Action|Adventure|Sci-Fi\n",
            "How to Train Your Dragon \n",
            "Adventure|Animation|Family|Fantasy\n",
            "Terminator 3: Rise of the Machines \n",
            "Action|Sci-Fi\n",
            "Guardians of the Galaxy \n",
            "Action|Adventure|Sci-Fi\n",
            "Interstellar \n",
            "Adventure|Drama|Sci-Fi\n",
            "Inception \n",
            "Action|Adventure|Sci-Fi|Thriller\n",
            "Godzilla Resurgence \n",
            "Action|Adventure|Drama|Horror|Sci-Fi\n",
            "The Hobbit: An Unexpected Journey \n",
            "Adventure|Fantasy\n"
          ],
          "name": "stdout"
        }
      ]
    },
    {
      "cell_type": "code",
      "metadata": {
        "id": "NoGjkkYzMLFz"
      },
      "source": [
        ""
      ],
      "execution_count": null,
      "outputs": []
    }
  ]
}